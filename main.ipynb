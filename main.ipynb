{
 "cells": [
  {
   "cell_type": "code",
   "execution_count": 73,
   "id": "039e9ace",
   "metadata": {},
   "outputs": [],
   "source": [
    "#Import deps \n",
    "import pandas as pd\n",
    "import numpy as np\n",
    "from sklearn.model_selection import train_test_split\n",
    "from sklearn.preprocessing import StandardScaler\n",
    "from imblearn.over_sampling import ADASYN\n",
    "from sklearn.metrics import mean_squared_error\n",
    "from sklearn.model_selection import RandomizedSearchCV\n",
    "from sklearn.metrics import classification_report, confusion_matrix\n",
    "import matplotlib.pyplot as plt\n",
    "from sklearn.model_selection import cross_val_score, StratifiedKFold\n",
    "from sklearn.ensemble import RandomForestClassifier\n",
    "from sklearn.utils.class_weight import compute_class_weight\n",
    "from sklearn.linear_model import Lasso\n",
    "from statsmodels.stats.outliers_influence import variance_inflation_factor\n",
    "\n",
    "# ... "
   ]
  },
  {
   "cell_type": "markdown",
   "id": "3ae3a8e2",
   "metadata": {},
   "source": [
    "### Introduction\n",
    "What makes the perfect bottle of wine? \n",
    "\n",
    "Wine is a major industry, with sales projected to steadily grow beyond $40 billion USD by 2029. [Source](https://www.statista.com/statistics/922403/global-wine-market-size/)\n",
    "\n",
    "For the longest time, the secrets of the timeless art of winemaking were restricted to the intuitions and implicit knowledge of the vintners themselves. Today it is possible to apply the techniques of machine learning to analyze the chemical components of wine to determine how they influence the quality rating of the wine.\n",
    "\n",
    "This study conducts machine learning analysis on the chemical constitutents of 6497 different wines (1599 reds and 4898 white ) to identify the predictive relationships between these features and wine quality. \n",
    "\n",
    "The purpose of this study is to show how machine learning can be applied to commercial pursuits and potentially improve sales and production quality of products. \n"
   ]
  },
  {
   "cell_type": "code",
   "execution_count": 74,
   "id": "f49480d9",
   "metadata": {},
   "outputs": [],
   "source": [
    "# Import Data \n",
    "all_wine_raw_df = pd.read_csv('./Wine_data_both.csv') \n",
    "red_wine_df = pd.read_csv('./Wine_data_red.csv')\n",
    "white_wine_df = pd.read_csv('./Wine_data_white.csv')\n"
   ]
  },
  {
   "cell_type": "code",
   "execution_count": 75,
   "id": "ebd49a05",
   "metadata": {},
   "outputs": [
    {
     "name": "stdout",
     "output_type": "stream",
     "text": [
      "<class 'pandas.core.frame.DataFrame'>\n",
      "RangeIndex: 6497 entries, 0 to 6496\n",
      "Data columns (total 13 columns):\n",
      " #   Column                Non-Null Count  Dtype  \n",
      "---  ------                --------------  -----  \n",
      " 0   fixed acidity         6497 non-null   float64\n",
      " 1   volatile acidity      6497 non-null   float64\n",
      " 2   citric acid           6497 non-null   float64\n",
      " 3   residual sugar        6497 non-null   float64\n",
      " 4   chlorides             6497 non-null   float64\n",
      " 5   free sulfur dioxide   6497 non-null   float64\n",
      " 6   total sulfur dioxide  6497 non-null   float64\n",
      " 7   density               6497 non-null   float64\n",
      " 8   pH                    6497 non-null   float64\n",
      " 9   sulphates             6497 non-null   float64\n",
      " 10  alcohol               6497 non-null   float64\n",
      " 11  quality               6497 non-null   int64  \n",
      " 12  Wine                  6497 non-null   object \n",
      "dtypes: float64(11), int64(1), object(1)\n",
      "memory usage: 660.0+ KB\n",
      "All wine data types None\n",
      "all wine value counts quality\n",
      "6    2836\n",
      "5    2138\n",
      "7    1079\n",
      "4     216\n",
      "8     193\n",
      "3      30\n",
      "9       5\n",
      "Name: count, dtype: int64\n"
     ]
    }
   ],
   "source": [
    "# Inspect raw data \n",
    "print('All wine data types', all_wine_raw_df.info())\n",
    "print('all wine value counts', all_wine_raw_df['quality'].value_counts())"
   ]
  },
  {
   "cell_type": "markdown",
   "id": "63534037",
   "metadata": {},
   "source": [
    "### Data Preparation, Encoding & Feature Engineering"
   ]
  },
  {
   "cell_type": "markdown",
   "id": "dae503a3",
   "metadata": {},
   "source": [
    "One of the biggest challenges we faced was an significantly imbalanced data set. The minority classes, with quality =(3, 4, 9) were underepresented by several orders of magnitude compared to the majority class with quality=9 just having 5 samples and quality=6, the most frequent approx 3,000. \n",
    "\n",
    "Initial experiments were unable to come up with a model with sufficient sensitivity to predict minority classes with this sort of discrepancy. So we had to get clever. \n",
    "\n",
    "The cell below takes the mean values of the minority classes and uses it as the \"typical value\" for that class. Since 9 is so under-represented, it likely wouldn't be realistic to generalize from its average with only n=5 data points. So the decision was made to merge quality=8 into it. And do do the same for 3s and 4's. We argue this loss in target resolution is made up for improved model fidelity. "
   ]
  },
  {
   "cell_type": "code",
   "execution_count": 76,
   "id": "3cc328de",
   "metadata": {},
   "outputs": [
    {
     "name": "stdout",
     "output_type": "stream",
     "text": [
      "Mean values for highest rated wines (quality == 9):\n",
      "fixed acidity             6.850000\n",
      "volatile acidity          0.291187\n",
      "citric acid               0.333889\n",
      "residual sugar            5.351010\n",
      "chlorides                 0.040778\n",
      "free sulfur dioxide      34.505051\n",
      "total sulfur dioxide    117.479798\n",
      "density                   0.992487\n",
      "pH                        3.225354\n",
      "sulphates                 0.511313\n",
      "alcohol                  11.691414\n",
      "quality                   9.000000\n",
      "dtype: float64\n",
      "\n",
      "Mean values for lowest rated wines (quality == 3):\n",
      "fixed acidity             7.357724\n",
      "volatile acidity          0.465163\n",
      "citric acid               0.273374\n",
      "residual sugar            4.273984\n",
      "chlorides                 0.062126\n",
      "free sulfur dioxide      22.902439\n",
      "total sulfur dioxide    105.701220\n",
      "density                   0.994944\n",
      "pH                        3.234797\n",
      "sulphates                 0.505732\n",
      "alcohol                  10.184350\n",
      "quality                   4.000000\n",
      "dtype: float64\n",
      "\n",
      "Mean values for average rated wines (quality == 6):\n",
      "fixed acidity             7.177257\n",
      "volatile acidity          0.313863\n",
      "citric acid               0.323583\n",
      "residual sugar            5.549753\n",
      "chlorides                 0.054157\n",
      "free sulfur dioxide      31.165021\n",
      "total sulfur dioxide    115.410790\n",
      "density                   0.994558\n",
      "pH                        3.217726\n",
      "sulphates                 0.532549\n",
      "alcohol                  10.587553\n",
      "quality                   6.000000\n",
      "dtype: float64\n",
      "\n",
      "Difference in mean values between highest and lowest:\n",
      "fixed acidity           -0.507724\n",
      "volatile acidity        -0.173976\n",
      "citric acid              0.060515\n",
      "residual sugar           1.077026\n",
      "chlorides               -0.021348\n",
      "free sulfur dioxide     11.602611\n",
      "total sulfur dioxide    11.778578\n",
      "density                 -0.002457\n",
      "pH                      -0.009443\n",
      "sulphates                0.005581\n",
      "alcohol                  1.507065\n",
      "quality                  5.000000\n",
      "dtype: float64\n",
      "\n",
      "Difference in mean values between highest and average:\n",
      "fixed acidity          -0.327257\n",
      "volatile acidity       -0.022676\n",
      "citric acid             0.010306\n",
      "residual sugar         -0.198743\n",
      "chlorides              -0.013379\n",
      "free sulfur dioxide     3.340029\n",
      "total sulfur dioxide    2.069008\n",
      "density                -0.002071\n",
      "pH                      0.007628\n",
      "sulphates              -0.021236\n",
      "alcohol                 1.103861\n",
      "quality                 3.000000\n",
      "dtype: float64\n"
     ]
    }
   ],
   "source": [
    "# Upgrade all 8s to become 9s and 3s to become 4s\n",
    "all_wine_raw_df.loc[all_wine_raw_df['quality'] == 8, 'quality'] = 9\n",
    "all_wine_raw_df.loc[all_wine_raw_df['quality'] == 3, 'quality'] = 4\n",
    "\n",
    "all_9s = all_wine_raw_df.drop(columns='Wine')[all_wine_raw_df['quality'] == 9]\n",
    "all_4s = all_wine_raw_df.drop(columns=['Wine'])[all_wine_raw_df['quality'] == 4]\n",
    "all_6s = all_wine_raw_df.drop(columns=['Wine'])[all_wine_raw_df['quality'] == 6]\n",
    "\n",
    "\n",
    "mean_all_9s = all_9s.mean()\n",
    "mean_all_4s = all_4s.mean()\n",
    "mean_all_6s = all_6s.mean()\n",
    "# Compare the means (difference between highest and lowest rated wines)\n",
    "mean_difference_high_to_low = mean_all_9s - mean_all_4s\n",
    "mean_difference_high_to_average = mean_all_9s - mean_all_6s\n",
    "\n",
    "# Display the results\n",
    "print(\"Mean values for highest rated wines (quality == 9):\")\n",
    "print(mean_all_9s)\n",
    "print(\"\\nMean values for lowest rated wines (quality == 3):\")\n",
    "print(mean_all_4s)\n",
    "print(\"\\nMean values for average rated wines (quality == 6):\")\n",
    "print(mean_all_6s)\n",
    "print(\"\\nDifference in mean values between highest and lowest:\")\n",
    "print(mean_difference_high_to_low)\n",
    "print(\"\\nDifference in mean values between highest and average:\")\n",
    "print(mean_difference_high_to_average)\n"
   ]
  },
  {
   "cell_type": "markdown",
   "id": "833ace66",
   "metadata": {},
   "source": [
    "We then use the **generate_synthetic_samples** function to inject a number of statistically similar values into the sample set. \n",
    "\n",
    "It achieves this by using a multivariate normal distribution, which describes a set of random variables that may be correlated with each other, where each variable follows a normal distribution. \n",
    "\n",
    "In order realistially simulate the possibility of covariance between the different values of a single data entry, we pass the covariance matrix of the dataframe into np.random.multivariate_normal. It then multiplies this by a noise scale, ensuring that there the results resemble the average in the dataset. "
   ]
  },
  {
   "cell_type": "code",
   "execution_count": 77,
   "id": "5067c7f5",
   "metadata": {},
   "outputs": [],
   "source": [
    "def generate_synthetic_samples(mean_values, n_samples, noise_scale=0.03):\n",
    "    synthetic_samples = np.random.multivariate_normal(\n",
    "        mean=mean_values, \n",
    "        cov= all_wine_raw_df.drop(columns='Wine').cov() * noise_scale, \n",
    "        size=n_samples\n",
    "    )\n",
    "    return pd.DataFrame(synthetic_samples, columns=mean_values.index)\n",
    "\n",
    "# Grab all the minority classes in the data and take their means, inject the magic # 30 \n",
    "synthetic_9s = generate_synthetic_samples(mean_all_9s, 30)\n",
    "synthetic_4s = generate_synthetic_samples(mean_all_4s, 30)\n",
    "# Add the target column to the synthetic samples\n",
    "synthetic_9s['quality'] = 9\n",
    "synthetic_4s['quality'] = 4\n",
    "# Combine synthetic samples with the original data\n",
    "synthetic_data = pd.concat([synthetic_9s, synthetic_4s])\n",
    "combined_data = pd.concat([all_wine_raw_df, synthetic_data])"
   ]
  },
  {
   "cell_type": "markdown",
   "id": "bbca9242",
   "metadata": {},
   "source": [
    "Below we repeat the steps performed a few cells above to verify that the values of the updated data still resemble what they were originally.  "
   ]
  },
  {
   "cell_type": "code",
   "execution_count": 78,
   "id": "475ea713",
   "metadata": {},
   "outputs": [
    {
     "name": "stdout",
     "output_type": "stream",
     "text": [
      "Mean values for highest rated wines (quality == 9):\n",
      "fixed acidity             6.843730\n",
      "volatile acidity          0.290345\n",
      "citric acid               0.333880\n",
      "residual sugar            5.346024\n",
      "chlorides                 0.040651\n",
      "free sulfur dioxide      34.592950\n",
      "total sulfur dioxide    117.573938\n",
      "density                   0.992471\n",
      "pH                        3.225145\n",
      "sulphates                 0.511945\n",
      "alcohol                  11.693552\n",
      "quality                   9.000000\n",
      "dtype: float64\n",
      "\n",
      "Mean values for lowest rated wines (quality == 3):\n",
      "\n",
      "Mean values for average rated wines (quality == 6):\n",
      "fixed acidity             7.177257\n",
      "volatile acidity          0.313863\n",
      "citric acid               0.323583\n",
      "residual sugar            5.549753\n",
      "chlorides                 0.054157\n",
      "free sulfur dioxide      31.165021\n",
      "total sulfur dioxide    115.410790\n",
      "density                   0.994558\n",
      "pH                        3.217726\n",
      "sulphates                 0.532549\n",
      "alcohol                  10.587553\n",
      "quality                   6.000000\n",
      "dtype: float64\n",
      "\n",
      "Difference in mean values between highest and lowest:\n",
      "fixed acidity           -0.514199\n",
      "volatile acidity        -0.174651\n",
      "citric acid              0.060098\n",
      "residual sugar           1.048859\n",
      "chlorides               -0.021370\n",
      "free sulfur dioxide     11.615069\n",
      "total sulfur dioxide    11.842701\n",
      "density                 -0.002486\n",
      "pH                      -0.010418\n",
      "sulphates                0.006027\n",
      "alcohol                  1.509175\n",
      "quality                  5.000000\n",
      "dtype: float64\n",
      "\n",
      "Difference in mean values between highest and average:\n",
      "fixed acidity          -0.327257\n",
      "volatile acidity       -0.022676\n",
      "citric acid             0.010306\n",
      "residual sugar         -0.198743\n",
      "chlorides              -0.013379\n",
      "free sulfur dioxide     3.340029\n",
      "total sulfur dioxide    2.069008\n",
      "density                -0.002071\n",
      "pH                      0.007628\n",
      "sulphates              -0.021236\n",
      "alcohol                 1.103861\n",
      "quality                 3.000000\n",
      "dtype: float64\n"
     ]
    }
   ],
   "source": [
    "all_9s = combined_data.drop(columns='Wine')[combined_data['quality'] == 9]\n",
    "all_4s = combined_data.drop(columns=['Wine'])[combined_data['quality'] == 4]\n",
    "all_6s = combined_data.drop(columns=['Wine'])[combined_data['quality'] == 6]\n",
    "\n",
    "\n",
    "synth_mean_all_9s = all_9s.mean()\n",
    "synth_mean_all_4s = all_4s.mean()\n",
    "# Compare the means (difference between highest and lowest rated wines)\n",
    "synth_mean_difference_high_to_low = synth_mean_all_9s - synth_mean_all_4s\n",
    "synth_mean_difference_high_to_average = mean_all_9s - mean_all_6s\n",
    "\n",
    "# Display the results\n",
    "print(\"Mean values for highest rated wines (quality == 9):\")\n",
    "print(synth_mean_all_9s)\n",
    "print(\"\\nMean values for lowest rated wines (quality == 3):\")\n",
    "print(\"\\nMean values for average rated wines (quality == 6):\")\n",
    "print(mean_all_6s)\n",
    "print(\"\\nDifference in mean values between highest and lowest:\")\n",
    "print(synth_mean_difference_high_to_low)\n",
    "print(\"\\nDifference in mean values between highest and average:\")\n",
    "print(synth_mean_difference_high_to_average)\n"
   ]
  },
  {
   "cell_type": "markdown",
   "id": "3fa980c7",
   "metadata": {},
   "source": [
    "Later, we apply cross validation techniques to verify the integrity of this synthetic data. "
   ]
  },
  {
   "cell_type": "code",
   "execution_count": 79,
   "id": "16e35ac3",
   "metadata": {},
   "outputs": [],
   "source": [
    "# Manually encode the wine type, 0 is White, Red is 1\n",
    "combined_data['wine type'] = all_wine_raw_df['Wine'].map({'White': 0, 'Red': 1})\n",
    "\n",
    "# Define the feature and target variables\n",
    "# Note: We learned what features to drop through EDA \n",
    "X = combined_data.drop(columns=['quality', 'Wine', 'citric acid', 'chlorides'], axis=1)\n",
    "y =  combined_data['quality']\n",
    "\n",
    "# Split the data into training and testing sets\n",
    "X_train, X_test, y_train, y_test = train_test_split(X, y, test_size=0.2, random_state=42, shuffle=True, stratify=y)"
   ]
  },
  {
   "cell_type": "code",
   "execution_count": 80,
   "id": "a20785c9",
   "metadata": {},
   "outputs": [
    {
     "data": {
      "image/png": "[encoded data removed]",
      "text/plain": [
       "<Figure size 1000x600 with 1 Axes>"
      ]
     },
     "metadata": {},
     "output_type": "display_data"
    }
   ],
   "source": [
    "# Determine if data is balanced or imbalanced\n",
    "plt.figure(figsize=(10, 6))\n",
    "y.value_counts(sort=False).sort_index().plot(kind='bar')\n",
    "plt.xlabel('Quality')\n",
    "plt.ylabel('Frequency')\n",
    "plt.title('Distribution of Wine Quality')\n",
    "plt.show()\n",
    "\n",
    "# Clustering or feature engineering by clumping 3s/4s/5s/ low  6s/ medium/ 7,8,9 high quality "
   ]
  },
  {
   "cell_type": "markdown",
   "id": "62a6a323",
   "metadata": {},
   "source": [
    "Since our data is still very imbalanced, we want apply a few techniques to compensate for it. One method is to calculate class weights, which will help inform the model to learn more from the minority classes. "
   ]
  },
  {
   "cell_type": "code",
   "execution_count": 98,
   "id": "702debc3",
   "metadata": {},
   "outputs": [
    {
     "name": "stdout",
     "output_type": "stream",
     "text": [
      "Class weights: {4: 4.746606334841629, 5: 0.6134502923976608, 6: 0.4623182018510357, 7: 1.2155272305909617, 9: 5.763736263736264}\n"
     ]
    }
   ],
   "source": [
    "# Since our data is very imbalanced, lets try calculating class weights \n",
    "unique_classes = np.array([4, 5, 6, 7, 9])\n",
    "class_weights = compute_class_weight(class_weight='balanced', classes=unique_classes, y=y_train)\n",
    "class_weight_dict = {cls: weight for cls, weight in zip(unique_classes, class_weights)}\n",
    "\n",
    "print(f'Class weights: {class_weight_dict}')"
   ]
  },
  {
   "cell_type": "markdown",
   "id": "f825693e",
   "metadata": {},
   "source": [
    "Next we wanted to look into feature selection. We learned that the most significant features are 'residual sugar', 'free sulfur dioxide', 'total sulfur dioxide', and 'alcohol'. \n"
   ]
  },
  {
   "cell_type": "code",
   "execution_count": 112,
   "id": "e29dc1be",
   "metadata": {},
   "outputs": [
    {
     "name": "stdout",
     "output_type": "stream",
     "text": [
      "Mean Squared Error: 0.7331790455973795\n",
      "Selected Features: Index(['residual sugar', 'free sulfur dioxide', 'total sulfur dioxide',\n",
      "       'alcohol'],\n",
      "      dtype='object')\n",
      "Elastic Net Mean Squared Error: 0.9432192234433324\n",
      "Elastic Net Coefficients: [-0.         -0.         -0.          0.00668339 -0.00186762 -0.\n",
      "  0.          0.          0.         -0.        ]\n",
      "                feature         VIF\n",
      "0         fixed acidity   60.689559\n",
      "1      volatile acidity    9.890105\n",
      "2        residual sugar    3.544611\n",
      "3   free sulfur dioxide    8.769041\n",
      "4  total sulfur dioxide   20.349696\n",
      "5               density  981.205353\n",
      "6                    pH  647.991478\n",
      "7             sulphates   19.108465\n",
      "8               alcohol  102.236961\n",
      "9             wine type    6.310640\n",
      "                      fixed acidity  volatile acidity  residual sugar  \\\n",
      "fixed acidity              1.000000          0.219499       -0.112057   \n",
      "volatile acidity           0.219499          1.000000       -0.196427   \n",
      "residual sugar            -0.112057         -0.196427        1.000000   \n",
      "free sulfur dioxide       -0.283121         -0.353622        0.402934   \n",
      "total sulfur dioxide      -0.329113         -0.414511        0.495549   \n",
      "density                    0.459291          0.272114        0.551623   \n",
      "pH                        -0.252620          0.261495       -0.267365   \n",
      "sulphates                  0.299513          0.225276       -0.185756   \n",
      "alcohol                   -0.096743         -0.039971       -0.358310   \n",
      "wine type                  0.486362          0.649850       -0.347627   \n",
      "\n",
      "                      free sulfur dioxide  total sulfur dioxide   density  \\\n",
      "fixed acidity                   -0.283121             -0.329113  0.459291   \n",
      "volatile acidity                -0.353622             -0.414511  0.272114   \n",
      "residual sugar                   0.402934              0.495549  0.551623   \n",
      "free sulfur dioxide              1.000000              0.720888  0.024475   \n",
      "total sulfur dioxide             0.720888              1.000000  0.032062   \n",
      "density                          0.024475              0.032062  1.000000   \n",
      "pH                              -0.145957             -0.238448  0.011686   \n",
      "sulphates                       -0.188197             -0.275599  0.259387   \n",
      "alcohol                         -0.177568             -0.264589 -0.687795   \n",
      "wine type                       -0.470306             -0.698832  0.391168   \n",
      "\n",
      "                            pH  sulphates   alcohol  wine type  \n",
      "fixed acidity        -0.252620   0.299513 -0.096743   0.486362  \n",
      "volatile acidity      0.261495   0.225276 -0.039971   0.649850  \n",
      "residual sugar       -0.267365  -0.185756 -0.358310  -0.347627  \n",
      "free sulfur dioxide  -0.145957  -0.188197 -0.177568  -0.470306  \n",
      "total sulfur dioxide -0.238448  -0.275599 -0.264589  -0.698832  \n",
      "density               0.011686   0.259387 -0.687795   0.391168  \n",
      "pH                    1.000000   0.192009  0.120844   0.328116  \n",
      "sulphates             0.192009   1.000000 -0.003338   0.487067  \n",
      "alcohol               0.120844  -0.003338  1.000000  -0.034817  \n",
      "wine type             0.328116   0.487067 -0.034817   1.000000  \n"
     ]
    }
   ],
   "source": [
    "# Feature Selection and regularization : What features can we drop? \n",
    "# Here we learned that density and pH could be dropped\n",
    "# Initialize Lasso regression\n",
    "lasso = Lasso(alpha=0.1)  \n",
    "lasso.fit(X_train, y_train)\n",
    "\n",
    "y_pred_lasso = lasso.predict(X_test)\n",
    "\n",
    "# Evaluate the model\n",
    "mse = mean_squared_error(y_test, y_pred_lasso)\n",
    "print(f'Mean Squared Error: {mse}')\n",
    "\n",
    "# Check selected features\n",
    "selected_features = X_train.columns[lasso.coef_ != 0]\n",
    "print(f'Selected Features: {selected_features}')\n",
    "\n",
    "\n",
    "# Note: ElasticNet, which can be used both for feature selection and multicolinearity detection \n",
    "# basically tells us none of our features predict wine quality. Don't know how to interpret this\n",
    "from sklearn.linear_model import ElasticNet\n",
    "\n",
    "# Initialize and fit the Elastic Net model\n",
    "elastic_net = ElasticNet(alpha=1.0, l1_ratio=0.5)  # l1_ratio is the mixing parameter\n",
    "elastic_net.fit(X_train, y_train)\n",
    "\n",
    "# Predict and evaluate\n",
    "y_pred_enet = elastic_net.predict(X_test)\n",
    "mse_enet = mean_squared_error(y_test, y_pred_enet)\n",
    "print(f\"Elastic Net Mean Squared Error: {mse_enet}\")\n",
    "\n",
    "# Coefficients\n",
    "print(f\"Elastic Net Coefficients: {elastic_net.coef_}\")\n",
    "\n",
    "\n",
    "# Calculate variance inflation factor for each feature\n",
    "vif_data = pd.DataFrame()\n",
    "vif_data[\"feature\"] = X.columns\n",
    "vif_data[\"VIF\"] = [variance_inflation_factor(X.values, i) for i in range(X.shape[1])]\n",
    "print(vif_data)\n",
    "\n",
    "# Based on these results, we could consider dropping at least pH and density, and possibly also alcohol \n",
    "\n",
    "# Compute the correlation matrix\n",
    "correlation_matrix = X.corr()\n",
    "\n",
    "# Display the correlation matrix\n",
    "print(correlation_matrix)\n"
   ]
  },
  {
   "cell_type": "code",
   "execution_count": 83,
   "id": "0bd29af7",
   "metadata": {},
   "outputs": [],
   "source": [
    "# Note: Don't end up using, will likely drop\n",
    "adasyn = ADASYN(random_state=42, n_neighbors=3)\n",
    "X_resampled, y_resampled = adasyn.fit_resample(X_train, y_train)"
   ]
  },
  {
   "cell_type": "markdown",
   "id": "e270c761",
   "metadata": {},
   "source": [
    "### Scaling the Data\n"
   ]
  },
  {
   "cell_type": "code",
   "execution_count": 85,
   "id": "4b3a0062",
   "metadata": {},
   "outputs": [],
   "source": [
    "\n",
    "scaler = StandardScaler()\n",
    "\n",
    "# Fit the scaler on the training data and transform the training data\n",
    "X_train_resampled_scaled = scaler.fit_transform(X_resampled)\n",
    "X_train_scaled = scaler.transform(X_train)\n",
    "# Transform the testing data (use the same scaler fitted on the training data)\n",
    "X_test_scaled = scaler.transform(X_test)"
   ]
  },
  {
   "cell_type": "markdown",
   "id": "1dbf0786",
   "metadata": {},
   "source": [
    "### Build Models"
   ]
  },
  {
   "cell_type": "markdown",
   "id": "eef11d38",
   "metadata": {},
   "source": [
    "For our model we decided to use the versatile RandomizedTreeClassifier algorithm, which, after some experimentation with other algos proved to consistently give the best results.  \n",
    "\n",
    "First, we did some hyperparameter tuning to try to find the best model. "
   ]
  },
  {
   "cell_type": "code",
   "execution_count": 86,
   "id": "29ac2d6c",
   "metadata": {},
   "outputs": [],
   "source": [
    "# Define a simpler parameter grid for RandomizedSearchCV\n",
    "param_distributions = {\n",
    "    'n_estimators': [100, 200, 300, 400, 500],\n",
    "    'criterion': ['gini', 'entropy', 'log_loss'],\n",
    "    'max_depth': [10, 20, 30],\n",
    "    'min_samples_split': [2, 5, 10],\n",
    "    'min_samples_leaf': [1, 2, 3],\n",
    "    'max_features': ['sqrt', 'log2'],\n",
    "}\n"
   ]
  },
  {
   "cell_type": "code",
   "execution_count": 101,
   "id": "c98c5e3e",
   "metadata": {},
   "outputs": [
    {
     "name": "stdout",
     "output_type": "stream",
     "text": [
      "Fitting 3 folds for each of 50 candidates, totalling 150 fits\n",
      "[CV] END criterion=log_loss, max_depth=20, max_features=sqrt, min_samples_leaf=3, min_samples_split=10, n_estimators=100; total time=   0.6s\n",
      "[CV] END criterion=log_loss, max_depth=20, max_features=sqrt, min_samples_leaf=3, min_samples_split=10, n_estimators=100; total time=   0.6s\n",
      "[CV] END criterion=log_loss, max_depth=20, max_features=sqrt, min_samples_leaf=3, min_samples_split=10, n_estimators=100; total time=   0.6s\n",
      "[CV] END criterion=entropy, max_depth=10, max_features=sqrt, min_samples_leaf=2, min_samples_split=5, n_estimators=100; total time=   0.7s\n",
      "[CV] END criterion=entropy, max_depth=10, max_features=sqrt, min_samples_leaf=2, min_samples_split=5, n_estimators=100; total time=   0.7s\n",
      "[CV] END criterion=gini, max_depth=30, max_features=log2, min_samples_leaf=2, min_samples_split=5, n_estimators=300; total time=   1.9s\n",
      "[CV] END criterion=gini, max_depth=30, max_features=log2, min_samples_leaf=2, min_samples_split=5, n_estimators=300; total time=   1.9s\n",
      "[CV] END criterion=gini, max_depth=30, max_features=log2, min_samples_leaf=2, min_samples_split=5, n_estimators=300; total time=   1.9s\n",
      "[CV] END criterion=entropy, max_depth=10, max_features=sqrt, min_samples_leaf=2, min_samples_split=5, n_estimators=100; total time=   0.5s\n",
      "[CV] END criterion=gini, max_depth=30, max_features=log2, min_samples_leaf=1, min_samples_split=2, n_estimators=300; total time=   2.0s\n",
      "[CV] END criterion=gini, max_depth=30, max_features=log2, min_samples_leaf=1, min_samples_split=2, n_estimators=300; total time=   2.1s\n",
      "[CV] END criterion=gini, max_depth=30, max_features=log2, min_samples_leaf=1, min_samples_split=2, n_estimators=300; total time=   2.1s\n",
      "[CV] END criterion=log_loss, max_depth=30, max_features=log2, min_samples_leaf=3, min_samples_split=2, n_estimators=200; total time=   1.4s\n",
      "[CV] END criterion=log_loss, max_depth=30, max_features=log2, min_samples_leaf=3, min_samples_split=2, n_estimators=200; total time=   1.4s\n",
      "[CV] END criterion=log_loss, max_depth=30, max_features=log2, min_samples_leaf=3, min_samples_split=2, n_estimators=200; total time=   1.4s\n",
      "[CV] END criterion=entropy, max_depth=30, max_features=log2, min_samples_leaf=3, min_samples_split=10, n_estimators=400; total time=   2.7s\n",
      "[CV] END criterion=entropy, max_depth=30, max_features=log2, min_samples_leaf=3, min_samples_split=10, n_estimators=400; total time=   2.7s\n",
      "[CV] END criterion=log_loss, max_depth=10, max_features=log2, min_samples_leaf=1, min_samples_split=10, n_estimators=200; total time=   1.2s\n",
      "[CV] END criterion=entropy, max_depth=30, max_features=log2, min_samples_leaf=3, min_samples_split=10, n_estimators=400; total time=   2.8s\n",
      "[CV] END criterion=log_loss, max_depth=10, max_features=log2, min_samples_leaf=1, min_samples_split=10, n_estimators=200; total time=   1.1s\n",
      "[CV] END criterion=gini, max_depth=30, max_features=sqrt, min_samples_leaf=2, min_samples_split=2, n_estimators=400; total time=   2.6s\n",
      "[CV] END criterion=log_loss, max_depth=10, max_features=log2, min_samples_leaf=1, min_samples_split=10, n_estimators=200; total time=   1.2s\n",
      "[CV] END criterion=gini, max_depth=30, max_features=sqrt, min_samples_leaf=2, min_samples_split=2, n_estimators=400; total time=   2.6s\n",
      "[CV] END criterion=gini, max_depth=30, max_features=sqrt, min_samples_leaf=2, min_samples_split=2, n_estimators=400; total time=   2.7s\n",
      "[CV] END criterion=gini, max_depth=10, max_features=log2, min_samples_leaf=2, min_samples_split=5, n_estimators=200; total time=   1.0s\n",
      "[CV] END criterion=gini, max_depth=10, max_features=log2, min_samples_leaf=2, min_samples_split=5, n_estimators=200; total time=   0.8s\n",
      "[CV] END criterion=gini, max_depth=10, max_features=log2, min_samples_leaf=2, min_samples_split=5, n_estimators=200; total time=   0.8s\n",
      "[CV] END criterion=log_loss, max_depth=10, max_features=sqrt, min_samples_leaf=2, min_samples_split=10, n_estimators=500; total time=   2.7s\n",
      "[CV] END criterion=entropy, max_depth=10, max_features=log2, min_samples_leaf=1, min_samples_split=2, n_estimators=500; total time=   2.9s\n",
      "[CV] END criterion=entropy, max_depth=10, max_features=log2, min_samples_leaf=1, min_samples_split=2, n_estimators=500; total time=   2.8s\n",
      "[CV] END criterion=log_loss, max_depth=10, max_features=sqrt, min_samples_leaf=2, min_samples_split=10, n_estimators=500; total time=   2.6s\n",
      "[CV] END criterion=entropy, max_depth=10, max_features=log2, min_samples_leaf=1, min_samples_split=2, n_estimators=500; total time=   2.9s\n",
      "[CV] END criterion=gini, max_depth=30, max_features=log2, min_samples_leaf=1, min_samples_split=5, n_estimators=200; total time=   1.1s\n",
      "[CV] END criterion=log_loss, max_depth=10, max_features=sqrt, min_samples_leaf=2, min_samples_split=10, n_estimators=500; total time=   2.6s\n",
      "[CV] END criterion=entropy, max_depth=20, max_features=log2, min_samples_leaf=3, min_samples_split=5, n_estimators=100; total time=   0.6s\n",
      "[CV] END criterion=entropy, max_depth=20, max_features=log2, min_samples_leaf=3, min_samples_split=5, n_estimators=100; total time=   0.6s\n",
      "[CV] END criterion=entropy, max_depth=20, max_features=log2, min_samples_leaf=3, min_samples_split=5, n_estimators=100; total time=   0.7s\n",
      "[CV] END criterion=gini, max_depth=30, max_features=log2, min_samples_leaf=1, min_samples_split=5, n_estimators=200; total time=   1.1s\n",
      "[CV] END criterion=gini, max_depth=30, max_features=log2, min_samples_leaf=1, min_samples_split=5, n_estimators=200; total time=   1.1s\n",
      "[CV] END criterion=log_loss, max_depth=30, max_features=log2, min_samples_leaf=3, min_samples_split=10, n_estimators=200; total time=   1.1s\n",
      "[CV] END criterion=log_loss, max_depth=30, max_features=log2, min_samples_leaf=3, min_samples_split=10, n_estimators=200; total time=   1.1s\n",
      "[CV] END criterion=log_loss, max_depth=30, max_features=log2, min_samples_leaf=3, min_samples_split=10, n_estimators=200; total time=   1.2s\n",
      "[CV] END criterion=entropy, max_depth=20, max_features=log2, min_samples_leaf=2, min_samples_split=5, n_estimators=200; total time=   1.3s\n",
      "[CV] END criterion=entropy, max_depth=20, max_features=log2, min_samples_leaf=2, min_samples_split=5, n_estimators=200; total time=   1.3s\n",
      "[CV] END criterion=entropy, max_depth=20, max_features=log2, min_samples_leaf=2, min_samples_split=5, n_estimators=200; total time=   1.3s\n",
      "[CV] END criterion=gini, max_depth=30, max_features=log2, min_samples_leaf=3, min_samples_split=2, n_estimators=500; total time=   2.5s\n",
      "[CV] END criterion=gini, max_depth=30, max_features=log2, min_samples_leaf=3, min_samples_split=2, n_estimators=500; total time=   2.5s\n",
      "[CV] END criterion=gini, max_depth=30, max_features=log2, min_samples_leaf=3, min_samples_split=2, n_estimators=500; total time=   2.5s\n",
      "[CV] END criterion=entropy, max_depth=10, max_features=sqrt, min_samples_leaf=3, min_samples_split=10, n_estimators=500; total time=   2.5s\n",
      "[CV] END criterion=entropy, max_depth=10, max_features=sqrt, min_samples_leaf=3, min_samples_split=10, n_estimators=500; total time=   2.5s\n",
      "[CV] END criterion=entropy, max_depth=10, max_features=sqrt, min_samples_leaf=3, min_samples_split=10, n_estimators=500; total time=   2.4s\n",
      "[CV] END criterion=gini, max_depth=20, max_features=sqrt, min_samples_leaf=2, min_samples_split=2, n_estimators=500; total time=   2.7s\n",
      "[CV] END criterion=gini, max_depth=20, max_features=sqrt, min_samples_leaf=2, min_samples_split=2, n_estimators=500; total time=   2.7s\n",
      "[CV] END criterion=entropy, max_depth=30, max_features=log2, min_samples_leaf=3, min_samples_split=5, n_estimators=200; total time=   1.2s\n",
      "[CV] END criterion=entropy, max_depth=20, max_features=sqrt, min_samples_leaf=2, min_samples_split=5, n_estimators=400; total time=   2.5s\n",
      "[CV] END criterion=entropy, max_depth=20, max_features=sqrt, min_samples_leaf=2, min_samples_split=5, n_estimators=400; total time=   2.6s\n",
      "[CV] END criterion=gini, max_depth=20, max_features=sqrt, min_samples_leaf=2, min_samples_split=2, n_estimators=500; total time=   2.7s\n",
      "[CV] END criterion=entropy, max_depth=30, max_features=log2, min_samples_leaf=3, min_samples_split=5, n_estimators=200; total time=   1.2s\n",
      "[CV] END criterion=entropy, max_depth=30, max_features=log2, min_samples_leaf=3, min_samples_split=5, n_estimators=200; total time=   1.2s\n",
      "[CV] END criterion=entropy, max_depth=20, max_features=sqrt, min_samples_leaf=2, min_samples_split=5, n_estimators=400; total time=   2.5s\n",
      "[CV] END criterion=gini, max_depth=10, max_features=log2, min_samples_leaf=2, min_samples_split=5, n_estimators=300; total time=   1.3s\n",
      "[CV] END criterion=gini, max_depth=10, max_features=log2, min_samples_leaf=2, min_samples_split=5, n_estimators=300; total time=   1.3s\n",
      "[CV] END criterion=gini, max_depth=10, max_features=log2, min_samples_leaf=2, min_samples_split=5, n_estimators=300; total time=   1.3s\n",
      "[CV] END criterion=entropy, max_depth=10, max_features=log2, min_samples_leaf=3, min_samples_split=5, n_estimators=300; total time=   1.5s\n",
      "[CV] END criterion=gini, max_depth=20, max_features=log2, min_samples_leaf=1, min_samples_split=2, n_estimators=500; total time=   2.7s\n",
      "[CV] END criterion=entropy, max_depth=10, max_features=log2, min_samples_leaf=3, min_samples_split=5, n_estimators=300; total time=   1.5s\n",
      "[CV] END criterion=entropy, max_depth=10, max_features=log2, min_samples_leaf=3, min_samples_split=10, n_estimators=200; total time=   1.0s\n",
      "[CV] END criterion=entropy, max_depth=10, max_features=log2, min_samples_leaf=3, min_samples_split=10, n_estimators=200; total time=   1.0s\n",
      "[CV] END criterion=gini, max_depth=20, max_features=log2, min_samples_leaf=1, min_samples_split=2, n_estimators=500; total time=   2.8s\n",
      "[CV] END criterion=gini, max_depth=20, max_features=log2, min_samples_leaf=1, min_samples_split=2, n_estimators=500; total time=   2.8s\n",
      "[CV] END criterion=gini, max_depth=10, max_features=sqrt, min_samples_leaf=3, min_samples_split=2, n_estimators=100; total time=   0.4s\n",
      "[CV] END criterion=entropy, max_depth=10, max_features=log2, min_samples_leaf=3, min_samples_split=5, n_estimators=300; total time=   1.5s\n",
      "[CV] END criterion=gini, max_depth=10, max_features=sqrt, min_samples_leaf=3, min_samples_split=2, n_estimators=100; total time=   0.4s\n",
      "[CV] END criterion=entropy, max_depth=10, max_features=log2, min_samples_leaf=3, min_samples_split=10, n_estimators=200; total time=   1.0s\n",
      "[CV] END criterion=gini, max_depth=10, max_features=sqrt, min_samples_leaf=3, min_samples_split=2, n_estimators=100; total time=   0.4s\n",
      "[CV] END criterion=gini, max_depth=10, max_features=sqrt, min_samples_leaf=3, min_samples_split=5, n_estimators=500; total time=   2.0s\n",
      "[CV] END criterion=gini, max_depth=10, max_features=sqrt, min_samples_leaf=3, min_samples_split=5, n_estimators=500; total time=   2.0s\n",
      "[CV] END criterion=gini, max_depth=10, max_features=sqrt, min_samples_leaf=3, min_samples_split=5, n_estimators=500; total time=   2.0s\n",
      "[CV] END criterion=gini, max_depth=30, max_features=sqrt, min_samples_leaf=2, min_samples_split=10, n_estimators=400; total time=   1.9s\n",
      "[CV] END criterion=gini, max_depth=30, max_features=sqrt, min_samples_leaf=2, min_samples_split=10, n_estimators=400; total time=   1.9s\n",
      "[CV] END criterion=log_loss, max_depth=30, max_features=sqrt, min_samples_leaf=1, min_samples_split=5, n_estimators=400; total time=   2.6s\n",
      "[CV] END criterion=log_loss, max_depth=30, max_features=sqrt, min_samples_leaf=1, min_samples_split=5, n_estimators=400; total time=   2.7s\n",
      "[CV] END criterion=log_loss, max_depth=30, max_features=sqrt, min_samples_leaf=1, min_samples_split=5, n_estimators=400; total time=   2.7s\n",
      "[CV] END criterion=gini, max_depth=30, max_features=sqrt, min_samples_leaf=2, min_samples_split=10, n_estimators=400; total time=   2.0s\n",
      "[CV] END criterion=gini, max_depth=10, max_features=log2, min_samples_leaf=3, min_samples_split=2, n_estimators=400; total time=   1.6s\n",
      "[CV] END criterion=gini, max_depth=30, max_features=sqrt, min_samples_leaf=2, min_samples_split=10, n_estimators=500; total time=   2.4s\n",
      "[CV] END criterion=gini, max_depth=30, max_features=sqrt, min_samples_leaf=2, min_samples_split=10, n_estimators=500; total time=   2.5s\n",
      "[CV] END criterion=gini, max_depth=10, max_features=log2, min_samples_leaf=3, min_samples_split=2, n_estimators=400; total time=   1.6s\n",
      "[CV] END criterion=gini, max_depth=10, max_features=log2, min_samples_leaf=3, min_samples_split=2, n_estimators=400; total time=   1.5s\n",
      "[CV] END criterion=log_loss, max_depth=20, max_features=sqrt, min_samples_leaf=2, min_samples_split=10, n_estimators=300; total time=   1.7s\n",
      "[CV] END criterion=gini, max_depth=30, max_features=sqrt, min_samples_leaf=2, min_samples_split=10, n_estimators=500; total time=   2.4s\n",
      "[CV] END criterion=log_loss, max_depth=20, max_features=log2, min_samples_leaf=1, min_samples_split=5, n_estimators=100; total time=   0.6s\n",
      "[CV] END criterion=log_loss, max_depth=20, max_features=log2, min_samples_leaf=1, min_samples_split=5, n_estimators=100; total time=   0.6s\n",
      "[CV] END criterion=log_loss, max_depth=20, max_features=log2, min_samples_leaf=1, min_samples_split=5, n_estimators=100; total time=   0.7s\n",
      "[CV] END criterion=log_loss, max_depth=20, max_features=sqrt, min_samples_leaf=2, min_samples_split=10, n_estimators=300; total time=   1.7s\n",
      "[CV] END criterion=log_loss, max_depth=20, max_features=sqrt, min_samples_leaf=3, min_samples_split=10, n_estimators=200; total time=   1.1s\n",
      "[CV] END criterion=log_loss, max_depth=20, max_features=sqrt, min_samples_leaf=3, min_samples_split=10, n_estimators=200; total time=   1.2s\n",
      "[CV] END criterion=log_loss, max_depth=20, max_features=sqrt, min_samples_leaf=2, min_samples_split=10, n_estimators=300; total time=   1.7s\n",
      "[CV] END criterion=log_loss, max_depth=20, max_features=sqrt, min_samples_leaf=3, min_samples_split=10, n_estimators=200; total time=   1.1s\n",
      "[CV] END criterion=gini, max_depth=10, max_features=sqrt, min_samples_leaf=2, min_samples_split=5, n_estimators=400; total time=   1.7s\n",
      "[CV] END criterion=gini, max_depth=10, max_features=sqrt, min_samples_leaf=2, min_samples_split=5, n_estimators=400; total time=   1.7s\n",
      "[CV] END criterion=log_loss, max_depth=20, max_features=log2, min_samples_leaf=2, min_samples_split=10, n_estimators=500; total time=   2.9s\n",
      "[CV] END criterion=log_loss, max_depth=30, max_features=sqrt, min_samples_leaf=1, min_samples_split=2, n_estimators=500; total time=   3.5s\n",
      "[CV] END criterion=log_loss, max_depth=30, max_features=sqrt, min_samples_leaf=1, min_samples_split=2, n_estimators=500; total time=   3.5s\n",
      "[CV] END criterion=log_loss, max_depth=20, max_features=log2, min_samples_leaf=2, min_samples_split=10, n_estimators=500; total time=   3.0s\n",
      "[CV] END criterion=entropy, max_depth=10, max_features=log2, min_samples_leaf=3, min_samples_split=5, n_estimators=200; total time=   1.0s\n",
      "[CV] END criterion=log_loss, max_depth=30, max_features=sqrt, min_samples_leaf=1, min_samples_split=2, n_estimators=500; total time=   3.6s\n",
      "[CV] END criterion=log_loss, max_depth=20, max_features=log2, min_samples_leaf=2, min_samples_split=10, n_estimators=500; total time=   3.0s\n",
      "[CV] END criterion=gini, max_depth=10, max_features=sqrt, min_samples_leaf=2, min_samples_split=5, n_estimators=400; total time=   1.9s\n",
      "[CV] END criterion=entropy, max_depth=10, max_features=log2, min_samples_leaf=3, min_samples_split=5, n_estimators=200; total time=   1.2s\n",
      "[CV] END criterion=entropy, max_depth=10, max_features=log2, min_samples_leaf=3, min_samples_split=5, n_estimators=200; total time=   1.4s\n",
      "[CV] END criterion=entropy, max_depth=20, max_features=sqrt, min_samples_leaf=3, min_samples_split=5, n_estimators=200; total time=   1.5s\n",
      "[CV] END criterion=entropy, max_depth=20, max_features=sqrt, min_samples_leaf=3, min_samples_split=5, n_estimators=200; total time=   1.5s\n",
      "[CV] END criterion=entropy, max_depth=20, max_features=sqrt, min_samples_leaf=3, min_samples_split=5, n_estimators=200; total time=   1.6s\n",
      "[CV] END criterion=gini, max_depth=10, max_features=log2, min_samples_leaf=2, min_samples_split=5, n_estimators=100; total time=   0.5s\n",
      "[CV] END criterion=gini, max_depth=10, max_features=log2, min_samples_leaf=2, min_samples_split=5, n_estimators=100; total time=   0.4s\n",
      "[CV] END criterion=gini, max_depth=10, max_features=log2, min_samples_leaf=2, min_samples_split=2, n_estimators=400; total time=   2.0s\n",
      "[CV] END criterion=gini, max_depth=10, max_features=log2, min_samples_leaf=2, min_samples_split=2, n_estimators=400; total time=   2.0s\n",
      "[CV] END criterion=gini, max_depth=10, max_features=log2, min_samples_leaf=2, min_samples_split=5, n_estimators=100; total time=   0.5s\n",
      "[CV] END criterion=gini, max_depth=30, max_features=sqrt, min_samples_leaf=1, min_samples_split=10, n_estimators=300; total time=   1.8s\n",
      "[CV] END criterion=gini, max_depth=10, max_features=log2, min_samples_leaf=2, min_samples_split=2, n_estimators=400; total time=   2.0s\n",
      "[CV] END criterion=gini, max_depth=30, max_features=sqrt, min_samples_leaf=1, min_samples_split=10, n_estimators=300; total time=   1.7s\n",
      "[CV] END criterion=gini, max_depth=30, max_features=sqrt, min_samples_leaf=1, min_samples_split=10, n_estimators=300; total time=   1.7s\n",
      "[CV] END criterion=gini, max_depth=20, max_features=log2, min_samples_leaf=1, min_samples_split=2, n_estimators=300; total time=   1.8s\n",
      "[CV] END criterion=gini, max_depth=20, max_features=log2, min_samples_leaf=1, min_samples_split=2, n_estimators=300; total time=   2.1s\n",
      "[CV] END criterion=entropy, max_depth=10, max_features=sqrt, min_samples_leaf=2, min_samples_split=5, n_estimators=500; total time=   2.8s\n",
      "[CV] END criterion=entropy, max_depth=10, max_features=sqrt, min_samples_leaf=2, min_samples_split=5, n_estimators=500; total time=   2.9s\n",
      "[CV] END criterion=entropy, max_depth=30, max_features=log2, min_samples_leaf=2, min_samples_split=2, n_estimators=500; total time=   3.6s\n",
      "[CV] END criterion=entropy, max_depth=10, max_features=sqrt, min_samples_leaf=2, min_samples_split=5, n_estimators=500; total time=   2.9s\n",
      "[CV] END criterion=entropy, max_depth=30, max_features=log2, min_samples_leaf=2, min_samples_split=2, n_estimators=500; total time=   3.6s\n",
      "[CV] END criterion=entropy, max_depth=30, max_features=log2, min_samples_leaf=2, min_samples_split=2, n_estimators=500; total time=   3.7s\n",
      "[CV] END criterion=entropy, max_depth=30, max_features=log2, min_samples_leaf=3, min_samples_split=5, n_estimators=100; total time=   0.7s\n",
      "[CV] END criterion=gini, max_depth=20, max_features=log2, min_samples_leaf=1, min_samples_split=2, n_estimators=300; total time=   2.0s\n",
      "[CV] END criterion=gini, max_depth=30, max_features=sqrt, min_samples_leaf=3, min_samples_split=2, n_estimators=200; total time=   1.2s\n",
      "[CV] END criterion=gini, max_depth=30, max_features=sqrt, min_samples_leaf=3, min_samples_split=2, n_estimators=200; total time=   1.1s\n",
      "[CV] END criterion=gini, max_depth=30, max_features=sqrt, min_samples_leaf=3, min_samples_split=2, n_estimators=200; total time=   1.3s\n",
      "[CV] END criterion=entropy, max_depth=30, max_features=log2, min_samples_leaf=3, min_samples_split=5, n_estimators=100; total time=   0.7s\n",
      "[CV] END criterion=entropy, max_depth=30, max_features=log2, min_samples_leaf=3, min_samples_split=5, n_estimators=100; total time=   0.7s\n",
      "[CV] END criterion=log_loss, max_depth=20, max_features=sqrt, min_samples_leaf=1, min_samples_split=2, n_estimators=400; total time=   3.1s\n",
      "[CV] END criterion=log_loss, max_depth=20, max_features=log2, min_samples_leaf=2, min_samples_split=5, n_estimators=200; total time=   1.5s\n",
      "[CV] END criterion=log_loss, max_depth=20, max_features=log2, min_samples_leaf=2, min_samples_split=5, n_estimators=200; total time=   1.7s\n",
      "[CV] END criterion=log_loss, max_depth=20, max_features=log2, min_samples_leaf=2, min_samples_split=5, n_estimators=200; total time=   1.6s\n",
      "[CV] END criterion=log_loss, max_depth=20, max_features=sqrt, min_samples_leaf=1, min_samples_split=2, n_estimators=400; total time=   3.2s\n",
      "[CV] END criterion=log_loss, max_depth=20, max_features=sqrt, min_samples_leaf=1, min_samples_split=2, n_estimators=400; total time=   3.2s\n",
      "[CV] END criterion=log_loss, max_depth=10, max_features=sqrt, min_samples_leaf=1, min_samples_split=2, n_estimators=300; total time=   1.7s\n",
      "[CV] END criterion=log_loss, max_depth=10, max_features=sqrt, min_samples_leaf=3, min_samples_split=2, n_estimators=100; total time=   0.5s\n",
      "[CV] END criterion=log_loss, max_depth=10, max_features=sqrt, min_samples_leaf=3, min_samples_split=2, n_estimators=100; total time=   0.5s\n",
      "[CV] END criterion=log_loss, max_depth=10, max_features=sqrt, min_samples_leaf=3, min_samples_split=2, n_estimators=100; total time=   0.5s\n",
      "[CV] END criterion=log_loss, max_depth=10, max_features=sqrt, min_samples_leaf=1, min_samples_split=2, n_estimators=300; total time=   1.7s\n",
      "[CV] END criterion=log_loss, max_depth=10, max_features=sqrt, min_samples_leaf=1, min_samples_split=2, n_estimators=300; total time=   1.4s\n",
      "Best RFC Classification Report:\n",
      "              precision    recall  f1-score   support\n",
      "\n",
      "           4       0.86      0.33      0.47        55\n",
      "           5       0.73      0.73      0.73       428\n",
      "           6       0.67      0.78      0.72       567\n",
      "           7       0.67      0.56      0.61       216\n",
      "           9       0.90      0.39      0.55        46\n",
      "\n",
      "    accuracy                           0.70      1312\n",
      "   macro avg       0.77      0.56      0.62      1312\n",
      "weighted avg       0.71      0.70      0.69      1312\n",
      "\n",
      "Best RFC Confusion Matrix:\n",
      "[[ 18  27   9   1   0]\n",
      " [  3 312 111   2   0]\n",
      " [  0  81 445  40   1]\n",
      " [  0   6  89 120   1]\n",
      " [  0   0  12  16  18]]\n"
     ]
    }
   ],
   "source": [
    "# Define the actual model code using what we've learned and search for a best model \n",
    "\n",
    "# Initialize RFC\n",
    "rfc = RandomForestClassifier(random_state=42, class_weight=class_weight_dict)\n",
    "# Initialize the RandomizedSearchCV\n",
    "random_search = RandomizedSearchCV(\n",
    "    estimator=rfc,\n",
    "    param_distributions=param_distributions,\n",
    "    n_iter=50,\n",
    "    cv=3,\n",
    "    verbose=2,\n",
    "    random_state=42,\n",
    "    n_jobs=-1 \n",
    ")\n",
    "\n",
    "# Perform the random search on the training data\n",
    "random_search.fit(X_train, y_train)\n",
    "\n",
    "# Get the best model\n",
    "best_rfc = random_search.best_estimator_\n",
    "\n",
    "# Predict on the scaled test data\n",
    "y_pred_rfc = best_rfc.predict(X_test)\n",
    "\n",
    "# Evaluate the best model\n",
    "print(\"Best RFC Classification Report:\")\n",
    "print(classification_report(y_test, y_pred_rfc))\n",
    "print(\"Best RFC Confusion Matrix:\")\n",
    "print(confusion_matrix(y_test, y_pred_rfc))"
   ]
  },
  {
   "cell_type": "code",
   "execution_count": 103,
   "id": "402a9db2",
   "metadata": {},
   "outputs": [
    {
     "name": "stdout",
     "output_type": "stream",
     "text": [
      "RandomForestClassifier(class_weight={4: 4.746606334841629,\n",
      "                                     5: 0.6134502923976608,\n",
      "                                     6: 0.4623182018510357,\n",
      "                                     7: 1.2155272305909617,\n",
      "                                     9: 5.763736263736264},\n",
      "                       criterion='log_loss', max_depth=30, n_estimators=500,\n",
      "                       random_state=42)\n",
      "Best RFC Classification Report:\n",
      "              precision    recall  f1-score   support\n",
      "\n",
      "           4       0.86      0.33      0.47        55\n",
      "           5       0.73      0.73      0.73       428\n",
      "           6       0.67      0.78      0.72       567\n",
      "           7       0.67      0.56      0.61       216\n",
      "           9       0.90      0.39      0.55        46\n",
      "\n",
      "    accuracy                           0.70      1312\n",
      "   macro avg       0.77      0.56      0.62      1312\n",
      "weighted avg       0.71      0.70      0.69      1312\n",
      "\n",
      "Best RFC Confusion Matrix:\n",
      "[[ 18  27   9   1   0]\n",
      " [  3 312 111   2   0]\n",
      " [  0  81 445  40   1]\n",
      " [  0   6  89 120   1]\n",
      " [  0   0  12  16  18]]\n"
     ]
    }
   ],
   "source": [
    "print(best_rfc)\n",
    "classifier = RandomForestClassifier(class_weight=class_weight_dict, criterion='log_loss', max_depth=30, max_features='log2', n_estimators=500, random_state=42)\n",
    "classifier.fit(X=X_train, y=y_train)\n",
    "y_pred_best = classifier.predict(X_test)\n",
    "\n",
    "print(\"Best RFC Classification Report:\")\n",
    "print(classification_report(y_test, y_pred_best))\n",
    "print(\"Best RFC Confusion Matrix:\")\n",
    "print(confusion_matrix(y_test, y_pred_best))"
   ]
  },
  {
   "cell_type": "markdown",
   "id": "98894842",
   "metadata": {},
   "source": [
    "### Model Validation and Evaluation"
   ]
  },
  {
   "cell_type": "markdown",
   "id": "5c102e6e",
   "metadata": {},
   "source": [
    "Our model performs reasonably well for precision, however struggles with recall especially for the minority classes. "
   ]
  },
  {
   "cell_type": "markdown",
   "id": "b02cbdbb",
   "metadata": {},
   "source": [
    "#### Cross-Validation"
   ]
  },
  {
   "cell_type": "markdown",
   "id": "467ed2d6",
   "metadata": {},
   "source": [
    "Here we cross-validate the model using StratifiedKFold. We find that our cross validation scores are decent but not great."
   ]
  },
  {
   "cell_type": "code",
   "execution_count": 109,
   "id": "32c31e86",
   "metadata": {},
   "outputs": [
    {
     "name": "stdout",
     "output_type": "stream",
     "text": [
      "Cross-Validation Score Against Synthetic Data: [0.67453857 0.67212539 0.6876381  0.65716677 0.69481849]\n",
      "Mean Cross-Validation Score Against Synthetic Data: 0.6772574637608179\n"
     ]
    }
   ],
   "source": [
    "\n",
    "# Define cross-validation strategy\n",
    "kfold = StratifiedKFold(n_splits=5, shuffle=True, random_state=42)\n",
    "\n",
    "# Evaluate the model using cross-validation when trained against synthetic data\n",
    "cv_scores_synthetic_data = cross_val_score(best_rfc, X, y, cv=kfold, scoring='f1_weighted')\n",
    "\n",
    "# Output the cross-validation scores against the da\n",
    "print(f'Cross-Validation Score Against Synthetic Data: {cv_scores_synthetic_data}')\n",
    "print(f'Mean Cross-Validation Score Against Synthetic Data: {np.mean(cv_scores_synthetic_data)}')\n"
   ]
  },
  {
   "cell_type": "markdown",
   "id": "4eca1528",
   "metadata": {},
   "source": []
  },
  {
   "cell_type": "markdown",
   "id": "f7a705c8",
   "metadata": {},
   "source": [
    "As a control experiment, we run the same model against the raw data. The model is generall less capable across the board, but most notably, is entirely unable to detect the minority classes (quality= 3 and quality=9)"
   ]
  },
  {
   "cell_type": "code",
   "execution_count": 108,
   "id": "cce483c2",
   "metadata": {},
   "outputs": [
    {
     "name": "stdout",
     "output_type": "stream",
     "text": [
      "Raw Data RFC Classification Report:\n",
      "              precision    recall  f1-score   support\n",
      "\n",
      "           3       0.00      0.00      0.00         6\n",
      "           4       0.75      0.14      0.24        43\n",
      "           5       0.71      0.75      0.73       428\n",
      "           6       0.65      0.77      0.70       567\n",
      "           7       0.73      0.51      0.60       216\n",
      "           8       0.86      0.31      0.45        39\n",
      "           9       0.00      0.00      0.00         1\n",
      "\n",
      "    accuracy                           0.68      1300\n",
      "   macro avg       0.53      0.35      0.39      1300\n",
      "weighted avg       0.69      0.68      0.67      1300\n",
      "\n",
      "Raw Data Confusion Matrix:\n",
      "[[  0   0   2   4   0   0   0]\n",
      " [  0   6  22  15   0   0   0]\n",
      " [  0   1 321 106   0   0   0]\n",
      " [  0   1  99 436  30   1   0]\n",
      " [  0   0  10  94 111   1   0]\n",
      " [  0   0   0  17  10  12   0]\n",
      " [  0   0   0   0   1   0   0]]\n"
     ]
    },
    {
     "name": "stderr",
     "output_type": "stream",
     "text": [
      "/opt/anaconda3/envs/ai_dev/lib/python3.12/site-packages/sklearn/metrics/_classification.py:1509: UndefinedMetricWarning: Precision is ill-defined and being set to 0.0 in labels with no predicted samples. Use `zero_division` parameter to control this behavior.\n",
      "  _warn_prf(average, modifier, f\"{metric.capitalize()} is\", len(result))\n",
      "/opt/anaconda3/envs/ai_dev/lib/python3.12/site-packages/sklearn/metrics/_classification.py:1509: UndefinedMetricWarning: Precision is ill-defined and being set to 0.0 in labels with no predicted samples. Use `zero_division` parameter to control this behavior.\n",
      "  _warn_prf(average, modifier, f\"{metric.capitalize()} is\", len(result))\n",
      "/opt/anaconda3/envs/ai_dev/lib/python3.12/site-packages/sklearn/metrics/_classification.py:1509: UndefinedMetricWarning: Precision is ill-defined and being set to 0.0 in labels with no predicted samples. Use `zero_division` parameter to control this behavior.\n",
      "  _warn_prf(average, modifier, f\"{metric.capitalize()} is\", len(result))\n"
     ]
    }
   ],
   "source": [
    "raw_data = pd.read_csv('./Wine_data_both.csv') \n",
    "X_raw = raw_data.drop(columns=['quality', 'Wine'])\n",
    "y_raw = raw_data['quality']\n",
    "X_train_raw, X_test_raw, y_train_raw, y_test_raw = train_test_split(X_raw, y_raw, test_size=0.2, random_state=42, stratify=y_raw)\n",
    "raw_classifier = RandomForestClassifier( class_weight=class_weight_dict, criterion='log_loss', max_depth=30, max_features='log2', n_estimators=500, random_state=42)\n",
    "raw_classifier.fit(X=X_train_raw, y=y_train_raw)\n",
    "y_pred_best_raw = raw_classifier.predict(X_test_raw)\n",
    "\n",
    "print(\"Raw Data RFC Classification Report:\")\n",
    "print(classification_report(y_test_raw, y_pred_best_raw))\n",
    "print(\"Raw Data Confusion Matrix:\")\n",
    "print(confusion_matrix(y_test_raw, y_pred_best_raw))"
   ]
  },
  {
   "cell_type": "markdown",
   "id": "83b7642c",
   "metadata": {},
   "source": [
    "### Evaluation & Interpretation "
   ]
  },
  {
   "cell_type": "code",
   "execution_count": 95,
   "id": "2f0696d9",
   "metadata": {},
   "outputs": [
    {
     "name": "stdout",
     "output_type": "stream",
     "text": [
      "Index(['fixed acidity', 'volatile acidity', 'residual sugar',\n",
      "       'free sulfur dioxide', 'total sulfur dioxide', 'density', 'pH',\n",
      "       'sulphates', 'alcohol', 'wine type'],\n",
      "      dtype='object')\n",
      "[0.08597603 0.12435426 0.1015612  0.11558338 0.10784187 0.11876595\n",
      " 0.09408409 0.09880693 0.1424733  0.010553  ]\n"
     ]
    },
    {
     "data": {
      "image/png": "[encoded data removed]",
      "text/plain": [
       "<Figure size 1000x600 with 1 Axes>"
      ]
     },
     "metadata": {},
     "output_type": "display_data"
    }
   ],
   "source": [
    "# Feature Importances: \n",
    "print(X_train.columns)\n",
    "print(classifier.feature_importances_)\n",
    "importances = classifier.feature_importances_\n",
    "feature_names = X_train.columns\n",
    "\n",
    "# Create a DataFrame for visualization\n",
    "importance_df = pd.DataFrame({'Feature': feature_names, 'Importance': importances})\n",
    "importance_df = importance_df.sort_values(by='Importance', ascending=False)\n",
    "\n",
    "# Plot the feature importances\n",
    "plt.figure(figsize=(10, 6))\n",
    "plt.barh(importance_df['Feature'], importance_df['Importance'])\n",
    "plt.xlabel('Importance')\n",
    "plt.title('Feature Importances from Random Forest Model')\n",
    "plt.gca().invert_yaxis()\n",
    "plt.show()"
   ]
  },
  {
   "cell_type": "code",
   "execution_count": null,
   "id": "f6b0db1c",
   "metadata": {},
   "outputs": [],
   "source": [
    "# TO DO: find more interesting ways to interpret the results for the presentation "
   ]
  }
 ],
 "metadata": {
  "kernelspec": {
   "display_name": "ai_dev",
   "language": "python",
   "name": "python3"
  },
  "language_info": {
   "codemirror_mode": {
    "name": "ipython",
    "version": 3
   },
   "file_extension": ".py",
   "mimetype": "text/x-python",
   "name": "python",
   "nbconvert_exporter": "python",
   "pygments_lexer": "ipython3",
   "version": "3.12.3"
  }
 },
 "nbformat": 4,
 "nbformat_minor": 5
}
