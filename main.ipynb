{
 "cells": [
  {
   "cell_type": "code",
   "execution_count": 105,
   "id": "039e9ace",
   "metadata": {},
   "outputs": [],
   "source": [
    "#Import deps \n",
    "import pandas as pd\n",
    "import numpy as np\n",
    "from sklearn.model_selection import train_test_split\n",
    "from sklearn.preprocessing import StandardScaler\n",
    "from imblearn.over_sampling import SMOTE\n",
    "from sklearn.metrics import mean_squared_error, r2_score\n",
    "from sklearn.ensemble import GradientBoostingClassifier\n",
    "from sklearn.model_selection import RandomizedSearchCV\n",
    "from sklearn.metrics import classification_report, confusion_matrix\n",
    "import matplotlib.pyplot as plt\n",
    "from sklearn.model_selection import cross_val_score, StratifiedKFold\n",
    "from sklearn.ensemble import RandomForestClassifier\n",
    "from sklearn.utils.class_weight import compute_class_weight\n",
    "\n",
    "\n",
    "\n",
    "# ... "
   ]
  },
  {
   "cell_type": "markdown",
   "id": "3ae3a8e2",
   "metadata": {},
   "source": [
    "### Introduction\n",
    "What makes the perfect bottle of wine? \n",
    "\n",
    "Wine is a major industry, with sales projected to steadily grow beyond $40 billion USD by 2029. [Source](https://www.statista.com/statistics/922403/global-wine-market-size/)\n",
    "\n",
    "For the longest time, the secrets of the timeless art of winemaking were restricted to the intuitions and implicit knowledge of the vintners themselves. Today it is possible to apply the techniques of machine learning to analyze the chemical components of wine to determine how they influence the quality rating of the wine.\n",
    "\n",
    "This study conducts machine learning analysis on the chemical constitutents of 6497 different wines (1599 reds and 4898 white ) to identify the predictive relationships between these features and wine quality. \n",
    "\n",
    "The purpose of this study is to show how machine learning can be applied to commercial pursuits and potentially improve sales and production quality of products. \n"
   ]
  },
  {
   "cell_type": "code",
   "execution_count": 106,
   "id": "f49480d9",
   "metadata": {},
   "outputs": [],
   "source": [
    "# Import Data \n",
    "all_wine_raw_df = pd.read_csv('./Wine_data_both.csv') \n",
    "red_wine_df = pd.read_csv('./Wine_data_red.csv')\n",
    "white_wine_df = pd.read_csv('./Wine_data_white.csv')\n"
   ]
  },
  {
   "cell_type": "code",
   "execution_count": 107,
   "id": "ebd49a05",
   "metadata": {},
   "outputs": [
    {
     "name": "stdout",
     "output_type": "stream",
     "text": [
      "<class 'pandas.core.frame.DataFrame'>\n",
      "RangeIndex: 6497 entries, 0 to 6496\n",
      "Data columns (total 13 columns):\n",
      " #   Column                Non-Null Count  Dtype  \n",
      "---  ------                --------------  -----  \n",
      " 0   fixed acidity         6497 non-null   float64\n",
      " 1   volatile acidity      6497 non-null   float64\n",
      " 2   citric acid           6497 non-null   float64\n",
      " 3   residual sugar        6497 non-null   float64\n",
      " 4   chlorides             6497 non-null   float64\n",
      " 5   free sulfur dioxide   6497 non-null   float64\n",
      " 6   total sulfur dioxide  6497 non-null   float64\n",
      " 7   density               6497 non-null   float64\n",
      " 8   pH                    6497 non-null   float64\n",
      " 9   sulphates             6497 non-null   float64\n",
      " 10  alcohol               6497 non-null   float64\n",
      " 11  quality               6497 non-null   int64  \n",
      " 12  Wine                  6497 non-null   object \n",
      "dtypes: float64(11), int64(1), object(1)\n",
      "memory usage: 660.0+ KB\n",
      "All wine data types None\n"
     ]
    }
   ],
   "source": [
    "# Inspect raw data \n",
    "print('All wine data types', all_wine_raw_df.info())"
   ]
  },
  {
   "cell_type": "markdown",
   "id": "63534037",
   "metadata": {},
   "source": [
    "### Data Preparation, Encoding & Feature Engineering"
   ]
  },
  {
   "cell_type": "code",
   "execution_count": 188,
   "id": "3cc328de",
   "metadata": {},
   "outputs": [
    {
     "name": "stdout",
     "output_type": "stream",
     "text": [
      "Mean values for highest rated wines (quality == 9):\n",
      "fixed acidity             7.42000\n",
      "volatile acidity          0.29800\n",
      "citric acid               0.38600\n",
      "residual sugar            4.12000\n",
      "chlorides                 0.02740\n",
      "free sulfur dioxide      33.40000\n",
      "total sulfur dioxide    116.00000\n",
      "density                   0.99146\n",
      "pH                        3.30800\n",
      "sulphates                 0.46600\n",
      "alcohol                  12.18000\n",
      "quality                   9.00000\n",
      "wine_category             2.00000\n",
      "dtype: float64\n",
      "\n",
      "Mean values for lowest rated wines (quality == 3):\n",
      "fixed acidity             7.853333\n",
      "volatile acidity          0.517000\n",
      "citric acid               0.281000\n",
      "residual sugar            5.140000\n",
      "chlorides                 0.077033\n",
      "free sulfur dioxide      39.216667\n",
      "total sulfur dioxide    122.033333\n",
      "density                   0.995744\n",
      "pH                        3.257667\n",
      "sulphates                 0.506333\n",
      "alcohol                  10.215000\n",
      "quality                   3.000000\n",
      "wine_category             0.000000\n",
      "dtype: float64\n",
      "\n",
      "Difference in mean values:\n",
      "fixed acidity          -0.433333\n",
      "volatile acidity       -0.219000\n",
      "citric acid             0.105000\n",
      "residual sugar         -1.020000\n",
      "chlorides              -0.049633\n",
      "free sulfur dioxide    -5.816667\n",
      "total sulfur dioxide   -6.033333\n",
      "density                -0.004284\n",
      "pH                      0.050333\n",
      "sulphates              -0.040333\n",
      "alcohol                 1.965000\n",
      "quality                 6.000000\n",
      "wine_category           2.000000\n",
      "dtype: float64\n"
     ]
    }
   ],
   "source": [
    "all_9s = all_wine_raw_df.drop(columns='Wine')[all_wine_raw_df['quality'] == 9]\n",
    "all_3s = all_wine_raw_df.drop(columns=['Wine'])[all_wine_raw_df['quality'] == 3]\n",
    "all_4s = all_wine_raw_df.drop(columns=['Wine'])[all_wine_raw_df['quality'] == 4]\n",
    "\n",
    "mean_all_9s = all_9s.mean()\n",
    "mean_all_3s = all_3s.mean()\n",
    "mean_all_4s = all_4s.mean()\n",
    "# Compare the means (difference between highest and lowest rated wines)\n",
    "mean_difference = mean_all_9s - mean_all_3s\n",
    "\n",
    "# Display the results\n",
    "print(\"Mean values for highest rated wines (quality == 9):\")\n",
    "print(mean_all_9s)\n",
    "print(\"\\nMean values for lowest rated wines (quality == 3):\")\n",
    "print(mean_all_3s)\n",
    "print(\"\\nDifference in mean values:\")\n",
    "print(mean_difference)\n"
   ]
  },
  {
   "cell_type": "code",
   "execution_count": 189,
   "id": "5067c7f5",
   "metadata": {},
   "outputs": [],
   "source": [
    "# Note: May need to workshop this/ run it by the TAs\n",
    "def generate_synthetic_samples(mean_values, n_samples, noise_level=0.01):\n",
    "    synthetic_samples = []\n",
    "    for _ in range(n_samples):\n",
    "        noise = np.random.normal(0, noise_level, mean_values.shape)\n",
    "        synthetic_sample = mean_values + noise\n",
    "        synthetic_samples.append(synthetic_sample)\n",
    "    return pd.DataFrame(synthetic_samples, columns=mean_values.index)\n",
    "\n",
    "n_samples_to_generate = 50  # Number of synthetic samples to generate for each class\n",
    "synthetic_9s = generate_synthetic_samples(mean_all_9s, n_samples_to_generate)\n",
    "synthetic_3s = generate_synthetic_samples(mean_all_3s, n_samples_to_generate)\n",
    "synetic_4s = generate_synthetic_samples(mean_all_3s, n_samples_to_generate)\n",
    "# Add the target column to the synthetic samples\n",
    "synthetic_9s['quality'] = 9\n",
    "synthetic_3s['quality'] = 3\n",
    "\n",
    "# Combine synthetic samples with the original data\n",
    "synthetic_data = pd.concat([synthetic_9s, synthetic_3s])\n",
    "combined_data = pd.concat([all_wine_raw_df, synthetic_data])"
   ]
  },
  {
   "cell_type": "code",
   "execution_count": 182,
   "id": "16e35ac3",
   "metadata": {},
   "outputs": [],
   "source": [
    "\n",
    "# Wines are to be classified as \"low\", \"medium\", or \"high\"\n",
    "# def assign_category(quality):\n",
    "#     if quality <=5:\n",
    "#         return 'low'\n",
    "#     elif quality == 6:\n",
    "#         return 'medium'\n",
    "#     elif quality >6:\n",
    "#         return 'high'\n",
    "\n",
    "# Manually encode the wine type, 0 is White, Red is 1\n",
    "# all_wine_raw_df['wine type'] = all_wine_raw_df['wine type'].map({'White': 0, 'Red': 1})\n",
    "\n",
    "# Apply the assign_category function \n",
    "# all_wine_raw_df['wine_category'] = all_wine_raw_df['quality'].apply(lambda quality: assign_category(quality))\n",
    "# Manually encode the wine category\n",
    "# all_wine_raw_df['wine_category'] = all_wine_raw_df['wine_category'].map({'low': 0, 'medium': 1, 'high': 2})\n",
    "# Define the feature and target variables\n",
    "X = combined_data.drop(columns=['quality', 'Wine'], axis=1)\n",
    "y = combined_data['quality']\n",
    "\n",
    "\n",
    "# Split the data into training and testing sets\n",
    "X_train, X_test, y_train, y_test = train_test_split(X, y, test_size=0.2, random_state=42, stratify=y)"
   ]
  },
  {
   "cell_type": "code",
   "execution_count": 190,
   "id": "a20785c9",
   "metadata": {},
   "outputs": [
    {
     "data": {
      "image/png": "[encoded data removed]",
      "text/plain": [
       "<Figure size 1000x600 with 1 Axes>"
      ]
     },
     "metadata": {},
     "output_type": "display_data"
    }
   ],
   "source": [
    "# Determine if data is balanced or imbalanced\n",
    "plt.figure(figsize=(10, 6))\n",
    "y.value_counts(sort=False).sort_index().plot(kind='bar')\n",
    "plt.xlabel('Quality')\n",
    "plt.ylabel('Frequency')\n",
    "plt.title('Distribution of Wine Quality')\n",
    "plt.show()\n",
    "\n",
    "# Clustering or feature engineering by clumping 3s/4s/5s/ low  6s/ medium/ 7,8,9 high quality "
   ]
  },
  {
   "cell_type": "code",
   "execution_count": null,
   "id": "702debc3",
   "metadata": {},
   "outputs": [],
   "source": []
  },
  {
   "cell_type": "code",
   "execution_count": 70,
   "id": "e29dc1be",
   "metadata": {},
   "outputs": [],
   "source": [
    "# # # Feature Selection: What features can we drop? \n"
   ]
  },
  {
   "cell_type": "code",
   "execution_count": 191,
   "id": "f056b98e",
   "metadata": {},
   "outputs": [
    {
     "name": "stdout",
     "output_type": "stream",
     "text": [
      "Class distribution before resampling:\n",
      " quality\n",
      "6    2269\n",
      "5    1710\n",
      "7     863\n",
      "4     173\n",
      "8     154\n",
      "3      64\n",
      "9      44\n",
      "Name: count, dtype: int64\n",
      "Class distribution after resampling:\n",
      " quality\n",
      "3    2269\n",
      "5    2269\n",
      "6    2269\n",
      "7    2269\n",
      "9    2269\n",
      "8    2269\n",
      "4    2269\n",
      "Name: count, dtype: int64\n"
     ]
    },
    {
     "data": {
      "image/png": "[encoded data removed]",
      "text/plain": [
       "<Figure size 1400x600 with 2 Axes>"
      ]
     },
     "metadata": {},
     "output_type": "display_data"
    },
    {
     "name": "stdout",
     "output_type": "stream",
     "text": [
      "       fixed acidity  volatile acidity   citric acid  residual sugar  \\\n",
      "count   15883.000000      15883.000000  15883.000000    15883.000000   \n",
      "mean        7.265837          0.368723      0.305983        4.939029   \n",
      "std         1.062835          0.207609      0.185916        3.719074   \n",
      "min         3.800000         -0.230465     -0.275089        0.600000   \n",
      "25%         6.600000          0.234445      0.220000        2.100000   \n",
      "50%         7.223244          0.310003      0.302573        4.100848   \n",
      "75%         7.724356          0.462108      0.396839        5.761793   \n",
      "max        15.900000          1.580000      1.660000       31.600000   \n",
      "\n",
      "          chlorides  free sulfur dioxide  total sulfur dioxide       density  \\\n",
      "count  15883.000000         15883.000000          15883.000000  15883.000000   \n",
      "mean       0.060296            31.333264            114.278712      0.992748   \n",
      "std        0.121411            18.639017             50.958276      0.125876   \n",
      "min       -0.858441             1.000000              6.000000      0.132379   \n",
      "25%        0.034739            18.000000             91.370254      0.991172   \n",
      "50%        0.046317            33.289321            116.278770      0.994200   \n",
      "75%        0.073000            39.171488            138.000000      0.997325   \n",
      "max        0.940087           289.000000            440.000000      1.842440   \n",
      "\n",
      "                 pH     sulphates       alcohol  wine_category  \n",
      "count  15883.000000  15883.000000  15883.000000   15883.000000  \n",
      "mean       3.239965      0.511814     10.869291       1.003061  \n",
      "std        0.187676      0.172682      1.225358       0.942065  \n",
      "min        2.393207     -0.216548      8.000000      -0.822725  \n",
      "25%        3.120000      0.410000      9.895951       0.000000  \n",
      "50%        3.230000      0.500000     10.758354       1.000000  \n",
      "75%        3.353487      0.600000     12.012673       2.000000  \n",
      "max        4.429649      2.000000     14.900000       2.556593  \n"
     ]
    }
   ],
   "source": [
    "class_distribution_before = y_train.value_counts()\n",
    "print(\"Class distribution before resampling:\\n\", class_distribution_before)\n",
    "\n",
    "# Apply SMOTE to the training data\n",
    "smote = SMOTE(random_state=42, k_neighbors=3)\n",
    "X_train_resampled, y_train_resampled = smote.fit_resample(X_train, y_train)\n",
    "\n",
    "# Class distribution after resampling\n",
    "class_distribution_after = y_train_resampled.value_counts()\n",
    "print(\"Class distribution after resampling:\\n\", class_distribution_after)\n",
    "\n",
    "# Plot the class distributions before and after resampling\n",
    "fig, axes = plt.subplots(1, 2, figsize=(14, 6))\n",
    "class_distribution_before.plot(kind='bar', ax=axes[0], title='Class Distribution Before Resampling')\n",
    "class_distribution_after.plot(kind='bar', ax=axes[1], title='Class Distribution After Resampling')\n",
    "plt.show()\n",
    "# Since our data is imbalanced, we may want to correct it by oversampling the minority classes \n",
    "print(X_train_resampled.describe())\n"
   ]
  },
  {
   "cell_type": "markdown",
   "id": "e270c761",
   "metadata": {},
   "source": [
    "### Scaling the Data\n"
   ]
  },
  {
   "cell_type": "code",
   "execution_count": 185,
   "id": "4b3a0062",
   "metadata": {},
   "outputs": [],
   "source": [
    "\n",
    "scaler = StandardScaler()\n",
    "\n",
    "# Fit the scaler on the training data and transform the training data\n",
    "X_train_resampled_scaled = scaler.fit_transform(X_train_resampled)\n",
    "\n",
    "# Transform the testing data (use the same scaler fitted on the training data)\n",
    "X_test_scaled = scaler.transform(X_test)"
   ]
  },
  {
   "cell_type": "markdown",
   "id": "e98b9a48",
   "metadata": {},
   "source": []
  },
  {
   "cell_type": "code",
   "execution_count": 125,
   "id": "8cbabcf0",
   "metadata": {},
   "outputs": [
    {
     "name": "stdout",
     "output_type": "stream",
     "text": [
      "quality\n",
      "6    567\n",
      "5    428\n",
      "7    216\n",
      "4     43\n",
      "8     39\n",
      "3      6\n",
      "9      1\n",
      "Name: count, dtype: int64\n"
     ]
    }
   ],
   "source": [
    "print(y_test.value_counts())"
   ]
  },
  {
   "cell_type": "markdown",
   "id": "1dbf0786",
   "metadata": {},
   "source": [
    "### Build Models"
   ]
  },
  {
   "cell_type": "code",
   "execution_count": 153,
   "id": "29ac2d6c",
   "metadata": {},
   "outputs": [
    {
     "name": "stdout",
     "output_type": "stream",
     "text": [
      "Class weights: {3: 7.358516483516484, 4: 4.423616845582163, 5: 0.4475355054302423, 6: 0.3372788516023421, 7: 0.8867737129614303, 8: 4.969387755102041, 9: 9.110544217687075}\n"
     ]
    }
   ],
   "source": [
    "# Define a simpler parameter grid for RandomizedSearchCV\n",
    "param_distributions = {\n",
    "    'n_estimators': [100, 200, 300],\n",
    "    'criterion': ['gini', 'entropy', 'log_loss'],\n",
    "    'max_depth': [3, 5],\n",
    "    'min_samples_split': [2, 5],\n",
    "    'min_samples_leaf': [1, 2],\n",
    "    'max_features': ['sqrt', 'log2'],\n",
    "}\n",
    "# Since our data is very imbalanced, lets try calculating class weights \n",
    "unique_classes = np.array([3, 4, 5, 6, 7, 8, 9])\n",
    "class_weights = compute_class_weight(class_weight='balanced', classes=unique_classes, y=y_train)\n",
    "class_weight_dict = {cls: weight for cls, weight in zip(unique_classes, class_weights)}\n",
    "\n",
    "print(f'Class weights: {class_weight_dict}')\n"
   ]
  },
  {
   "cell_type": "code",
   "execution_count": 192,
   "id": "c98c5e3e",
   "metadata": {},
   "outputs": [
    {
     "name": "stdout",
     "output_type": "stream",
     "text": [
      "Fitting 3 folds for each of 30 candidates, totalling 90 fits\n",
      "[CV] END criterion=log_loss, max_depth=3, max_features=log2, min_samples_leaf=2, min_samples_split=5, n_estimators=100; total time=   0.3s\n",
      "[CV] END criterion=log_loss, max_depth=3, max_features=log2, min_samples_leaf=2, min_samples_split=5, n_estimators=100; total time=   0.3s\n",
      "[CV] END criterion=log_loss, max_depth=3, max_features=log2, min_samples_leaf=2, min_samples_split=5, n_estimators=100; total time=   0.4s\n",
      "[CV] END criterion=gini, max_depth=3, max_features=log2, min_samples_leaf=2, min_samples_split=2, n_estimators=200; total time=   0.5s\n",
      "[CV] END criterion=gini, max_depth=3, max_features=log2, min_samples_leaf=2, min_samples_split=2, n_estimators=200; total time=   0.4s\n",
      "[CV] END criterion=gini, max_depth=3, max_features=log2, min_samples_leaf=2, min_samples_split=2, n_estimators=200; total time=   0.5s\n",
      "[CV] END criterion=log_loss, max_depth=3, max_features=sqrt, min_samples_leaf=1, min_samples_split=2, n_estimators=200; total time=   0.6s\n",
      "[CV] END criterion=log_loss, max_depth=3, max_features=sqrt, min_samples_leaf=1, min_samples_split=2, n_estimators=200; total time=   0.5s\n",
      "[CV] END criterion=log_loss, max_depth=3, max_features=sqrt, min_samples_leaf=1, min_samples_split=2, n_estimators=200; total time=   0.5s\n",
      "[CV] END criterion=entropy, max_depth=5, max_features=sqrt, min_samples_leaf=2, min_samples_split=5, n_estimators=200; total time=   0.8s\n",
      "[CV] END criterion=entropy, max_depth=5, max_features=sqrt, min_samples_leaf=2, min_samples_split=5, n_estimators=200; total time=   0.8s\n",
      "[CV] END criterion=entropy, max_depth=5, max_features=sqrt, min_samples_leaf=2, min_samples_split=5, n_estimators=200; total time=   0.7s\n",
      "[CV] END criterion=gini, max_depth=3, max_features=log2, min_samples_leaf=1, min_samples_split=2, n_estimators=100; total time=   0.2s\n",
      "[CV] END criterion=gini, max_depth=3, max_features=log2, min_samples_leaf=1, min_samples_split=2, n_estimators=100; total time=   0.2s\n",
      "[CV] END criterion=gini, max_depth=3, max_features=log2, min_samples_leaf=1, min_samples_split=2, n_estimators=100; total time=   0.2s\n",
      "[CV] END criterion=entropy, max_depth=3, max_features=sqrt, min_samples_leaf=2, min_samples_split=2, n_estimators=300; total time=   0.8s\n",
      "[CV] END criterion=entropy, max_depth=3, max_features=sqrt, min_samples_leaf=2, min_samples_split=2, n_estimators=300; total time=   0.8s\n",
      "[CV] END criterion=log_loss, max_depth=5, max_features=log2, min_samples_leaf=1, min_samples_split=2, n_estimators=100; total time=   0.3s\n",
      "[CV] END criterion=log_loss, max_depth=5, max_features=log2, min_samples_leaf=1, min_samples_split=2, n_estimators=100; total time=   0.3s\n",
      "[CV] END criterion=log_loss, max_depth=5, max_features=log2, min_samples_leaf=1, min_samples_split=2, n_estimators=100; total time=   0.3s\n",
      "[CV] END criterion=entropy, max_depth=3, max_features=log2, min_samples_leaf=2, min_samples_split=2, n_estimators=100; total time=   0.3s\n",
      "[CV] END criterion=entropy, max_depth=3, max_features=log2, min_samples_leaf=2, min_samples_split=2, n_estimators=100; total time=   0.3s\n",
      "[CV] END criterion=entropy, max_depth=3, max_features=sqrt, min_samples_leaf=2, min_samples_split=2, n_estimators=300; total time=   0.8s\n",
      "[CV] END criterion=entropy, max_depth=3, max_features=log2, min_samples_leaf=2, min_samples_split=2, n_estimators=100; total time=   0.4s\n",
      "[CV] END criterion=gini, max_depth=3, max_features=log2, min_samples_leaf=2, min_samples_split=2, n_estimators=100; total time=   0.3s\n",
      "[CV] END criterion=gini, max_depth=3, max_features=log2, min_samples_leaf=2, min_samples_split=2, n_estimators=100; total time=   0.3s\n",
      "[CV] END criterion=gini, max_depth=3, max_features=log2, min_samples_leaf=2, min_samples_split=2, n_estimators=100; total time=   0.3s\n",
      "[CV] END criterion=entropy, max_depth=3, max_features=sqrt, min_samples_leaf=1, min_samples_split=5, n_estimators=100; total time=   0.3s\n",
      "[CV] END criterion=entropy, max_depth=3, max_features=sqrt, min_samples_leaf=1, min_samples_split=5, n_estimators=100; total time=   0.2s\n",
      "[CV] END criterion=entropy, max_depth=3, max_features=log2, min_samples_leaf=1, min_samples_split=5, n_estimators=300; total time=   0.8s\n",
      "[CV] END criterion=entropy, max_depth=3, max_features=log2, min_samples_leaf=1, min_samples_split=5, n_estimators=300; total time=   0.8s\n",
      "[CV] END criterion=entropy, max_depth=3, max_features=sqrt, min_samples_leaf=1, min_samples_split=5, n_estimators=100; total time=   0.2s\n",
      "[CV] END criterion=entropy, max_depth=3, max_features=log2, min_samples_leaf=1, min_samples_split=5, n_estimators=300; total time=   0.8s\n",
      "[CV] END criterion=entropy, max_depth=5, max_features=sqrt, min_samples_leaf=2, min_samples_split=2, n_estimators=100; total time=   0.3s\n",
      "[CV] END criterion=entropy, max_depth=5, max_features=sqrt, min_samples_leaf=2, min_samples_split=2, n_estimators=100; total time=   0.3s\n",
      "[CV] END criterion=entropy, max_depth=5, max_features=sqrt, min_samples_leaf=2, min_samples_split=2, n_estimators=100; total time=   0.3s\n",
      "[CV] END criterion=entropy, max_depth=5, max_features=log2, min_samples_leaf=2, min_samples_split=5, n_estimators=200; total time=   0.7s\n",
      "[CV] END criterion=entropy, max_depth=5, max_features=log2, min_samples_leaf=2, min_samples_split=5, n_estimators=200; total time=   0.7s\n",
      "[CV] END criterion=entropy, max_depth=5, max_features=log2, min_samples_leaf=2, min_samples_split=5, n_estimators=200; total time=   0.7s\n",
      "[CV] END criterion=log_loss, max_depth=3, max_features=sqrt, min_samples_leaf=1, min_samples_split=5, n_estimators=200; total time=   0.5s\n",
      "[CV] END criterion=log_loss, max_depth=5, max_features=log2, min_samples_leaf=1, min_samples_split=2, n_estimators=200; total time=   0.8s\n",
      "[CV] END criterion=log_loss, max_depth=5, max_features=log2, min_samples_leaf=1, min_samples_split=2, n_estimators=200; total time=   0.7s\n",
      "[CV] END criterion=log_loss, max_depth=3, max_features=sqrt, min_samples_leaf=1, min_samples_split=5, n_estimators=200; total time=   0.6s\n",
      "[CV] END criterion=log_loss, max_depth=5, max_features=log2, min_samples_leaf=1, min_samples_split=2, n_estimators=200; total time=   0.7s\n",
      "[CV] END criterion=gini, max_depth=5, max_features=sqrt, min_samples_leaf=1, min_samples_split=5, n_estimators=100; total time=   0.3s\n",
      "[CV] END criterion=gini, max_depth=5, max_features=sqrt, min_samples_leaf=1, min_samples_split=5, n_estimators=100; total time=   0.3s\n",
      "[CV] END criterion=entropy, max_depth=3, max_features=log2, min_samples_leaf=2, min_samples_split=5, n_estimators=100; total time=   0.3s\n",
      "[CV] END criterion=log_loss, max_depth=3, max_features=sqrt, min_samples_leaf=1, min_samples_split=5, n_estimators=200; total time=   0.5s\n",
      "[CV] END criterion=gini, max_depth=5, max_features=sqrt, min_samples_leaf=1, min_samples_split=5, n_estimators=100; total time=   0.3s\n",
      "[CV] END criterion=entropy, max_depth=3, max_features=log2, min_samples_leaf=1, min_samples_split=5, n_estimators=200; total time=   0.5s\n",
      "[CV] END criterion=entropy, max_depth=3, max_features=log2, min_samples_leaf=1, min_samples_split=5, n_estimators=200; total time=   0.6s\n",
      "[CV] END criterion=entropy, max_depth=3, max_features=log2, min_samples_leaf=2, min_samples_split=5, n_estimators=100; total time=   0.3s\n",
      "[CV] END criterion=entropy, max_depth=3, max_features=log2, min_samples_leaf=1, min_samples_split=5, n_estimators=200; total time=   0.7s\n",
      "[CV] END criterion=entropy, max_depth=3, max_features=log2, min_samples_leaf=2, min_samples_split=5, n_estimators=100; total time=   0.3s\n",
      "[CV] END criterion=entropy, max_depth=5, max_features=sqrt, min_samples_leaf=1, min_samples_split=2, n_estimators=200; total time=   0.7s\n",
      "[CV] END criterion=entropy, max_depth=5, max_features=sqrt, min_samples_leaf=1, min_samples_split=2, n_estimators=200; total time=   0.8s\n",
      "[CV] END criterion=gini, max_depth=3, max_features=sqrt, min_samples_leaf=2, min_samples_split=5, n_estimators=300; total time=   0.7s\n",
      "[CV] END criterion=gini, max_depth=3, max_features=sqrt, min_samples_leaf=2, min_samples_split=5, n_estimators=300; total time=   0.7s\n",
      "[CV] END criterion=entropy, max_depth=5, max_features=sqrt, min_samples_leaf=1, min_samples_split=2, n_estimators=200; total time=   0.8s\n",
      "[CV] END criterion=log_loss, max_depth=5, max_features=sqrt, min_samples_leaf=1, min_samples_split=5, n_estimators=300; total time=   1.1s\n",
      "[CV] END criterion=log_loss, max_depth=5, max_features=sqrt, min_samples_leaf=1, min_samples_split=5, n_estimators=300; total time=   1.1s\n",
      "[CV] END criterion=log_loss, max_depth=5, max_features=sqrt, min_samples_leaf=1, min_samples_split=5, n_estimators=300; total time=   1.1s\n",
      "[CV] END criterion=gini, max_depth=3, max_features=sqrt, min_samples_leaf=2, min_samples_split=5, n_estimators=300; total time=   0.6s\n",
      "[CV] END criterion=log_loss, max_depth=3, max_features=log2, min_samples_leaf=2, min_samples_split=5, n_estimators=300; total time=   0.7s\n",
      "[CV] END criterion=log_loss, max_depth=3, max_features=log2, min_samples_leaf=2, min_samples_split=5, n_estimators=300; total time=   0.7s\n",
      "[CV] END criterion=log_loss, max_depth=3, max_features=log2, min_samples_leaf=2, min_samples_split=5, n_estimators=300; total time=   0.7s\n",
      "[CV] END criterion=log_loss, max_depth=3, max_features=log2, min_samples_leaf=1, min_samples_split=2, n_estimators=300; total time=   0.7s\n",
      "[CV] END criterion=log_loss, max_depth=3, max_features=log2, min_samples_leaf=1, min_samples_split=2, n_estimators=300; total time=   0.7s\n",
      "[CV] END criterion=log_loss, max_depth=3, max_features=log2, min_samples_leaf=1, min_samples_split=2, n_estimators=300; total time=   0.7s\n",
      "[CV] END criterion=log_loss, max_depth=3, max_features=log2, min_samples_leaf=1, min_samples_split=5, n_estimators=300; total time=   0.6s\n",
      "[CV] END criterion=gini, max_depth=5, max_features=log2, min_samples_leaf=2, min_samples_split=5, n_estimators=100; total time=   0.3s\n",
      "[CV] END criterion=gini, max_depth=5, max_features=log2, min_samples_leaf=2, min_samples_split=5, n_estimators=100; total time=   0.3s\n",
      "[CV] END criterion=gini, max_depth=5, max_features=log2, min_samples_leaf=2, min_samples_split=5, n_estimators=100; total time=   0.3s\n",
      "[CV] END criterion=entropy, max_depth=3, max_features=sqrt, min_samples_leaf=2, min_samples_split=2, n_estimators=200; total time=   0.4s\n",
      "[CV] END criterion=entropy, max_depth=3, max_features=sqrt, min_samples_leaf=2, min_samples_split=2, n_estimators=200; total time=   0.4s\n",
      "[CV] END criterion=log_loss, max_depth=3, max_features=log2, min_samples_leaf=1, min_samples_split=5, n_estimators=300; total time=   0.6s\n",
      "[CV] END criterion=entropy, max_depth=3, max_features=sqrt, min_samples_leaf=2, min_samples_split=2, n_estimators=200; total time=   0.4s\n",
      "[CV] END criterion=gini, max_depth=3, max_features=sqrt, min_samples_leaf=2, min_samples_split=5, n_estimators=100; total time=   0.2s\n",
      "[CV] END criterion=log_loss, max_depth=3, max_features=log2, min_samples_leaf=1, min_samples_split=5, n_estimators=300; total time=   0.6s\n",
      "[CV] END criterion=gini, max_depth=3, max_features=sqrt, min_samples_leaf=2, min_samples_split=5, n_estimators=100; total time=   0.2s\n",
      "[CV] END criterion=gini, max_depth=3, max_features=sqrt, min_samples_leaf=2, min_samples_split=5, n_estimators=100; total time=   0.2s\n",
      "[CV] END criterion=gini, max_depth=3, max_features=sqrt, min_samples_leaf=1, min_samples_split=5, n_estimators=200; total time=   0.4s\n",
      "[CV] END criterion=gini, max_depth=3, max_features=sqrt, min_samples_leaf=1, min_samples_split=5, n_estimators=200; total time=   0.4s\n",
      "[CV] END criterion=gini, max_depth=3, max_features=sqrt, min_samples_leaf=1, min_samples_split=5, n_estimators=200; total time=   0.4s\n",
      "[CV] END criterion=log_loss, max_depth=5, max_features=sqrt, min_samples_leaf=1, min_samples_split=5, n_estimators=200; total time=   0.5s\n",
      "[CV] END criterion=log_loss, max_depth=5, max_features=sqrt, min_samples_leaf=1, min_samples_split=5, n_estimators=200; total time=   0.5s\n",
      "[CV] END criterion=gini, max_depth=5, max_features=sqrt, min_samples_leaf=1, min_samples_split=2, n_estimators=300; total time=   0.7s\n",
      "[CV] END criterion=gini, max_depth=5, max_features=sqrt, min_samples_leaf=1, min_samples_split=2, n_estimators=300; total time=   0.7s\n",
      "[CV] END criterion=gini, max_depth=5, max_features=sqrt, min_samples_leaf=1, min_samples_split=2, n_estimators=300; total time=   0.7s\n",
      "[CV] END criterion=log_loss, max_depth=5, max_features=sqrt, min_samples_leaf=1, min_samples_split=5, n_estimators=200; total time=   0.5s\n",
      "Best Gradient Boosting Classifier Classification Report:\n",
      "              precision    recall  f1-score   support\n",
      "\n",
      "           3       1.00      0.56      0.72        16\n",
      "           4       0.18      0.60      0.28        43\n",
      "           5       0.93      0.73      0.82       428\n",
      "           6       1.00      1.00      1.00       567\n",
      "           7       0.92      0.60      0.73       216\n",
      "           8       0.25      0.74      0.37        39\n",
      "           9       1.00      0.73      0.84        11\n",
      "\n",
      "    accuracy                           0.82      1320\n",
      "   macro avg       0.76      0.71      0.68      1320\n",
      "weighted avg       0.92      0.82      0.85      1320\n",
      "\n",
      "Best Gradient Boosting Classifier Confusion Matrix:\n",
      "[[  9   2   5   0   0   0   0]\n",
      " [  0  26  17   0   0   0   0]\n",
      " [  0 114 314   0   0   0   0]\n",
      " [  0   0   0 567   0   0   0]\n",
      " [  0   0   0   0 130  86   0]\n",
      " [  0   0   0   0  10  29   0]\n",
      " [  0   0   0   0   1   2   8]]\n"
     ]
    }
   ],
   "source": [
    "# Initialize RFC\n",
    "rfc = RandomForestClassifier(random_state=42, class_weight=class_weight_dict)\n",
    "# Initialize the RandomizedSearchCV\n",
    "random_search = RandomizedSearchCV(\n",
    "    estimator=rfc,\n",
    "    param_distributions=param_distributions,\n",
    "    n_iter=30,\n",
    "    cv=3,\n",
    "    verbose=2,\n",
    "    random_state=42,\n",
    "    n_jobs=-1 \n",
    ")\n",
    "\n",
    "# Perform the random search on the resampled and scaled training data\n",
    "random_search.fit(X_train, y_train)\n",
    "\n",
    "# Get the best model\n",
    "best_rfc = random_search.best_estimator_\n",
    "\n",
    "# Predict on the scaled test data\n",
    "y_pred_rfc = best_rfc.predict(X_test)\n",
    "\n",
    "# Evaluate the best model\n",
    "print(\"Best Gradient Boosting Classifier Classification Report:\")\n",
    "print(classification_report(y_test, y_pred_rfc))\n",
    "print(\"Best Gradient Boosting Classifier Confusion Matrix:\")\n",
    "print(confusion_matrix(y_test, y_pred_rfc))"
   ]
  },
  {
   "cell_type": "code",
   "execution_count": 194,
   "id": "402a9db2",
   "metadata": {},
   "outputs": [
    {
     "name": "stdout",
     "output_type": "stream",
     "text": [
      "RandomForestClassifier(class_weight={3: 7.358516483516484, 4: 4.423616845582163,\n",
      "                                     5: 0.4475355054302423,\n",
      "                                     6: 0.3372788516023421,\n",
      "                                     7: 0.8867737129614303,\n",
      "                                     8: 4.969387755102041,\n",
      "                                     9: 9.110544217687075},\n",
      "                       max_depth=5, n_estimators=300, random_state=42)\n",
      "Best RFC Classification Report:\n",
      "              precision    recall  f1-score   support\n",
      "\n",
      "           3       1.00      0.56      0.72        16\n",
      "           4       0.41      0.28      0.33        43\n",
      "           5       0.92      0.96      0.94       428\n",
      "           6       1.00      1.00      1.00       567\n",
      "           7       0.89      0.99      0.93       216\n",
      "           8       0.83      0.38      0.53        39\n",
      "           9       1.00      0.73      0.84        11\n",
      "\n",
      "    accuracy                           0.94      1320\n",
      "   macro avg       0.86      0.70      0.76      1320\n",
      "weighted avg       0.93      0.94      0.93      1320\n",
      "\n",
      "Best RFC Confusion Matrix:\n",
      "[[  9   0   7   0   0   0   0]\n",
      " [  0  12  31   0   0   0   0]\n",
      " [  0  17 411   0   0   0   0]\n",
      " [  0   0   0 567   0   0   0]\n",
      " [  0   0   0   0 213   3   0]\n",
      " [  0   0   0   0  24  15   0]\n",
      " [  0   0   0   0   3   0   8]]\n"
     ]
    }
   ],
   "source": [
    "print(best_rfc)\n",
    "classifier = RandomForestClassifier( class_weight=class_weight_dict, criterion='log_loss', max_depth=10, max_features='log2', n_estimators=200, random_state=42)\n",
    "classifier.fit(X=X_train, y=y_train)\n",
    "y_pred_best = classifier.predict(X_test)\n",
    "\n",
    "print(\"Best RFC Classification Report:\")\n",
    "print(classification_report(y_test, y_pred_best))\n",
    "print(\"Best RFC Confusion Matrix:\")\n",
    "print(confusion_matrix(y_test, y_pred_best))"
   ]
  },
  {
   "cell_type": "code",
   "execution_count": 51,
   "id": "32c31e86",
   "metadata": {},
   "outputs": [
    {
     "name": "stdout",
     "output_type": "stream",
     "text": [
      "With Scaling - RMSE: 1.0133891612838817, R^2: -0.4367073899417533\n"
     ]
    }
   ],
   "source": []
  },
  {
   "cell_type": "markdown",
   "id": "83b7642c",
   "metadata": {},
   "source": [
    "### Evaluation & Interpretation "
   ]
  },
  {
   "cell_type": "code",
   "execution_count": null,
   "id": "2f0696d9",
   "metadata": {},
   "outputs": [],
   "source": []
  },
  {
   "cell_type": "code",
   "execution_count": null,
   "id": "b338a6f3",
   "metadata": {},
   "outputs": [],
   "source": []
  }
 ],
 "metadata": {
  "kernelspec": {
   "display_name": "ai_dev",
   "language": "python",
   "name": "python3"
  },
  "language_info": {
   "codemirror_mode": {
    "name": "ipython",
    "version": 3
   },
   "file_extension": ".py",
   "mimetype": "text/x-python",
   "name": "python",
   "nbconvert_exporter": "python",
   "pygments_lexer": "ipython3",
   "version": "3.12.3"
  }
 },
 "nbformat": 4,
 "nbformat_minor": 5
}
