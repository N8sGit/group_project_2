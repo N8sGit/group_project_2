{
 "cells": [
  {
   "cell_type": "code",
   "execution_count": 1,
   "metadata": {},
   "outputs": [],
   "source": [
    "#Import deps \n",
    "import pandas as pd\n",
    "# ... "
   ]
  },
  {
   "cell_type": "markdown",
   "id": "3ae3a8e2",
   "metadata": {},
   "source": [
    ".... Some Introductory Text "
   ]
  },
  {
   "cell_type": "code",
   "execution_count": 3,
   "id": "f49480d9",
   "metadata": {},
   "outputs": [],
   "source": [
    "# Import Data \n",
    "all_wine_raw_df = pd.read_csv('./Wine_data_both.csv') \n",
    "red_wine_df = pd.read_csv('./Wine_data_red.csv')\n",
    "white_wine_df = pd.read_csv('./Wine_data_white.csv')"
   ]
  },
  {
   "cell_type": "code",
   "execution_count": null,
   "id": "63534037",
   "metadata": {},
   "outputs": [],
   "source": [
    "# Preprocess data"
   ]
  },
  {
   "cell_type": "code",
   "execution_count": null,
   "id": "1dbf0786",
   "metadata": {},
   "outputs": [],
   "source": [
    "# Build Model "
   ]
  },
  {
   "cell_type": "code",
   "execution_count": null,
   "id": "d9ea38bb",
   "metadata": {},
   "outputs": [],
   "source": [
    "# Evaluate and Optimize Model"
   ]
  },
  {
   "cell_type": "markdown",
   "id": "83b7642c",
   "metadata": {},
   "source": [
    "... Text interpreting and describing results "
   ]
  },
  {
   "cell_type": "code",
   "execution_count": null,
   "id": "2f0696d9",
   "metadata": {},
   "outputs": [],
   "source": [
    "# Export Results"
   ]
  }
 ],
 "metadata": {
  "kernelspec": {
   "display_name": "ai_dev",
   "language": "python",
   "name": "python3"
  },
  "language_info": {
   "codemirror_mode": {
    "name": "ipython",
    "version": 3
   },
   "file_extension": ".py",
   "mimetype": "text/x-python",
   "name": "python",
   "nbconvert_exporter": "python",
   "pygments_lexer": "ipython3",
   "version": "3.12.3"
  }
 },
 "nbformat": 4,
 "nbformat_minor": 5
}
