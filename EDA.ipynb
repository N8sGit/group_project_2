{
 "cells": [
  {
   "cell_type": "code",
   "execution_count": null,
   "metadata": {},
   "outputs": [],
   "source": [
    "# Import Libraries\n",
    "import numpy as np\n",
    "import matplotlib.pyplot as plt  \n",
    "import pandas as pd\n",
    "import seaborn as sns\n",
    "\n",
    "#from warnings import filterwarnings\n",
    "#filterwarnings(action='ignore')"
   ]
  },
  {
   "cell_type": "code",
   "execution_count": null,
   "metadata": {},
   "outputs": [],
   "source": [
    "# Import Data \n",
    "all_wine_raw_df = pd.read_csv('./Wine_data_both.csv') \n",
    "red_wine_df = pd.read_csv('./Wine_data_red.csv')\n",
    "white_wine_df = pd.read_csv('./Wine_data_white.csv')\n",
    "\n",
    "all_wine_raw_df.head()"
   ]
  },
  {
   "cell_type": "code",
   "execution_count": null,
   "metadata": {},
   "outputs": [],
   "source": [
    "print(all_wine_raw_df.shape)"
   ]
  },
  {
   "cell_type": "code",
   "execution_count": null,
   "metadata": {},
   "outputs": [],
   "source": [
    "# Data Exploration\n",
    "#basic stats across all features - description\n",
    "all_wine_raw_df.describe(include='all')\n",
    "#notes:\n",
    "# white wine data outweighs red - will need to balance out: 4898 of 6497 rows (75%)\n",
    "# quality range is 3-9, with majority at 6\n",
    "# standard deviation for both free sulfur dioxide & total sulfur dioxide are high\n",
    "# following features have low (less than or near 1) standard deviation: quality, alcohol, sulphates, pH, density, chlorides, citric acid, volatile acidity, fixed acid\n",
    "# residual sugar has some variance: 5.4 mean, 0.6 min, 65.8 max"
   ]
  },
  {
   "cell_type": "code",
   "execution_count": null,
   "metadata": {},
   "outputs": [],
   "source": [
    "#assess if there are any nulls\n",
    "print(all_wine_raw_df.isna().sum())\n",
    "#there are no nulls"
   ]
  },
  {
   "cell_type": "code",
   "execution_count": null,
   "metadata": {},
   "outputs": [],
   "source": [
    "\n",
    "\n",
    "#features correlation matrix\n",
    "combined_data = all_wine_raw_df.copy()\n",
    "#combined_data = all_wine_raw_df.drop(columns=['Wine'], inplace=True)\n",
    "combined_data.head()\n",
    "combined_data.corr()\n",
    "#Moderate Correlation: 0.5-0.7\n",
    "#-Postive, Moderate Correlations: Total Sulfur Dioxide & Residual Sugar, Density & Fixed Acidity, Density & Residual Sugar\n",
    "#-Negative, Moderate Correlations: Density & Alcohol\n",
    "#-Positive, High Correlations: Free Sulfure Dioxide & Total Sulfur Dioxide (consider removing one)\n",
    "#Correlations vs. Quality that matter (not weak): Density & Alcohol"
   ]
  },
  {
   "cell_type": "code",
   "execution_count": null,
   "metadata": {},
   "outputs": [],
   "source": [
    "#feature mean by quality\n",
    "combined_data.groupby('quality').mean()\n",
    "#fixed acidity - organic acids that contribute to taste, color, and stability of wine (data is within average)\n",
    "#volatile acidity - acetic acid produced by bacteria or yeast during fermentation or aging process, considered a wine fault (contributes to pungency & sourness), should be less than 0.4 (see that higher quality has less than 0.4)\n",
    "#citric acid - not important to wine quality (consumed mostly by bacteria during fermentation)\n",
    "#residual sugar - enhances wine, balancing sourness caused by acids\n",
    "#chlorides - not important to wine quality\n",
    "#free sulfure dioxide - adds freshness & crispness (important)\n",
    "#total sulfur dioxide - same as above (important)\n",
    "#density - ideal range (0.99)\n",
    "#pH - acidity of wine, anything less than 3 needs to be balanced out with other stuff, acidity seems to be in ideal range of 3.2 to 3.4 across all quality scores\n",
    "#sulphates - wines with lower acidity need more sulphates\n",
    "#alcohol - generally low but more within range reflected in higher quality scored wines (perhaps something reflected in red vs. white?)"
   ]
  },
  {
   "cell_type": "code",
   "execution_count": null,
   "metadata": {},
   "outputs": [],
   "source": [
    "#Data Analysis\n",
    "#Countplot for all features\n",
    "for column in combined_data.columns:\n",
    "    plt.hist(combined_data[column], bins=10)  # Adjust the number of bins as needed\n",
    "    plt.xlabel(column)\n",
    "    plt.ylabel('Frequency')\n",
    "    plt.title(f'Histogram of {column}')\n",
    "    plt.show()\n",
    "\n",
    "#pH - normally distributed"
   ]
  },
  {
   "cell_type": "code",
   "execution_count": null,
   "metadata": {},
   "outputs": [],
   "source": [
    "#box plot\n",
    "combined_data.plot(kind ='box',subplots = True, layout =(4,4),sharex = False)"
   ]
  },
  {
   "cell_type": "code",
   "execution_count": null,
   "metadata": {},
   "outputs": [],
   "source": [
    "#density plot\n",
    "combined_data.plot(kind ='density',subplots = True, layout =(4,4),sharex = False)"
   ]
  },
  {
   "cell_type": "code",
   "execution_count": null,
   "metadata": {},
   "outputs": [],
   "source": [
    "#heat map for correlation\n",
    "corr = combined_data.corr()\n",
    "sns.heatmap(corr,annot=True)"
   ]
  },
  {
   "cell_type": "code",
   "execution_count": null,
   "metadata": {},
   "outputs": [],
   "source": [
    "#pair plot\n",
    "sns.pairplot(combined_data)"
   ]
  },
  {
   "cell_type": "code",
   "execution_count": null,
   "metadata": {},
   "outputs": [],
   "source": [
    "#violin plot\n",
    "sns.violinplot(x='quality', y='alcohol', data=combined_data)"
   ]
  },
  {
   "cell_type": "code",
   "execution_count": null,
   "metadata": {},
   "outputs": [],
   "source": [
    "sns.violinplot(x='quality', y='density', data=combined_data)"
   ]
  },
  {
   "cell_type": "code",
   "execution_count": null,
   "metadata": {},
   "outputs": [],
   "source": [
    "sns.violinplot(x='quality', y='fixed acidity', data=combined_data)"
   ]
  },
  {
   "cell_type": "code",
   "execution_count": null,
   "metadata": {},
   "outputs": [],
   "source": [
    "sns.violinplot(x='quality', y='residual sugar', data=combined_data)"
   ]
  },
  {
   "cell_type": "code",
   "execution_count": null,
   "metadata": {},
   "outputs": [],
   "source": [
    "sns.violinplot(x='quality', y='free sulfur dioxide', data=combined_data)"
   ]
  },
  {
   "cell_type": "code",
   "execution_count": null,
   "metadata": {},
   "outputs": [],
   "source": [
    "sns.violinplot(x='quality', y='total sulfur dioxide', data=combined_data)"
   ]
  },
  {
   "cell_type": "code",
   "execution_count": null,
   "metadata": {},
   "outputs": [],
   "source": [
    "# Build Model \n",
    "# Text interpreting and describing results\n",
    "# # Export Results"
   ]
  }
 ],
 "metadata": {
  "language_info": {
   "name": "python"
  }
 },
 "nbformat": 4,
 "nbformat_minor": 2
}
