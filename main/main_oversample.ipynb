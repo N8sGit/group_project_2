{
 "cells": [
  {
   "cell_type": "code",
   "execution_count": null,
   "id": "bcad27ca",
   "metadata": {},
   "outputs": [],
   "source": [
    "#Import deps \n",
    "import os\n",
    "import numpy as np\n",
    "import pandas as pd\n",
    "import matplotlib.pyplot as plt\n",
    "import seaborn as sns\n",
    "\n",
    "from sklearn.preprocessing import StandardScaler \n",
    "from sklearn.preprocessing import LabelEncoder\n",
    "from sklearn.utils.class_weight import compute_class_weight\n",
    "\n",
    "from sklearn.model_selection import train_test_split\n",
    "from sklearn.model_selection import GridSearchCV\n",
    "from sklearn.model_selection import KFold\n",
    "\n",
    "\n",
    "from sklearn.neighbors import KNeighborsClassifier\n",
    "from sklearn.tree import DecisionTreeClassifier\n",
    "from sklearn.ensemble import RandomForestClassifier\n",
    "from sklearn.ensemble import AdaBoostClassifier\n",
    "from sklearn.svm import SVC\n",
    "from sklearn.decomposition import PCA\n",
    "\n",
    "from imblearn.over_sampling import SMOTE\n",
    "from imblearn.under_sampling import ClusterCentroids\n",
    "from imblearn.over_sampling import SMOTENC\n",
    "\n",
    "from sklearn.metrics import confusion_matrix\n",
    "from sklearn.metrics import ConfusionMatrixDisplay\n",
    "from sklearn.metrics import classification_report"
   ]
  },
  {
   "cell_type": "markdown",
   "id": "3ae3a8e2",
   "metadata": {},
   "source": [
    "### Dataset"
   ]
  },
  {
   "cell_type": "code",
   "execution_count": null,
   "id": "f49480d9",
   "metadata": {},
   "outputs": [],
   "source": [
    "path = os.getcwd()\n",
    "data = 'Resources\\\\Wine_data_both.csv'\n",
    "path = path.replace('all_wine_raw',data)\n",
    "\n",
    "df = pd.read_csv(path)"
   ]
  },
  {
   "cell_type": "markdown",
   "id": "d0811bf7",
   "metadata": {},
   "source": [
    "### <font color='blue'>Exploratory analysis<font>"
   ]
  },
  {
   "cell_type": "code",
   "execution_count": null,
   "id": "2f13054d",
   "metadata": {},
   "outputs": [],
   "source": [
    "df.info()"
   ]
  },
  {
   "cell_type": "code",
   "execution_count": null,
   "id": "89d11c9a",
   "metadata": {},
   "outputs": [],
   "source": [
    "df.isna().sum()"
   ]
  },
  {
   "cell_type": "code",
   "execution_count": null,
   "id": "4cdf710e",
   "metadata": {},
   "outputs": [],
   "source": [
    "df.head()"
   ]
  },
  {
   "cell_type": "markdown",
   "id": "1c60a3ca",
   "metadata": {},
   "source": [
    "#### Casting as category type"
   ]
  },
  {
   "cell_type": "code",
   "execution_count": null,
   "id": "fe397514",
   "metadata": {},
   "outputs": [],
   "source": [
    "df['quality'] = df['quality'].astype('category')\n",
    "df['Wine'] = df['Wine'].astype('category')"
   ]
  },
  {
   "cell_type": "code",
   "execution_count": null,
   "id": "613993d9",
   "metadata": {},
   "outputs": [],
   "source": [
    "df.describe()"
   ]
  },
  {
   "cell_type": "markdown",
   "id": "9c327aa5",
   "metadata": {},
   "source": [
    "#### Feature distribution  Viz"
   ]
  },
  {
   "cell_type": "code",
   "execution_count": null,
   "id": "0918fd14",
   "metadata": {},
   "outputs": [],
   "source": [
    "df.boxplot()\n",
    "plt.xticks(rotation=90)\n",
    "plt.show()"
   ]
  },
  {
   "cell_type": "markdown",
   "id": "40fc6a31",
   "metadata": {},
   "source": [
    "**Note:**\n",
    "        The scale for 'total sulfur dioxide' and 'free sulfur dioxided' measurments are significantly bigger than the rest<br>\n",
    "        of the features\n",
    "    "
   ]
  },
  {
   "cell_type": "markdown",
   "id": "99678c11",
   "metadata": {},
   "source": [
    "#### Correlation"
   ]
  },
  {
   "cell_type": "code",
   "execution_count": null,
   "id": "bfce6bf8",
   "metadata": {},
   "outputs": [],
   "source": [
    "X_df = df.drop(columns = ['Wine','quality'])\n",
    "\n",
    "X_corr = X_df.corr().round(1)\n",
    "\n",
    "sns.heatmap(X_corr,annot=True,cmap='flare') \n",
    "plt.show()"
   ]
  },
  {
   "cell_type": "markdown",
   "id": "85c56f2e",
   "metadata": {},
   "source": [
    "**Note:**\n",
    "            free sulfur dioxide and total sulfur dioxide have a significant positive correlation<br>\n",
    "            alcohol and density have a significant negative correlation."
   ]
  },
  {
   "cell_type": "markdown",
   "id": "75bb7070",
   "metadata": {},
   "source": [
    "#### Target : Wine type"
   ]
  },
  {
   "cell_type": "code",
   "execution_count": null,
   "id": "9ebb5ce9",
   "metadata": {},
   "outputs": [],
   "source": [
    "sns.set_style(rc = {'axes.facecolor': 'darkgrey'})\n",
    "sns.countplot(\n",
    "               x = df['Wine'],\n",
    "               hue = df['Wine'],\n",
    "               palette=['white',\"red\"]).set(title='Wine type'\n",
    "              )\n",
    "plt.show()"
   ]
  },
  {
   "cell_type": "code",
   "execution_count": null,
   "id": "4e4c3761",
   "metadata": {},
   "outputs": [],
   "source": [
    "df['Wine'].value_counts()"
   ]
  },
  {
   "cell_type": "markdown",
   "id": "26818ebd",
   "metadata": {},
   "source": [
    "**Note:** \n",
    "    The target variable is heavily inbalanced 3 'White' to 1 'Red'"
   ]
  },
  {
   "cell_type": "markdown",
   "id": "ae3caf4f",
   "metadata": {},
   "source": [
    "#### Target: Quality"
   ]
  },
  {
   "cell_type": "code",
   "execution_count": null,
   "id": "d883d1a5",
   "metadata": {},
   "outputs": [],
   "source": [
    "sns.countplot(x = df['quality']).set(title='Wine quality')\n",
    "plt.show()"
   ]
  },
  {
   "cell_type": "code",
   "execution_count": null,
   "id": "2b28b210",
   "metadata": {},
   "outputs": [],
   "source": [
    "df['quality'].value_counts()"
   ]
  },
  {
   "cell_type": "markdown",
   "id": "49609feb",
   "metadata": {},
   "source": [
    "#### Quality count by wine type"
   ]
  },
  {
   "cell_type": "code",
   "execution_count": null,
   "id": "cb4763ae",
   "metadata": {},
   "outputs": [],
   "source": [
    "sns.set_style(rc = {'axes.facecolor': 'darkgrey'})\n",
    "sns.countplot( x = df['quality'],\n",
    "               hue = df['Wine'], \n",
    "               palette=['white',\"red\"]).set(title='Quality count by Wine Type ')\n",
    "plt.show()"
   ]
  },
  {
   "cell_type": "markdown",
   "id": "4fc9fc78",
   "metadata": {},
   "source": [
    "### Reclassifying target"
   ]
  },
  {
   "cell_type": "code",
   "execution_count": null,
   "id": "34144973",
   "metadata": {},
   "outputs": [],
   "source": [
    "df['quality'] = df['quality'].replace([3,4,5],'low')\n",
    "df['quality'] = df['quality'].replace([6],'medium')\n",
    "df['quality'] = df['quality'].replace([7,8,9],'high')\n",
    "\n",
    "\n",
    "df['quality'] = df['quality'].astype('category')"
   ]
  },
  {
   "cell_type": "markdown",
   "id": "eb753c3e",
   "metadata": {},
   "source": [
    "### Reclassified Viz"
   ]
  },
  {
   "cell_type": "code",
   "execution_count": null,
   "id": "e693504c",
   "metadata": {},
   "outputs": [],
   "source": [
    "sns.set_style(rc = {'axes.facecolor': 'darkgrey'})\n",
    "sns.countplot(\n",
    "               x = df['quality'],\n",
    "               hue = df['Wine'], \n",
    "               palette=['white',\"red\"]).set(title='Quality count by Wine Type ')\n",
    "plt.show()"
   ]
  },
  {
   "cell_type": "markdown",
   "id": "28a5e447",
   "metadata": {},
   "source": [
    "---"
   ]
  },
  {
   "cell_type": "markdown",
   "id": "ee1c9a12",
   "metadata": {},
   "source": [
    "### Splitting and encoding features"
   ]
  },
  {
   "cell_type": "code",
   "execution_count": null,
   "id": "7ee62d11",
   "metadata": {},
   "outputs": [],
   "source": [
    "X = df.drop(columns = ['Wine','quality',])\n",
    "y = df['quality']\n",
    "\n",
    "le = LabelEncoder()\n",
    "le.fit(y)\n",
    "\n",
    "y = le.transform(y)"
   ]
  },
  {
   "cell_type": "markdown",
   "id": "d5676369",
   "metadata": {},
   "source": [
    "---"
   ]
  },
  {
   "cell_type": "markdown",
   "id": "f72562f3",
   "metadata": {},
   "source": [
    "### Over Sampling"
   ]
  },
  {
   "cell_type": "code",
   "execution_count": null,
   "id": "7227539b",
   "metadata": {},
   "outputs": [],
   "source": [
    "smote = SMOTE(random_state=42)\n",
    "X_resampled, y_resampled = smote.fit_resample(X, y)"
   ]
  },
  {
   "cell_type": "markdown",
   "id": "51e8e487",
   "metadata": {},
   "source": [
    "#### Viz"
   ]
  },
  {
   "cell_type": "code",
   "execution_count": null,
   "id": "0f16bcf6",
   "metadata": {},
   "outputs": [],
   "source": [
    "sns.countplot(x=y_resampled).set_xticklabels(le.classes_)\n",
    "plt.show()"
   ]
  },
  {
   "cell_type": "markdown",
   "id": "1378ef78",
   "metadata": {},
   "source": [
    "---"
   ]
  },
  {
   "cell_type": "markdown",
   "id": "0f4c2d60",
   "metadata": {},
   "source": [
    "### Building Models"
   ]
  },
  {
   "cell_type": "markdown",
   "id": "debe3450",
   "metadata": {},
   "source": [
    "#### Splitting data"
   ]
  },
  {
   "cell_type": "code",
   "execution_count": null,
   "id": "3d2b99c9",
   "metadata": {},
   "outputs": [],
   "source": [
    "X_train,X_test,y_train,y_test = train_test_split(X_resampled, y_resampled,random_state=42)"
   ]
  },
  {
   "cell_type": "markdown",
   "id": "e43cd5d9",
   "metadata": {},
   "source": [
    "---"
   ]
  },
  {
   "cell_type": "markdown",
   "id": "ab8f14f4",
   "metadata": {},
   "source": [
    "#### KNeighborsClassifier"
   ]
  },
  {
   "cell_type": "code",
   "execution_count": null,
   "id": "15713d8f",
   "metadata": {},
   "outputs": [],
   "source": [
    "train_scores = []\n",
    "test_scores = []\n",
    "for n in range(1,10):\n",
    "    knc = KNeighborsClassifier(n_neighbors = n)\n",
    "    knc.fit(X_train,y_train)\n",
    "    train_scores.append(knc.score(X_train,y_train))\n",
    "    test_scores.append(knc.score(X_test,y_test))"
   ]
  },
  {
   "cell_type": "code",
   "execution_count": null,
   "id": "68e615c3",
   "metadata": {},
   "outputs": [],
   "source": [
    "plt.plot([*range(1,10)],train_scores)\n",
    "plt.plot([*range(1,10)],test_scores)\n",
    "plt.show()"
   ]
  },
  {
   "cell_type": "markdown",
   "id": "bc515fb9",
   "metadata": {},
   "source": [
    "#### Model fit"
   ]
  },
  {
   "cell_type": "code",
   "execution_count": null,
   "id": "e97309a8",
   "metadata": {},
   "outputs": [],
   "source": [
    "knc = KNeighborsClassifier(n_neighbors = 1 )\n",
    "knc.fit(X_train,y_train)"
   ]
  },
  {
   "cell_type": "markdown",
   "id": "3316abb2",
   "metadata": {},
   "source": [
    "#### Confusion Matrix"
   ]
  },
  {
   "cell_type": "code",
   "execution_count": null,
   "id": "4f65c865",
   "metadata": {},
   "outputs": [],
   "source": [
    "y_pred = knc.predict(X_test)\n",
    "\n",
    "cm = confusion_matrix(y_test, y_pred)\n",
    "\n",
    "display = ConfusionMatrixDisplay(confusion_matrix=cm,\n",
    "                              display_labels=le.classes_)\n",
    "display.plot()\n",
    "plt.show()"
   ]
  },
  {
   "cell_type": "code",
   "execution_count": null,
   "id": "47961214",
   "metadata": {},
   "outputs": [],
   "source": [
    "print(classification_report(y_test,y_pred))"
   ]
  },
  {
   "cell_type": "markdown",
   "id": "a3595e7d",
   "metadata": {},
   "source": [
    "---"
   ]
  },
  {
   "cell_type": "markdown",
   "id": "bd130989",
   "metadata": {},
   "source": [
    "#### SVC"
   ]
  },
  {
   "cell_type": "code",
   "execution_count": null,
   "id": "3c09dbec",
   "metadata": {},
   "outputs": [],
   "source": [
    "param_grid_svc = {\n",
    "              'C': [5,10,15], \n",
    "              'gamma': [1,2,3,4],\n",
    "              'kernel': ['rbf']\n",
    "              }\n",
    "grid_svc= GridSearchCV(\n",
    "                       SVC(),\n",
    "                       param_grid_svc,\n",
    "                       refit=True,verbose=3\n",
    "                       )\n",
    "\n",
    "grid_svc.fit(X_train,y_train)"
   ]
  },
  {
   "cell_type": "code",
   "execution_count": null,
   "id": "2caf6a85",
   "metadata": {},
   "outputs": [],
   "source": [
    "print(grid_svc.best_params_)\n",
    "print(grid_svc.best_score_)"
   ]
  },
  {
   "cell_type": "markdown",
   "id": "bb32002b",
   "metadata": {},
   "source": [
    "#### Model fit"
   ]
  },
  {
   "cell_type": "code",
   "execution_count": null,
   "id": "527bf507",
   "metadata": {},
   "outputs": [],
   "source": [
    "C = grid_svc.best_params_['C'] \n",
    "gamma = grid_svc.best_params_['gamma']\n",
    "kernel = grid_svc.best_params_['kernel']\n",
    "                              \n",
    "svc = SVC(C = C,\n",
    "         gamma = gamma,\n",
    "         kernel = kernel)\n",
    "\n",
    "svc.fit(X_train,y_train)"
   ]
  },
  {
   "cell_type": "markdown",
   "id": "b93e39a0",
   "metadata": {},
   "source": [
    "#### Confusion Matrix"
   ]
  },
  {
   "cell_type": "code",
   "execution_count": null,
   "id": "bc8bfdac",
   "metadata": {},
   "outputs": [],
   "source": [
    "y_pred = svc.predict(X_test)\n",
    "\n",
    "cm = confusion_matrix(y_test, y_pred)\n",
    "\n",
    "display = ConfusionMatrixDisplay(confusion_matrix=cm,\n",
    "                              display_labels=le.classes_)\n",
    "display.plot()\n",
    "plt.show()"
   ]
  },
  {
   "cell_type": "markdown",
   "id": "5db97d58",
   "metadata": {},
   "source": [
    "#### Classfication Report"
   ]
  },
  {
   "cell_type": "code",
   "execution_count": null,
   "id": "2a8b64e4",
   "metadata": {},
   "outputs": [],
   "source": [
    "print(classification_report(y_test,y_pred))"
   ]
  },
  {
   "cell_type": "markdown",
   "id": "19211826",
   "metadata": {},
   "source": [
    "---"
   ]
  },
  {
   "cell_type": "markdown",
   "id": "a5074cb0",
   "metadata": {},
   "source": [
    "#### DecisionTreeClassifier"
   ]
  },
  {
   "cell_type": "code",
   "execution_count": null,
   "id": "1ff5f9e7",
   "metadata": {},
   "outputs": [],
   "source": [
    "param_grid_dtc = { \n",
    "                  'criterion': ['gini', 'entropy', 'log_loss'], \n",
    "                  'splitter': ['best','random'],\n",
    "                  'max_features': ['sqrt', 'log2'],\n",
    "                  'max_depth': [10,20, 30], \n",
    "                  'max_leaf_nodes': [900,1000,1100],\n",
    "                  'min_samples_split': [4,6,8], \n",
    "                    } \n",
    "\n",
    "grid_dtc = GridSearchCV(\n",
    "                        DecisionTreeClassifier(),\n",
    "                        param_grid_dtc,\n",
    "                        refit=True,verbose=3\n",
    "                       )\n",
    "\n",
    "grid_dtc.fit(X_train,y_train)"
   ]
  },
  {
   "cell_type": "code",
   "execution_count": null,
   "id": "782ba2b2",
   "metadata": {},
   "outputs": [],
   "source": [
    "print(grid_dtc.best_params_)\n",
    "print(grid_dtc.best_score_)"
   ]
  },
  {
   "cell_type": "markdown",
   "id": "13cb25ae",
   "metadata": {},
   "source": [
    "#### Model Fit"
   ]
  },
  {
   "cell_type": "code",
   "execution_count": null,
   "id": "e994b684",
   "metadata": {},
   "outputs": [],
   "source": [
    "dtc = DecisionTreeClassifier( \n",
    "                             criterion =grid_dtc.best_params_['criterion'],\n",
    "                             splitter = grid_dtc.best_params_['splitter'],\n",
    "                             max_features =  grid_dtc.best_params_['max_features'],\n",
    "                             max_depth =  grid_dtc.best_params_['max_depth'], \n",
    "                             max_leaf_nodes = grid_dtc.best_params_['max_leaf_nodes'],\n",
    "                             min_samples_split = grid_dtc.best_params_['min_samples_split']\n",
    "    \n",
    "                            )\n",
    "\n",
    "dtc.fit(X_train,y_train)"
   ]
  },
  {
   "cell_type": "markdown",
   "id": "5abd1857",
   "metadata": {},
   "source": [
    "#### Confusion Matrix"
   ]
  },
  {
   "cell_type": "code",
   "execution_count": null,
   "id": "661c2cbf",
   "metadata": {},
   "outputs": [],
   "source": [
    "y_pred = dtc.predict(X_test)\n",
    "\n",
    "cm = confusion_matrix(y_test, y_pred)\n",
    "\n",
    "display = ConfusionMatrixDisplay(confusion_matrix=cm,\n",
    "                              display_labels=le.classes_)\n",
    "display.plot()\n",
    "plt.show()"
   ]
  },
  {
   "cell_type": "markdown",
   "id": "4ff098ec",
   "metadata": {},
   "source": [
    "#### Classfication Report"
   ]
  },
  {
   "cell_type": "code",
   "execution_count": null,
   "id": "4d18b26b",
   "metadata": {},
   "outputs": [],
   "source": [
    "print(classification_report(y_test,y_pred))"
   ]
  },
  {
   "cell_type": "markdown",
   "id": "81ecd54e",
   "metadata": {},
   "source": [
    "---"
   ]
  },
  {
   "cell_type": "markdown",
   "id": "fef9df8a",
   "metadata": {},
   "source": [
    "#### RandomForestClassifier"
   ]
  },
  {
   "cell_type": "code",
   "execution_count": null,
   "id": "7b2557b0",
   "metadata": {},
   "outputs": [],
   "source": [
    "param_grid_rfc = { \n",
    "                 'n_estimators': [200, 215,220], \n",
    "                 'max_features': ['sqrt', 'log2', None], \n",
    "                 'max_depth': [10,20, 30], \n",
    "                 'max_leaf_nodes': [900,1000,1100],\n",
    "                 'min_samples_split': [4,6,8], \n",
    "                 } \n",
    "\n",
    "grid_rfc = GridSearchCV(\n",
    "                        RandomForestClassifier(),\n",
    "                        param_grid_rfc,\n",
    "                        refit=True,verbose=3\n",
    "                       )\n",
    "\n",
    "grid_rfc.fit(X_train,y_train)"
   ]
  },
  {
   "cell_type": "code",
   "execution_count": null,
   "id": "31c56619",
   "metadata": {},
   "outputs": [],
   "source": [
    "print(grid_rfc.best_params_)\n",
    "print(grid_rfc.best_score_)"
   ]
  },
  {
   "cell_type": "markdown",
   "id": "c00de2ec",
   "metadata": {},
   "source": [
    "#### Model fit"
   ]
  },
  {
   "cell_type": "code",
   "execution_count": null,
   "id": "09beabdd",
   "metadata": {},
   "outputs": [],
   "source": [
    "rfc = RandomForestClassifier( \n",
    "                             n_estimators = grid_rfc.best_params_['n_estimators'], \n",
    "                             max_features =  grid_rfc.best_params_['max_features'],\n",
    "                             max_depth =  grid_rfc.best_params_['max_depth'], \n",
    "                             max_leaf_nodes = grid_rfc.best_params_['max_leaf_nodes'],\n",
    "                        \n",
    "                            )\n",
    "\n",
    "rfc.fit(X_train,y_train)"
   ]
  },
  {
   "cell_type": "markdown",
   "id": "79e806fb",
   "metadata": {},
   "source": [
    "#### Confusion Matrix"
   ]
  },
  {
   "cell_type": "code",
   "execution_count": null,
   "id": "233dc771",
   "metadata": {},
   "outputs": [],
   "source": [
    "y_pred = rfc.predict(X_test)\n",
    "\n",
    "cm = confusion_matrix(y_test, y_pred)\n",
    "\n",
    "display = ConfusionMatrixDisplay(confusion_matrix=cm,\n",
    "                              display_labels=le.classes_)\n",
    "display.plot()\n",
    "plt.show()"
   ]
  },
  {
   "cell_type": "markdown",
   "id": "01f53c2e",
   "metadata": {},
   "source": [
    "#### Classfication Report"
   ]
  },
  {
   "cell_type": "code",
   "execution_count": null,
   "id": "4e78c68d",
   "metadata": {},
   "outputs": [],
   "source": [
    "print(classification_report(y_test,y_pred))"
   ]
  },
  {
   "cell_type": "markdown",
   "id": "e0204171",
   "metadata": {},
   "source": [
    "---"
   ]
  },
  {
   "cell_type": "markdown",
   "id": "8a0e08d2",
   "metadata": {},
   "source": [
    "#### AdaBoostClassifier (estimator = DecisionTreeClassifier)"
   ]
  },
  {
   "cell_type": "code",
   "execution_count": null,
   "id": "39a28661",
   "metadata": {},
   "outputs": [],
   "source": [
    "param_grid_abc_dt = { \n",
    "                     'n_estimators': [210,212,215,],\n",
    "                     'learning_rate':[0.5,0.75,1]\n",
    "                    }\n",
    "\n",
    "dtc = DecisionTreeClassifier( \n",
    "                             criterion =grid_dtc.best_params_['criterion'],\n",
    "                             splitter = grid_dtc.best_params_['splitter'],\n",
    "                             max_features =  grid_dtc.best_params_['max_features'],\n",
    "                             max_depth =  grid_dtc.best_params_['max_depth'], \n",
    "                             max_leaf_nodes = grid_dtc.best_params_['max_leaf_nodes'],\n",
    "                             min_samples_split = grid_dtc.best_params_['min_samples_split']\n",
    "    \n",
    "                            )\n",
    "\n",
    "\n",
    "abc_dt = AdaBoostClassifier(estimator = dtc)\n",
    "\n",
    "grid_abc_dt= GridSearchCV(\n",
    "                          abc_dt,\n",
    "                          param_grid_abc_dt,\n",
    "                          refit=True,verbose=3\n",
    "                          )\n",
    "\n",
    "grid_abc_dt.fit(X_train,y_train)"
   ]
  },
  {
   "cell_type": "code",
   "execution_count": null,
   "id": "a6562e7b",
   "metadata": {},
   "outputs": [],
   "source": [
    "print(grid_abc_dt.best_params_)\n",
    "print(grid_abc_dt.best_score_)"
   ]
  },
  {
   "cell_type": "markdown",
   "id": "3362ce56",
   "metadata": {},
   "source": [
    "#### Model fit"
   ]
  },
  {
   "cell_type": "code",
   "execution_count": null,
   "id": "5726d68e",
   "metadata": {},
   "outputs": [],
   "source": [
    "dtc = DecisionTreeClassifier( \n",
    "                             criterion =grid_dtc.best_params_['criterion'],\n",
    "                             splitter = grid_dtc.best_params_['splitter'],\n",
    "                             max_features =  grid_dtc.best_params_['max_features'],\n",
    "                             max_depth =  grid_dtc.best_params_['max_depth'], \n",
    "                             max_leaf_nodes = grid_dtc.best_params_['max_leaf_nodes'],\n",
    "                             min_samples_split = grid_dtc.best_params_['min_samples_split']\n",
    "    \n",
    "                            )\n",
    "\n",
    "abc_dt = AdaBoostClassifier(\n",
    "                        estimator = dtc,\n",
    "                        n_estimators = grid_abc_dt.best_params_['n_estimators'],\n",
    "                        learning_rate= grid_abc_dt.best_params_['learning_rate']\n",
    "                        )\n",
    "\n",
    "abc_dt.fit(X_train,y_train)"
   ]
  },
  {
   "cell_type": "markdown",
   "id": "1130be7e",
   "metadata": {},
   "source": [
    "#### Confusion Matrix"
   ]
  },
  {
   "cell_type": "code",
   "execution_count": null,
   "id": "93e8bf6e",
   "metadata": {},
   "outputs": [],
   "source": [
    "y_pred = abc_dt.predict(X_test)\n",
    "\n",
    "cm = confusion_matrix(y_test, y_pred)\n",
    "\n",
    "display = ConfusionMatrixDisplay(confusion_matrix=cm,\n",
    "                              display_labels=le.classes_)\n",
    "display.plot()\n",
    "plt.show()"
   ]
  },
  {
   "cell_type": "markdown",
   "id": "c79c6271",
   "metadata": {},
   "source": [
    "#### Classification Report"
   ]
  },
  {
   "cell_type": "code",
   "execution_count": null,
   "id": "aa221780",
   "metadata": {},
   "outputs": [],
   "source": [
    "print(classification_report(y_test,y_pred))"
   ]
  },
  {
   "cell_type": "markdown",
   "id": "fa62a84a",
   "metadata": {},
   "source": [
    "---"
   ]
  },
  {
   "cell_type": "markdown",
   "id": "96381783",
   "metadata": {},
   "source": [
    "#### AdaBoostClassifier (estimator = RandomForestClassifier)"
   ]
  },
  {
   "cell_type": "code",
   "execution_count": null,
   "id": "3f06fd21",
   "metadata": {},
   "outputs": [],
   "source": [
    "param_grid_abc_rfc = { \n",
    "                      'n_estimators': [210,212,215,],\n",
    "                      'learning_rate':[0.5,0.75,1]\n",
    "                     }\n",
    "\n",
    "rfc = RandomForestClassifier( \n",
    "                             n_estimators = grid_rfc.best_params_['n_estimators'], \n",
    "                             max_features =  grid_rfc.best_params_['max_features'],\n",
    "                             max_depth =  grid_rfc.best_params_['max_depth'], \n",
    "                             max_leaf_nodes = grid_rfc.best_params_['max_leaf_nodes'],\n",
    "                             \n",
    "                            )\n",
    "\n",
    "abc_rfc = AdaBoostClassifier(estimator = rfc)\n",
    "\n",
    "grid_abc_rfc = GridSearchCV(\n",
    "                           abc_rfc,\n",
    "                           param_grid_abc_rfc,\n",
    "                           refit=True,verbose=3\n",
    "                           )\n",
    "\n",
    "grid_abc_rfc.fit(X_train,y_train)"
   ]
  },
  {
   "cell_type": "code",
   "execution_count": null,
   "id": "f72c62bb",
   "metadata": {},
   "outputs": [],
   "source": [
    "print(grid_abc_rfc.best_params_)\n",
    "print(grid_abc_rfc.best_score_)"
   ]
  },
  {
   "cell_type": "markdown",
   "id": "47fa8906",
   "metadata": {},
   "source": [
    "#### Model Fit"
   ]
  },
  {
   "cell_type": "code",
   "execution_count": null,
   "id": "74b216b1",
   "metadata": {},
   "outputs": [],
   "source": [
    "rfc = RandomForestClassifier( \n",
    "                             n_estimators = grid_rfc.best_params_['n_estimators'], \n",
    "                             max_features =  grid_rfc.best_params_['max_features'],\n",
    "                             max_depth =  grid_rfc.best_params_['max_depth'], \n",
    "                             max_leaf_nodes = grid_rfc.best_params_['max_leaf_nodes'],\n",
    "                             \n",
    "    \n",
    "                            )\n",
    "\n",
    "abc_rfc = AdaBoostClassifier(\n",
    "                             estimator = rfc,\n",
    "                             n_estimators = grid_abc_rfc.best_params_['n_estimators'],\n",
    "                             learning_rate= grid_abc_rfc.best_params_['learning_rate']\n",
    "                            )\n",
    "\n",
    "abc_rfc.fit(X_train,y_train)"
   ]
  },
  {
   "cell_type": "markdown",
   "id": "b164cc63",
   "metadata": {},
   "source": [
    "#### Confusion Matrix"
   ]
  },
  {
   "cell_type": "code",
   "execution_count": null,
   "id": "605422fd",
   "metadata": {},
   "outputs": [],
   "source": [
    "y_pred = abc_rfc.predict(X_test)\n",
    "\n",
    "cm = confusion_matrix(y_test, y_pred)\n",
    "\n",
    "display = ConfusionMatrixDisplay(confusion_matrix=cm,\n",
    "                              display_labels=le.classes_)\n",
    "display.plot()\n",
    "plt.show()"
   ]
  },
  {
   "cell_type": "markdown",
   "id": "c973da56",
   "metadata": {},
   "source": [
    "#### Classification Report"
   ]
  },
  {
   "cell_type": "code",
   "execution_count": null,
   "id": "708e5b46",
   "metadata": {},
   "outputs": [],
   "source": [
    "print(classification_report(y_test,y_pred))"
   ]
  },
  {
   "cell_type": "markdown",
   "id": "c8d2d6c1",
   "metadata": {},
   "source": [
    "---"
   ]
  },
  {
   "cell_type": "markdown",
   "id": "3c42f680",
   "metadata": {},
   "source": [
    "---"
   ]
  },
  {
   "cell_type": "markdown",
   "id": "5a0d9c50",
   "metadata": {},
   "source": [
    "### Scaled"
   ]
  },
  {
   "cell_type": "markdown",
   "id": "0d47f45d",
   "metadata": {},
   "source": [
    "#### Scaling Data"
   ]
  },
  {
   "cell_type": "code",
   "execution_count": null,
   "id": "212d136f",
   "metadata": {},
   "outputs": [],
   "source": [
    "scaler = StandardScaler()\n",
    "X_scaled = scaler.fit_transform(X_resampled)"
   ]
  },
  {
   "cell_type": "markdown",
   "id": "b172eef5",
   "metadata": {},
   "source": [
    "#### Feature distribution  Viz"
   ]
  },
  {
   "cell_type": "code",
   "execution_count": null,
   "id": "03d7dc6a",
   "metadata": {},
   "outputs": [],
   "source": [
    "cols = df.drop(columns=['Wine','quality']).columns\n",
    "\n",
    "X_df = pd.DataFrame(X_scaled,columns = cols)\n",
    "X_df.boxplot()\n",
    "plt.xticks(rotation=90)\n",
    "plt.show()"
   ]
  },
  {
   "cell_type": "markdown",
   "id": "92644677",
   "metadata": {},
   "source": [
    "### Scaling Data"
   ]
  },
  {
   "cell_type": "code",
   "execution_count": null,
   "id": "b047adbb",
   "metadata": {},
   "outputs": [],
   "source": [
    "X_train_scaled = scaler.fit_transform(X_train)\n",
    "X_test_scaled = scaler.transform(X_test)"
   ]
  },
  {
   "cell_type": "markdown",
   "id": "5cdbd17b",
   "metadata": {},
   "source": [
    "---"
   ]
  },
  {
   "cell_type": "markdown",
   "id": "7a71f62f",
   "metadata": {},
   "source": [
    "#### KNeighborsClassifier"
   ]
  },
  {
   "cell_type": "code",
   "execution_count": null,
   "id": "33b5e6e2",
   "metadata": {},
   "outputs": [],
   "source": [
    "train_scores_scaled = []\n",
    "test_scores_scaled = []\n",
    "for n in range(1,10):\n",
    "    knc_scaled = KNeighborsClassifier(n_neighbors = n)\n",
    "    knc_scaled.fit(\n",
    "            X_train_scaled,\n",
    "            y_train\n",
    "           )\n",
    "    train_scores_scaled.append(knc_scaled.score(X_train_scaled,y_train))\n",
    "    test_scores_scaled.append(knc_scaled.score(X_test_scaled,y_test))"
   ]
  },
  {
   "cell_type": "code",
   "execution_count": null,
   "id": "8e978572",
   "metadata": {},
   "outputs": [],
   "source": [
    "plt.plot([*range(1,10)],train_scores_scaled)\n",
    "plt.plot([*range(1,10)],test_scores_scaled)\n",
    "plt.show()"
   ]
  },
  {
   "cell_type": "markdown",
   "id": "7ca8d1a4",
   "metadata": {},
   "source": [
    "#### Model fit"
   ]
  },
  {
   "cell_type": "code",
   "execution_count": null,
   "id": "81c2b528",
   "metadata": {},
   "outputs": [],
   "source": [
    "knc_scaled = KNeighborsClassifier(n_neighbors = 1 )\n",
    "knc_scaled.fit(X_train_scaled,y_train)"
   ]
  },
  {
   "cell_type": "markdown",
   "id": "7b78037f",
   "metadata": {},
   "source": [
    "#### Confusion Matrix"
   ]
  },
  {
   "cell_type": "code",
   "execution_count": null,
   "id": "8cd7ce26",
   "metadata": {},
   "outputs": [],
   "source": [
    "y_pred = knc_scaled.predict(X_test_scaled)\n",
    "\n",
    "cm = confusion_matrix(y_test, y_pred)\n",
    "\n",
    "display = ConfusionMatrixDisplay(confusion_matrix=cm,\n",
    "                              display_labels=le.classes_)\n",
    "display.plot()\n",
    "plt.show()"
   ]
  },
  {
   "cell_type": "markdown",
   "id": "281007a4",
   "metadata": {},
   "source": [
    "#### Classification Report"
   ]
  },
  {
   "cell_type": "code",
   "execution_count": null,
   "id": "18183673",
   "metadata": {},
   "outputs": [],
   "source": [
    "print(classification_report(y_test,y_pred))"
   ]
  },
  {
   "cell_type": "markdown",
   "id": "4ec4c337",
   "metadata": {},
   "source": [
    "---"
   ]
  },
  {
   "cell_type": "markdown",
   "id": "91a74f78",
   "metadata": {},
   "source": [
    "#### SVC"
   ]
  },
  {
   "cell_type": "code",
   "execution_count": null,
   "id": "3f0350ff",
   "metadata": {},
   "outputs": [],
   "source": [
    "param_grid_svc_scaled = {\n",
    "              'C': [5,10,15], \n",
    "              'gamma': [1,2,3,4],\n",
    "              'kernel': ['rbf']\n",
    "              }\n",
    "grid_svc_scaled= GridSearchCV(\n",
    "                              SVC(),\n",
    "                              param_grid_svc_scaled,\n",
    "                              refit=True,verbose=3\n",
    "                             )\n",
    "\n",
    "grid_svc_scaled.fit(X_train_scaled,y_train)"
   ]
  },
  {
   "cell_type": "code",
   "execution_count": null,
   "id": "a80adf3f",
   "metadata": {},
   "outputs": [],
   "source": [
    "print(grid_svc_scaled.best_params_)\n",
    "print(grid_svc_scaled.best_score_)"
   ]
  },
  {
   "cell_type": "markdown",
   "id": "4752b33b",
   "metadata": {},
   "source": [
    "#### Model Fit"
   ]
  },
  {
   "cell_type": "code",
   "execution_count": null,
   "id": "60fa1d45",
   "metadata": {},
   "outputs": [],
   "source": [
    "C = grid_svc_scaled.best_params_['C'] \n",
    "gamma = grid_svc_scaled.best_params_['gamma']\n",
    "kernel = grid_svc_scaled.best_params_['kernel']\n",
    "                              \n",
    "svc_scaled = SVC(C = C,\n",
    "         gamma = gamma,\n",
    "         kernel = kernel)\n",
    "\n",
    "svc_scaled.fit(X_train_scaled,y_train)"
   ]
  },
  {
   "cell_type": "markdown",
   "id": "64a12452",
   "metadata": {},
   "source": [
    "#### Confusion Matrix"
   ]
  },
  {
   "cell_type": "code",
   "execution_count": null,
   "id": "8559a730",
   "metadata": {},
   "outputs": [],
   "source": [
    "y_pred = svc_scaled.predict(X_test_scaled)\n",
    "\n",
    "cm = confusion_matrix(y_test, y_pred)\n",
    "\n",
    "display = ConfusionMatrixDisplay(confusion_matrix=cm,\n",
    "                              display_labels=le.classes_)\n",
    "display.plot()\n",
    "plt.show()"
   ]
  },
  {
   "cell_type": "markdown",
   "id": "19233427",
   "metadata": {},
   "source": [
    "#### Classification Report"
   ]
  },
  {
   "cell_type": "code",
   "execution_count": null,
   "id": "61fe5e24",
   "metadata": {},
   "outputs": [],
   "source": [
    "print(classification_report(y_test,y_pred))"
   ]
  },
  {
   "cell_type": "markdown",
   "id": "acac56a6",
   "metadata": {},
   "source": [
    "---"
   ]
  },
  {
   "cell_type": "markdown",
   "id": "dc2c63a5",
   "metadata": {},
   "source": [
    "#### DecisionTreeClassifier"
   ]
  },
  {
   "cell_type": "code",
   "execution_count": null,
   "id": "0ec6c144",
   "metadata": {},
   "outputs": [],
   "source": [
    "param_grid_dtc_scaled = { \n",
    "                  'criterion': ['gini', 'entropy', 'log_loss'], \n",
    "                  'splitter': ['best','random'],\n",
    "                  'max_features': ['sqrt', 'log2'],\n",
    "                  'max_depth': [10,20, 30], \n",
    "                  'max_leaf_nodes': [900,1000,1100],\n",
    "                  'min_samples_split': [4,6,8], \n",
    "                    } \n",
    "\n",
    "grid_dtc_scaled = GridSearchCV(\n",
    "                        DecisionTreeClassifier(),\n",
    "                        param_grid_dtc_scaled,\n",
    "                        refit=True,verbose=3\n",
    "                       )\n",
    "\n",
    "grid_dtc_scaled.fit(X_train_scaled,y_train)"
   ]
  },
  {
   "cell_type": "code",
   "execution_count": null,
   "id": "123f5d47",
   "metadata": {},
   "outputs": [],
   "source": [
    "print(grid_dtc_scaled.best_params_)\n",
    "print(grid_dtc_scaled.best_score_)"
   ]
  },
  {
   "cell_type": "markdown",
   "id": "0c05d330",
   "metadata": {},
   "source": [
    "#### Model Fit"
   ]
  },
  {
   "cell_type": "code",
   "execution_count": null,
   "id": "f5c1c127",
   "metadata": {},
   "outputs": [],
   "source": [
    "dtc_scaled = DecisionTreeClassifier( \n",
    "                             criterion =grid_dtc_scaled.best_params_['criterion'],\n",
    "                             splitter = grid_dtc_scaled.best_params_['splitter'],\n",
    "                             max_features =  grid_dtc_scaled.best_params_['max_features'],\n",
    "                             max_depth =  grid_dtc_scaled.best_params_['max_depth'], \n",
    "                             max_leaf_nodes = grid_dtc_scaled.best_params_['max_leaf_nodes'],\n",
    "                             min_samples_split = grid_dtc_scaled.best_params_['min_samples_split']\n",
    "    \n",
    "                            )\n",
    "\n",
    "dtc_scaled.fit(X_train_scaled,y_train)"
   ]
  },
  {
   "cell_type": "markdown",
   "id": "baf3e3ed",
   "metadata": {},
   "source": [
    "#### Confusion Matrix"
   ]
  },
  {
   "cell_type": "code",
   "execution_count": null,
   "id": "9e5d1bd5",
   "metadata": {},
   "outputs": [],
   "source": [
    "y_pred = dtc_scaled.predict(X_test_scaled)\n",
    "\n",
    "cm = confusion_matrix(y_test, y_pred)\n",
    "\n",
    "display = ConfusionMatrixDisplay(confusion_matrix=cm,\n",
    "                              display_labels=le.classes_)\n",
    "display.plot()\n",
    "plt.show()"
   ]
  },
  {
   "cell_type": "markdown",
   "id": "d44c9221",
   "metadata": {},
   "source": [
    "#### Classfication Report"
   ]
  },
  {
   "cell_type": "code",
   "execution_count": null,
   "id": "5f65ac3f",
   "metadata": {},
   "outputs": [],
   "source": [
    "print(classification_report(y_test,y_pred))"
   ]
  },
  {
   "cell_type": "markdown",
   "id": "f795728a",
   "metadata": {},
   "source": [
    "---"
   ]
  },
  {
   "cell_type": "markdown",
   "id": "86187222",
   "metadata": {},
   "source": [
    "#### RandomForestClassifier"
   ]
  },
  {
   "cell_type": "code",
   "execution_count": null,
   "id": "180f9d42",
   "metadata": {},
   "outputs": [],
   "source": [
    "param_grid_rfc_scaled = { \n",
    "                 'n_estimators': [200, 215,220], \n",
    "                 'max_features': ['sqrt', 'log2', None], \n",
    "                 'max_depth': [10,20, 30], \n",
    "                 'max_leaf_nodes': [900,1000,1100],\n",
    "                 'min_samples_split': [4,6,8], \n",
    "                 } \n",
    "\n",
    "grid_rfc_scaled = GridSearchCV(\n",
    "                        RandomForestClassifier(),\n",
    "                        param_grid_rfc_scaled,\n",
    "                        refit=True,verbose=3\n",
    "                       )\n",
    "\n",
    "grid_rfc_scaled.fit(X_train_scaled,y_train)"
   ]
  },
  {
   "cell_type": "code",
   "execution_count": null,
   "id": "565468c8",
   "metadata": {},
   "outputs": [],
   "source": [
    "print(grid_rfc_scaled.best_params_)\n",
    "print(grid_rfc_scaled.best_score_)"
   ]
  },
  {
   "cell_type": "markdown",
   "id": "d21df6ba",
   "metadata": {},
   "source": [
    "#### Model Fit"
   ]
  },
  {
   "cell_type": "code",
   "execution_count": null,
   "id": "4c435842",
   "metadata": {},
   "outputs": [],
   "source": [
    "rfc_scaled = RandomForestClassifier( \n",
    "                             n_estimators = grid_rfc_scaled.best_params_['n_estimators'], \n",
    "                             max_features =  grid_rfc_scaled.best_params_['max_features'],\n",
    "                             max_depth =  grid_rfc_scaled.best_params_['max_depth'], \n",
    "                             max_leaf_nodes = grid_rfc_scaled.best_params_['max_leaf_nodes'],\n",
    "    \n",
    "                            )\n",
    "\n",
    "rfc_scaled.fit(X_train_scaled,y_train)"
   ]
  },
  {
   "cell_type": "markdown",
   "id": "9985facd",
   "metadata": {},
   "source": [
    "#### Confusion Matrix"
   ]
  },
  {
   "cell_type": "code",
   "execution_count": null,
   "id": "096550ef",
   "metadata": {},
   "outputs": [],
   "source": [
    "y_pred = rfc_scaled.predict(X_test_scaled)\n",
    "\n",
    "cm = confusion_matrix(y_test, y_pred)\n",
    "\n",
    "display = ConfusionMatrixDisplay(confusion_matrix=cm,\n",
    "                              display_labels=le.classes_)\n",
    "display.plot()\n",
    "plt.show()"
   ]
  },
  {
   "cell_type": "markdown",
   "id": "a6baba31",
   "metadata": {},
   "source": [
    "#### Classfication Report"
   ]
  },
  {
   "cell_type": "code",
   "execution_count": null,
   "id": "bccb012a",
   "metadata": {},
   "outputs": [],
   "source": [
    "print(classification_report(y_test,y_pred))"
   ]
  },
  {
   "cell_type": "markdown",
   "id": "ab771c22",
   "metadata": {},
   "source": [
    "---"
   ]
  },
  {
   "cell_type": "markdown",
   "id": "5d41ca19",
   "metadata": {},
   "source": [
    "#### AdaBoostClassifier (estimator = DecisionTreeClassifier)"
   ]
  },
  {
   "cell_type": "code",
   "execution_count": null,
   "id": "ae4f181f",
   "metadata": {},
   "outputs": [],
   "source": [
    "param_grid_abc_dt_scaled = { \n",
    "                     'n_estimators': [210,212,215,],\n",
    "                     'learning_rate':[0.5,0.75,1]\n",
    "                    }\n",
    "\n",
    "dtc_scaled = DecisionTreeClassifier( \n",
    "                             criterion =grid_dtc_scaled.best_params_['criterion'],\n",
    "                             splitter = grid_dtc_scaled.best_params_['splitter'],\n",
    "                             max_features =  grid_dtc_scaled.best_params_['max_features'],\n",
    "                             max_depth =  grid_dtc_scaled.best_params_['max_depth'], \n",
    "                             max_leaf_nodes = grid_dtc_scaled.best_params_['max_leaf_nodes'],\n",
    "                             min_samples_split = grid_dtc_scaled.best_params_['min_samples_split']\n",
    "    \n",
    "                            )\n",
    "\n",
    "\n",
    "abc_dt_scaled = AdaBoostClassifier(estimator = dtc_scaled)\n",
    "\n",
    "grid_abc_dt_scaled= GridSearchCV(\n",
    "                          abc_dt_scaled,\n",
    "                          param_grid_abc_dt,\n",
    "                          refit=True,verbose=3\n",
    "                          )\n",
    "\n",
    "grid_abc_dt_scaled.fit(X_train_scaled,y_train)"
   ]
  },
  {
   "cell_type": "code",
   "execution_count": null,
   "id": "aa5036ed",
   "metadata": {},
   "outputs": [],
   "source": [
    "print(grid_abc_dt_scaled.best_params_)\n",
    "print(grid_abc_dt_scaled.best_score_)"
   ]
  },
  {
   "cell_type": "markdown",
   "id": "bcd74437",
   "metadata": {},
   "source": [
    "#### Model Fit"
   ]
  },
  {
   "cell_type": "code",
   "execution_count": null,
   "id": "f3de9a60",
   "metadata": {},
   "outputs": [],
   "source": [
    "dtc_scaled = DecisionTreeClassifier( \n",
    "                             criterion =grid_dtc_scaled.best_params_['criterion'],\n",
    "                             splitter = grid_dtc_scaled.best_params_['splitter'],\n",
    "                             max_features =  grid_dtc_scaled.best_params_['max_features'],\n",
    "                             max_depth =  grid_dtc_scaled.best_params_['max_depth'], \n",
    "                             max_leaf_nodes = grid_dtc_scaled.best_params_['max_leaf_nodes'],\n",
    "                             min_samples_split = grid_dtc_scaled.best_params_['min_samples_split']\n",
    "    \n",
    "                            )\n",
    "\n",
    "abc_dt_scaled = AdaBoostClassifier(\n",
    "                        estimator = dtc_scaled,\n",
    "                        n_estimators = grid_abc_dt_scaled.best_params_['n_estimators'],\n",
    "                        learning_rate= grid_abc_dt_scaled.best_params_['learning_rate']\n",
    "                        )\n",
    "\n",
    "abc_dt_scaled.fit(X_train_scaled,y_train)"
   ]
  },
  {
   "cell_type": "markdown",
   "id": "12a5134d",
   "metadata": {},
   "source": [
    "#### Confusion Matrix"
   ]
  },
  {
   "cell_type": "code",
   "execution_count": null,
   "id": "e463d26c",
   "metadata": {},
   "outputs": [],
   "source": [
    "y_pred= abc_dt_scaled.predict(X_test_scaled)\n",
    "\n",
    "cm = confusion_matrix(y_test, y_pred)\n",
    "\n",
    "display = ConfusionMatrixDisplay(confusion_matrix=cm,\n",
    "                              display_labels=le.classes_)\n",
    "display.plot()\n",
    "plt.show()"
   ]
  },
  {
   "cell_type": "markdown",
   "id": "f005b388",
   "metadata": {},
   "source": [
    "#### Classification Report"
   ]
  },
  {
   "cell_type": "code",
   "execution_count": null,
   "id": "a053d6f2",
   "metadata": {},
   "outputs": [],
   "source": [
    "print(classification_report(y_test,y_pred))"
   ]
  },
  {
   "cell_type": "markdown",
   "id": "648e635a",
   "metadata": {},
   "source": [
    "---"
   ]
  },
  {
   "cell_type": "markdown",
   "id": "2c127238",
   "metadata": {},
   "source": [
    "#### AdaBoostClassifier (estimator = RandomForestClassifier)"
   ]
  },
  {
   "cell_type": "code",
   "execution_count": null,
   "id": "16da1ce7",
   "metadata": {},
   "outputs": [],
   "source": [
    "param_grid_abc_rfc_scaled = { \n",
    "                      'n_estimators': [210,212,215,],\n",
    "                      'learning_rate':[0.5,0.75,1]\n",
    "                     }\n",
    "\n",
    "rfc_scaled = RandomForestClassifier( \n",
    "                             n_estimators = grid_rfc_scaled.best_params_['n_estimators'], \n",
    "                             max_features =  grid_rfc_scaled.best_params_['max_features'],\n",
    "                             max_depth =  grid_rfc_scaled.best_params_['max_depth'], \n",
    "                             max_leaf_nodes = grid_rfc_scaled.best_params_['max_leaf_nodes'],\n",
    "                             \n",
    "                            )\n",
    "\n",
    "abc_rfc_scaled = AdaBoostClassifier(estimator = rfc)\n",
    "\n",
    "grid_abc_rfc_scaled = GridSearchCV(\n",
    "                           abc_rfc_scaled,\n",
    "                           param_grid_abc_rfc_scaled,\n",
    "                           refit=True,verbose=3\n",
    "                           )\n",
    "\n",
    "grid_abc_rfc_scaled.fit(X_train_scaled,y_train)"
   ]
  },
  {
   "cell_type": "code",
   "execution_count": null,
   "id": "1c44847d",
   "metadata": {},
   "outputs": [],
   "source": [
    "print(grid_abc_rfc_scaled.best_params_)\n",
    "print(grid_abc_rfc_scaled.best_score_)"
   ]
  },
  {
   "cell_type": "markdown",
   "id": "847e6ca2",
   "metadata": {},
   "source": [
    "### Mode Fit"
   ]
  },
  {
   "cell_type": "code",
   "execution_count": null,
   "id": "18a9a942",
   "metadata": {},
   "outputs": [],
   "source": [
    "rfc_scaled = RandomForestClassifier( \n",
    "                             n_estimators = grid_rfc_scaled.best_params_['n_estimators'], \n",
    "                             max_features =  grid_rfc_scaled.best_params_['max_features'],\n",
    "                             max_depth =  grid_rfc_scaled.best_params_['max_depth'], \n",
    "                             max_leaf_nodes = grid_rfc_scaled.best_params_['max_leaf_nodes'],\n",
    "                             #class_weight=class_weight_dict\n",
    "    \n",
    "                            )\n",
    "\n",
    "abc_rfc_scaled = AdaBoostClassifier(\n",
    "                             estimator = rfc,\n",
    "                             n_estimators = grid_abc_rfc_scaled.best_params_['n_estimators'],\n",
    "                             learning_rate= grid_abc_rfc_scaled.best_params_['learning_rate']\n",
    "                            )\n",
    "\n",
    "abc_rfc_scaled.fit(X_train_scaled,y_train)"
   ]
  },
  {
   "cell_type": "markdown",
   "id": "ba8ffc5b",
   "metadata": {},
   "source": [
    "#### Confusion Matrix"
   ]
  },
  {
   "cell_type": "code",
   "execution_count": null,
   "id": "362a5518",
   "metadata": {},
   "outputs": [],
   "source": [
    "y_pred = abc_rfc_scaled.predict(X_test_scaled)\n",
    "\n",
    "cm = confusion_matrix(y_test, y_pred)\n",
    "\n",
    "display = ConfusionMatrixDisplay(confusion_matrix=cm,\n",
    "                              display_labels=le.classes_)\n",
    "display.plot()\n",
    "plt.show()"
   ]
  },
  {
   "cell_type": "markdown",
   "id": "32fc54e1",
   "metadata": {},
   "source": [
    "#### Classification Report"
   ]
  },
  {
   "cell_type": "code",
   "execution_count": null,
   "id": "1951607f",
   "metadata": {},
   "outputs": [],
   "source": [
    "print(classification_report(y_test,y_pred))"
   ]
  },
  {
   "cell_type": "markdown",
   "id": "b4ae8fb0",
   "metadata": {},
   "source": [
    "---"
   ]
  },
  {
   "cell_type": "markdown",
   "id": "6a3c7f1a",
   "metadata": {},
   "source": [
    "---"
   ]
  },
  {
   "cell_type": "markdown",
   "id": "50aad15f",
   "metadata": {},
   "source": [
    "### PCA Analysis"
   ]
  },
  {
   "cell_type": "markdown",
   "id": "26e5fe9c",
   "metadata": {},
   "source": [
    "#### Viz"
   ]
  },
  {
   "cell_type": "code",
   "execution_count": null,
   "id": "700da529",
   "metadata": {},
   "outputs": [],
   "source": [
    "pca = PCA()\n",
    "pca.fit(X_scaled)\n",
    "\n",
    "pca.explained_variance_ratio_.shape[0]\n",
    "n= [*range(1,pca.explained_variance_ratio_.shape[0]+1)]\n",
    "plt.bar(n,pca.explained_variance_ratio_)\n",
    "plt.show()"
   ]
  },
  {
   "cell_type": "markdown",
   "id": "e832236d",
   "metadata": {},
   "source": [
    "#### PCA Viz"
   ]
  },
  {
   "cell_type": "code",
   "execution_count": null,
   "id": "647cbed0",
   "metadata": {},
   "outputs": [],
   "source": [
    "\n",
    "pca = PCA(n_components = 3)\n",
    "X_pca = pca.fit_transform(X_scaled)\n",
    "\n",
    "pca_1 = X_pca[:,0]\n",
    "pca_2= X_pca[:,1]\n",
    "pca_3 = X_pca[:,2]\n",
    "\n",
    "fig = plt.figure()\n",
    "ax = plt.axes(projection='3d')\n",
    "ax.scatter3D(pca_1, pca_2, pca_3, 'gray',c=y)\n",
    "plt.show()"
   ]
  },
  {
   "cell_type": "markdown",
   "id": "af92ecde",
   "metadata": {},
   "source": [
    "#### PCA Training & Testing Data"
   ]
  },
  {
   "cell_type": "code",
   "execution_count": null,
   "id": "7839760c",
   "metadata": {},
   "outputs": [],
   "source": [
    "pca = PCA(n_components = 10)\n",
    "X_pca_train = pca.fit_transform(X_train_scaled)\n",
    "X_pca_test =  pca.transform(X_test_scaled)"
   ]
  },
  {
   "cell_type": "markdown",
   "id": "eae02989",
   "metadata": {},
   "source": [
    "---"
   ]
  },
  {
   "cell_type": "markdown",
   "id": "b8abed94",
   "metadata": {},
   "source": [
    "### Models"
   ]
  },
  {
   "cell_type": "markdown",
   "id": "1fa4627e",
   "metadata": {},
   "source": [
    "---"
   ]
  },
  {
   "cell_type": "markdown",
   "id": "8657ab04",
   "metadata": {},
   "source": [
    "#### KNeighborsClassifier"
   ]
  },
  {
   "cell_type": "code",
   "execution_count": null,
   "id": "28d84001",
   "metadata": {},
   "outputs": [],
   "source": [
    "train_scores_pca = []\n",
    "test_scores_pca = []\n",
    "for n in range(1,10):\n",
    "    knc_pca = KNeighborsClassifier(n_neighbors = n)\n",
    "    knc_pca.fit(\n",
    "            X_pca_train,\n",
    "            y_train\n",
    "           )\n",
    "    train_scores_pca.append(knc_pca.score(X_pca_train,y_train))\n",
    "    test_scores_pca.append(knc_pca.score(X_pca_test,y_test))"
   ]
  },
  {
   "cell_type": "code",
   "execution_count": null,
   "id": "4bf91b20",
   "metadata": {},
   "outputs": [],
   "source": [
    "plt.plot([*range(1,10)],train_scores_pca)\n",
    "plt.plot([*range(1,10)],test_scores_pca)\n",
    "plt.show()"
   ]
  },
  {
   "cell_type": "markdown",
   "id": "5b1a5a50",
   "metadata": {},
   "source": [
    "#### Model Fit"
   ]
  },
  {
   "cell_type": "code",
   "execution_count": null,
   "id": "6986d968",
   "metadata": {},
   "outputs": [],
   "source": [
    "knc_pca = KNeighborsClassifier(n_neighbors = 1 )\n",
    "knc_pca.fit(X_pca_train,y_train)"
   ]
  },
  {
   "cell_type": "markdown",
   "id": "5ad7a049",
   "metadata": {},
   "source": [
    "#### Confusion Matrix"
   ]
  },
  {
   "cell_type": "code",
   "execution_count": null,
   "id": "5bec0904",
   "metadata": {},
   "outputs": [],
   "source": [
    "y_pred = knc_pca.predict(X_pca_test)\n",
    "\n",
    "cm = confusion_matrix(y_test, y_pred)\n",
    "\n",
    "display = ConfusionMatrixDisplay(confusion_matrix=cm,\n",
    "                              display_labels=le.classes_)\n",
    "display.plot()\n",
    "plt.show()"
   ]
  },
  {
   "cell_type": "code",
   "execution_count": null,
   "id": "ae2b03b6",
   "metadata": {},
   "outputs": [],
   "source": [
    "print(classification_report(y_test,y_pred))"
   ]
  },
  {
   "cell_type": "markdown",
   "id": "c5cce40c",
   "metadata": {},
   "source": [
    "---"
   ]
  },
  {
   "cell_type": "markdown",
   "id": "7017bd36",
   "metadata": {},
   "source": [
    "#### SVC"
   ]
  },
  {
   "cell_type": "code",
   "execution_count": null,
   "id": "ed707b3d",
   "metadata": {},
   "outputs": [],
   "source": [
    "param_grid_svc_pca = {\n",
    "              'C': [5,10,15], \n",
    "              'gamma': [1,2,3,4],\n",
    "              'kernel': ['rbf']\n",
    "              }\n",
    "grid_svc_pca= GridSearchCV(\n",
    "                              SVC(),\n",
    "                              param_grid_svc_pca,\n",
    "                              refit=True,verbose=3\n",
    "                             )\n",
    "\n",
    "grid_svc_pca.fit(X_pca_train,y_train)"
   ]
  },
  {
   "cell_type": "code",
   "execution_count": null,
   "id": "d0d79ed5",
   "metadata": {},
   "outputs": [],
   "source": [
    "print(grid_svc_pca.best_params_)\n",
    "print(grid_svc_pca.best_score_)"
   ]
  },
  {
   "cell_type": "markdown",
   "id": "53b52cdb",
   "metadata": {},
   "source": [
    "#### Model Fit"
   ]
  },
  {
   "cell_type": "code",
   "execution_count": null,
   "id": "88c211af",
   "metadata": {},
   "outputs": [],
   "source": [
    "C = grid_svc_pca.best_params_['C'] \n",
    "gamma = grid_svc_pca.best_params_['gamma']\n",
    "kernel = grid_svc_pca.best_params_['kernel']\n",
    "                              \n",
    "svc_pca = SVC(C = C,\n",
    "         gamma = gamma,\n",
    "         kernel = kernel)\n",
    "\n",
    "svc_pca.fit(X_pca_train,y_train)"
   ]
  },
  {
   "cell_type": "markdown",
   "id": "93820be7",
   "metadata": {},
   "source": [
    "#### Confusion Matrix"
   ]
  },
  {
   "cell_type": "code",
   "execution_count": null,
   "id": "5b33ce47",
   "metadata": {},
   "outputs": [],
   "source": [
    "y_pred = svc_pca.predict(X_pca_test)\n",
    "\n",
    "cm = confusion_matrix(y_test, y_pred)\n",
    "\n",
    "display = ConfusionMatrixDisplay(confusion_matrix=cm,\n",
    "                              display_labels=le.classes_)\n",
    "display.plot()\n",
    "plt.show()"
   ]
  },
  {
   "cell_type": "code",
   "execution_count": null,
   "id": "dad9c789",
   "metadata": {},
   "outputs": [],
   "source": [
    "print(classification_report(y_test,y_pred))"
   ]
  },
  {
   "cell_type": "markdown",
   "id": "8a0f0576",
   "metadata": {},
   "source": [
    "---"
   ]
  },
  {
   "cell_type": "markdown",
   "id": "77eb8132",
   "metadata": {},
   "source": [
    "#### Class Weights"
   ]
  },
  {
   "cell_type": "code",
   "execution_count": null,
   "id": "1721950c",
   "metadata": {},
   "outputs": [],
   "source": [
    "classes = np.unique(y)\n",
    "weights = compute_class_weight(class_weight='balanced',\n",
    "                                    classes=classes,\n",
    "                                    y=y_train)\n",
    "class_weight_dict = {clas: weight for clas, weight in zip(classes, weights)}\n"
   ]
  },
  {
   "cell_type": "markdown",
   "id": "4483744b",
   "metadata": {},
   "source": [
    "#### DecisionTreeClassifier"
   ]
  },
  {
   "cell_type": "code",
   "execution_count": null,
   "id": "cf2ac477",
   "metadata": {},
   "outputs": [],
   "source": [
    "param_grid_dtc_pca = { \n",
    "                  'criterion': ['gini', 'entropy', 'log_loss'], \n",
    "                  'splitter': ['best','random'],\n",
    "                  'max_features': ['sqrt', 'log2'],\n",
    "                  'max_depth': [10,20, 30], \n",
    "                  'max_leaf_nodes': [900,1000,1100],\n",
    "                  'min_samples_split': [4,6,8],\n",
    "                    } \n",
    "\n",
    "grid_dtc_pca = GridSearchCV(\n",
    "                        DecisionTreeClassifier(class_weight = class_weight_dict),\n",
    "                        param_grid_dtc_pca,\n",
    "                        refit=True,verbose=3,\n",
    "                       )\n",
    "\n",
    "grid_dtc_pca.fit(X_pca_train,y_train)"
   ]
  },
  {
   "cell_type": "code",
   "execution_count": null,
   "id": "c4547204",
   "metadata": {},
   "outputs": [],
   "source": [
    "print(grid_dtc_pca.best_params_)\n",
    "print(grid_dtc_pca.best_score_)"
   ]
  },
  {
   "cell_type": "markdown",
   "id": "6164728c",
   "metadata": {},
   "source": [
    "#### Model Fit"
   ]
  },
  {
   "cell_type": "code",
   "execution_count": null,
   "id": "9a7477c8",
   "metadata": {},
   "outputs": [],
   "source": [
    "dtc_pca = DecisionTreeClassifier( \n",
    "                             criterion =grid_dtc_pca.best_params_['criterion'],\n",
    "                             splitter = grid_dtc_pca.best_params_['splitter'],\n",
    "                             max_features =  grid_dtc_pca.best_params_['max_features'],\n",
    "                             max_depth =  grid_dtc_pca.best_params_['max_depth'], \n",
    "                             max_leaf_nodes = grid_dtc_pca.best_params_['max_leaf_nodes'],\n",
    "                             min_samples_split = grid_dtc_pca.best_params_['min_samples_split'],\n",
    "                             class_weight = class_weight_dict\n",
    "                            )\n",
    "\n",
    "dtc_pca.fit(X_pca_train,y_train)"
   ]
  },
  {
   "cell_type": "markdown",
   "id": "db8427a3",
   "metadata": {},
   "source": [
    "#### Confusion Matrix"
   ]
  },
  {
   "cell_type": "code",
   "execution_count": null,
   "id": "167ca22a",
   "metadata": {},
   "outputs": [],
   "source": [
    "y_pred = dtc_pca.predict(X_pca_test)\n",
    "\n",
    "cm = confusion_matrix(y_test, y_pred)\n",
    "\n",
    "display = ConfusionMatrixDisplay(confusion_matrix=cm,\n",
    "                              display_labels=le.classes_)\n",
    "display.plot()\n",
    "plt.show()"
   ]
  },
  {
   "cell_type": "markdown",
   "id": "c001c652",
   "metadata": {},
   "source": [
    "#### Classification Report"
   ]
  },
  {
   "cell_type": "code",
   "execution_count": null,
   "id": "8b930867",
   "metadata": {},
   "outputs": [],
   "source": [
    "print(classification_report(y_test,y_pred))"
   ]
  },
  {
   "cell_type": "markdown",
   "id": "d6ca57d8",
   "metadata": {},
   "source": [
    "---"
   ]
  },
  {
   "cell_type": "markdown",
   "id": "9da40c6a",
   "metadata": {},
   "source": [
    "#### RandomForestClassifier"
   ]
  },
  {
   "cell_type": "code",
   "execution_count": null,
   "id": "d2e69779",
   "metadata": {},
   "outputs": [],
   "source": [
    "param_grid_rfc_pca = { \n",
    "                 'n_estimators': [200, 215,220], \n",
    "                 'max_features': ['sqrt', 'log2', None], \n",
    "                 'max_depth': [10,20, 30], \n",
    "                 'max_leaf_nodes': [900,1000,1100],\n",
    "                 'min_samples_split': [4,6,8], \n",
    "                 } \n",
    "\n",
    "grid_rfc_pca = GridSearchCV(\n",
    "                        RandomForestClassifier(class_weight = class_weight_dict),\n",
    "                        param_grid_rfc_pca,\n",
    "                        refit=True,verbose=3\n",
    "                       )\n",
    "\n",
    "grid_rfc_pca.fit(X_pca_train,y_train)"
   ]
  },
  {
   "cell_type": "code",
   "execution_count": null,
   "id": "a939ac8d",
   "metadata": {},
   "outputs": [],
   "source": [
    "print(grid_rfc_pca.best_params_)\n",
    "print(grid_rfc_pca.best_score_)"
   ]
  },
  {
   "cell_type": "markdown",
   "id": "fc863c5b",
   "metadata": {},
   "source": [
    "#### Model Fit"
   ]
  },
  {
   "cell_type": "code",
   "execution_count": null,
   "id": "1832a93b",
   "metadata": {},
   "outputs": [],
   "source": [
    "rfc_pca = RandomForestClassifier( \n",
    "                             n_estimators = grid_rfc_pca.best_params_['n_estimators'], \n",
    "                             max_features =  grid_rfc_pca.best_params_['max_features'],\n",
    "                             max_depth =  grid_rfc_pca.best_params_['max_depth'], \n",
    "                             max_leaf_nodes = grid_rfc_pca.best_params_['max_leaf_nodes'],\n",
    "                             class_weight = class_weight_dict\n",
    "                            )\n",
    "\n",
    "rfc_pca.fit(X_pca_train,y_train)"
   ]
  },
  {
   "cell_type": "markdown",
   "id": "df31db83",
   "metadata": {},
   "source": [
    "#### Confusion Matrix"
   ]
  },
  {
   "cell_type": "code",
   "execution_count": null,
   "id": "6b8248d0",
   "metadata": {},
   "outputs": [],
   "source": [
    "y_pred = rfc_pca.predict(X_pca_test)\n",
    "\n",
    "cm = confusion_matrix(y_test, y_pred)\n",
    "\n",
    "display = ConfusionMatrixDisplay(confusion_matrix=cm,\n",
    "                              display_labels=le.classes_)\n",
    "display.plot()\n",
    "plt.show()"
   ]
  },
  {
   "cell_type": "markdown",
   "id": "35999539",
   "metadata": {},
   "source": [
    "#### Classification Report"
   ]
  },
  {
   "cell_type": "code",
   "execution_count": null,
   "id": "a5a30751",
   "metadata": {},
   "outputs": [],
   "source": [
    "print(classification_report(y_test,y_pred))"
   ]
  },
  {
   "cell_type": "markdown",
   "id": "907a8bd3",
   "metadata": {},
   "source": [
    "---"
   ]
  },
  {
   "cell_type": "markdown",
   "id": "8b71861b",
   "metadata": {},
   "source": [
    "#### AdaBoostClassifier(estimator = DecisionTreeClassifier )"
   ]
  },
  {
   "cell_type": "code",
   "execution_count": null,
   "id": "8dcb4b7f",
   "metadata": {},
   "outputs": [],
   "source": [
    "param_grid_abc_dtc_pca = { \n",
    "                     'n_estimators': [210,212,215,],\n",
    "                     'learning_rate':[0.5,0.75,1]\n",
    "                    }\n",
    "\n",
    "dtc_pca = DecisionTreeClassifier( \n",
    "                             criterion =grid_dtc_pca.best_params_['criterion'],\n",
    "                             splitter = grid_dtc_pca.best_params_['splitter'],\n",
    "                             max_features =  grid_dtc_pca.best_params_['max_features'],\n",
    "                             max_depth =  grid_dtc_pca.best_params_['max_depth'], \n",
    "                             max_leaf_nodes = grid_dtc_pca.best_params_['max_leaf_nodes'],\n",
    "                             min_samples_split = grid_dtc_pca.best_params_['min_samples_split'],\n",
    "                             class_weight = class_weight_dict\n",
    "                            )\n",
    "\n",
    "\n",
    "abc_dtc_pca = AdaBoostClassifier(estimator = dtc_pca)\n",
    "\n",
    "grid_abc_dtc_pca= GridSearchCV(\n",
    "                          abc_dtc_pca,\n",
    "                          param_grid_abc_dtc_pca,\n",
    "                          refit=True,verbose=3\n",
    "                          )\n",
    "\n",
    "grid_abc_dtc_pca.fit(X_pca_train,y_train)"
   ]
  },
  {
   "cell_type": "code",
   "execution_count": null,
   "id": "f61b4956",
   "metadata": {},
   "outputs": [],
   "source": [
    "print(grid_abc_dtc_pca.best_params_)\n",
    "print(grid_abc_dtc_pca.best_score_)"
   ]
  },
  {
   "cell_type": "markdown",
   "id": "5d707bff",
   "metadata": {},
   "source": [
    "#### Model Fit"
   ]
  },
  {
   "cell_type": "code",
   "execution_count": null,
   "id": "11779765",
   "metadata": {},
   "outputs": [],
   "source": [
    "dtc_pca = DecisionTreeClassifier( \n",
    "                             criterion =grid_dtc_pca.best_params_['criterion'],\n",
    "                             splitter = grid_dtc_pca.best_params_['splitter'],\n",
    "                             max_features =  grid_dtc_pca.best_params_['max_features'],\n",
    "                             max_depth =  grid_dtc_pca.best_params_['max_depth'], \n",
    "                             max_leaf_nodes = grid_dtc_pca.best_params_['max_leaf_nodes'],\n",
    "                             min_samples_split = grid_dtc_pca.best_params_['min_samples_split'],\n",
    "                             class_weight = class_weight_dict\n",
    "                            )\n",
    "abc_dtc_pca = AdaBoostClassifier(\n",
    "                        estimator = dtc_pca,\n",
    "                        n_estimators = grid_abc_dtc_pca.best_params_['n_estimators'],\n",
    "                        learning_rate= grid_abc_dtc_pca.best_params_['learning_rate']\n",
    "                        )\n",
    "\n",
    "abc_dtc_pca.fit(X_pca_train,y_train)"
   ]
  },
  {
   "cell_type": "markdown",
   "id": "5d0bb92c",
   "metadata": {},
   "source": [
    "#### Confusion Matrix"
   ]
  },
  {
   "cell_type": "code",
   "execution_count": null,
   "id": "7348e2f2",
   "metadata": {},
   "outputs": [],
   "source": [
    "y_pred =abc_dtc_pca.predict(X_pca_test)\n",
    "\n",
    "cm = confusion_matrix(y_test, y_pred)\n",
    "\n",
    "display = ConfusionMatrixDisplay(confusion_matrix=cm,\n",
    "                              display_labels=le.classes_)\n",
    "display.plot()\n",
    "plt.show()"
   ]
  },
  {
   "cell_type": "markdown",
   "id": "f81ff4c2",
   "metadata": {},
   "source": [
    "#### Classfication Report"
   ]
  },
  {
   "cell_type": "code",
   "execution_count": null,
   "id": "5f954dbe",
   "metadata": {},
   "outputs": [],
   "source": [
    "print(classification_report(y_test,y_pred))"
   ]
  },
  {
   "cell_type": "markdown",
   "id": "409964c5",
   "metadata": {},
   "source": [
    "---"
   ]
  },
  {
   "cell_type": "markdown",
   "id": "f2c6cee8",
   "metadata": {},
   "source": [
    "#### AdaBoostClassifier(estimator = RandonForestClassifier )"
   ]
  },
  {
   "cell_type": "code",
   "execution_count": null,
   "id": "ae51aff3",
   "metadata": {},
   "outputs": [],
   "source": [
    "param_grid_abc_rfc_pca = { \n",
    "                      'n_estimators': [210,212,215,],\n",
    "                      'learning_rate':[0.5,0.75,1]\n",
    "                     }\n",
    "\n",
    "rfc_pca = RandomForestClassifier( \n",
    "                             n_estimators = grid_rfc_pca.best_params_['n_estimators'], \n",
    "                             max_features =  grid_rfc_pca.best_params_['max_features'],\n",
    "                             max_depth =  grid_rfc_pca.best_params_['max_depth'], \n",
    "                             max_leaf_nodes = grid_rfc_pca.best_params_['max_leaf_nodes'],\n",
    "                             class_weight = class_weight_dict\n",
    "                            )\n",
    "\n",
    "abc_rfc_pca = AdaBoostClassifier(estimator = rfc_pca)\n",
    "\n",
    "grid_abc_rfc_pca = GridSearchCV(\n",
    "                           abc_rfc_pca,\n",
    "                           param_grid_abc_rfc_pca,\n",
    "                           refit=True,verbose=3\n",
    "                           )\n",
    "\n",
    "grid_abc_rfc_pca.fit(X_pca_train,y_train)"
   ]
  },
  {
   "cell_type": "code",
   "execution_count": null,
   "id": "588f1257",
   "metadata": {},
   "outputs": [],
   "source": [
    "print(grid_abc_rfc_pca.best_params_)\n",
    "print(grid_abc_rfc_pca.best_score_)"
   ]
  },
  {
   "cell_type": "markdown",
   "id": "7bee8aee",
   "metadata": {},
   "source": [
    "#### Model Fit"
   ]
  },
  {
   "cell_type": "code",
   "execution_count": null,
   "id": "0f6d4ddb",
   "metadata": {},
   "outputs": [],
   "source": [
    "rfc_pca = RandomForestClassifier( \n",
    "                             n_estimators = grid_rfc_pca.best_params_['n_estimators'], \n",
    "                             max_features =  grid_rfc_pca.best_params_['max_features'],\n",
    "                             max_depth =  grid_rfc_pca.best_params_['max_depth'], \n",
    "                             max_leaf_nodes = grid_rfc_pca.best_params_['max_leaf_nodes'],\n",
    "                             class_weight = class_weight_dict\n",
    "    \n",
    "                            )\n",
    "\n",
    "abc_rfc_pca = AdaBoostClassifier(\n",
    "                             estimator = rfc_pca,\n",
    "                             n_estimators = grid_abc_rfc_pca.best_params_['n_estimators'],\n",
    "                             learning_rate= grid_abc_rfc_pca.best_params_['learning_rate']\n",
    "                            )\n",
    "\n",
    "abc_rfc_pca.fit(X_pca_train,y_train)"
   ]
  },
  {
   "cell_type": "markdown",
   "id": "98f76082",
   "metadata": {},
   "source": [
    "#### Confusion Matrix"
   ]
  },
  {
   "cell_type": "code",
   "execution_count": null,
   "id": "7a252ae6",
   "metadata": {},
   "outputs": [],
   "source": [
    "y_pred = abc_rfc_pca.predict(X_pca_test)\n",
    "\n",
    "cm = confusion_matrix(y_test, y_pred)\n",
    "\n",
    "display = ConfusionMatrixDisplay(confusion_matrix=cm,\n",
    "                              display_labels=le.classes_)\n",
    "display.plot()\n",
    "plt.show()"
   ]
  },
  {
   "cell_type": "markdown",
   "id": "e98f4cfc",
   "metadata": {},
   "source": [
    "#### Classification Report"
   ]
  },
  {
   "cell_type": "code",
   "execution_count": null,
   "id": "f3f9dfce",
   "metadata": {},
   "outputs": [],
   "source": [
    "print(classification_report(y_test,y_pred))"
   ]
  },
  {
   "cell_type": "code",
   "execution_count": null,
   "id": "47b5bdf8",
   "metadata": {},
   "outputs": [],
   "source": []
  },
  {
   "cell_type": "code",
   "execution_count": null,
   "id": "600f1291",
   "metadata": {},
   "outputs": [],
   "source": []
  },
  {
   "cell_type": "code",
   "execution_count": null,
   "id": "355b7f89",
   "metadata": {},
   "outputs": [],
   "source": []
  },
  {
   "cell_type": "code",
   "execution_count": null,
   "id": "005e11a4",
   "metadata": {},
   "outputs": [],
   "source": []
  },
  {
   "cell_type": "code",
   "execution_count": null,
   "id": "d17b9b4c",
   "metadata": {},
   "outputs": [],
   "source": []
  },
  {
   "cell_type": "code",
   "execution_count": null,
   "id": "35cc22e7",
   "metadata": {},
   "outputs": [],
   "source": []
  },
  {
   "cell_type": "code",
   "execution_count": null,
   "id": "82fcd44e",
   "metadata": {},
   "outputs": [],
   "source": []
  },
  {
   "cell_type": "code",
   "execution_count": null,
   "id": "22e5b0c8",
   "metadata": {},
   "outputs": [],
   "source": []
  }
 ],
 "metadata": {
  "kernelspec": {
   "display_name": "Python 3 (ipykernel)",
   "language": "python",
   "name": "python3"
  },
  "language_info": {
   "codemirror_mode": {
    "name": "ipython",
    "version": 3
   },
   "file_extension": ".py",
   "mimetype": "text/x-python",
   "name": "python",
   "nbconvert_exporter": "python",
   "pygments_lexer": "ipython3",
   "version": "3.11.7"
  }
 },
 "nbformat": 4,
 "nbformat_minor": 5
}
