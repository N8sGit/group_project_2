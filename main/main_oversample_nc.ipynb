{
 "cells": [
  {
   "cell_type": "code",
   "execution_count": 2,
   "id": "bcad27ca",
   "metadata": {},
   "outputs": [],
   "source": [
    "#Import deps \n",
    "import os\n",
    "import numpy as np\n",
    "import pandas as pd\n",
    "import matplotlib.pyplot as plt\n",
    "import seaborn as sns\n",
    "\n",
    "from sklearn.preprocessing import StandardScaler \n",
    "from sklearn.preprocessing import LabelEncoder\n",
    "from sklearn.utils.class_weight import compute_class_weight\n",
    "\n",
    "from sklearn.model_selection import train_test_split\n",
    "from sklearn.model_selection import GridSearchCV\n",
    "from sklearn.model_selection import KFold\n",
    "\n",
    "\n",
    "from sklearn.neighbors import KNeighborsClassifier\n",
    "from sklearn.tree import DecisionTreeClassifier\n",
    "from sklearn.ensemble import RandomForestClassifier\n",
    "from sklearn.ensemble import AdaBoostClassifier\n",
    "from sklearn.svm import SVC\n",
    "from sklearn.decomposition import PCA\n",
    "\n",
    "from imblearn.over_sampling import SMOTE\n",
    "from imblearn.under_sampling import ClusterCentroids\n",
    "from imblearn.over_sampling import SMOTENC\n",
    "\n",
    "from sklearn.metrics import confusion_matrix\n",
    "from sklearn.metrics import ConfusionMatrixDisplay\n",
    "from sklearn.metrics import classification_report"
   ]
  },
  {
   "cell_type": "markdown",
   "id": "3ae3a8e2",
   "metadata": {},
   "source": [
    "### Dataset"
   ]
  },
  {
   "cell_type": "code",
   "execution_count": 2,
   "id": "f49480d9",
   "metadata": {},
   "outputs": [],
   "source": [
    "path = os.getcwd()\n",
    "data = 'Resources\\\\Wine_data_both.csv'\n",
    "path = path.replace('main',data)\n",
    "\n",
    "df = pd.read_csv(path)"
   ]
  },
  {
   "cell_type": "markdown",
   "id": "d0811bf7",
   "metadata": {},
   "source": [
    "### <font color='blue'>Exploratory analysis<font>"
   ]
  },
  {
   "cell_type": "code",
   "execution_count": 3,
   "id": "2f13054d",
   "metadata": {},
   "outputs": [
    {
     "name": "stdout",
     "output_type": "stream",
     "text": [
      "<class 'pandas.core.frame.DataFrame'>\n",
      "RangeIndex: 6497 entries, 0 to 6496\n",
      "Data columns (total 13 columns):\n",
      " #   Column                Non-Null Count  Dtype  \n",
      "---  ------                --------------  -----  \n",
      " 0   fixed acidity         6497 non-null   float64\n",
      " 1   volatile acidity      6497 non-null   float64\n",
      " 2   citric acid           6497 non-null   float64\n",
      " 3   residual sugar        6497 non-null   float64\n",
      " 4   chlorides             6497 non-null   float64\n",
      " 5   free sulfur dioxide   6497 non-null   float64\n",
      " 6   total sulfur dioxide  6497 non-null   float64\n",
      " 7   density               6497 non-null   float64\n",
      " 8   pH                    6497 non-null   float64\n",
      " 9   sulphates             6497 non-null   float64\n",
      " 10  alcohol               6497 non-null   float64\n",
      " 11  quality               6497 non-null   int64  \n",
      " 12  Wine                  6497 non-null   object \n",
      "dtypes: float64(11), int64(1), object(1)\n",
      "memory usage: 660.0+ KB\n"
     ]
    }
   ],
   "source": [
    "df.info()"
   ]
  },
  {
   "cell_type": "code",
   "execution_count": 4,
   "id": "89d11c9a",
   "metadata": {},
   "outputs": [
    {
     "data": {
      "text/plain": [
       "fixed acidity           0\n",
       "volatile acidity        0\n",
       "citric acid             0\n",
       "residual sugar          0\n",
       "chlorides               0\n",
       "free sulfur dioxide     0\n",
       "total sulfur dioxide    0\n",
       "density                 0\n",
       "pH                      0\n",
       "sulphates               0\n",
       "alcohol                 0\n",
       "quality                 0\n",
       "Wine                    0\n",
       "dtype: int64"
      ]
     },
     "execution_count": 4,
     "metadata": {},
     "output_type": "execute_result"
    }
   ],
   "source": [
    "df.isna().sum()"
   ]
  },
  {
   "cell_type": "code",
   "execution_count": 5,
   "id": "4cdf710e",
   "metadata": {},
   "outputs": [
    {
     "data": {
      "text/html": [
       "<div>\n",
       "<style scoped>\n",
       "    .dataframe tbody tr th:only-of-type {\n",
       "        vertical-align: middle;\n",
       "    }\n",
       "\n",
       "    .dataframe tbody tr th {\n",
       "        vertical-align: top;\n",
       "    }\n",
       "\n",
       "    .dataframe thead th {\n",
       "        text-align: right;\n",
       "    }\n",
       "</style>\n",
       "<table border=\"1\" class=\"dataframe\">\n",
       "  <thead>\n",
       "    <tr style=\"text-align: right;\">\n",
       "      <th></th>\n",
       "      <th>fixed acidity</th>\n",
       "      <th>volatile acidity</th>\n",
       "      <th>citric acid</th>\n",
       "      <th>residual sugar</th>\n",
       "      <th>chlorides</th>\n",
       "      <th>free sulfur dioxide</th>\n",
       "      <th>total sulfur dioxide</th>\n",
       "      <th>density</th>\n",
       "      <th>pH</th>\n",
       "      <th>sulphates</th>\n",
       "      <th>alcohol</th>\n",
       "      <th>quality</th>\n",
       "      <th>Wine</th>\n",
       "    </tr>\n",
       "  </thead>\n",
       "  <tbody>\n",
       "    <tr>\n",
       "      <th>0</th>\n",
       "      <td>7.0</td>\n",
       "      <td>0.27</td>\n",
       "      <td>0.36</td>\n",
       "      <td>20.7</td>\n",
       "      <td>0.045</td>\n",
       "      <td>45.0</td>\n",
       "      <td>170.0</td>\n",
       "      <td>1.0010</td>\n",
       "      <td>3.00</td>\n",
       "      <td>0.45</td>\n",
       "      <td>8.8</td>\n",
       "      <td>6</td>\n",
       "      <td>White</td>\n",
       "    </tr>\n",
       "    <tr>\n",
       "      <th>1</th>\n",
       "      <td>6.3</td>\n",
       "      <td>0.30</td>\n",
       "      <td>0.34</td>\n",
       "      <td>1.6</td>\n",
       "      <td>0.049</td>\n",
       "      <td>14.0</td>\n",
       "      <td>132.0</td>\n",
       "      <td>0.9940</td>\n",
       "      <td>3.30</td>\n",
       "      <td>0.49</td>\n",
       "      <td>9.5</td>\n",
       "      <td>6</td>\n",
       "      <td>White</td>\n",
       "    </tr>\n",
       "    <tr>\n",
       "      <th>2</th>\n",
       "      <td>8.1</td>\n",
       "      <td>0.28</td>\n",
       "      <td>0.40</td>\n",
       "      <td>6.9</td>\n",
       "      <td>0.050</td>\n",
       "      <td>30.0</td>\n",
       "      <td>97.0</td>\n",
       "      <td>0.9951</td>\n",
       "      <td>3.26</td>\n",
       "      <td>0.44</td>\n",
       "      <td>10.1</td>\n",
       "      <td>6</td>\n",
       "      <td>White</td>\n",
       "    </tr>\n",
       "    <tr>\n",
       "      <th>3</th>\n",
       "      <td>7.2</td>\n",
       "      <td>0.23</td>\n",
       "      <td>0.32</td>\n",
       "      <td>8.5</td>\n",
       "      <td>0.058</td>\n",
       "      <td>47.0</td>\n",
       "      <td>186.0</td>\n",
       "      <td>0.9956</td>\n",
       "      <td>3.19</td>\n",
       "      <td>0.40</td>\n",
       "      <td>9.9</td>\n",
       "      <td>6</td>\n",
       "      <td>White</td>\n",
       "    </tr>\n",
       "    <tr>\n",
       "      <th>4</th>\n",
       "      <td>7.2</td>\n",
       "      <td>0.23</td>\n",
       "      <td>0.32</td>\n",
       "      <td>8.5</td>\n",
       "      <td>0.058</td>\n",
       "      <td>47.0</td>\n",
       "      <td>186.0</td>\n",
       "      <td>0.9956</td>\n",
       "      <td>3.19</td>\n",
       "      <td>0.40</td>\n",
       "      <td>9.9</td>\n",
       "      <td>6</td>\n",
       "      <td>White</td>\n",
       "    </tr>\n",
       "  </tbody>\n",
       "</table>\n",
       "</div>"
      ],
      "text/plain": [
       "   fixed acidity  volatile acidity  citric acid  residual sugar  chlorides  \\\n",
       "0            7.0              0.27         0.36            20.7      0.045   \n",
       "1            6.3              0.30         0.34             1.6      0.049   \n",
       "2            8.1              0.28         0.40             6.9      0.050   \n",
       "3            7.2              0.23         0.32             8.5      0.058   \n",
       "4            7.2              0.23         0.32             8.5      0.058   \n",
       "\n",
       "   free sulfur dioxide  total sulfur dioxide  density    pH  sulphates  \\\n",
       "0                 45.0                 170.0   1.0010  3.00       0.45   \n",
       "1                 14.0                 132.0   0.9940  3.30       0.49   \n",
       "2                 30.0                  97.0   0.9951  3.26       0.44   \n",
       "3                 47.0                 186.0   0.9956  3.19       0.40   \n",
       "4                 47.0                 186.0   0.9956  3.19       0.40   \n",
       "\n",
       "   alcohol  quality   Wine  \n",
       "0      8.8        6  White  \n",
       "1      9.5        6  White  \n",
       "2     10.1        6  White  \n",
       "3      9.9        6  White  \n",
       "4      9.9        6  White  "
      ]
     },
     "execution_count": 5,
     "metadata": {},
     "output_type": "execute_result"
    }
   ],
   "source": [
    "df.head()"
   ]
  },
  {
   "cell_type": "markdown",
   "id": "1c60a3ca",
   "metadata": {},
   "source": [
    "#### Casting as category type"
   ]
  },
  {
   "cell_type": "code",
   "execution_count": 6,
   "id": "fe397514",
   "metadata": {},
   "outputs": [],
   "source": [
    "df['quality'] = df['quality'].astype('category')\n",
    "df['Wine'] = df['Wine'].astype('category')"
   ]
  },
  {
   "cell_type": "code",
   "execution_count": 7,
   "id": "613993d9",
   "metadata": {},
   "outputs": [
    {
     "data": {
      "text/html": [
       "<div>\n",
       "<style scoped>\n",
       "    .dataframe tbody tr th:only-of-type {\n",
       "        vertical-align: middle;\n",
       "    }\n",
       "\n",
       "    .dataframe tbody tr th {\n",
       "        vertical-align: top;\n",
       "    }\n",
       "\n",
       "    .dataframe thead th {\n",
       "        text-align: right;\n",
       "    }\n",
       "</style>\n",
       "<table border=\"1\" class=\"dataframe\">\n",
       "  <thead>\n",
       "    <tr style=\"text-align: right;\">\n",
       "      <th></th>\n",
       "      <th>fixed acidity</th>\n",
       "      <th>volatile acidity</th>\n",
       "      <th>citric acid</th>\n",
       "      <th>residual sugar</th>\n",
       "      <th>chlorides</th>\n",
       "      <th>free sulfur dioxide</th>\n",
       "      <th>total sulfur dioxide</th>\n",
       "      <th>density</th>\n",
       "      <th>pH</th>\n",
       "      <th>sulphates</th>\n",
       "      <th>alcohol</th>\n",
       "    </tr>\n",
       "  </thead>\n",
       "  <tbody>\n",
       "    <tr>\n",
       "      <th>count</th>\n",
       "      <td>6497.000000</td>\n",
       "      <td>6497.000000</td>\n",
       "      <td>6497.000000</td>\n",
       "      <td>6497.000000</td>\n",
       "      <td>6497.000000</td>\n",
       "      <td>6497.000000</td>\n",
       "      <td>6497.000000</td>\n",
       "      <td>6497.000000</td>\n",
       "      <td>6497.000000</td>\n",
       "      <td>6497.000000</td>\n",
       "      <td>6497.000000</td>\n",
       "    </tr>\n",
       "    <tr>\n",
       "      <th>mean</th>\n",
       "      <td>7.215307</td>\n",
       "      <td>0.339666</td>\n",
       "      <td>0.318633</td>\n",
       "      <td>5.443235</td>\n",
       "      <td>0.056034</td>\n",
       "      <td>30.525319</td>\n",
       "      <td>115.744574</td>\n",
       "      <td>0.994697</td>\n",
       "      <td>3.218501</td>\n",
       "      <td>0.531268</td>\n",
       "      <td>10.491801</td>\n",
       "    </tr>\n",
       "    <tr>\n",
       "      <th>std</th>\n",
       "      <td>1.296434</td>\n",
       "      <td>0.164636</td>\n",
       "      <td>0.145318</td>\n",
       "      <td>4.757804</td>\n",
       "      <td>0.035034</td>\n",
       "      <td>17.749400</td>\n",
       "      <td>56.521855</td>\n",
       "      <td>0.002999</td>\n",
       "      <td>0.160787</td>\n",
       "      <td>0.148806</td>\n",
       "      <td>1.192712</td>\n",
       "    </tr>\n",
       "    <tr>\n",
       "      <th>min</th>\n",
       "      <td>3.800000</td>\n",
       "      <td>0.080000</td>\n",
       "      <td>0.000000</td>\n",
       "      <td>0.600000</td>\n",
       "      <td>0.009000</td>\n",
       "      <td>1.000000</td>\n",
       "      <td>6.000000</td>\n",
       "      <td>0.987110</td>\n",
       "      <td>2.720000</td>\n",
       "      <td>0.220000</td>\n",
       "      <td>8.000000</td>\n",
       "    </tr>\n",
       "    <tr>\n",
       "      <th>25%</th>\n",
       "      <td>6.400000</td>\n",
       "      <td>0.230000</td>\n",
       "      <td>0.250000</td>\n",
       "      <td>1.800000</td>\n",
       "      <td>0.038000</td>\n",
       "      <td>17.000000</td>\n",
       "      <td>77.000000</td>\n",
       "      <td>0.992340</td>\n",
       "      <td>3.110000</td>\n",
       "      <td>0.430000</td>\n",
       "      <td>9.500000</td>\n",
       "    </tr>\n",
       "    <tr>\n",
       "      <th>50%</th>\n",
       "      <td>7.000000</td>\n",
       "      <td>0.290000</td>\n",
       "      <td>0.310000</td>\n",
       "      <td>3.000000</td>\n",
       "      <td>0.047000</td>\n",
       "      <td>29.000000</td>\n",
       "      <td>118.000000</td>\n",
       "      <td>0.994890</td>\n",
       "      <td>3.210000</td>\n",
       "      <td>0.510000</td>\n",
       "      <td>10.300000</td>\n",
       "    </tr>\n",
       "    <tr>\n",
       "      <th>75%</th>\n",
       "      <td>7.700000</td>\n",
       "      <td>0.400000</td>\n",
       "      <td>0.390000</td>\n",
       "      <td>8.100000</td>\n",
       "      <td>0.065000</td>\n",
       "      <td>41.000000</td>\n",
       "      <td>156.000000</td>\n",
       "      <td>0.996990</td>\n",
       "      <td>3.320000</td>\n",
       "      <td>0.600000</td>\n",
       "      <td>11.300000</td>\n",
       "    </tr>\n",
       "    <tr>\n",
       "      <th>max</th>\n",
       "      <td>15.900000</td>\n",
       "      <td>1.580000</td>\n",
       "      <td>1.660000</td>\n",
       "      <td>65.800000</td>\n",
       "      <td>0.611000</td>\n",
       "      <td>289.000000</td>\n",
       "      <td>440.000000</td>\n",
       "      <td>1.038980</td>\n",
       "      <td>4.010000</td>\n",
       "      <td>2.000000</td>\n",
       "      <td>14.900000</td>\n",
       "    </tr>\n",
       "  </tbody>\n",
       "</table>\n",
       "</div>"
      ],
      "text/plain": [
       "       fixed acidity  volatile acidity  citric acid  residual sugar  \\\n",
       "count    6497.000000       6497.000000  6497.000000     6497.000000   \n",
       "mean        7.215307          0.339666     0.318633        5.443235   \n",
       "std         1.296434          0.164636     0.145318        4.757804   \n",
       "min         3.800000          0.080000     0.000000        0.600000   \n",
       "25%         6.400000          0.230000     0.250000        1.800000   \n",
       "50%         7.000000          0.290000     0.310000        3.000000   \n",
       "75%         7.700000          0.400000     0.390000        8.100000   \n",
       "max        15.900000          1.580000     1.660000       65.800000   \n",
       "\n",
       "         chlorides  free sulfur dioxide  total sulfur dioxide      density  \\\n",
       "count  6497.000000          6497.000000           6497.000000  6497.000000   \n",
       "mean      0.056034            30.525319            115.744574     0.994697   \n",
       "std       0.035034            17.749400             56.521855     0.002999   \n",
       "min       0.009000             1.000000              6.000000     0.987110   \n",
       "25%       0.038000            17.000000             77.000000     0.992340   \n",
       "50%       0.047000            29.000000            118.000000     0.994890   \n",
       "75%       0.065000            41.000000            156.000000     0.996990   \n",
       "max       0.611000           289.000000            440.000000     1.038980   \n",
       "\n",
       "                pH    sulphates      alcohol  \n",
       "count  6497.000000  6497.000000  6497.000000  \n",
       "mean      3.218501     0.531268    10.491801  \n",
       "std       0.160787     0.148806     1.192712  \n",
       "min       2.720000     0.220000     8.000000  \n",
       "25%       3.110000     0.430000     9.500000  \n",
       "50%       3.210000     0.510000    10.300000  \n",
       "75%       3.320000     0.600000    11.300000  \n",
       "max       4.010000     2.000000    14.900000  "
      ]
     },
     "execution_count": 7,
     "metadata": {},
     "output_type": "execute_result"
    }
   ],
   "source": [
    "df.describe()"
   ]
  },
  {
   "cell_type": "markdown",
   "id": "9c327aa5",
   "metadata": {},
   "source": [
    "#### Feature distribution  Viz"
   ]
  },
  {
   "cell_type": "code",
   "execution_count": 8,
   "id": "0918fd14",
   "metadata": {},
   "outputs": [
    {
     "data": {
      "image/png": "[encoded data removed]",
      "text/plain": [
       "<Figure size 640x480 with 1 Axes>"
      ]
     },
     "metadata": {},
     "output_type": "display_data"
    }
   ],
   "source": [
    "df.boxplot()\n",
    "plt.xticks(rotation=90)\n",
    "plt.show()"
   ]
  },
  {
   "cell_type": "markdown",
   "id": "40fc6a31",
   "metadata": {},
   "source": [
    "**Note:**\n",
    "        The scale for 'total sulfur dioxide' and 'free sulfur dioxided' measurments are significantly bigger than the rest<br>\n",
    "        of the features\n",
    "    "
   ]
  },
  {
   "cell_type": "markdown",
   "id": "99678c11",
   "metadata": {},
   "source": [
    "#### Correlation"
   ]
  },
  {
   "cell_type": "code",
   "execution_count": 9,
   "id": "bfce6bf8",
   "metadata": {},
   "outputs": [
    {
     "data": {
      "image/png": "[encoded data removed]",
      "text/plain": [
       "<Figure size 640x480 with 2 Axes>"
      ]
     },
     "metadata": {},
     "output_type": "display_data"
    }
   ],
   "source": [
    "X_df = df.drop(columns = ['Wine','quality'])\n",
    "\n",
    "X_corr = X_df.corr().round(1)\n",
    "\n",
    "sns.heatmap(X_corr,annot=True,cmap='flare') \n",
    "plt.show()"
   ]
  },
  {
   "cell_type": "markdown",
   "id": "85c56f2e",
   "metadata": {},
   "source": [
    "**Note:**\n",
    "            free sulfur dioxide and total sulfur dioxide have a significant positive correlation<br>\n",
    "            alcohol and density have a significant negative correlation."
   ]
  },
  {
   "cell_type": "markdown",
   "id": "75bb7070",
   "metadata": {},
   "source": [
    "#### Target : Wine type"
   ]
  },
  {
   "cell_type": "code",
   "execution_count": 10,
   "id": "9ebb5ce9",
   "metadata": {},
   "outputs": [
    {
     "data": {
      "image/png": "[encoded data removed]",
      "text/plain": [
       "<Figure size 640x480 with 1 Axes>"
      ]
     },
     "metadata": {},
     "output_type": "display_data"
    }
   ],
   "source": [
    "sns.set_style(rc = {'axes.facecolor': 'darkgrey'})\n",
    "sns.countplot(\n",
    "               x = df['Wine'],\n",
    "               hue = df['Wine'],\n",
    "               palette=['white',\"red\"]).set(title='Wine type'\n",
    "              )\n",
    "plt.show()"
   ]
  },
  {
   "cell_type": "code",
   "execution_count": 11,
   "id": "4e4c3761",
   "metadata": {},
   "outputs": [
    {
     "data": {
      "text/plain": [
       "Wine\n",
       "White    4898\n",
       "Red      1599\n",
       "Name: count, dtype: int64"
      ]
     },
     "execution_count": 11,
     "metadata": {},
     "output_type": "execute_result"
    }
   ],
   "source": [
    "df['Wine'].value_counts()"
   ]
  },
  {
   "cell_type": "markdown",
   "id": "26818ebd",
   "metadata": {},
   "source": [
    "**Note:** \n",
    "    The target variable is heavily inbalanced 3 'White' to 1 'Red'"
   ]
  },
  {
   "cell_type": "markdown",
   "id": "ae3caf4f",
   "metadata": {},
   "source": [
    "#### Target: Quality"
   ]
  },
  {
   "cell_type": "code",
   "execution_count": 12,
   "id": "d883d1a5",
   "metadata": {},
   "outputs": [
    {
     "data": {
      "image/png": "[encoded data removed]",
      "text/plain": [
       "<Figure size 640x480 with 1 Axes>"
      ]
     },
     "metadata": {},
     "output_type": "display_data"
    }
   ],
   "source": [
    "sns.countplot(x = df['quality']).set(title='Wine quality')\n",
    "plt.show()"
   ]
  },
  {
   "cell_type": "code",
   "execution_count": 13,
   "id": "2b28b210",
   "metadata": {},
   "outputs": [
    {
     "data": {
      "text/plain": [
       "quality\n",
       "6    2836\n",
       "5    2138\n",
       "7    1079\n",
       "4     216\n",
       "8     193\n",
       "3      30\n",
       "9       5\n",
       "Name: count, dtype: int64"
      ]
     },
     "execution_count": 13,
     "metadata": {},
     "output_type": "execute_result"
    }
   ],
   "source": [
    "df['quality'].value_counts()"
   ]
  },
  {
   "cell_type": "markdown",
   "id": "49609feb",
   "metadata": {},
   "source": [
    "#### Quality count by wine type"
   ]
  },
  {
   "cell_type": "code",
   "execution_count": 14,
   "id": "cb4763ae",
   "metadata": {},
   "outputs": [
    {
     "data": {
      "image/png": "[encoded data removed]",
      "text/plain": [
       "<Figure size 640x480 with 1 Axes>"
      ]
     },
     "metadata": {},
     "output_type": "display_data"
    }
   ],
   "source": [
    "sns.set_style(rc = {'axes.facecolor': 'darkgrey'})\n",
    "sns.countplot( x = df['quality'],\n",
    "               hue = df['Wine'], \n",
    "               palette=['white',\"red\"]).set(title='Quality count by Wine Type ')\n",
    "plt.show()"
   ]
  },
  {
   "cell_type": "markdown",
   "id": "4fc9fc78",
   "metadata": {},
   "source": [
    "### Reclassifying target"
   ]
  },
  {
   "cell_type": "code",
   "execution_count": 15,
   "id": "34144973",
   "metadata": {},
   "outputs": [],
   "source": [
    "df['quality'] = df['quality'].replace([3,4,5],'low')\n",
    "df['quality'] = df['quality'].replace([6],'medium')\n",
    "df['quality'] = df['quality'].replace([7,8,9],'high')\n",
    "\n",
    "\n",
    "df['quality'] = df['quality'].astype('category')"
   ]
  },
  {
   "cell_type": "markdown",
   "id": "eb753c3e",
   "metadata": {},
   "source": [
    "### Reclassified Viz"
   ]
  },
  {
   "cell_type": "code",
   "execution_count": 16,
   "id": "e693504c",
   "metadata": {},
   "outputs": [
    {
     "data": {
      "image/png": "[encoded data removed]",
      "text/plain": [
       "<Figure size 640x480 with 1 Axes>"
      ]
     },
     "metadata": {},
     "output_type": "display_data"
    }
   ],
   "source": [
    "sns.set_style(rc = {'axes.facecolor': 'darkgrey'})\n",
    "sns.countplot(\n",
    "               x = df['quality'],\n",
    "               hue = df['Wine'], \n",
    "               palette=['white',\"red\"]).set(title='Quality count by Wine Type ')\n",
    "plt.show()"
   ]
  },
  {
   "cell_type": "markdown",
   "id": "28a5e447",
   "metadata": {},
   "source": [
    "---"
   ]
  },
  {
   "cell_type": "markdown",
   "id": "ee1c9a12",
   "metadata": {},
   "source": [
    "### Splitting and encoding features"
   ]
  },
  {
   "cell_type": "code",
   "execution_count": 17,
   "id": "7ee62d11",
   "metadata": {},
   "outputs": [],
   "source": [
    "X = df.drop(columns = ['Wine','quality',])\n",
    "y = df['quality']\n",
    "\n",
    "le = LabelEncoder()\n",
    "le.fit(y)\n",
    "\n",
    "y = le.transform(y)"
   ]
  },
  {
   "cell_type": "markdown",
   "id": "d5676369",
   "metadata": {},
   "source": [
    "---"
   ]
  },
  {
   "cell_type": "markdown",
   "id": "f72562f3",
   "metadata": {},
   "source": [
    "### Over Sampling"
   ]
  },
  {
   "cell_type": "code",
   "execution_count": 18,
   "id": "7227539b",
   "metadata": {},
   "outputs": [],
   "source": [
    "smote_nc = SMOTENC(random_state=42, categorical_features=np.unique(y))\n",
    "X_resampled, y_resampled = smote_nc.fit_resample(X, y)"
   ]
  },
  {
   "cell_type": "markdown",
   "id": "51e8e487",
   "metadata": {},
   "source": [
    "#### Viz"
   ]
  },
  {
   "cell_type": "code",
   "execution_count": 19,
   "id": "0f16bcf6",
   "metadata": {},
   "outputs": [
    {
     "name": "stderr",
     "output_type": "stream",
     "text": [
      "C:\\Users\\Chris\\AppData\\Local\\Temp\\ipykernel_3944\\450106768.py:1: UserWarning: set_ticklabels() should only be used with a fixed number of ticks, i.e. after set_ticks() or using a FixedLocator.\n",
      "  sns.countplot(x=y_resampled).set_xticklabels(le.classes_)\n"
     ]
    },
    {
     "data": {
      "image/png": "[encoded data removed]",
      "text/plain": [
       "<Figure size 640x480 with 1 Axes>"
      ]
     },
     "metadata": {},
     "output_type": "display_data"
    }
   ],
   "source": [
    "sns.countplot(x=y_resampled).set_xticklabels(le.classes_)\n",
    "plt.show()"
   ]
  },
  {
   "cell_type": "markdown",
   "id": "1378ef78",
   "metadata": {},
   "source": [
    "---"
   ]
  },
  {
   "cell_type": "markdown",
   "id": "0f4c2d60",
   "metadata": {},
   "source": [
    "### Building Models"
   ]
  },
  {
   "cell_type": "markdown",
   "id": "debe3450",
   "metadata": {},
   "source": [
    "#### Splitting data"
   ]
  },
  {
   "cell_type": "code",
   "execution_count": 20,
   "id": "3d2b99c9",
   "metadata": {},
   "outputs": [],
   "source": [
    "X_train,X_test,y_train,y_test = train_test_split(X_resampled, y_resampled,random_state=42)"
   ]
  },
  {
   "cell_type": "markdown",
   "id": "e43cd5d9",
   "metadata": {},
   "source": [
    "---"
   ]
  },
  {
   "cell_type": "markdown",
   "id": "ab8f14f4",
   "metadata": {},
   "source": [
    "#### KNeighborsClassifier"
   ]
  },
  {
   "cell_type": "code",
   "execution_count": 21,
   "id": "15713d8f",
   "metadata": {},
   "outputs": [],
   "source": [
    "train_scores = []\n",
    "test_scores = []\n",
    "for n in range(1,10):\n",
    "    knc = KNeighborsClassifier(n_neighbors = n)\n",
    "    knc.fit(X_train,y_train)\n",
    "    train_scores.append(knc.score(X_train,y_train))\n",
    "    test_scores.append(knc.score(X_test,y_test))"
   ]
  },
  {
   "cell_type": "code",
   "execution_count": 22,
   "id": "68e615c3",
   "metadata": {},
   "outputs": [
    {
     "data": {
      "image/png": "[encoded data removed]",
      "text/plain": [
       "<Figure size 640x480 with 1 Axes>"
      ]
     },
     "metadata": {},
     "output_type": "display_data"
    }
   ],
   "source": [
    "plt.plot([*range(1,10)],train_scores)\n",
    "plt.plot([*range(1,10)],test_scores)\n",
    "plt.show()"
   ]
  },
  {
   "cell_type": "markdown",
   "id": "bc515fb9",
   "metadata": {},
   "source": [
    "#### Model fit"
   ]
  },
  {
   "cell_type": "code",
   "execution_count": 23,
   "id": "e97309a8",
   "metadata": {},
   "outputs": [
    {
     "data": {
      "text/html": [
       "<style>#sk-container-id-1 {color: black;background-color: white;}#sk-container-id-1 pre{padding: 0;}#sk-container-id-1 div.sk-toggleable {background-color: white;}#sk-container-id-1 label.sk-toggleable__label {cursor: pointer;display: block;width: 100%;margin-bottom: 0;padding: 0.3em;box-sizing: border-box;text-align: center;}#sk-container-id-1 label.sk-toggleable__label-arrow:before {content: \"▸\";float: left;margin-right: 0.25em;color: #696969;}#sk-container-id-1 label.sk-toggleable__label-arrow:hover:before {color: black;}#sk-container-id-1 div.sk-estimator:hover label.sk-toggleable__label-arrow:before {color: black;}#sk-container-id-1 div.sk-toggleable__content {max-height: 0;max-width: 0;overflow: hidden;text-align: left;background-color: #f0f8ff;}#sk-container-id-1 div.sk-toggleable__content pre {margin: 0.2em;color: black;border-radius: 0.25em;background-color: #f0f8ff;}#sk-container-id-1 input.sk-toggleable__control:checked~div.sk-toggleable__content {max-height: 200px;max-width: 100%;overflow: auto;}#sk-container-id-1 input.sk-toggleable__control:checked~label.sk-toggleable__label-arrow:before {content: \"▾\";}#sk-container-id-1 div.sk-estimator input.sk-toggleable__control:checked~label.sk-toggleable__label {background-color: #d4ebff;}#sk-container-id-1 div.sk-label input.sk-toggleable__control:checked~label.sk-toggleable__label {background-color: #d4ebff;}#sk-container-id-1 input.sk-hidden--visually {border: 0;clip: rect(1px 1px 1px 1px);clip: rect(1px, 1px, 1px, 1px);height: 1px;margin: -1px;overflow: hidden;padding: 0;position: absolute;width: 1px;}#sk-container-id-1 div.sk-estimator {font-family: monospace;background-color: #f0f8ff;border: 1px dotted black;border-radius: 0.25em;box-sizing: border-box;margin-bottom: 0.5em;}#sk-container-id-1 div.sk-estimator:hover {background-color: #d4ebff;}#sk-container-id-1 div.sk-parallel-item::after {content: \"\";width: 100%;border-bottom: 1px solid gray;flex-grow: 1;}#sk-container-id-1 div.sk-label:hover label.sk-toggleable__label {background-color: #d4ebff;}#sk-container-id-1 div.sk-serial::before {content: \"\";position: absolute;border-left: 1px solid gray;box-sizing: border-box;top: 0;bottom: 0;left: 50%;z-index: 0;}#sk-container-id-1 div.sk-serial {display: flex;flex-direction: column;align-items: center;background-color: white;padding-right: 0.2em;padding-left: 0.2em;position: relative;}#sk-container-id-1 div.sk-item {position: relative;z-index: 1;}#sk-container-id-1 div.sk-parallel {display: flex;align-items: stretch;justify-content: center;background-color: white;position: relative;}#sk-container-id-1 div.sk-item::before, #sk-container-id-1 div.sk-parallel-item::before {content: \"\";position: absolute;border-left: 1px solid gray;box-sizing: border-box;top: 0;bottom: 0;left: 50%;z-index: -1;}#sk-container-id-1 div.sk-parallel-item {display: flex;flex-direction: column;z-index: 1;position: relative;background-color: white;}#sk-container-id-1 div.sk-parallel-item:first-child::after {align-self: flex-end;width: 50%;}#sk-container-id-1 div.sk-parallel-item:last-child::after {align-self: flex-start;width: 50%;}#sk-container-id-1 div.sk-parallel-item:only-child::after {width: 0;}#sk-container-id-1 div.sk-dashed-wrapped {border: 1px dashed gray;margin: 0 0.4em 0.5em 0.4em;box-sizing: border-box;padding-bottom: 0.4em;background-color: white;}#sk-container-id-1 div.sk-label label {font-family: monospace;font-weight: bold;display: inline-block;line-height: 1.2em;}#sk-container-id-1 div.sk-label-container {text-align: center;}#sk-container-id-1 div.sk-container {/* jupyter's `normalize.less` sets `[hidden] { display: none; }` but bootstrap.min.css set `[hidden] { display: none !important; }` so we also need the `!important` here to be able to override the default hidden behavior on the sphinx rendered scikit-learn.org. See: https://github.com/scikit-learn/scikit-learn/issues/21755 */display: inline-block !important;position: relative;}#sk-container-id-1 div.sk-text-repr-fallback {display: none;}</style><div id=\"sk-container-id-1\" class=\"sk-top-container\"><div class=\"sk-text-repr-fallback\"><pre>KNeighborsClassifier(n_neighbors=1)</pre><b>In a Jupyter environment, please rerun this cell to show the HTML representation or trust the notebook. <br />On GitHub, the HTML representation is unable to render, please try loading this page with nbviewer.org.</b></div><div class=\"sk-container\" hidden><div class=\"sk-item\"><div class=\"sk-estimator sk-toggleable\"><input class=\"sk-toggleable__control sk-hidden--visually\" id=\"sk-estimator-id-1\" type=\"checkbox\" checked><label for=\"sk-estimator-id-1\" class=\"sk-toggleable__label sk-toggleable__label-arrow\">KNeighborsClassifier</label><div class=\"sk-toggleable__content\"><pre>KNeighborsClassifier(n_neighbors=1)</pre></div></div></div></div></div>"
      ],
      "text/plain": [
       "KNeighborsClassifier(n_neighbors=1)"
      ]
     },
     "execution_count": 23,
     "metadata": {},
     "output_type": "execute_result"
    }
   ],
   "source": [
    "knc = KNeighborsClassifier(n_neighbors = 1 )\n",
    "knc.fit(X_train,y_train)"
   ]
  },
  {
   "cell_type": "markdown",
   "id": "3316abb2",
   "metadata": {},
   "source": [
    "#### Confusion Matrix"
   ]
  },
  {
   "cell_type": "code",
   "execution_count": 24,
   "id": "4f65c865",
   "metadata": {},
   "outputs": [
    {
     "data": {
      "image/png": "[encoded data removed]",
      "text/plain": [
       "<Figure size 640x480 with 2 Axes>"
      ]
     },
     "metadata": {},
     "output_type": "display_data"
    }
   ],
   "source": [
    "y_pred = knc.predict(X_test)\n",
    "\n",
    "cm = confusion_matrix(y_test, y_pred)\n",
    "\n",
    "display = ConfusionMatrixDisplay(confusion_matrix=cm,\n",
    "                              display_labels=le.classes_)\n",
    "display.plot()\n",
    "plt.show()"
   ]
  },
  {
   "cell_type": "code",
   "execution_count": 25,
   "id": "47961214",
   "metadata": {},
   "outputs": [
    {
     "name": "stdout",
     "output_type": "stream",
     "text": [
      "              precision    recall  f1-score   support\n",
      "\n",
      "           0       0.77      0.88      0.82       677\n",
      "           1       0.73      0.70      0.72       726\n",
      "           2       0.67      0.60      0.63       724\n",
      "\n",
      "    accuracy                           0.72      2127\n",
      "   macro avg       0.72      0.73      0.72      2127\n",
      "weighted avg       0.72      0.72      0.72      2127\n",
      "\n"
     ]
    }
   ],
   "source": [
    "print(classification_report(y_test,y_pred))"
   ]
  },
  {
   "cell_type": "markdown",
   "id": "a3595e7d",
   "metadata": {},
   "source": [
    "---"
   ]
  },
  {
   "cell_type": "markdown",
   "id": "bd130989",
   "metadata": {},
   "source": [
    "#### SVC"
   ]
  },
  {
   "cell_type": "code",
   "execution_count": 26,
   "id": "3c09dbec",
   "metadata": {},
   "outputs": [
    {
     "name": "stdout",
     "output_type": "stream",
     "text": [
      "Fitting 5 folds for each of 12 candidates, totalling 60 fits\n",
      "[CV 1/5] END ..........C=5, gamma=1, kernel=rbf;, score=0.677 total time=   3.0s\n",
      "[CV 2/5] END ..........C=5, gamma=1, kernel=rbf;, score=0.706 total time=   3.0s\n",
      "[CV 3/5] END ..........C=5, gamma=1, kernel=rbf;, score=0.713 total time=   3.0s\n",
      "[CV 4/5] END ..........C=5, gamma=1, kernel=rbf;, score=0.686 total time=   2.8s\n",
      "[CV 5/5] END ..........C=5, gamma=1, kernel=rbf;, score=0.679 total time=   2.9s\n",
      "[CV 1/5] END ..........C=5, gamma=2, kernel=rbf;, score=0.647 total time=   2.7s\n",
      "[CV 2/5] END ..........C=5, gamma=2, kernel=rbf;, score=0.679 total time=   2.6s\n",
      "[CV 3/5] END ..........C=5, gamma=2, kernel=rbf;, score=0.687 total time=   2.8s\n",
      "[CV 4/5] END ..........C=5, gamma=2, kernel=rbf;, score=0.654 total time=   2.9s\n",
      "[CV 5/5] END ..........C=5, gamma=2, kernel=rbf;, score=0.662 total time=   2.8s\n",
      "[CV 1/5] END ..........C=5, gamma=3, kernel=rbf;, score=0.630 total time=   2.9s\n",
      "[CV 2/5] END ..........C=5, gamma=3, kernel=rbf;, score=0.658 total time=   2.9s\n",
      "[CV 3/5] END ..........C=5, gamma=3, kernel=rbf;, score=0.669 total time=   2.5s\n",
      "[CV 4/5] END ..........C=5, gamma=3, kernel=rbf;, score=0.639 total time=   2.5s\n",
      "[CV 5/5] END ..........C=5, gamma=3, kernel=rbf;, score=0.638 total time=   2.7s\n",
      "[CV 1/5] END ..........C=5, gamma=4, kernel=rbf;, score=0.622 total time=   2.7s\n",
      "[CV 2/5] END ..........C=5, gamma=4, kernel=rbf;, score=0.644 total time=   2.5s\n",
      "[CV 3/5] END ..........C=5, gamma=4, kernel=rbf;, score=0.645 total time=   2.5s\n",
      "[CV 4/5] END ..........C=5, gamma=4, kernel=rbf;, score=0.628 total time=   2.6s\n",
      "[CV 5/5] END ..........C=5, gamma=4, kernel=rbf;, score=0.624 total time=   2.5s\n",
      "[CV 1/5] END .........C=10, gamma=1, kernel=rbf;, score=0.677 total time=   2.5s\n",
      "[CV 2/5] END .........C=10, gamma=1, kernel=rbf;, score=0.706 total time=   2.6s\n",
      "[CV 3/5] END .........C=10, gamma=1, kernel=rbf;, score=0.713 total time=   2.5s\n",
      "[CV 4/5] END .........C=10, gamma=1, kernel=rbf;, score=0.686 total time=   2.6s\n",
      "[CV 5/5] END .........C=10, gamma=1, kernel=rbf;, score=0.679 total time=   2.5s\n",
      "[CV 1/5] END .........C=10, gamma=2, kernel=rbf;, score=0.647 total time=   2.5s\n",
      "[CV 2/5] END .........C=10, gamma=2, kernel=rbf;, score=0.680 total time=   2.5s\n",
      "[CV 3/5] END .........C=10, gamma=2, kernel=rbf;, score=0.687 total time=   2.5s\n",
      "[CV 4/5] END .........C=10, gamma=2, kernel=rbf;, score=0.654 total time=   2.5s\n",
      "[CV 5/5] END .........C=10, gamma=2, kernel=rbf;, score=0.662 total time=   2.5s\n",
      "[CV 1/5] END .........C=10, gamma=3, kernel=rbf;, score=0.630 total time=   2.6s\n",
      "[CV 2/5] END .........C=10, gamma=3, kernel=rbf;, score=0.658 total time=   2.6s\n",
      "[CV 3/5] END .........C=10, gamma=3, kernel=rbf;, score=0.669 total time=   2.5s\n",
      "[CV 4/5] END .........C=10, gamma=3, kernel=rbf;, score=0.639 total time=   2.5s\n",
      "[CV 5/5] END .........C=10, gamma=3, kernel=rbf;, score=0.638 total time=   2.5s\n",
      "[CV 1/5] END .........C=10, gamma=4, kernel=rbf;, score=0.622 total time=   2.6s\n",
      "[CV 2/5] END .........C=10, gamma=4, kernel=rbf;, score=0.644 total time=   2.5s\n",
      "[CV 3/5] END .........C=10, gamma=4, kernel=rbf;, score=0.645 total time=   2.5s\n",
      "[CV 4/5] END .........C=10, gamma=4, kernel=rbf;, score=0.628 total time=   2.5s\n",
      "[CV 5/5] END .........C=10, gamma=4, kernel=rbf;, score=0.624 total time=   2.5s\n",
      "[CV 1/5] END .........C=15, gamma=1, kernel=rbf;, score=0.677 total time=   2.5s\n",
      "[CV 2/5] END .........C=15, gamma=1, kernel=rbf;, score=0.706 total time=   2.5s\n",
      "[CV 3/5] END .........C=15, gamma=1, kernel=rbf;, score=0.713 total time=   2.5s\n",
      "[CV 4/5] END .........C=15, gamma=1, kernel=rbf;, score=0.686 total time=   2.6s\n",
      "[CV 5/5] END .........C=15, gamma=1, kernel=rbf;, score=0.679 total time=   2.5s\n",
      "[CV 1/5] END .........C=15, gamma=2, kernel=rbf;, score=0.647 total time=   2.5s\n",
      "[CV 2/5] END .........C=15, gamma=2, kernel=rbf;, score=0.680 total time=   2.5s\n",
      "[CV 3/5] END .........C=15, gamma=2, kernel=rbf;, score=0.687 total time=   2.5s\n",
      "[CV 4/5] END .........C=15, gamma=2, kernel=rbf;, score=0.654 total time=   2.6s\n",
      "[CV 5/5] END .........C=15, gamma=2, kernel=rbf;, score=0.662 total time=   2.6s\n",
      "[CV 1/5] END .........C=15, gamma=3, kernel=rbf;, score=0.630 total time=   2.5s\n",
      "[CV 2/5] END .........C=15, gamma=3, kernel=rbf;, score=0.658 total time=   2.5s\n",
      "[CV 3/5] END .........C=15, gamma=3, kernel=rbf;, score=0.669 total time=   2.5s\n",
      "[CV 4/5] END .........C=15, gamma=3, kernel=rbf;, score=0.639 total time=   2.6s\n",
      "[CV 5/5] END .........C=15, gamma=3, kernel=rbf;, score=0.638 total time=   2.5s\n",
      "[CV 1/5] END .........C=15, gamma=4, kernel=rbf;, score=0.622 total time=   2.5s\n",
      "[CV 2/5] END .........C=15, gamma=4, kernel=rbf;, score=0.644 total time=   2.5s\n",
      "[CV 3/5] END .........C=15, gamma=4, kernel=rbf;, score=0.645 total time=   2.5s\n",
      "[CV 4/5] END .........C=15, gamma=4, kernel=rbf;, score=0.628 total time=   2.5s\n",
      "[CV 5/5] END .........C=15, gamma=4, kernel=rbf;, score=0.624 total time=   2.5s\n"
     ]
    },
    {
     "data": {
      "text/html": [
       "<style>#sk-container-id-2 {color: black;background-color: white;}#sk-container-id-2 pre{padding: 0;}#sk-container-id-2 div.sk-toggleable {background-color: white;}#sk-container-id-2 label.sk-toggleable__label {cursor: pointer;display: block;width: 100%;margin-bottom: 0;padding: 0.3em;box-sizing: border-box;text-align: center;}#sk-container-id-2 label.sk-toggleable__label-arrow:before {content: \"▸\";float: left;margin-right: 0.25em;color: #696969;}#sk-container-id-2 label.sk-toggleable__label-arrow:hover:before {color: black;}#sk-container-id-2 div.sk-estimator:hover label.sk-toggleable__label-arrow:before {color: black;}#sk-container-id-2 div.sk-toggleable__content {max-height: 0;max-width: 0;overflow: hidden;text-align: left;background-color: #f0f8ff;}#sk-container-id-2 div.sk-toggleable__content pre {margin: 0.2em;color: black;border-radius: 0.25em;background-color: #f0f8ff;}#sk-container-id-2 input.sk-toggleable__control:checked~div.sk-toggleable__content {max-height: 200px;max-width: 100%;overflow: auto;}#sk-container-id-2 input.sk-toggleable__control:checked~label.sk-toggleable__label-arrow:before {content: \"▾\";}#sk-container-id-2 div.sk-estimator input.sk-toggleable__control:checked~label.sk-toggleable__label {background-color: #d4ebff;}#sk-container-id-2 div.sk-label input.sk-toggleable__control:checked~label.sk-toggleable__label {background-color: #d4ebff;}#sk-container-id-2 input.sk-hidden--visually {border: 0;clip: rect(1px 1px 1px 1px);clip: rect(1px, 1px, 1px, 1px);height: 1px;margin: -1px;overflow: hidden;padding: 0;position: absolute;width: 1px;}#sk-container-id-2 div.sk-estimator {font-family: monospace;background-color: #f0f8ff;border: 1px dotted black;border-radius: 0.25em;box-sizing: border-box;margin-bottom: 0.5em;}#sk-container-id-2 div.sk-estimator:hover {background-color: #d4ebff;}#sk-container-id-2 div.sk-parallel-item::after {content: \"\";width: 100%;border-bottom: 1px solid gray;flex-grow: 1;}#sk-container-id-2 div.sk-label:hover label.sk-toggleable__label {background-color: #d4ebff;}#sk-container-id-2 div.sk-serial::before {content: \"\";position: absolute;border-left: 1px solid gray;box-sizing: border-box;top: 0;bottom: 0;left: 50%;z-index: 0;}#sk-container-id-2 div.sk-serial {display: flex;flex-direction: column;align-items: center;background-color: white;padding-right: 0.2em;padding-left: 0.2em;position: relative;}#sk-container-id-2 div.sk-item {position: relative;z-index: 1;}#sk-container-id-2 div.sk-parallel {display: flex;align-items: stretch;justify-content: center;background-color: white;position: relative;}#sk-container-id-2 div.sk-item::before, #sk-container-id-2 div.sk-parallel-item::before {content: \"\";position: absolute;border-left: 1px solid gray;box-sizing: border-box;top: 0;bottom: 0;left: 50%;z-index: -1;}#sk-container-id-2 div.sk-parallel-item {display: flex;flex-direction: column;z-index: 1;position: relative;background-color: white;}#sk-container-id-2 div.sk-parallel-item:first-child::after {align-self: flex-end;width: 50%;}#sk-container-id-2 div.sk-parallel-item:last-child::after {align-self: flex-start;width: 50%;}#sk-container-id-2 div.sk-parallel-item:only-child::after {width: 0;}#sk-container-id-2 div.sk-dashed-wrapped {border: 1px dashed gray;margin: 0 0.4em 0.5em 0.4em;box-sizing: border-box;padding-bottom: 0.4em;background-color: white;}#sk-container-id-2 div.sk-label label {font-family: monospace;font-weight: bold;display: inline-block;line-height: 1.2em;}#sk-container-id-2 div.sk-label-container {text-align: center;}#sk-container-id-2 div.sk-container {/* jupyter's `normalize.less` sets `[hidden] { display: none; }` but bootstrap.min.css set `[hidden] { display: none !important; }` so we also need the `!important` here to be able to override the default hidden behavior on the sphinx rendered scikit-learn.org. See: https://github.com/scikit-learn/scikit-learn/issues/21755 */display: inline-block !important;position: relative;}#sk-container-id-2 div.sk-text-repr-fallback {display: none;}</style><div id=\"sk-container-id-2\" class=\"sk-top-container\"><div class=\"sk-text-repr-fallback\"><pre>GridSearchCV(estimator=SVC(),\n",
       "             param_grid={&#x27;C&#x27;: [5, 10, 15], &#x27;gamma&#x27;: [1, 2, 3, 4],\n",
       "                         &#x27;kernel&#x27;: [&#x27;rbf&#x27;]},\n",
       "             verbose=3)</pre><b>In a Jupyter environment, please rerun this cell to show the HTML representation or trust the notebook. <br />On GitHub, the HTML representation is unable to render, please try loading this page with nbviewer.org.</b></div><div class=\"sk-container\" hidden><div class=\"sk-item sk-dashed-wrapped\"><div class=\"sk-label-container\"><div class=\"sk-label sk-toggleable\"><input class=\"sk-toggleable__control sk-hidden--visually\" id=\"sk-estimator-id-2\" type=\"checkbox\" ><label for=\"sk-estimator-id-2\" class=\"sk-toggleable__label sk-toggleable__label-arrow\">GridSearchCV</label><div class=\"sk-toggleable__content\"><pre>GridSearchCV(estimator=SVC(),\n",
       "             param_grid={&#x27;C&#x27;: [5, 10, 15], &#x27;gamma&#x27;: [1, 2, 3, 4],\n",
       "                         &#x27;kernel&#x27;: [&#x27;rbf&#x27;]},\n",
       "             verbose=3)</pre></div></div></div><div class=\"sk-parallel\"><div class=\"sk-parallel-item\"><div class=\"sk-item\"><div class=\"sk-label-container\"><div class=\"sk-label sk-toggleable\"><input class=\"sk-toggleable__control sk-hidden--visually\" id=\"sk-estimator-id-3\" type=\"checkbox\" ><label for=\"sk-estimator-id-3\" class=\"sk-toggleable__label sk-toggleable__label-arrow\">estimator: SVC</label><div class=\"sk-toggleable__content\"><pre>SVC()</pre></div></div></div><div class=\"sk-serial\"><div class=\"sk-item\"><div class=\"sk-estimator sk-toggleable\"><input class=\"sk-toggleable__control sk-hidden--visually\" id=\"sk-estimator-id-4\" type=\"checkbox\" ><label for=\"sk-estimator-id-4\" class=\"sk-toggleable__label sk-toggleable__label-arrow\">SVC</label><div class=\"sk-toggleable__content\"><pre>SVC()</pre></div></div></div></div></div></div></div></div></div></div>"
      ],
      "text/plain": [
       "GridSearchCV(estimator=SVC(),\n",
       "             param_grid={'C': [5, 10, 15], 'gamma': [1, 2, 3, 4],\n",
       "                         'kernel': ['rbf']},\n",
       "             verbose=3)"
      ]
     },
     "execution_count": 26,
     "metadata": {},
     "output_type": "execute_result"
    }
   ],
   "source": [
    "param_grid_svc = {\n",
    "              'C': [5,10,15], \n",
    "              'gamma': [1,2,3,4],\n",
    "              'kernel': ['rbf']\n",
    "              }\n",
    "grid_svc= GridSearchCV(\n",
    "                       SVC(),\n",
    "                       param_grid_svc,\n",
    "                       refit=True,verbose=3\n",
    "                       )\n",
    "\n",
    "grid_svc.fit(X_train,y_train)"
   ]
  },
  {
   "cell_type": "code",
   "execution_count": 27,
   "id": "2caf6a85",
   "metadata": {},
   "outputs": [
    {
     "name": "stdout",
     "output_type": "stream",
     "text": [
      "{'C': 5, 'gamma': 1, 'kernel': 'rbf'}\n",
      "0.6920569614815287\n"
     ]
    }
   ],
   "source": [
    "print(grid_svc.best_params_)\n",
    "print(grid_svc.best_score_)"
   ]
  },
  {
   "cell_type": "markdown",
   "id": "bb32002b",
   "metadata": {},
   "source": [
    "#### Model fit"
   ]
  },
  {
   "cell_type": "code",
   "execution_count": 28,
   "id": "527bf507",
   "metadata": {},
   "outputs": [
    {
     "data": {
      "text/html": [
       "<style>#sk-container-id-3 {color: black;background-color: white;}#sk-container-id-3 pre{padding: 0;}#sk-container-id-3 div.sk-toggleable {background-color: white;}#sk-container-id-3 label.sk-toggleable__label {cursor: pointer;display: block;width: 100%;margin-bottom: 0;padding: 0.3em;box-sizing: border-box;text-align: center;}#sk-container-id-3 label.sk-toggleable__label-arrow:before {content: \"▸\";float: left;margin-right: 0.25em;color: #696969;}#sk-container-id-3 label.sk-toggleable__label-arrow:hover:before {color: black;}#sk-container-id-3 div.sk-estimator:hover label.sk-toggleable__label-arrow:before {color: black;}#sk-container-id-3 div.sk-toggleable__content {max-height: 0;max-width: 0;overflow: hidden;text-align: left;background-color: #f0f8ff;}#sk-container-id-3 div.sk-toggleable__content pre {margin: 0.2em;color: black;border-radius: 0.25em;background-color: #f0f8ff;}#sk-container-id-3 input.sk-toggleable__control:checked~div.sk-toggleable__content {max-height: 200px;max-width: 100%;overflow: auto;}#sk-container-id-3 input.sk-toggleable__control:checked~label.sk-toggleable__label-arrow:before {content: \"▾\";}#sk-container-id-3 div.sk-estimator input.sk-toggleable__control:checked~label.sk-toggleable__label {background-color: #d4ebff;}#sk-container-id-3 div.sk-label input.sk-toggleable__control:checked~label.sk-toggleable__label {background-color: #d4ebff;}#sk-container-id-3 input.sk-hidden--visually {border: 0;clip: rect(1px 1px 1px 1px);clip: rect(1px, 1px, 1px, 1px);height: 1px;margin: -1px;overflow: hidden;padding: 0;position: absolute;width: 1px;}#sk-container-id-3 div.sk-estimator {font-family: monospace;background-color: #f0f8ff;border: 1px dotted black;border-radius: 0.25em;box-sizing: border-box;margin-bottom: 0.5em;}#sk-container-id-3 div.sk-estimator:hover {background-color: #d4ebff;}#sk-container-id-3 div.sk-parallel-item::after {content: \"\";width: 100%;border-bottom: 1px solid gray;flex-grow: 1;}#sk-container-id-3 div.sk-label:hover label.sk-toggleable__label {background-color: #d4ebff;}#sk-container-id-3 div.sk-serial::before {content: \"\";position: absolute;border-left: 1px solid gray;box-sizing: border-box;top: 0;bottom: 0;left: 50%;z-index: 0;}#sk-container-id-3 div.sk-serial {display: flex;flex-direction: column;align-items: center;background-color: white;padding-right: 0.2em;padding-left: 0.2em;position: relative;}#sk-container-id-3 div.sk-item {position: relative;z-index: 1;}#sk-container-id-3 div.sk-parallel {display: flex;align-items: stretch;justify-content: center;background-color: white;position: relative;}#sk-container-id-3 div.sk-item::before, #sk-container-id-3 div.sk-parallel-item::before {content: \"\";position: absolute;border-left: 1px solid gray;box-sizing: border-box;top: 0;bottom: 0;left: 50%;z-index: -1;}#sk-container-id-3 div.sk-parallel-item {display: flex;flex-direction: column;z-index: 1;position: relative;background-color: white;}#sk-container-id-3 div.sk-parallel-item:first-child::after {align-self: flex-end;width: 50%;}#sk-container-id-3 div.sk-parallel-item:last-child::after {align-self: flex-start;width: 50%;}#sk-container-id-3 div.sk-parallel-item:only-child::after {width: 0;}#sk-container-id-3 div.sk-dashed-wrapped {border: 1px dashed gray;margin: 0 0.4em 0.5em 0.4em;box-sizing: border-box;padding-bottom: 0.4em;background-color: white;}#sk-container-id-3 div.sk-label label {font-family: monospace;font-weight: bold;display: inline-block;line-height: 1.2em;}#sk-container-id-3 div.sk-label-container {text-align: center;}#sk-container-id-3 div.sk-container {/* jupyter's `normalize.less` sets `[hidden] { display: none; }` but bootstrap.min.css set `[hidden] { display: none !important; }` so we also need the `!important` here to be able to override the default hidden behavior on the sphinx rendered scikit-learn.org. See: https://github.com/scikit-learn/scikit-learn/issues/21755 */display: inline-block !important;position: relative;}#sk-container-id-3 div.sk-text-repr-fallback {display: none;}</style><div id=\"sk-container-id-3\" class=\"sk-top-container\"><div class=\"sk-text-repr-fallback\"><pre>SVC(C=5, gamma=1)</pre><b>In a Jupyter environment, please rerun this cell to show the HTML representation or trust the notebook. <br />On GitHub, the HTML representation is unable to render, please try loading this page with nbviewer.org.</b></div><div class=\"sk-container\" hidden><div class=\"sk-item\"><div class=\"sk-estimator sk-toggleable\"><input class=\"sk-toggleable__control sk-hidden--visually\" id=\"sk-estimator-id-5\" type=\"checkbox\" checked><label for=\"sk-estimator-id-5\" class=\"sk-toggleable__label sk-toggleable__label-arrow\">SVC</label><div class=\"sk-toggleable__content\"><pre>SVC(C=5, gamma=1)</pre></div></div></div></div></div>"
      ],
      "text/plain": [
       "SVC(C=5, gamma=1)"
      ]
     },
     "execution_count": 28,
     "metadata": {},
     "output_type": "execute_result"
    }
   ],
   "source": [
    "C = grid_svc.best_params_['C'] \n",
    "gamma = grid_svc.best_params_['gamma']\n",
    "kernel = grid_svc.best_params_['kernel']\n",
    "                              \n",
    "svc = SVC(C = C,\n",
    "         gamma = gamma,\n",
    "         kernel = kernel)\n",
    "\n",
    "svc.fit(X_train,y_train)"
   ]
  },
  {
   "cell_type": "markdown",
   "id": "b93e39a0",
   "metadata": {},
   "source": [
    "#### Confusion Matrix"
   ]
  },
  {
   "cell_type": "code",
   "execution_count": 29,
   "id": "bc8bfdac",
   "metadata": {},
   "outputs": [
    {
     "data": {
      "image/png": "[encoded data removed]",
      "text/plain": [
       "<Figure size 640x480 with 2 Axes>"
      ]
     },
     "metadata": {},
     "output_type": "display_data"
    }
   ],
   "source": [
    "y_pred = svc.predict(X_test)\n",
    "\n",
    "cm = confusion_matrix(y_test, y_pred)\n",
    "\n",
    "display = ConfusionMatrixDisplay(confusion_matrix=cm,\n",
    "                              display_labels=le.classes_)\n",
    "display.plot()\n",
    "plt.show()"
   ]
  },
  {
   "cell_type": "markdown",
   "id": "5db97d58",
   "metadata": {},
   "source": [
    "#### Classfication Report"
   ]
  },
  {
   "cell_type": "code",
   "execution_count": 30,
   "id": "2a8b64e4",
   "metadata": {},
   "outputs": [
    {
     "name": "stdout",
     "output_type": "stream",
     "text": [
      "              precision    recall  f1-score   support\n",
      "\n",
      "           0       0.95      0.74      0.83       677\n",
      "           1       0.83      0.52      0.64       726\n",
      "           2       0.55      0.88      0.68       724\n",
      "\n",
      "    accuracy                           0.71      2127\n",
      "   macro avg       0.78      0.71      0.72      2127\n",
      "weighted avg       0.77      0.71      0.71      2127\n",
      "\n"
     ]
    }
   ],
   "source": [
    "print(classification_report(y_test,y_pred))"
   ]
  },
  {
   "cell_type": "markdown",
   "id": "19211826",
   "metadata": {},
   "source": [
    "---"
   ]
  },
  {
   "cell_type": "markdown",
   "id": "a5074cb0",
   "metadata": {},
   "source": [
    "#### DecisionTreeClassifier"
   ]
  },
  {
   "cell_type": "code",
   "execution_count": 31,
   "id": "1ff5f9e7",
   "metadata": {},
   "outputs": [
    {
     "name": "stdout",
     "output_type": "stream",
     "text": [
      "Fitting 5 folds for each of 324 candidates, totalling 1620 fits\n",
      "[CV 1/5] END criterion=gini, max_depth=10, max_features=sqrt, max_leaf_nodes=900, min_samples_split=4, splitter=best;, score=0.625 total time=   0.0s\n",
      "[CV 2/5] END criterion=gini, max_depth=10, max_features=sqrt, max_leaf_nodes=900, min_samples_split=4, splitter=best;, score=0.669 total time=   0.0s\n",
      "[CV 3/5] END criterion=gini, max_depth=10, max_features=sqrt, max_leaf_nodes=900, min_samples_split=4, splitter=best;, score=0.622 total time=   0.0s\n",
      "[CV 4/5] END criterion=gini, max_depth=10, max_features=sqrt, max_leaf_nodes=900, min_samples_split=4, splitter=best;, score=0.617 total time=   0.0s\n",
      "[CV 5/5] END criterion=gini, max_depth=10, max_features=sqrt, max_leaf_nodes=900, min_samples_split=4, splitter=best;, score=0.646 total time=   0.0s\n",
      "[CV 1/5] END criterion=gini, max_depth=10, max_features=sqrt, max_leaf_nodes=900, min_samples_split=4, splitter=random;, score=0.566 total time=   0.0s\n",
      "[CV 2/5] END criterion=gini, max_depth=10, max_features=sqrt, max_leaf_nodes=900, min_samples_split=4, splitter=random;, score=0.558 total time=   0.0s\n",
      "[CV 3/5] END criterion=gini, max_depth=10, max_features=sqrt, max_leaf_nodes=900, min_samples_split=4, splitter=random;, score=0.595 total time=   0.0s\n",
      "[CV 4/5] END criterion=gini, max_depth=10, max_features=sqrt, max_leaf_nodes=900, min_samples_split=4, splitter=random;, score=0.502 total time=   0.0s\n",
      "[CV 5/5] END criterion=gini, max_depth=10, max_features=sqrt, max_leaf_nodes=900, min_samples_split=4, splitter=random;, score=0.542 total time=   0.0s\n",
      "[CV 1/5] END criterion=gini, max_depth=10, max_features=sqrt, max_leaf_nodes=900, min_samples_split=6, splitter=best;, score=0.616 total time=   0.0s\n",
      "[CV 2/5] END criterion=gini, max_depth=10, max_features=sqrt, max_leaf_nodes=900, min_samples_split=6, splitter=best;, score=0.645 total time=   0.0s\n",
      "[CV 3/5] END criterion=gini, max_depth=10, max_features=sqrt, max_leaf_nodes=900, min_samples_split=6, splitter=best;, score=0.640 total time=   0.0s\n",
      "[CV 4/5] END criterion=gini, max_depth=10, max_features=sqrt, max_leaf_nodes=900, min_samples_split=6, splitter=best;, score=0.646 total time=   0.0s\n",
      "[CV 5/5] END criterion=gini, max_depth=10, max_features=sqrt, max_leaf_nodes=900, min_samples_split=6, splitter=best;, score=0.635 total time=   0.0s\n",
      "[CV 1/5] END criterion=gini, max_depth=10, max_features=sqrt, max_leaf_nodes=900, min_samples_split=6, splitter=random;, score=0.533 total time=   0.0s\n",
      "[CV 2/5] END criterion=gini, max_depth=10, max_features=sqrt, max_leaf_nodes=900, min_samples_split=6, splitter=random;, score=0.547 total time=   0.0s\n",
      "[CV 3/5] END criterion=gini, max_depth=10, max_features=sqrt, max_leaf_nodes=900, min_samples_split=6, splitter=random;, score=0.591 total time=   0.0s\n",
      "[CV 4/5] END criterion=gini, max_depth=10, max_features=sqrt, max_leaf_nodes=900, min_samples_split=6, splitter=random;, score=0.523 total time=   0.0s\n",
      "[CV 5/5] END criterion=gini, max_depth=10, max_features=sqrt, max_leaf_nodes=900, min_samples_split=6, splitter=random;, score=0.592 total time=   0.0s\n",
      "[CV 1/5] END criterion=gini, max_depth=10, max_features=sqrt, max_leaf_nodes=900, min_samples_split=8, splitter=best;, score=0.608 total time=   0.0s\n",
      "[CV 2/5] END criterion=gini, max_depth=10, max_features=sqrt, max_leaf_nodes=900, min_samples_split=8, splitter=best;, score=0.638 total time=   0.0s\n",
      "[CV 3/5] END criterion=gini, max_depth=10, max_features=sqrt, max_leaf_nodes=900, min_samples_split=8, splitter=best;, score=0.654 total time=   0.0s\n",
      "[CV 4/5] END criterion=gini, max_depth=10, max_features=sqrt, max_leaf_nodes=900, min_samples_split=8, splitter=best;, score=0.610 total time=   0.0s\n",
      "[CV 5/5] END criterion=gini, max_depth=10, max_features=sqrt, max_leaf_nodes=900, min_samples_split=8, splitter=best;, score=0.633 total time=   0.0s\n",
      "[CV 1/5] END criterion=gini, max_depth=10, max_features=sqrt, max_leaf_nodes=900, min_samples_split=8, splitter=random;, score=0.529 total time=   0.0s\n",
      "[CV 2/5] END criterion=gini, max_depth=10, max_features=sqrt, max_leaf_nodes=900, min_samples_split=8, splitter=random;, score=0.566 total time=   0.0s\n",
      "[CV 3/5] END criterion=gini, max_depth=10, max_features=sqrt, max_leaf_nodes=900, min_samples_split=8, splitter=random;, score=0.568 total time=   0.0s\n",
      "[CV 4/5] END criterion=gini, max_depth=10, max_features=sqrt, max_leaf_nodes=900, min_samples_split=8, splitter=random;, score=0.536 total time=   0.0s\n",
      "[CV 5/5] END criterion=gini, max_depth=10, max_features=sqrt, max_leaf_nodes=900, min_samples_split=8, splitter=random;, score=0.574 total time=   0.0s\n",
      "[CV 1/5] END criterion=gini, max_depth=10, max_features=sqrt, max_leaf_nodes=1000, min_samples_split=4, splitter=best;, score=0.625 total time=   0.0s\n",
      "[CV 2/5] END criterion=gini, max_depth=10, max_features=sqrt, max_leaf_nodes=1000, min_samples_split=4, splitter=best;, score=0.647 total time=   0.0s\n",
      "[CV 3/5] END criterion=gini, max_depth=10, max_features=sqrt, max_leaf_nodes=1000, min_samples_split=4, splitter=best;, score=0.633 total time=   0.0s\n",
      "[CV 4/5] END criterion=gini, max_depth=10, max_features=sqrt, max_leaf_nodes=1000, min_samples_split=4, splitter=best;, score=0.632 total time=   0.0s\n",
      "[CV 5/5] END criterion=gini, max_depth=10, max_features=sqrt, max_leaf_nodes=1000, min_samples_split=4, splitter=best;, score=0.632 total time=   0.0s\n",
      "[CV 1/5] END criterion=gini, max_depth=10, max_features=sqrt, max_leaf_nodes=1000, min_samples_split=4, splitter=random;, score=0.552 total time=   0.0s\n",
      "[CV 2/5] END criterion=gini, max_depth=10, max_features=sqrt, max_leaf_nodes=1000, min_samples_split=4, splitter=random;, score=0.603 total time=   0.0s\n",
      "[CV 3/5] END criterion=gini, max_depth=10, max_features=sqrt, max_leaf_nodes=1000, min_samples_split=4, splitter=random;, score=0.614 total time=   0.0s\n",
      "[CV 4/5] END criterion=gini, max_depth=10, max_features=sqrt, max_leaf_nodes=1000, min_samples_split=4, splitter=random;, score=0.565 total time=   0.0s\n",
      "[CV 5/5] END criterion=gini, max_depth=10, max_features=sqrt, max_leaf_nodes=1000, min_samples_split=4, splitter=random;, score=0.586 total time=   0.0s\n",
      "[CV 1/5] END criterion=gini, max_depth=10, max_features=sqrt, max_leaf_nodes=1000, min_samples_split=6, splitter=best;, score=0.610 total time=   0.0s\n",
      "[CV 2/5] END criterion=gini, max_depth=10, max_features=sqrt, max_leaf_nodes=1000, min_samples_split=6, splitter=best;, score=0.657 total time=   0.0s\n",
      "[CV 3/5] END criterion=gini, max_depth=10, max_features=sqrt, max_leaf_nodes=1000, min_samples_split=6, splitter=best;, score=0.636 total time=   0.0s\n",
      "[CV 4/5] END criterion=gini, max_depth=10, max_features=sqrt, max_leaf_nodes=1000, min_samples_split=6, splitter=best;, score=0.596 total time=   0.0s\n",
      "[CV 5/5] END criterion=gini, max_depth=10, max_features=sqrt, max_leaf_nodes=1000, min_samples_split=6, splitter=best;, score=0.603 total time=   0.0s\n",
      "[CV 1/5] END criterion=gini, max_depth=10, max_features=sqrt, max_leaf_nodes=1000, min_samples_split=6, splitter=random;, score=0.545 total time=   0.0s\n",
      "[CV 2/5] END criterion=gini, max_depth=10, max_features=sqrt, max_leaf_nodes=1000, min_samples_split=6, splitter=random;, score=0.582 total time=   0.0s\n",
      "[CV 3/5] END criterion=gini, max_depth=10, max_features=sqrt, max_leaf_nodes=1000, min_samples_split=6, splitter=random;, score=0.569 total time=   0.0s\n",
      "[CV 4/5] END criterion=gini, max_depth=10, max_features=sqrt, max_leaf_nodes=1000, min_samples_split=6, splitter=random;, score=0.578 total time=   0.0s\n",
      "[CV 5/5] END criterion=gini, max_depth=10, max_features=sqrt, max_leaf_nodes=1000, min_samples_split=6, splitter=random;, score=0.560 total time=   0.0s\n",
      "[CV 1/5] END criterion=gini, max_depth=10, max_features=sqrt, max_leaf_nodes=1000, min_samples_split=8, splitter=best;, score=0.616 total time=   0.0s\n",
      "[CV 2/5] END criterion=gini, max_depth=10, max_features=sqrt, max_leaf_nodes=1000, min_samples_split=8, splitter=best;, score=0.663 total time=   0.0s\n",
      "[CV 3/5] END criterion=gini, max_depth=10, max_features=sqrt, max_leaf_nodes=1000, min_samples_split=8, splitter=best;, score=0.629 total time=   0.0s\n",
      "[CV 4/5] END criterion=gini, max_depth=10, max_features=sqrt, max_leaf_nodes=1000, min_samples_split=8, splitter=best;, score=0.611 total time=   0.0s\n",
      "[CV 5/5] END criterion=gini, max_depth=10, max_features=sqrt, max_leaf_nodes=1000, min_samples_split=8, splitter=best;, score=0.634 total time=   0.0s\n",
      "[CV 1/5] END criterion=gini, max_depth=10, max_features=sqrt, max_leaf_nodes=1000, min_samples_split=8, splitter=random;, score=0.578 total time=   0.0s\n",
      "[CV 2/5] END criterion=gini, max_depth=10, max_features=sqrt, max_leaf_nodes=1000, min_samples_split=8, splitter=random;, score=0.567 total time=   0.0s\n",
      "[CV 3/5] END criterion=gini, max_depth=10, max_features=sqrt, max_leaf_nodes=1000, min_samples_split=8, splitter=random;, score=0.591 total time=   0.0s\n",
      "[CV 4/5] END criterion=gini, max_depth=10, max_features=sqrt, max_leaf_nodes=1000, min_samples_split=8, splitter=random;, score=0.544 total time=   0.0s\n",
      "[CV 5/5] END criterion=gini, max_depth=10, max_features=sqrt, max_leaf_nodes=1000, min_samples_split=8, splitter=random;, score=0.493 total time=   0.0s\n",
      "[CV 1/5] END criterion=gini, max_depth=10, max_features=sqrt, max_leaf_nodes=1100, min_samples_split=4, splitter=best;, score=0.650 total time=   0.0s\n",
      "[CV 2/5] END criterion=gini, max_depth=10, max_features=sqrt, max_leaf_nodes=1100, min_samples_split=4, splitter=best;, score=0.645 total time=   0.0s\n",
      "[CV 3/5] END criterion=gini, max_depth=10, max_features=sqrt, max_leaf_nodes=1100, min_samples_split=4, splitter=best;, score=0.616 total time=   0.0s\n",
      "[CV 4/5] END criterion=gini, max_depth=10, max_features=sqrt, max_leaf_nodes=1100, min_samples_split=4, splitter=best;, score=0.629 total time=   0.0s\n",
      "[CV 5/5] END criterion=gini, max_depth=10, max_features=sqrt, max_leaf_nodes=1100, min_samples_split=4, splitter=best;, score=0.621 total time=   0.0s\n",
      "[CV 1/5] END criterion=gini, max_depth=10, max_features=sqrt, max_leaf_nodes=1100, min_samples_split=4, splitter=random;, score=0.576 total time=   0.0s\n",
      "[CV 2/5] END criterion=gini, max_depth=10, max_features=sqrt, max_leaf_nodes=1100, min_samples_split=4, splitter=random;, score=0.535 total time=   0.0s\n",
      "[CV 3/5] END criterion=gini, max_depth=10, max_features=sqrt, max_leaf_nodes=1100, min_samples_split=4, splitter=random;, score=0.574 total time=   0.0s\n",
      "[CV 4/5] END criterion=gini, max_depth=10, max_features=sqrt, max_leaf_nodes=1100, min_samples_split=4, splitter=random;, score=0.527 total time=   0.0s\n",
      "[CV 5/5] END criterion=gini, max_depth=10, max_features=sqrt, max_leaf_nodes=1100, min_samples_split=4, splitter=random;, score=0.590 total time=   0.0s\n",
      "[CV 1/5] END criterion=gini, max_depth=10, max_features=sqrt, max_leaf_nodes=1100, min_samples_split=6, splitter=best;, score=0.632 total time=   0.0s\n",
      "[CV 2/5] END criterion=gini, max_depth=10, max_features=sqrt, max_leaf_nodes=1100, min_samples_split=6, splitter=best;, score=0.653 total time=   0.0s\n",
      "[CV 3/5] END criterion=gini, max_depth=10, max_features=sqrt, max_leaf_nodes=1100, min_samples_split=6, splitter=best;, score=0.634 total time=   0.0s\n",
      "[CV 4/5] END criterion=gini, max_depth=10, max_features=sqrt, max_leaf_nodes=1100, min_samples_split=6, splitter=best;, score=0.597 total time=   0.0s\n"
     ]
    },
    {
     "name": "stdout",
     "output_type": "stream",
     "text": [
      "[CV 5/5] END criterion=gini, max_depth=10, max_features=sqrt, max_leaf_nodes=1100, min_samples_split=6, splitter=best;, score=0.614 total time=   0.0s\n",
      "[CV 1/5] END criterion=gini, max_depth=10, max_features=sqrt, max_leaf_nodes=1100, min_samples_split=6, splitter=random;, score=0.504 total time=   0.0s\n",
      "[CV 2/5] END criterion=gini, max_depth=10, max_features=sqrt, max_leaf_nodes=1100, min_samples_split=6, splitter=random;, score=0.592 total time=   0.0s\n",
      "[CV 3/5] END criterion=gini, max_depth=10, max_features=sqrt, max_leaf_nodes=1100, min_samples_split=6, splitter=random;, score=0.567 total time=   0.0s\n",
      "[CV 4/5] END criterion=gini, max_depth=10, max_features=sqrt, max_leaf_nodes=1100, min_samples_split=6, splitter=random;, score=0.516 total time=   0.0s\n",
      "[CV 5/5] END criterion=gini, max_depth=10, max_features=sqrt, max_leaf_nodes=1100, min_samples_split=6, splitter=random;, score=0.492 total time=   0.0s\n",
      "[CV 1/5] END criterion=gini, max_depth=10, max_features=sqrt, max_leaf_nodes=1100, min_samples_split=8, splitter=best;, score=0.625 total time=   0.0s\n",
      "[CV 2/5] END criterion=gini, max_depth=10, max_features=sqrt, max_leaf_nodes=1100, min_samples_split=8, splitter=best;, score=0.635 total time=   0.0s\n",
      "[CV 3/5] END criterion=gini, max_depth=10, max_features=sqrt, max_leaf_nodes=1100, min_samples_split=8, splitter=best;, score=0.631 total time=   0.0s\n",
      "[CV 4/5] END criterion=gini, max_depth=10, max_features=sqrt, max_leaf_nodes=1100, min_samples_split=8, splitter=best;, score=0.618 total time=   0.0s\n",
      "[CV 5/5] END criterion=gini, max_depth=10, max_features=sqrt, max_leaf_nodes=1100, min_samples_split=8, splitter=best;, score=0.650 total time=   0.0s\n",
      "[CV 1/5] END criterion=gini, max_depth=10, max_features=sqrt, max_leaf_nodes=1100, min_samples_split=8, splitter=random;, score=0.576 total time=   0.0s\n",
      "[CV 2/5] END criterion=gini, max_depth=10, max_features=sqrt, max_leaf_nodes=1100, min_samples_split=8, splitter=random;, score=0.568 total time=   0.0s\n",
      "[CV 3/5] END criterion=gini, max_depth=10, max_features=sqrt, max_leaf_nodes=1100, min_samples_split=8, splitter=random;, score=0.509 total time=   0.0s\n",
      "[CV 4/5] END criterion=gini, max_depth=10, max_features=sqrt, max_leaf_nodes=1100, min_samples_split=8, splitter=random;, score=0.516 total time=   0.0s\n",
      "[CV 5/5] END criterion=gini, max_depth=10, max_features=sqrt, max_leaf_nodes=1100, min_samples_split=8, splitter=random;, score=0.560 total time=   0.0s\n",
      "[CV 1/5] END criterion=gini, max_depth=10, max_features=log2, max_leaf_nodes=900, min_samples_split=4, splitter=best;, score=0.623 total time=   0.0s\n",
      "[CV 2/5] END criterion=gini, max_depth=10, max_features=log2, max_leaf_nodes=900, min_samples_split=4, splitter=best;, score=0.637 total time=   0.0s\n",
      "[CV 3/5] END criterion=gini, max_depth=10, max_features=log2, max_leaf_nodes=900, min_samples_split=4, splitter=best;, score=0.650 total time=   0.0s\n",
      "[CV 4/5] END criterion=gini, max_depth=10, max_features=log2, max_leaf_nodes=900, min_samples_split=4, splitter=best;, score=0.616 total time=   0.0s\n",
      "[CV 5/5] END criterion=gini, max_depth=10, max_features=log2, max_leaf_nodes=900, min_samples_split=4, splitter=best;, score=0.621 total time=   0.0s\n",
      "[CV 1/5] END criterion=gini, max_depth=10, max_features=log2, max_leaf_nodes=900, min_samples_split=4, splitter=random;, score=0.578 total time=   0.0s\n",
      "[CV 2/5] END criterion=gini, max_depth=10, max_features=log2, max_leaf_nodes=900, min_samples_split=4, splitter=random;, score=0.577 total time=   0.0s\n",
      "[CV 3/5] END criterion=gini, max_depth=10, max_features=log2, max_leaf_nodes=900, min_samples_split=4, splitter=random;, score=0.521 total time=   0.0s\n",
      "[CV 4/5] END criterion=gini, max_depth=10, max_features=log2, max_leaf_nodes=900, min_samples_split=4, splitter=random;, score=0.563 total time=   0.0s\n",
      "[CV 5/5] END criterion=gini, max_depth=10, max_features=log2, max_leaf_nodes=900, min_samples_split=4, splitter=random;, score=0.575 total time=   0.0s\n",
      "[CV 1/5] END criterion=gini, max_depth=10, max_features=log2, max_leaf_nodes=900, min_samples_split=6, splitter=best;, score=0.613 total time=   0.0s\n",
      "[CV 2/5] END criterion=gini, max_depth=10, max_features=log2, max_leaf_nodes=900, min_samples_split=6, splitter=best;, score=0.677 total time=   0.0s\n",
      "[CV 3/5] END criterion=gini, max_depth=10, max_features=log2, max_leaf_nodes=900, min_samples_split=6, splitter=best;, score=0.637 total time=   0.0s\n",
      "[CV 4/5] END criterion=gini, max_depth=10, max_features=log2, max_leaf_nodes=900, min_samples_split=6, splitter=best;, score=0.612 total time=   0.0s\n",
      "[CV 5/5] END criterion=gini, max_depth=10, max_features=log2, max_leaf_nodes=900, min_samples_split=6, splitter=best;, score=0.641 total time=   0.0s\n",
      "[CV 1/5] END criterion=gini, max_depth=10, max_features=log2, max_leaf_nodes=900, min_samples_split=6, splitter=random;, score=0.556 total time=   0.0s\n",
      "[CV 2/5] END criterion=gini, max_depth=10, max_features=log2, max_leaf_nodes=900, min_samples_split=6, splitter=random;, score=0.583 total time=   0.0s\n",
      "[CV 3/5] END criterion=gini, max_depth=10, max_features=log2, max_leaf_nodes=900, min_samples_split=6, splitter=random;, score=0.548 total time=   0.0s\n",
      "[CV 4/5] END criterion=gini, max_depth=10, max_features=log2, max_leaf_nodes=900, min_samples_split=6, splitter=random;, score=0.495 total time=   0.0s\n",
      "[CV 5/5] END criterion=gini, max_depth=10, max_features=log2, max_leaf_nodes=900, min_samples_split=6, splitter=random;, score=0.574 total time=   0.0s\n",
      "[CV 1/5] END criterion=gini, max_depth=10, max_features=log2, max_leaf_nodes=900, min_samples_split=8, splitter=best;, score=0.618 total time=   0.0s\n",
      "[CV 2/5] END criterion=gini, max_depth=10, max_features=log2, max_leaf_nodes=900, min_samples_split=8, splitter=best;, score=0.657 total time=   0.0s\n",
      "[CV 3/5] END criterion=gini, max_depth=10, max_features=log2, max_leaf_nodes=900, min_samples_split=8, splitter=best;, score=0.651 total time=   0.0s\n",
      "[CV 4/5] END criterion=gini, max_depth=10, max_features=log2, max_leaf_nodes=900, min_samples_split=8, splitter=best;, score=0.635 total time=   0.0s\n",
      "[CV 5/5] END criterion=gini, max_depth=10, max_features=log2, max_leaf_nodes=900, min_samples_split=8, splitter=best;, score=0.651 total time=   0.0s\n",
      "[CV 1/5] END criterion=gini, max_depth=10, max_features=log2, max_leaf_nodes=900, min_samples_split=8, splitter=random;, score=0.561 total time=   0.0s\n",
      "[CV 2/5] END criterion=gini, max_depth=10, max_features=log2, max_leaf_nodes=900, min_samples_split=8, splitter=random;, score=0.544 total time=   0.0s\n",
      "[CV 3/5] END criterion=gini, max_depth=10, max_features=log2, max_leaf_nodes=900, min_samples_split=8, splitter=random;, score=0.570 total time=   0.0s\n",
      "[CV 4/5] END criterion=gini, max_depth=10, max_features=log2, max_leaf_nodes=900, min_samples_split=8, splitter=random;, score=0.521 total time=   0.0s\n",
      "[CV 5/5] END criterion=gini, max_depth=10, max_features=log2, max_leaf_nodes=900, min_samples_split=8, splitter=random;, score=0.582 total time=   0.0s\n",
      "[CV 1/5] END criterion=gini, max_depth=10, max_features=log2, max_leaf_nodes=1000, min_samples_split=4, splitter=best;, score=0.642 total time=   0.0s\n",
      "[CV 2/5] END criterion=gini, max_depth=10, max_features=log2, max_leaf_nodes=1000, min_samples_split=4, splitter=best;, score=0.668 total time=   0.0s\n",
      "[CV 3/5] END criterion=gini, max_depth=10, max_features=log2, max_leaf_nodes=1000, min_samples_split=4, splitter=best;, score=0.630 total time=   0.0s\n",
      "[CV 4/5] END criterion=gini, max_depth=10, max_features=log2, max_leaf_nodes=1000, min_samples_split=4, splitter=best;, score=0.608 total time=   0.0s\n",
      "[CV 5/5] END criterion=gini, max_depth=10, max_features=log2, max_leaf_nodes=1000, min_samples_split=4, splitter=best;, score=0.629 total time=   0.0s\n",
      "[CV 1/5] END criterion=gini, max_depth=10, max_features=log2, max_leaf_nodes=1000, min_samples_split=4, splitter=random;, score=0.579 total time=   0.0s\n",
      "[CV 2/5] END criterion=gini, max_depth=10, max_features=log2, max_leaf_nodes=1000, min_samples_split=4, splitter=random;, score=0.535 total time=   0.0s\n",
      "[CV 3/5] END criterion=gini, max_depth=10, max_features=log2, max_leaf_nodes=1000, min_samples_split=4, splitter=random;, score=0.589 total time=   0.0s\n",
      "[CV 4/5] END criterion=gini, max_depth=10, max_features=log2, max_leaf_nodes=1000, min_samples_split=4, splitter=random;, score=0.527 total time=   0.0s\n",
      "[CV 5/5] END criterion=gini, max_depth=10, max_features=log2, max_leaf_nodes=1000, min_samples_split=4, splitter=random;, score=0.567 total time=   0.0s\n",
      "[CV 1/5] END criterion=gini, max_depth=10, max_features=log2, max_leaf_nodes=1000, min_samples_split=6, splitter=best;, score=0.630 total time=   0.0s\n",
      "[CV 2/5] END criterion=gini, max_depth=10, max_features=log2, max_leaf_nodes=1000, min_samples_split=6, splitter=best;, score=0.656 total time=   0.0s\n",
      "[CV 3/5] END criterion=gini, max_depth=10, max_features=log2, max_leaf_nodes=1000, min_samples_split=6, splitter=best;, score=0.641 total time=   0.0s\n",
      "[CV 4/5] END criterion=gini, max_depth=10, max_features=log2, max_leaf_nodes=1000, min_samples_split=6, splitter=best;, score=0.624 total time=   0.0s\n",
      "[CV 5/5] END criterion=gini, max_depth=10, max_features=log2, max_leaf_nodes=1000, min_samples_split=6, splitter=best;, score=0.637 total time=   0.0s\n",
      "[CV 1/5] END criterion=gini, max_depth=10, max_features=log2, max_leaf_nodes=1000, min_samples_split=6, splitter=random;, score=0.543 total time=   0.0s\n",
      "[CV 2/5] END criterion=gini, max_depth=10, max_features=log2, max_leaf_nodes=1000, min_samples_split=6, splitter=random;, score=0.582 total time=   0.0s\n",
      "[CV 3/5] END criterion=gini, max_depth=10, max_features=log2, max_leaf_nodes=1000, min_samples_split=6, splitter=random;, score=0.545 total time=   0.0s\n",
      "[CV 4/5] END criterion=gini, max_depth=10, max_features=log2, max_leaf_nodes=1000, min_samples_split=6, splitter=random;, score=0.579 total time=   0.0s\n",
      "[CV 5/5] END criterion=gini, max_depth=10, max_features=log2, max_leaf_nodes=1000, min_samples_split=6, splitter=random;, score=0.568 total time=   0.0s\n",
      "[CV 1/5] END criterion=gini, max_depth=10, max_features=log2, max_leaf_nodes=1000, min_samples_split=8, splitter=best;, score=0.620 total time=   0.0s\n",
      "[CV 2/5] END criterion=gini, max_depth=10, max_features=log2, max_leaf_nodes=1000, min_samples_split=8, splitter=best;, score=0.625 total time=   0.0s\n",
      "[CV 3/5] END criterion=gini, max_depth=10, max_features=log2, max_leaf_nodes=1000, min_samples_split=8, splitter=best;, score=0.636 total time=   0.0s\n",
      "[CV 4/5] END criterion=gini, max_depth=10, max_features=log2, max_leaf_nodes=1000, min_samples_split=8, splitter=best;, score=0.609 total time=   0.0s\n",
      "[CV 5/5] END criterion=gini, max_depth=10, max_features=log2, max_leaf_nodes=1000, min_samples_split=8, splitter=best;, score=0.620 total time=   0.0s\n",
      "[CV 1/5] END criterion=gini, max_depth=10, max_features=log2, max_leaf_nodes=1000, min_samples_split=8, splitter=random;, score=0.569 total time=   0.0s\n",
      "[CV 2/5] END criterion=gini, max_depth=10, max_features=log2, max_leaf_nodes=1000, min_samples_split=8, splitter=random;, score=0.550 total time=   0.0s\n",
      "[CV 3/5] END criterion=gini, max_depth=10, max_features=log2, max_leaf_nodes=1000, min_samples_split=8, splitter=random;, score=0.570 total time=   0.0s\n",
      "[CV 4/5] END criterion=gini, max_depth=10, max_features=log2, max_leaf_nodes=1000, min_samples_split=8, splitter=random;, score=0.541 total time=   0.0s\n",
      "[CV 5/5] END criterion=gini, max_depth=10, max_features=log2, max_leaf_nodes=1000, min_samples_split=8, splitter=random;, score=0.563 total time=   0.0s\n",
      "[CV 1/5] END criterion=gini, max_depth=10, max_features=log2, max_leaf_nodes=1100, min_samples_split=4, splitter=best;, score=0.626 total time=   0.0s\n"
     ]
    },
    {
     "name": "stdout",
     "output_type": "stream",
     "text": [
      "[CV 2/5] END criterion=gini, max_depth=10, max_features=log2, max_leaf_nodes=1100, min_samples_split=4, splitter=best;, score=0.639 total time=   0.0s\n",
      "[CV 3/5] END criterion=gini, max_depth=10, max_features=log2, max_leaf_nodes=1100, min_samples_split=4, splitter=best;, score=0.620 total time=   0.0s\n",
      "[CV 4/5] END criterion=gini, max_depth=10, max_features=log2, max_leaf_nodes=1100, min_samples_split=4, splitter=best;, score=0.618 total time=   0.0s\n",
      "[CV 5/5] END criterion=gini, max_depth=10, max_features=log2, max_leaf_nodes=1100, min_samples_split=4, splitter=best;, score=0.607 total time=   0.0s\n",
      "[CV 1/5] END criterion=gini, max_depth=10, max_features=log2, max_leaf_nodes=1100, min_samples_split=4, splitter=random;, score=0.561 total time=   0.0s\n",
      "[CV 2/5] END criterion=gini, max_depth=10, max_features=log2, max_leaf_nodes=1100, min_samples_split=4, splitter=random;, score=0.558 total time=   0.0s\n",
      "[CV 3/5] END criterion=gini, max_depth=10, max_features=log2, max_leaf_nodes=1100, min_samples_split=4, splitter=random;, score=0.555 total time=   0.0s\n",
      "[CV 4/5] END criterion=gini, max_depth=10, max_features=log2, max_leaf_nodes=1100, min_samples_split=4, splitter=random;, score=0.533 total time=   0.0s\n",
      "[CV 5/5] END criterion=gini, max_depth=10, max_features=log2, max_leaf_nodes=1100, min_samples_split=4, splitter=random;, score=0.575 total time=   0.0s\n",
      "[CV 1/5] END criterion=gini, max_depth=10, max_features=log2, max_leaf_nodes=1100, min_samples_split=6, splitter=best;, score=0.601 total time=   0.0s\n",
      "[CV 2/5] END criterion=gini, max_depth=10, max_features=log2, max_leaf_nodes=1100, min_samples_split=6, splitter=best;, score=0.648 total time=   0.0s\n",
      "[CV 3/5] END criterion=gini, max_depth=10, max_features=log2, max_leaf_nodes=1100, min_samples_split=6, splitter=best;, score=0.632 total time=   0.0s\n",
      "[CV 4/5] END criterion=gini, max_depth=10, max_features=log2, max_leaf_nodes=1100, min_samples_split=6, splitter=best;, score=0.617 total time=   0.0s\n",
      "[CV 5/5] END criterion=gini, max_depth=10, max_features=log2, max_leaf_nodes=1100, min_samples_split=6, splitter=best;, score=0.639 total time=   0.0s\n",
      "[CV 1/5] END criterion=gini, max_depth=10, max_features=log2, max_leaf_nodes=1100, min_samples_split=6, splitter=random;, score=0.558 total time=   0.0s\n",
      "[CV 2/5] END criterion=gini, max_depth=10, max_features=log2, max_leaf_nodes=1100, min_samples_split=6, splitter=random;, score=0.585 total time=   0.0s\n",
      "[CV 3/5] END criterion=gini, max_depth=10, max_features=log2, max_leaf_nodes=1100, min_samples_split=6, splitter=random;, score=0.574 total time=   0.0s\n",
      "[CV 4/5] END criterion=gini, max_depth=10, max_features=log2, max_leaf_nodes=1100, min_samples_split=6, splitter=random;, score=0.574 total time=   0.0s\n",
      "[CV 5/5] END criterion=gini, max_depth=10, max_features=log2, max_leaf_nodes=1100, min_samples_split=6, splitter=random;, score=0.570 total time=   0.0s\n",
      "[CV 1/5] END criterion=gini, max_depth=10, max_features=log2, max_leaf_nodes=1100, min_samples_split=8, splitter=best;, score=0.627 total time=   0.0s\n",
      "[CV 2/5] END criterion=gini, max_depth=10, max_features=log2, max_leaf_nodes=1100, min_samples_split=8, splitter=best;, score=0.629 total time=   0.0s\n",
      "[CV 3/5] END criterion=gini, max_depth=10, max_features=log2, max_leaf_nodes=1100, min_samples_split=8, splitter=best;, score=0.635 total time=   0.0s\n",
      "[CV 4/5] END criterion=gini, max_depth=10, max_features=log2, max_leaf_nodes=1100, min_samples_split=8, splitter=best;, score=0.618 total time=   0.0s\n",
      "[CV 5/5] END criterion=gini, max_depth=10, max_features=log2, max_leaf_nodes=1100, min_samples_split=8, splitter=best;, score=0.611 total time=   0.0s\n",
      "[CV 1/5] END criterion=gini, max_depth=10, max_features=log2, max_leaf_nodes=1100, min_samples_split=8, splitter=random;, score=0.555 total time=   0.0s\n",
      "[CV 2/5] END criterion=gini, max_depth=10, max_features=log2, max_leaf_nodes=1100, min_samples_split=8, splitter=random;, score=0.581 total time=   0.0s\n",
      "[CV 3/5] END criterion=gini, max_depth=10, max_features=log2, max_leaf_nodes=1100, min_samples_split=8, splitter=random;, score=0.503 total time=   0.0s\n",
      "[CV 4/5] END criterion=gini, max_depth=10, max_features=log2, max_leaf_nodes=1100, min_samples_split=8, splitter=random;, score=0.541 total time=   0.0s\n",
      "[CV 5/5] END criterion=gini, max_depth=10, max_features=log2, max_leaf_nodes=1100, min_samples_split=8, splitter=random;, score=0.580 total time=   0.0s\n",
      "[CV 1/5] END criterion=gini, max_depth=20, max_features=sqrt, max_leaf_nodes=900, min_samples_split=4, splitter=best;, score=0.670 total time=   0.0s\n",
      "[CV 2/5] END criterion=gini, max_depth=20, max_features=sqrt, max_leaf_nodes=900, min_samples_split=4, splitter=best;, score=0.683 total time=   0.0s\n",
      "[CV 3/5] END criterion=gini, max_depth=20, max_features=sqrt, max_leaf_nodes=900, min_samples_split=4, splitter=best;, score=0.689 total time=   0.0s\n",
      "[CV 4/5] END criterion=gini, max_depth=20, max_features=sqrt, max_leaf_nodes=900, min_samples_split=4, splitter=best;, score=0.655 total time=   0.0s\n",
      "[CV 5/5] END criterion=gini, max_depth=20, max_features=sqrt, max_leaf_nodes=900, min_samples_split=4, splitter=best;, score=0.627 total time=   0.0s\n",
      "[CV 1/5] END criterion=gini, max_depth=20, max_features=sqrt, max_leaf_nodes=900, min_samples_split=4, splitter=random;, score=0.587 total time=   0.0s\n",
      "[CV 2/5] END criterion=gini, max_depth=20, max_features=sqrt, max_leaf_nodes=900, min_samples_split=4, splitter=random;, score=0.627 total time=   0.0s\n",
      "[CV 3/5] END criterion=gini, max_depth=20, max_features=sqrt, max_leaf_nodes=900, min_samples_split=4, splitter=random;, score=0.636 total time=   0.0s\n",
      "[CV 4/5] END criterion=gini, max_depth=20, max_features=sqrt, max_leaf_nodes=900, min_samples_split=4, splitter=random;, score=0.599 total time=   0.0s\n",
      "[CV 5/5] END criterion=gini, max_depth=20, max_features=sqrt, max_leaf_nodes=900, min_samples_split=4, splitter=random;, score=0.642 total time=   0.0s\n",
      "[CV 1/5] END criterion=gini, max_depth=20, max_features=sqrt, max_leaf_nodes=900, min_samples_split=6, splitter=best;, score=0.666 total time=   0.0s\n",
      "[CV 2/5] END criterion=gini, max_depth=20, max_features=sqrt, max_leaf_nodes=900, min_samples_split=6, splitter=best;, score=0.672 total time=   0.0s\n",
      "[CV 3/5] END criterion=gini, max_depth=20, max_features=sqrt, max_leaf_nodes=900, min_samples_split=6, splitter=best;, score=0.664 total time=   0.0s\n",
      "[CV 4/5] END criterion=gini, max_depth=20, max_features=sqrt, max_leaf_nodes=900, min_samples_split=6, splitter=best;, score=0.666 total time=   0.0s\n",
      "[CV 5/5] END criterion=gini, max_depth=20, max_features=sqrt, max_leaf_nodes=900, min_samples_split=6, splitter=best;, score=0.665 total time=   0.0s\n",
      "[CV 1/5] END criterion=gini, max_depth=20, max_features=sqrt, max_leaf_nodes=900, min_samples_split=6, splitter=random;, score=0.616 total time=   0.0s\n",
      "[CV 2/5] END criterion=gini, max_depth=20, max_features=sqrt, max_leaf_nodes=900, min_samples_split=6, splitter=random;, score=0.639 total time=   0.0s\n",
      "[CV 3/5] END criterion=gini, max_depth=20, max_features=sqrt, max_leaf_nodes=900, min_samples_split=6, splitter=random;, score=0.621 total time=   0.0s\n",
      "[CV 4/5] END criterion=gini, max_depth=20, max_features=sqrt, max_leaf_nodes=900, min_samples_split=6, splitter=random;, score=0.588 total time=   0.0s\n",
      "[CV 5/5] END criterion=gini, max_depth=20, max_features=sqrt, max_leaf_nodes=900, min_samples_split=6, splitter=random;, score=0.625 total time=   0.0s\n",
      "[CV 1/5] END criterion=gini, max_depth=20, max_features=sqrt, max_leaf_nodes=900, min_samples_split=8, splitter=best;, score=0.641 total time=   0.0s\n",
      "[CV 2/5] END criterion=gini, max_depth=20, max_features=sqrt, max_leaf_nodes=900, min_samples_split=8, splitter=best;, score=0.661 total time=   0.0s\n",
      "[CV 3/5] END criterion=gini, max_depth=20, max_features=sqrt, max_leaf_nodes=900, min_samples_split=8, splitter=best;, score=0.654 total time=   0.0s\n",
      "[CV 4/5] END criterion=gini, max_depth=20, max_features=sqrt, max_leaf_nodes=900, min_samples_split=8, splitter=best;, score=0.660 total time=   0.0s\n",
      "[CV 5/5] END criterion=gini, max_depth=20, max_features=sqrt, max_leaf_nodes=900, min_samples_split=8, splitter=best;, score=0.641 total time=   0.0s\n",
      "[CV 1/5] END criterion=gini, max_depth=20, max_features=sqrt, max_leaf_nodes=900, min_samples_split=8, splitter=random;, score=0.607 total time=   0.0s\n",
      "[CV 2/5] END criterion=gini, max_depth=20, max_features=sqrt, max_leaf_nodes=900, min_samples_split=8, splitter=random;, score=0.649 total time=   0.0s\n",
      "[CV 3/5] END criterion=gini, max_depth=20, max_features=sqrt, max_leaf_nodes=900, min_samples_split=8, splitter=random;, score=0.615 total time=   0.0s\n",
      "[CV 4/5] END criterion=gini, max_depth=20, max_features=sqrt, max_leaf_nodes=900, min_samples_split=8, splitter=random;, score=0.617 total time=   0.0s\n",
      "[CV 5/5] END criterion=gini, max_depth=20, max_features=sqrt, max_leaf_nodes=900, min_samples_split=8, splitter=random;, score=0.603 total time=   0.0s\n",
      "[CV 1/5] END criterion=gini, max_depth=20, max_features=sqrt, max_leaf_nodes=1000, min_samples_split=4, splitter=best;, score=0.653 total time=   0.0s\n",
      "[CV 2/5] END criterion=gini, max_depth=20, max_features=sqrt, max_leaf_nodes=1000, min_samples_split=4, splitter=best;, score=0.671 total time=   0.0s\n",
      "[CV 3/5] END criterion=gini, max_depth=20, max_features=sqrt, max_leaf_nodes=1000, min_samples_split=4, splitter=best;, score=0.658 total time=   0.0s\n",
      "[CV 4/5] END criterion=gini, max_depth=20, max_features=sqrt, max_leaf_nodes=1000, min_samples_split=4, splitter=best;, score=0.670 total time=   0.0s\n",
      "[CV 5/5] END criterion=gini, max_depth=20, max_features=sqrt, max_leaf_nodes=1000, min_samples_split=4, splitter=best;, score=0.647 total time=   0.0s\n",
      "[CV 1/5] END criterion=gini, max_depth=20, max_features=sqrt, max_leaf_nodes=1000, min_samples_split=4, splitter=random;, score=0.611 total time=   0.0s\n",
      "[CV 2/5] END criterion=gini, max_depth=20, max_features=sqrt, max_leaf_nodes=1000, min_samples_split=4, splitter=random;, score=0.645 total time=   0.0s\n",
      "[CV 3/5] END criterion=gini, max_depth=20, max_features=sqrt, max_leaf_nodes=1000, min_samples_split=4, splitter=random;, score=0.636 total time=   0.0s\n",
      "[CV 4/5] END criterion=gini, max_depth=20, max_features=sqrt, max_leaf_nodes=1000, min_samples_split=4, splitter=random;, score=0.634 total time=   0.0s\n",
      "[CV 5/5] END criterion=gini, max_depth=20, max_features=sqrt, max_leaf_nodes=1000, min_samples_split=4, splitter=random;, score=0.619 total time=   0.0s\n",
      "[CV 1/5] END criterion=gini, max_depth=20, max_features=sqrt, max_leaf_nodes=1000, min_samples_split=6, splitter=best;, score=0.653 total time=   0.0s\n"
     ]
    },
    {
     "name": "stdout",
     "output_type": "stream",
     "text": [
      "[CV 2/5] END criterion=gini, max_depth=20, max_features=sqrt, max_leaf_nodes=1000, min_samples_split=6, splitter=best;, score=0.674 total time=   0.0s\n",
      "[CV 3/5] END criterion=gini, max_depth=20, max_features=sqrt, max_leaf_nodes=1000, min_samples_split=6, splitter=best;, score=0.657 total time=   0.0s\n",
      "[CV 4/5] END criterion=gini, max_depth=20, max_features=sqrt, max_leaf_nodes=1000, min_samples_split=6, splitter=best;, score=0.627 total time=   0.0s\n",
      "[CV 5/5] END criterion=gini, max_depth=20, max_features=sqrt, max_leaf_nodes=1000, min_samples_split=6, splitter=best;, score=0.648 total time=   0.0s\n",
      "[CV 1/5] END criterion=gini, max_depth=20, max_features=sqrt, max_leaf_nodes=1000, min_samples_split=6, splitter=random;, score=0.619 total time=   0.0s\n",
      "[CV 2/5] END criterion=gini, max_depth=20, max_features=sqrt, max_leaf_nodes=1000, min_samples_split=6, splitter=random;, score=0.635 total time=   0.0s\n",
      "[CV 3/5] END criterion=gini, max_depth=20, max_features=sqrt, max_leaf_nodes=1000, min_samples_split=6, splitter=random;, score=0.629 total time=   0.0s\n",
      "[CV 4/5] END criterion=gini, max_depth=20, max_features=sqrt, max_leaf_nodes=1000, min_samples_split=6, splitter=random;, score=0.614 total time=   0.0s\n",
      "[CV 5/5] END criterion=gini, max_depth=20, max_features=sqrt, max_leaf_nodes=1000, min_samples_split=6, splitter=random;, score=0.593 total time=   0.0s\n",
      "[CV 1/5] END criterion=gini, max_depth=20, max_features=sqrt, max_leaf_nodes=1000, min_samples_split=8, splitter=best;, score=0.638 total time=   0.0s\n",
      "[CV 2/5] END criterion=gini, max_depth=20, max_features=sqrt, max_leaf_nodes=1000, min_samples_split=8, splitter=best;, score=0.669 total time=   0.0s\n",
      "[CV 3/5] END criterion=gini, max_depth=20, max_features=sqrt, max_leaf_nodes=1000, min_samples_split=8, splitter=best;, score=0.669 total time=   0.0s\n",
      "[CV 4/5] END criterion=gini, max_depth=20, max_features=sqrt, max_leaf_nodes=1000, min_samples_split=8, splitter=best;, score=0.641 total time=   0.0s\n",
      "[CV 5/5] END criterion=gini, max_depth=20, max_features=sqrt, max_leaf_nodes=1000, min_samples_split=8, splitter=best;, score=0.631 total time=   0.0s\n",
      "[CV 1/5] END criterion=gini, max_depth=20, max_features=sqrt, max_leaf_nodes=1000, min_samples_split=8, splitter=random;, score=0.634 total time=   0.0s\n",
      "[CV 2/5] END criterion=gini, max_depth=20, max_features=sqrt, max_leaf_nodes=1000, min_samples_split=8, splitter=random;, score=0.611 total time=   0.0s\n",
      "[CV 3/5] END criterion=gini, max_depth=20, max_features=sqrt, max_leaf_nodes=1000, min_samples_split=8, splitter=random;, score=0.629 total time=   0.0s\n",
      "[CV 4/5] END criterion=gini, max_depth=20, max_features=sqrt, max_leaf_nodes=1000, min_samples_split=8, splitter=random;, score=0.607 total time=   0.0s\n",
      "[CV 5/5] END criterion=gini, max_depth=20, max_features=sqrt, max_leaf_nodes=1000, min_samples_split=8, splitter=random;, score=0.614 total time=   0.0s\n",
      "[CV 1/5] END criterion=gini, max_depth=20, max_features=sqrt, max_leaf_nodes=1100, min_samples_split=4, splitter=best;, score=0.660 total time=   0.0s\n",
      "[CV 2/5] END criterion=gini, max_depth=20, max_features=sqrt, max_leaf_nodes=1100, min_samples_split=4, splitter=best;, score=0.679 total time=   0.0s\n",
      "[CV 3/5] END criterion=gini, max_depth=20, max_features=sqrt, max_leaf_nodes=1100, min_samples_split=4, splitter=best;, score=0.662 total time=   0.0s\n",
      "[CV 4/5] END criterion=gini, max_depth=20, max_features=sqrt, max_leaf_nodes=1100, min_samples_split=4, splitter=best;, score=0.661 total time=   0.0s\n",
      "[CV 5/5] END criterion=gini, max_depth=20, max_features=sqrt, max_leaf_nodes=1100, min_samples_split=4, splitter=best;, score=0.655 total time=   0.0s\n",
      "[CV 1/5] END criterion=gini, max_depth=20, max_features=sqrt, max_leaf_nodes=1100, min_samples_split=4, splitter=random;, score=0.612 total time=   0.0s\n",
      "[CV 2/5] END criterion=gini, max_depth=20, max_features=sqrt, max_leaf_nodes=1100, min_samples_split=4, splitter=random;, score=0.631 total time=   0.0s\n",
      "[CV 3/5] END criterion=gini, max_depth=20, max_features=sqrt, max_leaf_nodes=1100, min_samples_split=4, splitter=random;, score=0.630 total time=   0.0s\n",
      "[CV 4/5] END criterion=gini, max_depth=20, max_features=sqrt, max_leaf_nodes=1100, min_samples_split=4, splitter=random;, score=0.646 total time=   0.0s\n",
      "[CV 5/5] END criterion=gini, max_depth=20, max_features=sqrt, max_leaf_nodes=1100, min_samples_split=4, splitter=random;, score=0.636 total time=   0.0s\n",
      "[CV 1/5] END criterion=gini, max_depth=20, max_features=sqrt, max_leaf_nodes=1100, min_samples_split=6, splitter=best;, score=0.634 total time=   0.0s\n",
      "[CV 2/5] END criterion=gini, max_depth=20, max_features=sqrt, max_leaf_nodes=1100, min_samples_split=6, splitter=best;, score=0.669 total time=   0.0s\n",
      "[CV 3/5] END criterion=gini, max_depth=20, max_features=sqrt, max_leaf_nodes=1100, min_samples_split=6, splitter=best;, score=0.679 total time=   0.0s\n",
      "[CV 4/5] END criterion=gini, max_depth=20, max_features=sqrt, max_leaf_nodes=1100, min_samples_split=6, splitter=best;, score=0.618 total time=   0.0s\n",
      "[CV 5/5] END criterion=gini, max_depth=20, max_features=sqrt, max_leaf_nodes=1100, min_samples_split=6, splitter=best;, score=0.634 total time=   0.0s\n",
      "[CV 1/5] END criterion=gini, max_depth=20, max_features=sqrt, max_leaf_nodes=1100, min_samples_split=6, splitter=random;, score=0.634 total time=   0.0s\n",
      "[CV 2/5] END criterion=gini, max_depth=20, max_features=sqrt, max_leaf_nodes=1100, min_samples_split=6, splitter=random;, score=0.633 total time=   0.0s\n",
      "[CV 3/5] END criterion=gini, max_depth=20, max_features=sqrt, max_leaf_nodes=1100, min_samples_split=6, splitter=random;, score=0.614 total time=   0.0s\n",
      "[CV 4/5] END criterion=gini, max_depth=20, max_features=sqrt, max_leaf_nodes=1100, min_samples_split=6, splitter=random;, score=0.629 total time=   0.0s\n",
      "[CV 5/5] END criterion=gini, max_depth=20, max_features=sqrt, max_leaf_nodes=1100, min_samples_split=6, splitter=random;, score=0.615 total time=   0.0s\n",
      "[CV 1/5] END criterion=gini, max_depth=20, max_features=sqrt, max_leaf_nodes=1100, min_samples_split=8, splitter=best;, score=0.664 total time=   0.0s\n",
      "[CV 2/5] END criterion=gini, max_depth=20, max_features=sqrt, max_leaf_nodes=1100, min_samples_split=8, splitter=best;, score=0.669 total time=   0.0s\n",
      "[CV 3/5] END criterion=gini, max_depth=20, max_features=sqrt, max_leaf_nodes=1100, min_samples_split=8, splitter=best;, score=0.669 total time=   0.0s\n",
      "[CV 4/5] END criterion=gini, max_depth=20, max_features=sqrt, max_leaf_nodes=1100, min_samples_split=8, splitter=best;, score=0.646 total time=   0.0s\n",
      "[CV 5/5] END criterion=gini, max_depth=20, max_features=sqrt, max_leaf_nodes=1100, min_samples_split=8, splitter=best;, score=0.625 total time=   0.0s\n",
      "[CV 1/5] END criterion=gini, max_depth=20, max_features=sqrt, max_leaf_nodes=1100, min_samples_split=8, splitter=random;, score=0.598 total time=   0.0s\n",
      "[CV 2/5] END criterion=gini, max_depth=20, max_features=sqrt, max_leaf_nodes=1100, min_samples_split=8, splitter=random;, score=0.629 total time=   0.0s\n",
      "[CV 3/5] END criterion=gini, max_depth=20, max_features=sqrt, max_leaf_nodes=1100, min_samples_split=8, splitter=random;, score=0.640 total time=   0.0s\n",
      "[CV 4/5] END criterion=gini, max_depth=20, max_features=sqrt, max_leaf_nodes=1100, min_samples_split=8, splitter=random;, score=0.611 total time=   0.0s\n",
      "[CV 5/5] END criterion=gini, max_depth=20, max_features=sqrt, max_leaf_nodes=1100, min_samples_split=8, splitter=random;, score=0.602 total time=   0.0s\n",
      "[CV 1/5] END criterion=gini, max_depth=20, max_features=log2, max_leaf_nodes=900, min_samples_split=4, splitter=best;, score=0.645 total time=   0.0s\n",
      "[CV 2/5] END criterion=gini, max_depth=20, max_features=log2, max_leaf_nodes=900, min_samples_split=4, splitter=best;, score=0.690 total time=   0.0s\n",
      "[CV 3/5] END criterion=gini, max_depth=20, max_features=log2, max_leaf_nodes=900, min_samples_split=4, splitter=best;, score=0.668 total time=   0.0s\n",
      "[CV 4/5] END criterion=gini, max_depth=20, max_features=log2, max_leaf_nodes=900, min_samples_split=4, splitter=best;, score=0.639 total time=   0.0s\n",
      "[CV 5/5] END criterion=gini, max_depth=20, max_features=log2, max_leaf_nodes=900, min_samples_split=4, splitter=best;, score=0.643 total time=   0.0s\n",
      "[CV 1/5] END criterion=gini, max_depth=20, max_features=log2, max_leaf_nodes=900, min_samples_split=4, splitter=random;, score=0.616 total time=   0.0s\n",
      "[CV 2/5] END criterion=gini, max_depth=20, max_features=log2, max_leaf_nodes=900, min_samples_split=4, splitter=random;, score=0.634 total time=   0.0s\n",
      "[CV 3/5] END criterion=gini, max_depth=20, max_features=log2, max_leaf_nodes=900, min_samples_split=4, splitter=random;, score=0.614 total time=   0.0s\n",
      "[CV 4/5] END criterion=gini, max_depth=20, max_features=log2, max_leaf_nodes=900, min_samples_split=4, splitter=random;, score=0.625 total time=   0.0s\n",
      "[CV 5/5] END criterion=gini, max_depth=20, max_features=log2, max_leaf_nodes=900, min_samples_split=4, splitter=random;, score=0.646 total time=   0.0s\n",
      "[CV 1/5] END criterion=gini, max_depth=20, max_features=log2, max_leaf_nodes=900, min_samples_split=6, splitter=best;, score=0.666 total time=   0.0s\n",
      "[CV 2/5] END criterion=gini, max_depth=20, max_features=log2, max_leaf_nodes=900, min_samples_split=6, splitter=best;, score=0.662 total time=   0.0s\n"
     ]
    },
    {
     "name": "stdout",
     "output_type": "stream",
     "text": [
      "[CV 3/5] END criterion=gini, max_depth=20, max_features=log2, max_leaf_nodes=900, min_samples_split=6, splitter=best;, score=0.656 total time=   0.0s\n",
      "[CV 4/5] END criterion=gini, max_depth=20, max_features=log2, max_leaf_nodes=900, min_samples_split=6, splitter=best;, score=0.638 total time=   0.0s\n",
      "[CV 5/5] END criterion=gini, max_depth=20, max_features=log2, max_leaf_nodes=900, min_samples_split=6, splitter=best;, score=0.636 total time=   0.0s\n",
      "[CV 1/5] END criterion=gini, max_depth=20, max_features=log2, max_leaf_nodes=900, min_samples_split=6, splitter=random;, score=0.614 total time=   0.0s\n",
      "[CV 2/5] END criterion=gini, max_depth=20, max_features=log2, max_leaf_nodes=900, min_samples_split=6, splitter=random;, score=0.649 total time=   0.0s\n",
      "[CV 3/5] END criterion=gini, max_depth=20, max_features=log2, max_leaf_nodes=900, min_samples_split=6, splitter=random;, score=0.622 total time=   0.0s\n",
      "[CV 4/5] END criterion=gini, max_depth=20, max_features=log2, max_leaf_nodes=900, min_samples_split=6, splitter=random;, score=0.615 total time=   0.0s\n",
      "[CV 5/5] END criterion=gini, max_depth=20, max_features=log2, max_leaf_nodes=900, min_samples_split=6, splitter=random;, score=0.598 total time=   0.0s\n",
      "[CV 1/5] END criterion=gini, max_depth=20, max_features=log2, max_leaf_nodes=900, min_samples_split=8, splitter=best;, score=0.657 total time=   0.0s\n",
      "[CV 2/5] END criterion=gini, max_depth=20, max_features=log2, max_leaf_nodes=900, min_samples_split=8, splitter=best;, score=0.668 total time=   0.0s\n",
      "[CV 3/5] END criterion=gini, max_depth=20, max_features=log2, max_leaf_nodes=900, min_samples_split=8, splitter=best;, score=0.636 total time=   0.0s\n",
      "[CV 4/5] END criterion=gini, max_depth=20, max_features=log2, max_leaf_nodes=900, min_samples_split=8, splitter=best;, score=0.646 total time=   0.0s\n",
      "[CV 5/5] END criterion=gini, max_depth=20, max_features=log2, max_leaf_nodes=900, min_samples_split=8, splitter=best;, score=0.629 total time=   0.0s\n",
      "[CV 1/5] END criterion=gini, max_depth=20, max_features=log2, max_leaf_nodes=900, min_samples_split=8, splitter=random;, score=0.621 total time=   0.0s\n",
      "[CV 2/5] END criterion=gini, max_depth=20, max_features=log2, max_leaf_nodes=900, min_samples_split=8, splitter=random;, score=0.622 total time=   0.0s\n",
      "[CV 3/5] END criterion=gini, max_depth=20, max_features=log2, max_leaf_nodes=900, min_samples_split=8, splitter=random;, score=0.613 total time=   0.0s\n",
      "[CV 4/5] END criterion=gini, max_depth=20, max_features=log2, max_leaf_nodes=900, min_samples_split=8, splitter=random;, score=0.607 total time=   0.0s\n",
      "[CV 5/5] END criterion=gini, max_depth=20, max_features=log2, max_leaf_nodes=900, min_samples_split=8, splitter=random;, score=0.552 total time=   0.0s\n",
      "[CV 1/5] END criterion=gini, max_depth=20, max_features=log2, max_leaf_nodes=1000, min_samples_split=4, splitter=best;, score=0.662 total time=   0.0s\n",
      "[CV 2/5] END criterion=gini, max_depth=20, max_features=log2, max_leaf_nodes=1000, min_samples_split=4, splitter=best;, score=0.672 total time=   0.0s\n",
      "[CV 3/5] END criterion=gini, max_depth=20, max_features=log2, max_leaf_nodes=1000, min_samples_split=4, splitter=best;, score=0.661 total time=   0.0s\n",
      "[CV 4/5] END criterion=gini, max_depth=20, max_features=log2, max_leaf_nodes=1000, min_samples_split=4, splitter=best;, score=0.665 total time=   0.0s\n",
      "[CV 5/5] END criterion=gini, max_depth=20, max_features=log2, max_leaf_nodes=1000, min_samples_split=4, splitter=best;, score=0.662 total time=   0.0s\n",
      "[CV 1/5] END criterion=gini, max_depth=20, max_features=log2, max_leaf_nodes=1000, min_samples_split=4, splitter=random;, score=0.619 total time=   0.0s\n",
      "[CV 2/5] END criterion=gini, max_depth=20, max_features=log2, max_leaf_nodes=1000, min_samples_split=4, splitter=random;, score=0.641 total time=   0.0s\n",
      "[CV 3/5] END criterion=gini, max_depth=20, max_features=log2, max_leaf_nodes=1000, min_samples_split=4, splitter=random;, score=0.618 total time=   0.0s\n",
      "[CV 4/5] END criterion=gini, max_depth=20, max_features=log2, max_leaf_nodes=1000, min_samples_split=4, splitter=random;, score=0.614 total time=   0.0s\n",
      "[CV 5/5] END criterion=gini, max_depth=20, max_features=log2, max_leaf_nodes=1000, min_samples_split=4, splitter=random;, score=0.647 total time=   0.0s\n",
      "[CV 1/5] END criterion=gini, max_depth=20, max_features=log2, max_leaf_nodes=1000, min_samples_split=6, splitter=best;, score=0.651 total time=   0.0s\n",
      "[CV 2/5] END criterion=gini, max_depth=20, max_features=log2, max_leaf_nodes=1000, min_samples_split=6, splitter=best;, score=0.663 total time=   0.0s\n",
      "[CV 3/5] END criterion=gini, max_depth=20, max_features=log2, max_leaf_nodes=1000, min_samples_split=6, splitter=best;, score=0.640 total time=   0.0s\n",
      "[CV 4/5] END criterion=gini, max_depth=20, max_features=log2, max_leaf_nodes=1000, min_samples_split=6, splitter=best;, score=0.635 total time=   0.0s\n",
      "[CV 5/5] END criterion=gini, max_depth=20, max_features=log2, max_leaf_nodes=1000, min_samples_split=6, splitter=best;, score=0.634 total time=   0.0s\n",
      "[CV 1/5] END criterion=gini, max_depth=20, max_features=log2, max_leaf_nodes=1000, min_samples_split=6, splitter=random;, score=0.623 total time=   0.0s\n",
      "[CV 2/5] END criterion=gini, max_depth=20, max_features=log2, max_leaf_nodes=1000, min_samples_split=6, splitter=random;, score=0.654 total time=   0.0s\n",
      "[CV 3/5] END criterion=gini, max_depth=20, max_features=log2, max_leaf_nodes=1000, min_samples_split=6, splitter=random;, score=0.653 total time=   0.0s\n",
      "[CV 4/5] END criterion=gini, max_depth=20, max_features=log2, max_leaf_nodes=1000, min_samples_split=6, splitter=random;, score=0.594 total time=   0.0s\n",
      "[CV 5/5] END criterion=gini, max_depth=20, max_features=log2, max_leaf_nodes=1000, min_samples_split=6, splitter=random;, score=0.628 total time=   0.0s\n",
      "[CV 1/5] END criterion=gini, max_depth=20, max_features=log2, max_leaf_nodes=1000, min_samples_split=8, splitter=best;, score=0.668 total time=   0.0s\n",
      "[CV 2/5] END criterion=gini, max_depth=20, max_features=log2, max_leaf_nodes=1000, min_samples_split=8, splitter=best;, score=0.662 total time=   0.0s\n",
      "[CV 3/5] END criterion=gini, max_depth=20, max_features=log2, max_leaf_nodes=1000, min_samples_split=8, splitter=best;, score=0.644 total time=   0.0s\n",
      "[CV 4/5] END criterion=gini, max_depth=20, max_features=log2, max_leaf_nodes=1000, min_samples_split=8, splitter=best;, score=0.645 total time=   0.0s\n",
      "[CV 5/5] END criterion=gini, max_depth=20, max_features=log2, max_leaf_nodes=1000, min_samples_split=8, splitter=best;, score=0.656 total time=   0.0s\n",
      "[CV 1/5] END criterion=gini, max_depth=20, max_features=log2, max_leaf_nodes=1000, min_samples_split=8, splitter=random;, score=0.595 total time=   0.0s\n",
      "[CV 2/5] END criterion=gini, max_depth=20, max_features=log2, max_leaf_nodes=1000, min_samples_split=8, splitter=random;, score=0.635 total time=   0.0s\n",
      "[CV 3/5] END criterion=gini, max_depth=20, max_features=log2, max_leaf_nodes=1000, min_samples_split=8, splitter=random;, score=0.608 total time=   0.0s\n",
      "[CV 4/5] END criterion=gini, max_depth=20, max_features=log2, max_leaf_nodes=1000, min_samples_split=8, splitter=random;, score=0.631 total time=   0.0s\n",
      "[CV 5/5] END criterion=gini, max_depth=20, max_features=log2, max_leaf_nodes=1000, min_samples_split=8, splitter=random;, score=0.634 total time=   0.0s\n",
      "[CV 1/5] END criterion=gini, max_depth=20, max_features=log2, max_leaf_nodes=1100, min_samples_split=4, splitter=best;, score=0.656 total time=   0.0s\n",
      "[CV 2/5] END criterion=gini, max_depth=20, max_features=log2, max_leaf_nodes=1100, min_samples_split=4, splitter=best;, score=0.678 total time=   0.0s\n",
      "[CV 3/5] END criterion=gini, max_depth=20, max_features=log2, max_leaf_nodes=1100, min_samples_split=4, splitter=best;, score=0.662 total time=   0.0s\n",
      "[CV 4/5] END criterion=gini, max_depth=20, max_features=log2, max_leaf_nodes=1100, min_samples_split=4, splitter=best;, score=0.661 total time=   0.0s\n",
      "[CV 5/5] END criterion=gini, max_depth=20, max_features=log2, max_leaf_nodes=1100, min_samples_split=4, splitter=best;, score=0.650 total time=   0.0s\n",
      "[CV 1/5] END criterion=gini, max_depth=20, max_features=log2, max_leaf_nodes=1100, min_samples_split=4, splitter=random;, score=0.619 total time=   0.0s\n",
      "[CV 2/5] END criterion=gini, max_depth=20, max_features=log2, max_leaf_nodes=1100, min_samples_split=4, splitter=random;, score=0.609 total time=   0.0s\n",
      "[CV 3/5] END criterion=gini, max_depth=20, max_features=log2, max_leaf_nodes=1100, min_samples_split=4, splitter=random;, score=0.639 total time=   0.0s\n",
      "[CV 4/5] END criterion=gini, max_depth=20, max_features=log2, max_leaf_nodes=1100, min_samples_split=4, splitter=random;, score=0.594 total time=   0.0s\n",
      "[CV 5/5] END criterion=gini, max_depth=20, max_features=log2, max_leaf_nodes=1100, min_samples_split=4, splitter=random;, score=0.627 total time=   0.0s\n",
      "[CV 1/5] END criterion=gini, max_depth=20, max_features=log2, max_leaf_nodes=1100, min_samples_split=6, splitter=best;, score=0.670 total time=   0.0s\n"
     ]
    },
    {
     "name": "stdout",
     "output_type": "stream",
     "text": [
      "[CV 2/5] END criterion=gini, max_depth=20, max_features=log2, max_leaf_nodes=1100, min_samples_split=6, splitter=best;, score=0.679 total time=   0.0s\n",
      "[CV 3/5] END criterion=gini, max_depth=20, max_features=log2, max_leaf_nodes=1100, min_samples_split=6, splitter=best;, score=0.670 total time=   0.0s\n",
      "[CV 4/5] END criterion=gini, max_depth=20, max_features=log2, max_leaf_nodes=1100, min_samples_split=6, splitter=best;, score=0.643 total time=   0.0s\n",
      "[CV 5/5] END criterion=gini, max_depth=20, max_features=log2, max_leaf_nodes=1100, min_samples_split=6, splitter=best;, score=0.636 total time=   0.0s\n",
      "[CV 1/5] END criterion=gini, max_depth=20, max_features=log2, max_leaf_nodes=1100, min_samples_split=6, splitter=random;, score=0.597 total time=   0.0s\n",
      "[CV 2/5] END criterion=gini, max_depth=20, max_features=log2, max_leaf_nodes=1100, min_samples_split=6, splitter=random;, score=0.632 total time=   0.0s\n",
      "[CV 3/5] END criterion=gini, max_depth=20, max_features=log2, max_leaf_nodes=1100, min_samples_split=6, splitter=random;, score=0.631 total time=   0.0s\n",
      "[CV 4/5] END criterion=gini, max_depth=20, max_features=log2, max_leaf_nodes=1100, min_samples_split=6, splitter=random;, score=0.629 total time=   0.0s\n",
      "[CV 5/5] END criterion=gini, max_depth=20, max_features=log2, max_leaf_nodes=1100, min_samples_split=6, splitter=random;, score=0.596 total time=   0.0s\n",
      "[CV 1/5] END criterion=gini, max_depth=20, max_features=log2, max_leaf_nodes=1100, min_samples_split=8, splitter=best;, score=0.622 total time=   0.0s\n",
      "[CV 2/5] END criterion=gini, max_depth=20, max_features=log2, max_leaf_nodes=1100, min_samples_split=8, splitter=best;, score=0.647 total time=   0.0s\n",
      "[CV 3/5] END criterion=gini, max_depth=20, max_features=log2, max_leaf_nodes=1100, min_samples_split=8, splitter=best;, score=0.639 total time=   0.0s\n",
      "[CV 4/5] END criterion=gini, max_depth=20, max_features=log2, max_leaf_nodes=1100, min_samples_split=8, splitter=best;, score=0.632 total time=   0.0s\n",
      "[CV 5/5] END criterion=gini, max_depth=20, max_features=log2, max_leaf_nodes=1100, min_samples_split=8, splitter=best;, score=0.638 total time=   0.0s\n",
      "[CV 1/5] END criterion=gini, max_depth=20, max_features=log2, max_leaf_nodes=1100, min_samples_split=8, splitter=random;, score=0.602 total time=   0.0s\n",
      "[CV 2/5] END criterion=gini, max_depth=20, max_features=log2, max_leaf_nodes=1100, min_samples_split=8, splitter=random;, score=0.622 total time=   0.0s\n",
      "[CV 3/5] END criterion=gini, max_depth=20, max_features=log2, max_leaf_nodes=1100, min_samples_split=8, splitter=random;, score=0.594 total time=   0.0s\n",
      "[CV 4/5] END criterion=gini, max_depth=20, max_features=log2, max_leaf_nodes=1100, min_samples_split=8, splitter=random;, score=0.611 total time=   0.0s\n",
      "[CV 5/5] END criterion=gini, max_depth=20, max_features=log2, max_leaf_nodes=1100, min_samples_split=8, splitter=random;, score=0.630 total time=   0.0s\n",
      "[CV 1/5] END criterion=gini, max_depth=30, max_features=sqrt, max_leaf_nodes=900, min_samples_split=4, splitter=best;, score=0.665 total time=   0.0s\n",
      "[CV 2/5] END criterion=gini, max_depth=30, max_features=sqrt, max_leaf_nodes=900, min_samples_split=4, splitter=best;, score=0.690 total time=   0.0s\n",
      "[CV 3/5] END criterion=gini, max_depth=30, max_features=sqrt, max_leaf_nodes=900, min_samples_split=4, splitter=best;, score=0.662 total time=   0.0s\n",
      "[CV 4/5] END criterion=gini, max_depth=30, max_features=sqrt, max_leaf_nodes=900, min_samples_split=4, splitter=best;, score=0.626 total time=   0.0s\n",
      "[CV 5/5] END criterion=gini, max_depth=30, max_features=sqrt, max_leaf_nodes=900, min_samples_split=4, splitter=best;, score=0.635 total time=   0.0s\n",
      "[CV 1/5] END criterion=gini, max_depth=30, max_features=sqrt, max_leaf_nodes=900, min_samples_split=4, splitter=random;, score=0.614 total time=   0.0s\n",
      "[CV 2/5] END criterion=gini, max_depth=30, max_features=sqrt, max_leaf_nodes=900, min_samples_split=4, splitter=random;, score=0.653 total time=   0.0s\n",
      "[CV 3/5] END criterion=gini, max_depth=30, max_features=sqrt, max_leaf_nodes=900, min_samples_split=4, splitter=random;, score=0.629 total time=   0.0s\n",
      "[CV 4/5] END criterion=gini, max_depth=30, max_features=sqrt, max_leaf_nodes=900, min_samples_split=4, splitter=random;, score=0.599 total time=   0.0s\n",
      "[CV 5/5] END criterion=gini, max_depth=30, max_features=sqrt, max_leaf_nodes=900, min_samples_split=4, splitter=random;, score=0.622 total time=   0.0s\n",
      "[CV 1/5] END criterion=gini, max_depth=30, max_features=sqrt, max_leaf_nodes=900, min_samples_split=6, splitter=best;, score=0.662 total time=   0.0s\n",
      "[CV 2/5] END criterion=gini, max_depth=30, max_features=sqrt, max_leaf_nodes=900, min_samples_split=6, splitter=best;, score=0.668 total time=   0.0s\n",
      "[CV 3/5] END criterion=gini, max_depth=30, max_features=sqrt, max_leaf_nodes=900, min_samples_split=6, splitter=best;, score=0.656 total time=   0.0s\n",
      "[CV 4/5] END criterion=gini, max_depth=30, max_features=sqrt, max_leaf_nodes=900, min_samples_split=6, splitter=best;, score=0.655 total time=   0.0s\n",
      "[CV 5/5] END criterion=gini, max_depth=30, max_features=sqrt, max_leaf_nodes=900, min_samples_split=6, splitter=best;, score=0.648 total time=   0.0s\n",
      "[CV 1/5] END criterion=gini, max_depth=30, max_features=sqrt, max_leaf_nodes=900, min_samples_split=6, splitter=random;, score=0.633 total time=   0.0s\n",
      "[CV 2/5] END criterion=gini, max_depth=30, max_features=sqrt, max_leaf_nodes=900, min_samples_split=6, splitter=random;, score=0.620 total time=   0.0s\n",
      "[CV 3/5] END criterion=gini, max_depth=30, max_features=sqrt, max_leaf_nodes=900, min_samples_split=6, splitter=random;, score=0.626 total time=   0.0s\n",
      "[CV 4/5] END criterion=gini, max_depth=30, max_features=sqrt, max_leaf_nodes=900, min_samples_split=6, splitter=random;, score=0.618 total time=   0.0s\n",
      "[CV 5/5] END criterion=gini, max_depth=30, max_features=sqrt, max_leaf_nodes=900, min_samples_split=6, splitter=random;, score=0.629 total time=   0.0s\n",
      "[CV 1/5] END criterion=gini, max_depth=30, max_features=sqrt, max_leaf_nodes=900, min_samples_split=8, splitter=best;, score=0.635 total time=   0.0s\n",
      "[CV 2/5] END criterion=gini, max_depth=30, max_features=sqrt, max_leaf_nodes=900, min_samples_split=8, splitter=best;, score=0.687 total time=   0.0s\n",
      "[CV 3/5] END criterion=gini, max_depth=30, max_features=sqrt, max_leaf_nodes=900, min_samples_split=8, splitter=best;, score=0.634 total time=   0.0s\n",
      "[CV 4/5] END criterion=gini, max_depth=30, max_features=sqrt, max_leaf_nodes=900, min_samples_split=8, splitter=best;, score=0.656 total time=   0.0s\n",
      "[CV 5/5] END criterion=gini, max_depth=30, max_features=sqrt, max_leaf_nodes=900, min_samples_split=8, splitter=best;, score=0.639 total time=   0.0s\n",
      "[CV 1/5] END criterion=gini, max_depth=30, max_features=sqrt, max_leaf_nodes=900, min_samples_split=8, splitter=random;, score=0.611 total time=   0.0s\n",
      "[CV 2/5] END criterion=gini, max_depth=30, max_features=sqrt, max_leaf_nodes=900, min_samples_split=8, splitter=random;, score=0.639 total time=   0.0s\n",
      "[CV 3/5] END criterion=gini, max_depth=30, max_features=sqrt, max_leaf_nodes=900, min_samples_split=8, splitter=random;, score=0.604 total time=   0.0s\n",
      "[CV 4/5] END criterion=gini, max_depth=30, max_features=sqrt, max_leaf_nodes=900, min_samples_split=8, splitter=random;, score=0.626 total time=   0.0s\n",
      "[CV 5/5] END criterion=gini, max_depth=30, max_features=sqrt, max_leaf_nodes=900, min_samples_split=8, splitter=random;, score=0.635 total time=   0.0s\n",
      "[CV 1/5] END criterion=gini, max_depth=30, max_features=sqrt, max_leaf_nodes=1000, min_samples_split=4, splitter=best;, score=0.652 total time=   0.0s\n",
      "[CV 2/5] END criterion=gini, max_depth=30, max_features=sqrt, max_leaf_nodes=1000, min_samples_split=4, splitter=best;, score=0.690 total time=   0.0s\n",
      "[CV 3/5] END criterion=gini, max_depth=30, max_features=sqrt, max_leaf_nodes=1000, min_samples_split=4, splitter=best;, score=0.657 total time=   0.0s\n",
      "[CV 4/5] END criterion=gini, max_depth=30, max_features=sqrt, max_leaf_nodes=1000, min_samples_split=4, splitter=best;, score=0.676 total time=   0.0s\n",
      "[CV 5/5] END criterion=gini, max_depth=30, max_features=sqrt, max_leaf_nodes=1000, min_samples_split=4, splitter=best;, score=0.651 total time=   0.0s\n",
      "[CV 1/5] END criterion=gini, max_depth=30, max_features=sqrt, max_leaf_nodes=1000, min_samples_split=4, splitter=random;, score=0.636 total time=   0.0s\n",
      "[CV 2/5] END criterion=gini, max_depth=30, max_features=sqrt, max_leaf_nodes=1000, min_samples_split=4, splitter=random;, score=0.633 total time=   0.0s\n",
      "[CV 3/5] END criterion=gini, max_depth=30, max_features=sqrt, max_leaf_nodes=1000, min_samples_split=4, splitter=random;, score=0.636 total time=   0.0s\n",
      "[CV 4/5] END criterion=gini, max_depth=30, max_features=sqrt, max_leaf_nodes=1000, min_samples_split=4, splitter=random;, score=0.648 total time=   0.0s\n",
      "[CV 5/5] END criterion=gini, max_depth=30, max_features=sqrt, max_leaf_nodes=1000, min_samples_split=4, splitter=random;, score=0.625 total time=   0.0s\n",
      "[CV 1/5] END criterion=gini, max_depth=30, max_features=sqrt, max_leaf_nodes=1000, min_samples_split=6, splitter=best;, score=0.640 total time=   0.0s\n"
     ]
    },
    {
     "name": "stdout",
     "output_type": "stream",
     "text": [
      "[CV 2/5] END criterion=gini, max_depth=30, max_features=sqrt, max_leaf_nodes=1000, min_samples_split=6, splitter=best;, score=0.668 total time=   0.0s\n",
      "[CV 3/5] END criterion=gini, max_depth=30, max_features=sqrt, max_leaf_nodes=1000, min_samples_split=6, splitter=best;, score=0.654 total time=   0.0s\n",
      "[CV 4/5] END criterion=gini, max_depth=30, max_features=sqrt, max_leaf_nodes=1000, min_samples_split=6, splitter=best;, score=0.668 total time=   0.0s\n",
      "[CV 5/5] END criterion=gini, max_depth=30, max_features=sqrt, max_leaf_nodes=1000, min_samples_split=6, splitter=best;, score=0.664 total time=   0.0s\n",
      "[CV 1/5] END criterion=gini, max_depth=30, max_features=sqrt, max_leaf_nodes=1000, min_samples_split=6, splitter=random;, score=0.599 total time=   0.0s\n",
      "[CV 2/5] END criterion=gini, max_depth=30, max_features=sqrt, max_leaf_nodes=1000, min_samples_split=6, splitter=random;, score=0.617 total time=   0.0s\n",
      "[CV 3/5] END criterion=gini, max_depth=30, max_features=sqrt, max_leaf_nodes=1000, min_samples_split=6, splitter=random;, score=0.655 total time=   0.0s\n",
      "[CV 4/5] END criterion=gini, max_depth=30, max_features=sqrt, max_leaf_nodes=1000, min_samples_split=6, splitter=random;, score=0.641 total time=   0.0s\n",
      "[CV 5/5] END criterion=gini, max_depth=30, max_features=sqrt, max_leaf_nodes=1000, min_samples_split=6, splitter=random;, score=0.622 total time=   0.0s\n",
      "[CV 1/5] END criterion=gini, max_depth=30, max_features=sqrt, max_leaf_nodes=1000, min_samples_split=8, splitter=best;, score=0.626 total time=   0.0s\n",
      "[CV 2/5] END criterion=gini, max_depth=30, max_features=sqrt, max_leaf_nodes=1000, min_samples_split=8, splitter=best;, score=0.665 total time=   0.0s\n",
      "[CV 3/5] END criterion=gini, max_depth=30, max_features=sqrt, max_leaf_nodes=1000, min_samples_split=8, splitter=best;, score=0.647 total time=   0.0s\n",
      "[CV 4/5] END criterion=gini, max_depth=30, max_features=sqrt, max_leaf_nodes=1000, min_samples_split=8, splitter=best;, score=0.654 total time=   0.0s\n",
      "[CV 5/5] END criterion=gini, max_depth=30, max_features=sqrt, max_leaf_nodes=1000, min_samples_split=8, splitter=best;, score=0.642 total time=   0.0s\n",
      "[CV 1/5] END criterion=gini, max_depth=30, max_features=sqrt, max_leaf_nodes=1000, min_samples_split=8, splitter=random;, score=0.615 total time=   0.0s\n",
      "[CV 2/5] END criterion=gini, max_depth=30, max_features=sqrt, max_leaf_nodes=1000, min_samples_split=8, splitter=random;, score=0.634 total time=   0.0s\n",
      "[CV 3/5] END criterion=gini, max_depth=30, max_features=sqrt, max_leaf_nodes=1000, min_samples_split=8, splitter=random;, score=0.624 total time=   0.0s\n",
      "[CV 4/5] END criterion=gini, max_depth=30, max_features=sqrt, max_leaf_nodes=1000, min_samples_split=8, splitter=random;, score=0.629 total time=   0.0s\n",
      "[CV 5/5] END criterion=gini, max_depth=30, max_features=sqrt, max_leaf_nodes=1000, min_samples_split=8, splitter=random;, score=0.603 total time=   0.0s\n",
      "[CV 1/5] END criterion=gini, max_depth=30, max_features=sqrt, max_leaf_nodes=1100, min_samples_split=4, splitter=best;, score=0.656 total time=   0.0s\n",
      "[CV 2/5] END criterion=gini, max_depth=30, max_features=sqrt, max_leaf_nodes=1100, min_samples_split=4, splitter=best;, score=0.705 total time=   0.0s\n",
      "[CV 3/5] END criterion=gini, max_depth=30, max_features=sqrt, max_leaf_nodes=1100, min_samples_split=4, splitter=best;, score=0.656 total time=   0.0s\n",
      "[CV 4/5] END criterion=gini, max_depth=30, max_features=sqrt, max_leaf_nodes=1100, min_samples_split=4, splitter=best;, score=0.656 total time=   0.0s\n",
      "[CV 5/5] END criterion=gini, max_depth=30, max_features=sqrt, max_leaf_nodes=1100, min_samples_split=4, splitter=best;, score=0.663 total time=   0.0s\n",
      "[CV 1/5] END criterion=gini, max_depth=30, max_features=sqrt, max_leaf_nodes=1100, min_samples_split=4, splitter=random;, score=0.638 total time=   0.0s\n",
      "[CV 2/5] END criterion=gini, max_depth=30, max_features=sqrt, max_leaf_nodes=1100, min_samples_split=4, splitter=random;, score=0.650 total time=   0.0s\n",
      "[CV 3/5] END criterion=gini, max_depth=30, max_features=sqrt, max_leaf_nodes=1100, min_samples_split=4, splitter=random;, score=0.640 total time=   0.0s\n",
      "[CV 4/5] END criterion=gini, max_depth=30, max_features=sqrt, max_leaf_nodes=1100, min_samples_split=4, splitter=random;, score=0.632 total time=   0.0s\n",
      "[CV 5/5] END criterion=gini, max_depth=30, max_features=sqrt, max_leaf_nodes=1100, min_samples_split=4, splitter=random;, score=0.624 total time=   0.0s\n",
      "[CV 1/5] END criterion=gini, max_depth=30, max_features=sqrt, max_leaf_nodes=1100, min_samples_split=6, splitter=best;, score=0.634 total time=   0.0s\n",
      "[CV 2/5] END criterion=gini, max_depth=30, max_features=sqrt, max_leaf_nodes=1100, min_samples_split=6, splitter=best;, score=0.652 total time=   0.0s\n",
      "[CV 3/5] END criterion=gini, max_depth=30, max_features=sqrt, max_leaf_nodes=1100, min_samples_split=6, splitter=best;, score=0.664 total time=   0.0s\n",
      "[CV 4/5] END criterion=gini, max_depth=30, max_features=sqrt, max_leaf_nodes=1100, min_samples_split=6, splitter=best;, score=0.628 total time=   0.0s\n",
      "[CV 5/5] END criterion=gini, max_depth=30, max_features=sqrt, max_leaf_nodes=1100, min_samples_split=6, splitter=best;, score=0.661 total time=   0.0s\n",
      "[CV 1/5] END criterion=gini, max_depth=30, max_features=sqrt, max_leaf_nodes=1100, min_samples_split=6, splitter=random;, score=0.634 total time=   0.0s\n",
      "[CV 2/5] END criterion=gini, max_depth=30, max_features=sqrt, max_leaf_nodes=1100, min_samples_split=6, splitter=random;, score=0.640 total time=   0.0s\n",
      "[CV 3/5] END criterion=gini, max_depth=30, max_features=sqrt, max_leaf_nodes=1100, min_samples_split=6, splitter=random;, score=0.627 total time=   0.0s\n",
      "[CV 4/5] END criterion=gini, max_depth=30, max_features=sqrt, max_leaf_nodes=1100, min_samples_split=6, splitter=random;, score=0.648 total time=   0.0s\n",
      "[CV 5/5] END criterion=gini, max_depth=30, max_features=sqrt, max_leaf_nodes=1100, min_samples_split=6, splitter=random;, score=0.621 total time=   0.0s\n",
      "[CV 1/5] END criterion=gini, max_depth=30, max_features=sqrt, max_leaf_nodes=1100, min_samples_split=8, splitter=best;, score=0.644 total time=   0.0s\n",
      "[CV 2/5] END criterion=gini, max_depth=30, max_features=sqrt, max_leaf_nodes=1100, min_samples_split=8, splitter=best;, score=0.640 total time=   0.0s\n",
      "[CV 3/5] END criterion=gini, max_depth=30, max_features=sqrt, max_leaf_nodes=1100, min_samples_split=8, splitter=best;, score=0.647 total time=   0.0s\n",
      "[CV 4/5] END criterion=gini, max_depth=30, max_features=sqrt, max_leaf_nodes=1100, min_samples_split=8, splitter=best;, score=0.653 total time=   0.0s\n",
      "[CV 5/5] END criterion=gini, max_depth=30, max_features=sqrt, max_leaf_nodes=1100, min_samples_split=8, splitter=best;, score=0.654 total time=   0.0s\n",
      "[CV 1/5] END criterion=gini, max_depth=30, max_features=sqrt, max_leaf_nodes=1100, min_samples_split=8, splitter=random;, score=0.619 total time=   0.0s\n",
      "[CV 2/5] END criterion=gini, max_depth=30, max_features=sqrt, max_leaf_nodes=1100, min_samples_split=8, splitter=random;, score=0.635 total time=   0.0s\n",
      "[CV 3/5] END criterion=gini, max_depth=30, max_features=sqrt, max_leaf_nodes=1100, min_samples_split=8, splitter=random;, score=0.645 total time=   0.0s\n",
      "[CV 4/5] END criterion=gini, max_depth=30, max_features=sqrt, max_leaf_nodes=1100, min_samples_split=8, splitter=random;, score=0.619 total time=   0.0s\n",
      "[CV 5/5] END criterion=gini, max_depth=30, max_features=sqrt, max_leaf_nodes=1100, min_samples_split=8, splitter=random;, score=0.614 total time=   0.0s\n",
      "[CV 1/5] END criterion=gini, max_depth=30, max_features=log2, max_leaf_nodes=900, min_samples_split=4, splitter=best;, score=0.655 total time=   0.0s\n",
      "[CV 2/5] END criterion=gini, max_depth=30, max_features=log2, max_leaf_nodes=900, min_samples_split=4, splitter=best;, score=0.658 total time=   0.0s\n",
      "[CV 3/5] END criterion=gini, max_depth=30, max_features=log2, max_leaf_nodes=900, min_samples_split=4, splitter=best;, score=0.650 total time=   0.0s\n",
      "[CV 4/5] END criterion=gini, max_depth=30, max_features=log2, max_leaf_nodes=900, min_samples_split=4, splitter=best;, score=0.645 total time=   0.0s\n",
      "[CV 5/5] END criterion=gini, max_depth=30, max_features=log2, max_leaf_nodes=900, min_samples_split=4, splitter=best;, score=0.647 total time=   0.0s\n",
      "[CV 1/5] END criterion=gini, max_depth=30, max_features=log2, max_leaf_nodes=900, min_samples_split=4, splitter=random;, score=0.617 total time=   0.0s\n",
      "[CV 2/5] END criterion=gini, max_depth=30, max_features=log2, max_leaf_nodes=900, min_samples_split=4, splitter=random;, score=0.649 total time=   0.0s\n",
      "[CV 3/5] END criterion=gini, max_depth=30, max_features=log2, max_leaf_nodes=900, min_samples_split=4, splitter=random;, score=0.625 total time=   0.0s\n",
      "[CV 4/5] END criterion=gini, max_depth=30, max_features=log2, max_leaf_nodes=900, min_samples_split=4, splitter=random;, score=0.614 total time=   0.0s\n",
      "[CV 5/5] END criterion=gini, max_depth=30, max_features=log2, max_leaf_nodes=900, min_samples_split=4, splitter=random;, score=0.631 total time=   0.0s\n",
      "[CV 1/5] END criterion=gini, max_depth=30, max_features=log2, max_leaf_nodes=900, min_samples_split=6, splitter=best;, score=0.662 total time=   0.0s\n",
      "[CV 2/5] END criterion=gini, max_depth=30, max_features=log2, max_leaf_nodes=900, min_samples_split=6, splitter=best;, score=0.660 total time=   0.0s\n"
     ]
    },
    {
     "name": "stdout",
     "output_type": "stream",
     "text": [
      "[CV 3/5] END criterion=gini, max_depth=30, max_features=log2, max_leaf_nodes=900, min_samples_split=6, splitter=best;, score=0.632 total time=   0.0s\n",
      "[CV 4/5] END criterion=gini, max_depth=30, max_features=log2, max_leaf_nodes=900, min_samples_split=6, splitter=best;, score=0.650 total time=   0.0s\n",
      "[CV 5/5] END criterion=gini, max_depth=30, max_features=log2, max_leaf_nodes=900, min_samples_split=6, splitter=best;, score=0.644 total time=   0.0s\n",
      "[CV 1/5] END criterion=gini, max_depth=30, max_features=log2, max_leaf_nodes=900, min_samples_split=6, splitter=random;, score=0.613 total time=   0.0s\n",
      "[CV 2/5] END criterion=gini, max_depth=30, max_features=log2, max_leaf_nodes=900, min_samples_split=6, splitter=random;, score=0.639 total time=   0.0s\n",
      "[CV 3/5] END criterion=gini, max_depth=30, max_features=log2, max_leaf_nodes=900, min_samples_split=6, splitter=random;, score=0.615 total time=   0.0s\n",
      "[CV 4/5] END criterion=gini, max_depth=30, max_features=log2, max_leaf_nodes=900, min_samples_split=6, splitter=random;, score=0.611 total time=   0.0s\n",
      "[CV 5/5] END criterion=gini, max_depth=30, max_features=log2, max_leaf_nodes=900, min_samples_split=6, splitter=random;, score=0.617 total time=   0.0s\n",
      "[CV 1/5] END criterion=gini, max_depth=30, max_features=log2, max_leaf_nodes=900, min_samples_split=8, splitter=best;, score=0.644 total time=   0.0s\n",
      "[CV 2/5] END criterion=gini, max_depth=30, max_features=log2, max_leaf_nodes=900, min_samples_split=8, splitter=best;, score=0.657 total time=   0.0s\n",
      "[CV 3/5] END criterion=gini, max_depth=30, max_features=log2, max_leaf_nodes=900, min_samples_split=8, splitter=best;, score=0.636 total time=   0.0s\n",
      "[CV 4/5] END criterion=gini, max_depth=30, max_features=log2, max_leaf_nodes=900, min_samples_split=8, splitter=best;, score=0.624 total time=   0.0s\n",
      "[CV 5/5] END criterion=gini, max_depth=30, max_features=log2, max_leaf_nodes=900, min_samples_split=8, splitter=best;, score=0.639 total time=   0.0s\n",
      "[CV 1/5] END criterion=gini, max_depth=30, max_features=log2, max_leaf_nodes=900, min_samples_split=8, splitter=random;, score=0.606 total time=   0.0s\n",
      "[CV 2/5] END criterion=gini, max_depth=30, max_features=log2, max_leaf_nodes=900, min_samples_split=8, splitter=random;, score=0.650 total time=   0.0s\n",
      "[CV 3/5] END criterion=gini, max_depth=30, max_features=log2, max_leaf_nodes=900, min_samples_split=8, splitter=random;, score=0.626 total time=   0.0s\n",
      "[CV 4/5] END criterion=gini, max_depth=30, max_features=log2, max_leaf_nodes=900, min_samples_split=8, splitter=random;, score=0.618 total time=   0.0s\n",
      "[CV 5/5] END criterion=gini, max_depth=30, max_features=log2, max_leaf_nodes=900, min_samples_split=8, splitter=random;, score=0.599 total time=   0.0s\n",
      "[CV 1/5] END criterion=gini, max_depth=30, max_features=log2, max_leaf_nodes=1000, min_samples_split=4, splitter=best;, score=0.655 total time=   0.0s\n",
      "[CV 2/5] END criterion=gini, max_depth=30, max_features=log2, max_leaf_nodes=1000, min_samples_split=4, splitter=best;, score=0.675 total time=   0.0s\n",
      "[CV 3/5] END criterion=gini, max_depth=30, max_features=log2, max_leaf_nodes=1000, min_samples_split=4, splitter=best;, score=0.653 total time=   0.0s\n",
      "[CV 4/5] END criterion=gini, max_depth=30, max_features=log2, max_leaf_nodes=1000, min_samples_split=4, splitter=best;, score=0.652 total time=   0.0s\n",
      "[CV 5/5] END criterion=gini, max_depth=30, max_features=log2, max_leaf_nodes=1000, min_samples_split=4, splitter=best;, score=0.652 total time=   0.0s\n",
      "[CV 1/5] END criterion=gini, max_depth=30, max_features=log2, max_leaf_nodes=1000, min_samples_split=4, splitter=random;, score=0.630 total time=   0.0s\n",
      "[CV 2/5] END criterion=gini, max_depth=30, max_features=log2, max_leaf_nodes=1000, min_samples_split=4, splitter=random;, score=0.655 total time=   0.0s\n",
      "[CV 3/5] END criterion=gini, max_depth=30, max_features=log2, max_leaf_nodes=1000, min_samples_split=4, splitter=random;, score=0.618 total time=   0.0s\n",
      "[CV 4/5] END criterion=gini, max_depth=30, max_features=log2, max_leaf_nodes=1000, min_samples_split=4, splitter=random;, score=0.640 total time=   0.0s\n",
      "[CV 5/5] END criterion=gini, max_depth=30, max_features=log2, max_leaf_nodes=1000, min_samples_split=4, splitter=random;, score=0.628 total time=   0.0s\n",
      "[CV 1/5] END criterion=gini, max_depth=30, max_features=log2, max_leaf_nodes=1000, min_samples_split=6, splitter=best;, score=0.647 total time=   0.0s\n",
      "[CV 2/5] END criterion=gini, max_depth=30, max_features=log2, max_leaf_nodes=1000, min_samples_split=6, splitter=best;, score=0.665 total time=   0.0s\n",
      "[CV 3/5] END criterion=gini, max_depth=30, max_features=log2, max_leaf_nodes=1000, min_samples_split=6, splitter=best;, score=0.644 total time=   0.0s\n",
      "[CV 4/5] END criterion=gini, max_depth=30, max_features=log2, max_leaf_nodes=1000, min_samples_split=6, splitter=best;, score=0.627 total time=   0.0s\n",
      "[CV 5/5] END criterion=gini, max_depth=30, max_features=log2, max_leaf_nodes=1000, min_samples_split=6, splitter=best;, score=0.653 total time=   0.0s\n",
      "[CV 1/5] END criterion=gini, max_depth=30, max_features=log2, max_leaf_nodes=1000, min_samples_split=6, splitter=random;, score=0.618 total time=   0.0s\n",
      "[CV 2/5] END criterion=gini, max_depth=30, max_features=log2, max_leaf_nodes=1000, min_samples_split=6, splitter=random;, score=0.631 total time=   0.0s\n",
      "[CV 3/5] END criterion=gini, max_depth=30, max_features=log2, max_leaf_nodes=1000, min_samples_split=6, splitter=random;, score=0.621 total time=   0.0s\n",
      "[CV 4/5] END criterion=gini, max_depth=30, max_features=log2, max_leaf_nodes=1000, min_samples_split=6, splitter=random;, score=0.611 total time=   0.0s\n",
      "[CV 5/5] END criterion=gini, max_depth=30, max_features=log2, max_leaf_nodes=1000, min_samples_split=6, splitter=random;, score=0.625 total time=   0.0s\n",
      "[CV 1/5] END criterion=gini, max_depth=30, max_features=log2, max_leaf_nodes=1000, min_samples_split=8, splitter=best;, score=0.640 total time=   0.0s\n",
      "[CV 2/5] END criterion=gini, max_depth=30, max_features=log2, max_leaf_nodes=1000, min_samples_split=8, splitter=best;, score=0.654 total time=   0.0s\n",
      "[CV 3/5] END criterion=gini, max_depth=30, max_features=log2, max_leaf_nodes=1000, min_samples_split=8, splitter=best;, score=0.672 total time=   0.0s\n",
      "[CV 4/5] END criterion=gini, max_depth=30, max_features=log2, max_leaf_nodes=1000, min_samples_split=8, splitter=best;, score=0.651 total time=   0.0s\n",
      "[CV 5/5] END criterion=gini, max_depth=30, max_features=log2, max_leaf_nodes=1000, min_samples_split=8, splitter=best;, score=0.647 total time=   0.0s\n",
      "[CV 1/5] END criterion=gini, max_depth=30, max_features=log2, max_leaf_nodes=1000, min_samples_split=8, splitter=random;, score=0.626 total time=   0.0s\n",
      "[CV 2/5] END criterion=gini, max_depth=30, max_features=log2, max_leaf_nodes=1000, min_samples_split=8, splitter=random;, score=0.639 total time=   0.0s\n",
      "[CV 3/5] END criterion=gini, max_depth=30, max_features=log2, max_leaf_nodes=1000, min_samples_split=8, splitter=random;, score=0.634 total time=   0.0s\n",
      "[CV 4/5] END criterion=gini, max_depth=30, max_features=log2, max_leaf_nodes=1000, min_samples_split=8, splitter=random;, score=0.597 total time=   0.0s\n",
      "[CV 5/5] END criterion=gini, max_depth=30, max_features=log2, max_leaf_nodes=1000, min_samples_split=8, splitter=random;, score=0.603 total time=   0.0s\n",
      "[CV 1/5] END criterion=gini, max_depth=30, max_features=log2, max_leaf_nodes=1100, min_samples_split=4, splitter=best;, score=0.653 total time=   0.0s\n",
      "[CV 2/5] END criterion=gini, max_depth=30, max_features=log2, max_leaf_nodes=1100, min_samples_split=4, splitter=best;, score=0.676 total time=   0.0s\n",
      "[CV 3/5] END criterion=gini, max_depth=30, max_features=log2, max_leaf_nodes=1100, min_samples_split=4, splitter=best;, score=0.646 total time=   0.0s\n",
      "[CV 4/5] END criterion=gini, max_depth=30, max_features=log2, max_leaf_nodes=1100, min_samples_split=4, splitter=best;, score=0.661 total time=   0.0s\n",
      "[CV 5/5] END criterion=gini, max_depth=30, max_features=log2, max_leaf_nodes=1100, min_samples_split=4, splitter=best;, score=0.679 total time=   0.0s\n",
      "[CV 1/5] END criterion=gini, max_depth=30, max_features=log2, max_leaf_nodes=1100, min_samples_split=4, splitter=random;, score=0.634 total time=   0.0s\n",
      "[CV 2/5] END criterion=gini, max_depth=30, max_features=log2, max_leaf_nodes=1100, min_samples_split=4, splitter=random;, score=0.643 total time=   0.0s\n",
      "[CV 3/5] END criterion=gini, max_depth=30, max_features=log2, max_leaf_nodes=1100, min_samples_split=4, splitter=random;, score=0.650 total time=   0.0s\n",
      "[CV 4/5] END criterion=gini, max_depth=30, max_features=log2, max_leaf_nodes=1100, min_samples_split=4, splitter=random;, score=0.640 total time=   0.0s\n",
      "[CV 5/5] END criterion=gini, max_depth=30, max_features=log2, max_leaf_nodes=1100, min_samples_split=4, splitter=random;, score=0.621 total time=   0.0s\n",
      "[CV 1/5] END criterion=gini, max_depth=30, max_features=log2, max_leaf_nodes=1100, min_samples_split=6, splitter=best;, score=0.644 total time=   0.0s\n",
      "[CV 2/5] END criterion=gini, max_depth=30, max_features=log2, max_leaf_nodes=1100, min_samples_split=6, splitter=best;, score=0.685 total time=   0.0s\n",
      "[CV 3/5] END criterion=gini, max_depth=30, max_features=log2, max_leaf_nodes=1100, min_samples_split=6, splitter=best;, score=0.664 total time=   0.0s\n"
     ]
    },
    {
     "name": "stdout",
     "output_type": "stream",
     "text": [
      "[CV 4/5] END criterion=gini, max_depth=30, max_features=log2, max_leaf_nodes=1100, min_samples_split=6, splitter=best;, score=0.639 total time=   0.0s\n",
      "[CV 5/5] END criterion=gini, max_depth=30, max_features=log2, max_leaf_nodes=1100, min_samples_split=6, splitter=best;, score=0.643 total time=   0.0s\n",
      "[CV 1/5] END criterion=gini, max_depth=30, max_features=log2, max_leaf_nodes=1100, min_samples_split=6, splitter=random;, score=0.616 total time=   0.0s\n",
      "[CV 2/5] END criterion=gini, max_depth=30, max_features=log2, max_leaf_nodes=1100, min_samples_split=6, splitter=random;, score=0.649 total time=   0.0s\n",
      "[CV 3/5] END criterion=gini, max_depth=30, max_features=log2, max_leaf_nodes=1100, min_samples_split=6, splitter=random;, score=0.620 total time=   0.0s\n",
      "[CV 4/5] END criterion=gini, max_depth=30, max_features=log2, max_leaf_nodes=1100, min_samples_split=6, splitter=random;, score=0.619 total time=   0.0s\n",
      "[CV 5/5] END criterion=gini, max_depth=30, max_features=log2, max_leaf_nodes=1100, min_samples_split=6, splitter=random;, score=0.615 total time=   0.0s\n",
      "[CV 1/5] END criterion=gini, max_depth=30, max_features=log2, max_leaf_nodes=1100, min_samples_split=8, splitter=best;, score=0.626 total time=   0.0s\n",
      "[CV 2/5] END criterion=gini, max_depth=30, max_features=log2, max_leaf_nodes=1100, min_samples_split=8, splitter=best;, score=0.647 total time=   0.0s\n",
      "[CV 3/5] END criterion=gini, max_depth=30, max_features=log2, max_leaf_nodes=1100, min_samples_split=8, splitter=best;, score=0.643 total time=   0.0s\n",
      "[CV 4/5] END criterion=gini, max_depth=30, max_features=log2, max_leaf_nodes=1100, min_samples_split=8, splitter=best;, score=0.639 total time=   0.0s\n",
      "[CV 5/5] END criterion=gini, max_depth=30, max_features=log2, max_leaf_nodes=1100, min_samples_split=8, splitter=best;, score=0.636 total time=   0.0s\n",
      "[CV 1/5] END criterion=gini, max_depth=30, max_features=log2, max_leaf_nodes=1100, min_samples_split=8, splitter=random;, score=0.608 total time=   0.0s\n",
      "[CV 2/5] END criterion=gini, max_depth=30, max_features=log2, max_leaf_nodes=1100, min_samples_split=8, splitter=random;, score=0.621 total time=   0.0s\n",
      "[CV 3/5] END criterion=gini, max_depth=30, max_features=log2, max_leaf_nodes=1100, min_samples_split=8, splitter=random;, score=0.631 total time=   0.0s\n",
      "[CV 4/5] END criterion=gini, max_depth=30, max_features=log2, max_leaf_nodes=1100, min_samples_split=8, splitter=random;, score=0.612 total time=   0.0s\n",
      "[CV 5/5] END criterion=gini, max_depth=30, max_features=log2, max_leaf_nodes=1100, min_samples_split=8, splitter=random;, score=0.625 total time=   0.0s\n",
      "[CV 1/5] END criterion=entropy, max_depth=10, max_features=sqrt, max_leaf_nodes=900, min_samples_split=4, splitter=best;, score=0.627 total time=   0.0s\n",
      "[CV 2/5] END criterion=entropy, max_depth=10, max_features=sqrt, max_leaf_nodes=900, min_samples_split=4, splitter=best;, score=0.648 total time=   0.0s\n",
      "[CV 3/5] END criterion=entropy, max_depth=10, max_features=sqrt, max_leaf_nodes=900, min_samples_split=4, splitter=best;, score=0.629 total time=   0.0s\n",
      "[CV 4/5] END criterion=entropy, max_depth=10, max_features=sqrt, max_leaf_nodes=900, min_samples_split=4, splitter=best;, score=0.618 total time=   0.0s\n",
      "[CV 5/5] END criterion=entropy, max_depth=10, max_features=sqrt, max_leaf_nodes=900, min_samples_split=4, splitter=best;, score=0.598 total time=   0.0s\n",
      "[CV 1/5] END criterion=entropy, max_depth=10, max_features=sqrt, max_leaf_nodes=900, min_samples_split=4, splitter=random;, score=0.550 total time=   0.0s\n",
      "[CV 2/5] END criterion=entropy, max_depth=10, max_features=sqrt, max_leaf_nodes=900, min_samples_split=4, splitter=random;, score=0.524 total time=   0.0s\n",
      "[CV 3/5] END criterion=entropy, max_depth=10, max_features=sqrt, max_leaf_nodes=900, min_samples_split=4, splitter=random;, score=0.498 total time=   0.0s\n",
      "[CV 4/5] END criterion=entropy, max_depth=10, max_features=sqrt, max_leaf_nodes=900, min_samples_split=4, splitter=random;, score=0.489 total time=   0.0s\n",
      "[CV 5/5] END criterion=entropy, max_depth=10, max_features=sqrt, max_leaf_nodes=900, min_samples_split=4, splitter=random;, score=0.551 total time=   0.0s\n",
      "[CV 1/5] END criterion=entropy, max_depth=10, max_features=sqrt, max_leaf_nodes=900, min_samples_split=6, splitter=best;, score=0.609 total time=   0.0s\n",
      "[CV 2/5] END criterion=entropy, max_depth=10, max_features=sqrt, max_leaf_nodes=900, min_samples_split=6, splitter=best;, score=0.657 total time=   0.0s\n",
      "[CV 3/5] END criterion=entropy, max_depth=10, max_features=sqrt, max_leaf_nodes=900, min_samples_split=6, splitter=best;, score=0.633 total time=   0.0s\n",
      "[CV 4/5] END criterion=entropy, max_depth=10, max_features=sqrt, max_leaf_nodes=900, min_samples_split=6, splitter=best;, score=0.624 total time=   0.0s\n",
      "[CV 5/5] END criterion=entropy, max_depth=10, max_features=sqrt, max_leaf_nodes=900, min_samples_split=6, splitter=best;, score=0.592 total time=   0.0s\n",
      "[CV 1/5] END criterion=entropy, max_depth=10, max_features=sqrt, max_leaf_nodes=900, min_samples_split=6, splitter=random;, score=0.565 total time=   0.0s\n",
      "[CV 2/5] END criterion=entropy, max_depth=10, max_features=sqrt, max_leaf_nodes=900, min_samples_split=6, splitter=random;, score=0.594 total time=   0.0s\n",
      "[CV 3/5] END criterion=entropy, max_depth=10, max_features=sqrt, max_leaf_nodes=900, min_samples_split=6, splitter=random;, score=0.583 total time=   0.0s\n",
      "[CV 4/5] END criterion=entropy, max_depth=10, max_features=sqrt, max_leaf_nodes=900, min_samples_split=6, splitter=random;, score=0.538 total time=   0.0s\n",
      "[CV 5/5] END criterion=entropy, max_depth=10, max_features=sqrt, max_leaf_nodes=900, min_samples_split=6, splitter=random;, score=0.512 total time=   0.0s\n",
      "[CV 1/5] END criterion=entropy, max_depth=10, max_features=sqrt, max_leaf_nodes=900, min_samples_split=8, splitter=best;, score=0.616 total time=   0.0s\n",
      "[CV 2/5] END criterion=entropy, max_depth=10, max_features=sqrt, max_leaf_nodes=900, min_samples_split=8, splitter=best;, score=0.618 total time=   0.0s\n",
      "[CV 3/5] END criterion=entropy, max_depth=10, max_features=sqrt, max_leaf_nodes=900, min_samples_split=8, splitter=best;, score=0.636 total time=   0.0s\n",
      "[CV 4/5] END criterion=entropy, max_depth=10, max_features=sqrt, max_leaf_nodes=900, min_samples_split=8, splitter=best;, score=0.603 total time=   0.0s\n",
      "[CV 5/5] END criterion=entropy, max_depth=10, max_features=sqrt, max_leaf_nodes=900, min_samples_split=8, splitter=best;, score=0.641 total time=   0.0s\n",
      "[CV 1/5] END criterion=entropy, max_depth=10, max_features=sqrt, max_leaf_nodes=900, min_samples_split=8, splitter=random;, score=0.578 total time=   0.0s\n",
      "[CV 2/5] END criterion=entropy, max_depth=10, max_features=sqrt, max_leaf_nodes=900, min_samples_split=8, splitter=random;, score=0.519 total time=   0.0s\n",
      "[CV 3/5] END criterion=entropy, max_depth=10, max_features=sqrt, max_leaf_nodes=900, min_samples_split=8, splitter=random;, score=0.566 total time=   0.0s\n",
      "[CV 4/5] END criterion=entropy, max_depth=10, max_features=sqrt, max_leaf_nodes=900, min_samples_split=8, splitter=random;, score=0.524 total time=   0.0s\n",
      "[CV 5/5] END criterion=entropy, max_depth=10, max_features=sqrt, max_leaf_nodes=900, min_samples_split=8, splitter=random;, score=0.493 total time=   0.0s\n",
      "[CV 1/5] END criterion=entropy, max_depth=10, max_features=sqrt, max_leaf_nodes=1000, min_samples_split=4, splitter=best;, score=0.614 total time=   0.0s\n",
      "[CV 2/5] END criterion=entropy, max_depth=10, max_features=sqrt, max_leaf_nodes=1000, min_samples_split=4, splitter=best;, score=0.657 total time=   0.0s\n",
      "[CV 3/5] END criterion=entropy, max_depth=10, max_features=sqrt, max_leaf_nodes=1000, min_samples_split=4, splitter=best;, score=0.638 total time=   0.0s\n",
      "[CV 4/5] END criterion=entropy, max_depth=10, max_features=sqrt, max_leaf_nodes=1000, min_samples_split=4, splitter=best;, score=0.633 total time=   0.0s\n",
      "[CV 5/5] END criterion=entropy, max_depth=10, max_features=sqrt, max_leaf_nodes=1000, min_samples_split=4, splitter=best;, score=0.611 total time=   0.0s\n",
      "[CV 1/5] END criterion=entropy, max_depth=10, max_features=sqrt, max_leaf_nodes=1000, min_samples_split=4, splitter=random;, score=0.547 total time=   0.0s\n",
      "[CV 2/5] END criterion=entropy, max_depth=10, max_features=sqrt, max_leaf_nodes=1000, min_samples_split=4, splitter=random;, score=0.575 total time=   0.0s\n",
      "[CV 3/5] END criterion=entropy, max_depth=10, max_features=sqrt, max_leaf_nodes=1000, min_samples_split=4, splitter=random;, score=0.563 total time=   0.0s\n",
      "[CV 4/5] END criterion=entropy, max_depth=10, max_features=sqrt, max_leaf_nodes=1000, min_samples_split=4, splitter=random;, score=0.538 total time=   0.0s\n",
      "[CV 5/5] END criterion=entropy, max_depth=10, max_features=sqrt, max_leaf_nodes=1000, min_samples_split=4, splitter=random;, score=0.567 total time=   0.0s\n",
      "[CV 1/5] END criterion=entropy, max_depth=10, max_features=sqrt, max_leaf_nodes=1000, min_samples_split=6, splitter=best;, score=0.624 total time=   0.0s\n",
      "[CV 2/5] END criterion=entropy, max_depth=10, max_features=sqrt, max_leaf_nodes=1000, min_samples_split=6, splitter=best;, score=0.622 total time=   0.0s\n",
      "[CV 3/5] END criterion=entropy, max_depth=10, max_features=sqrt, max_leaf_nodes=1000, min_samples_split=6, splitter=best;, score=0.622 total time=   0.0s\n"
     ]
    },
    {
     "name": "stdout",
     "output_type": "stream",
     "text": [
      "[CV 4/5] END criterion=entropy, max_depth=10, max_features=sqrt, max_leaf_nodes=1000, min_samples_split=6, splitter=best;, score=0.637 total time=   0.0s\n",
      "[CV 5/5] END criterion=entropy, max_depth=10, max_features=sqrt, max_leaf_nodes=1000, min_samples_split=6, splitter=best;, score=0.632 total time=   0.0s\n",
      "[CV 1/5] END criterion=entropy, max_depth=10, max_features=sqrt, max_leaf_nodes=1000, min_samples_split=6, splitter=random;, score=0.579 total time=   0.0s\n",
      "[CV 2/5] END criterion=entropy, max_depth=10, max_features=sqrt, max_leaf_nodes=1000, min_samples_split=6, splitter=random;, score=0.543 total time=   0.0s\n",
      "[CV 3/5] END criterion=entropy, max_depth=10, max_features=sqrt, max_leaf_nodes=1000, min_samples_split=6, splitter=random;, score=0.596 total time=   0.0s\n",
      "[CV 4/5] END criterion=entropy, max_depth=10, max_features=sqrt, max_leaf_nodes=1000, min_samples_split=6, splitter=random;, score=0.556 total time=   0.0s\n",
      "[CV 5/5] END criterion=entropy, max_depth=10, max_features=sqrt, max_leaf_nodes=1000, min_samples_split=6, splitter=random;, score=0.533 total time=   0.0s\n",
      "[CV 1/5] END criterion=entropy, max_depth=10, max_features=sqrt, max_leaf_nodes=1000, min_samples_split=8, splitter=best;, score=0.634 total time=   0.0s\n",
      "[CV 2/5] END criterion=entropy, max_depth=10, max_features=sqrt, max_leaf_nodes=1000, min_samples_split=8, splitter=best;, score=0.650 total time=   0.0s\n",
      "[CV 3/5] END criterion=entropy, max_depth=10, max_features=sqrt, max_leaf_nodes=1000, min_samples_split=8, splitter=best;, score=0.620 total time=   0.0s\n",
      "[CV 4/5] END criterion=entropy, max_depth=10, max_features=sqrt, max_leaf_nodes=1000, min_samples_split=8, splitter=best;, score=0.640 total time=   0.0s\n",
      "[CV 5/5] END criterion=entropy, max_depth=10, max_features=sqrt, max_leaf_nodes=1000, min_samples_split=8, splitter=best;, score=0.617 total time=   0.0s\n",
      "[CV 1/5] END criterion=entropy, max_depth=10, max_features=sqrt, max_leaf_nodes=1000, min_samples_split=8, splitter=random;, score=0.520 total time=   0.0s\n",
      "[CV 2/5] END criterion=entropy, max_depth=10, max_features=sqrt, max_leaf_nodes=1000, min_samples_split=8, splitter=random;, score=0.486 total time=   0.0s\n",
      "[CV 3/5] END criterion=entropy, max_depth=10, max_features=sqrt, max_leaf_nodes=1000, min_samples_split=8, splitter=random;, score=0.513 total time=   0.0s\n",
      "[CV 4/5] END criterion=entropy, max_depth=10, max_features=sqrt, max_leaf_nodes=1000, min_samples_split=8, splitter=random;, score=0.529 total time=   0.0s\n",
      "[CV 5/5] END criterion=entropy, max_depth=10, max_features=sqrt, max_leaf_nodes=1000, min_samples_split=8, splitter=random;, score=0.404 total time=   0.0s\n",
      "[CV 1/5] END criterion=entropy, max_depth=10, max_features=sqrt, max_leaf_nodes=1100, min_samples_split=4, splitter=best;, score=0.612 total time=   0.0s\n",
      "[CV 2/5] END criterion=entropy, max_depth=10, max_features=sqrt, max_leaf_nodes=1100, min_samples_split=4, splitter=best;, score=0.666 total time=   0.0s\n",
      "[CV 3/5] END criterion=entropy, max_depth=10, max_features=sqrt, max_leaf_nodes=1100, min_samples_split=4, splitter=best;, score=0.641 total time=   0.0s\n",
      "[CV 4/5] END criterion=entropy, max_depth=10, max_features=sqrt, max_leaf_nodes=1100, min_samples_split=4, splitter=best;, score=0.629 total time=   0.0s\n",
      "[CV 5/5] END criterion=entropy, max_depth=10, max_features=sqrt, max_leaf_nodes=1100, min_samples_split=4, splitter=best;, score=0.630 total time=   0.0s\n",
      "[CV 1/5] END criterion=entropy, max_depth=10, max_features=sqrt, max_leaf_nodes=1100, min_samples_split=4, splitter=random;, score=0.516 total time=   0.0s\n",
      "[CV 2/5] END criterion=entropy, max_depth=10, max_features=sqrt, max_leaf_nodes=1100, min_samples_split=4, splitter=random;, score=0.558 total time=   0.0s\n",
      "[CV 3/5] END criterion=entropy, max_depth=10, max_features=sqrt, max_leaf_nodes=1100, min_samples_split=4, splitter=random;, score=0.588 total time=   0.0s\n",
      "[CV 4/5] END criterion=entropy, max_depth=10, max_features=sqrt, max_leaf_nodes=1100, min_samples_split=4, splitter=random;, score=0.548 total time=   0.0s\n",
      "[CV 5/5] END criterion=entropy, max_depth=10, max_features=sqrt, max_leaf_nodes=1100, min_samples_split=4, splitter=random;, score=0.593 total time=   0.0s\n",
      "[CV 1/5] END criterion=entropy, max_depth=10, max_features=sqrt, max_leaf_nodes=1100, min_samples_split=6, splitter=best;, score=0.621 total time=   0.0s\n",
      "[CV 2/5] END criterion=entropy, max_depth=10, max_features=sqrt, max_leaf_nodes=1100, min_samples_split=6, splitter=best;, score=0.632 total time=   0.0s\n",
      "[CV 3/5] END criterion=entropy, max_depth=10, max_features=sqrt, max_leaf_nodes=1100, min_samples_split=6, splitter=best;, score=0.620 total time=   0.0s\n",
      "[CV 4/5] END criterion=entropy, max_depth=10, max_features=sqrt, max_leaf_nodes=1100, min_samples_split=6, splitter=best;, score=0.632 total time=   0.0s\n",
      "[CV 5/5] END criterion=entropy, max_depth=10, max_features=sqrt, max_leaf_nodes=1100, min_samples_split=6, splitter=best;, score=0.617 total time=   0.0s\n",
      "[CV 1/5] END criterion=entropy, max_depth=10, max_features=sqrt, max_leaf_nodes=1100, min_samples_split=6, splitter=random;, score=0.514 total time=   0.0s\n",
      "[CV 2/5] END criterion=entropy, max_depth=10, max_features=sqrt, max_leaf_nodes=1100, min_samples_split=6, splitter=random;, score=0.574 total time=   0.0s\n",
      "[CV 3/5] END criterion=entropy, max_depth=10, max_features=sqrt, max_leaf_nodes=1100, min_samples_split=6, splitter=random;, score=0.545 total time=   0.0s\n",
      "[CV 4/5] END criterion=entropy, max_depth=10, max_features=sqrt, max_leaf_nodes=1100, min_samples_split=6, splitter=random;, score=0.514 total time=   0.0s\n",
      "[CV 5/5] END criterion=entropy, max_depth=10, max_features=sqrt, max_leaf_nodes=1100, min_samples_split=6, splitter=random;, score=0.570 total time=   0.0s\n",
      "[CV 1/5] END criterion=entropy, max_depth=10, max_features=sqrt, max_leaf_nodes=1100, min_samples_split=8, splitter=best;, score=0.594 total time=   0.0s\n",
      "[CV 2/5] END criterion=entropy, max_depth=10, max_features=sqrt, max_leaf_nodes=1100, min_samples_split=8, splitter=best;, score=0.654 total time=   0.0s\n",
      "[CV 3/5] END criterion=entropy, max_depth=10, max_features=sqrt, max_leaf_nodes=1100, min_samples_split=8, splitter=best;, score=0.637 total time=   0.0s\n",
      "[CV 4/5] END criterion=entropy, max_depth=10, max_features=sqrt, max_leaf_nodes=1100, min_samples_split=8, splitter=best;, score=0.600 total time=   0.0s\n",
      "[CV 5/5] END criterion=entropy, max_depth=10, max_features=sqrt, max_leaf_nodes=1100, min_samples_split=8, splitter=best;, score=0.611 total time=   0.0s\n",
      "[CV 1/5] END criterion=entropy, max_depth=10, max_features=sqrt, max_leaf_nodes=1100, min_samples_split=8, splitter=random;, score=0.544 total time=   0.0s\n",
      "[CV 2/5] END criterion=entropy, max_depth=10, max_features=sqrt, max_leaf_nodes=1100, min_samples_split=8, splitter=random;, score=0.573 total time=   0.0s\n",
      "[CV 3/5] END criterion=entropy, max_depth=10, max_features=sqrt, max_leaf_nodes=1100, min_samples_split=8, splitter=random;, score=0.538 total time=   0.0s\n",
      "[CV 4/5] END criterion=entropy, max_depth=10, max_features=sqrt, max_leaf_nodes=1100, min_samples_split=8, splitter=random;, score=0.556 total time=   0.0s\n",
      "[CV 5/5] END criterion=entropy, max_depth=10, max_features=sqrt, max_leaf_nodes=1100, min_samples_split=8, splitter=random;, score=0.574 total time=   0.0s\n",
      "[CV 1/5] END criterion=entropy, max_depth=10, max_features=log2, max_leaf_nodes=900, min_samples_split=4, splitter=best;, score=0.593 total time=   0.0s\n",
      "[CV 2/5] END criterion=entropy, max_depth=10, max_features=log2, max_leaf_nodes=900, min_samples_split=4, splitter=best;, score=0.636 total time=   0.0s\n",
      "[CV 3/5] END criterion=entropy, max_depth=10, max_features=log2, max_leaf_nodes=900, min_samples_split=4, splitter=best;, score=0.647 total time=   0.0s\n",
      "[CV 4/5] END criterion=entropy, max_depth=10, max_features=log2, max_leaf_nodes=900, min_samples_split=4, splitter=best;, score=0.611 total time=   0.0s\n",
      "[CV 5/5] END criterion=entropy, max_depth=10, max_features=log2, max_leaf_nodes=900, min_samples_split=4, splitter=best;, score=0.611 total time=   0.0s\n",
      "[CV 1/5] END criterion=entropy, max_depth=10, max_features=log2, max_leaf_nodes=900, min_samples_split=4, splitter=random;, score=0.560 total time=   0.0s\n",
      "[CV 2/5] END criterion=entropy, max_depth=10, max_features=log2, max_leaf_nodes=900, min_samples_split=4, splitter=random;, score=0.540 total time=   0.0s\n",
      "[CV 3/5] END criterion=entropy, max_depth=10, max_features=log2, max_leaf_nodes=900, min_samples_split=4, splitter=random;, score=0.538 total time=   0.0s\n",
      "[CV 4/5] END criterion=entropy, max_depth=10, max_features=log2, max_leaf_nodes=900, min_samples_split=4, splitter=random;, score=0.549 total time=   0.0s\n",
      "[CV 5/5] END criterion=entropy, max_depth=10, max_features=log2, max_leaf_nodes=900, min_samples_split=4, splitter=random;, score=0.579 total time=   0.0s\n",
      "[CV 1/5] END criterion=entropy, max_depth=10, max_features=log2, max_leaf_nodes=900, min_samples_split=6, splitter=best;, score=0.617 total time=   0.0s\n",
      "[CV 2/5] END criterion=entropy, max_depth=10, max_features=log2, max_leaf_nodes=900, min_samples_split=6, splitter=best;, score=0.643 total time=   0.0s\n",
      "[CV 3/5] END criterion=entropy, max_depth=10, max_features=log2, max_leaf_nodes=900, min_samples_split=6, splitter=best;, score=0.626 total time=   0.0s\n",
      "[CV 4/5] END criterion=entropy, max_depth=10, max_features=log2, max_leaf_nodes=900, min_samples_split=6, splitter=best;, score=0.619 total time=   0.0s\n",
      "[CV 5/5] END criterion=entropy, max_depth=10, max_features=log2, max_leaf_nodes=900, min_samples_split=6, splitter=best;, score=0.625 total time=   0.0s\n",
      "[CV 1/5] END criterion=entropy, max_depth=10, max_features=log2, max_leaf_nodes=900, min_samples_split=6, splitter=random;, score=0.534 total time=   0.0s\n",
      "[CV 2/5] END criterion=entropy, max_depth=10, max_features=log2, max_leaf_nodes=900, min_samples_split=6, splitter=random;, score=0.558 total time=   0.0s\n",
      "[CV 3/5] END criterion=entropy, max_depth=10, max_features=log2, max_leaf_nodes=900, min_samples_split=6, splitter=random;, score=0.540 total time=   0.0s\n",
      "[CV 4/5] END criterion=entropy, max_depth=10, max_features=log2, max_leaf_nodes=900, min_samples_split=6, splitter=random;, score=0.551 total time=   0.0s\n",
      "[CV 5/5] END criterion=entropy, max_depth=10, max_features=log2, max_leaf_nodes=900, min_samples_split=6, splitter=random;, score=0.484 total time=   0.0s\n"
     ]
    },
    {
     "name": "stdout",
     "output_type": "stream",
     "text": [
      "[CV 1/5] END criterion=entropy, max_depth=10, max_features=log2, max_leaf_nodes=900, min_samples_split=8, splitter=best;, score=0.611 total time=   0.0s\n",
      "[CV 2/5] END criterion=entropy, max_depth=10, max_features=log2, max_leaf_nodes=900, min_samples_split=8, splitter=best;, score=0.637 total time=   0.0s\n",
      "[CV 3/5] END criterion=entropy, max_depth=10, max_features=log2, max_leaf_nodes=900, min_samples_split=8, splitter=best;, score=0.607 total time=   0.0s\n",
      "[CV 4/5] END criterion=entropy, max_depth=10, max_features=log2, max_leaf_nodes=900, min_samples_split=8, splitter=best;, score=0.627 total time=   0.0s\n",
      "[CV 5/5] END criterion=entropy, max_depth=10, max_features=log2, max_leaf_nodes=900, min_samples_split=8, splitter=best;, score=0.637 total time=   0.0s\n",
      "[CV 1/5] END criterion=entropy, max_depth=10, max_features=log2, max_leaf_nodes=900, min_samples_split=8, splitter=random;, score=0.567 total time=   0.0s\n",
      "[CV 2/5] END criterion=entropy, max_depth=10, max_features=log2, max_leaf_nodes=900, min_samples_split=8, splitter=random;, score=0.581 total time=   0.0s\n",
      "[CV 3/5] END criterion=entropy, max_depth=10, max_features=log2, max_leaf_nodes=900, min_samples_split=8, splitter=random;, score=0.582 total time=   0.0s\n",
      "[CV 4/5] END criterion=entropy, max_depth=10, max_features=log2, max_leaf_nodes=900, min_samples_split=8, splitter=random;, score=0.558 total time=   0.0s\n",
      "[CV 5/5] END criterion=entropy, max_depth=10, max_features=log2, max_leaf_nodes=900, min_samples_split=8, splitter=random;, score=0.541 total time=   0.0s\n",
      "[CV 1/5] END criterion=entropy, max_depth=10, max_features=log2, max_leaf_nodes=1000, min_samples_split=4, splitter=best;, score=0.641 total time=   0.0s\n",
      "[CV 2/5] END criterion=entropy, max_depth=10, max_features=log2, max_leaf_nodes=1000, min_samples_split=4, splitter=best;, score=0.635 total time=   0.0s\n",
      "[CV 3/5] END criterion=entropy, max_depth=10, max_features=log2, max_leaf_nodes=1000, min_samples_split=4, splitter=best;, score=0.621 total time=   0.0s\n",
      "[CV 4/5] END criterion=entropy, max_depth=10, max_features=log2, max_leaf_nodes=1000, min_samples_split=4, splitter=best;, score=0.611 total time=   0.0s\n",
      "[CV 5/5] END criterion=entropy, max_depth=10, max_features=log2, max_leaf_nodes=1000, min_samples_split=4, splitter=best;, score=0.612 total time=   0.0s\n",
      "[CV 1/5] END criterion=entropy, max_depth=10, max_features=log2, max_leaf_nodes=1000, min_samples_split=4, splitter=random;, score=0.522 total time=   0.0s\n",
      "[CV 2/5] END criterion=entropy, max_depth=10, max_features=log2, max_leaf_nodes=1000, min_samples_split=4, splitter=random;, score=0.585 total time=   0.0s\n",
      "[CV 3/5] END criterion=entropy, max_depth=10, max_features=log2, max_leaf_nodes=1000, min_samples_split=4, splitter=random;, score=0.578 total time=   0.0s\n",
      "[CV 4/5] END criterion=entropy, max_depth=10, max_features=log2, max_leaf_nodes=1000, min_samples_split=4, splitter=random;, score=0.512 total time=   0.0s\n",
      "[CV 5/5] END criterion=entropy, max_depth=10, max_features=log2, max_leaf_nodes=1000, min_samples_split=4, splitter=random;, score=0.581 total time=   0.0s\n",
      "[CV 1/5] END criterion=entropy, max_depth=10, max_features=log2, max_leaf_nodes=1000, min_samples_split=6, splitter=best;, score=0.616 total time=   0.0s\n",
      "[CV 2/5] END criterion=entropy, max_depth=10, max_features=log2, max_leaf_nodes=1000, min_samples_split=6, splitter=best;, score=0.643 total time=   0.0s\n",
      "[CV 3/5] END criterion=entropy, max_depth=10, max_features=log2, max_leaf_nodes=1000, min_samples_split=6, splitter=best;, score=0.625 total time=   0.0s\n",
      "[CV 4/5] END criterion=entropy, max_depth=10, max_features=log2, max_leaf_nodes=1000, min_samples_split=6, splitter=best;, score=0.626 total time=   0.0s\n",
      "[CV 5/5] END criterion=entropy, max_depth=10, max_features=log2, max_leaf_nodes=1000, min_samples_split=6, splitter=best;, score=0.618 total time=   0.0s\n",
      "[CV 1/5] END criterion=entropy, max_depth=10, max_features=log2, max_leaf_nodes=1000, min_samples_split=6, splitter=random;, score=0.558 total time=   0.0s\n",
      "[CV 2/5] END criterion=entropy, max_depth=10, max_features=log2, max_leaf_nodes=1000, min_samples_split=6, splitter=random;, score=0.585 total time=   0.0s\n",
      "[CV 3/5] END criterion=entropy, max_depth=10, max_features=log2, max_leaf_nodes=1000, min_samples_split=6, splitter=random;, score=0.578 total time=   0.0s\n",
      "[CV 4/5] END criterion=entropy, max_depth=10, max_features=log2, max_leaf_nodes=1000, min_samples_split=6, splitter=random;, score=0.520 total time=   0.0s\n",
      "[CV 5/5] END criterion=entropy, max_depth=10, max_features=log2, max_leaf_nodes=1000, min_samples_split=6, splitter=random;, score=0.485 total time=   0.0s\n",
      "[CV 1/5] END criterion=entropy, max_depth=10, max_features=log2, max_leaf_nodes=1000, min_samples_split=8, splitter=best;, score=0.619 total time=   0.0s\n",
      "[CV 2/5] END criterion=entropy, max_depth=10, max_features=log2, max_leaf_nodes=1000, min_samples_split=8, splitter=best;, score=0.629 total time=   0.0s\n",
      "[CV 3/5] END criterion=entropy, max_depth=10, max_features=log2, max_leaf_nodes=1000, min_samples_split=8, splitter=best;, score=0.645 total time=   0.0s\n",
      "[CV 4/5] END criterion=entropy, max_depth=10, max_features=log2, max_leaf_nodes=1000, min_samples_split=8, splitter=best;, score=0.615 total time=   0.0s\n",
      "[CV 5/5] END criterion=entropy, max_depth=10, max_features=log2, max_leaf_nodes=1000, min_samples_split=8, splitter=best;, score=0.625 total time=   0.0s\n",
      "[CV 1/5] END criterion=entropy, max_depth=10, max_features=log2, max_leaf_nodes=1000, min_samples_split=8, splitter=random;, score=0.570 total time=   0.0s\n",
      "[CV 2/5] END criterion=entropy, max_depth=10, max_features=log2, max_leaf_nodes=1000, min_samples_split=8, splitter=random;, score=0.593 total time=   0.0s\n",
      "[CV 3/5] END criterion=entropy, max_depth=10, max_features=log2, max_leaf_nodes=1000, min_samples_split=8, splitter=random;, score=0.556 total time=   0.0s\n",
      "[CV 4/5] END criterion=entropy, max_depth=10, max_features=log2, max_leaf_nodes=1000, min_samples_split=8, splitter=random;, score=0.520 total time=   0.0s\n",
      "[CV 5/5] END criterion=entropy, max_depth=10, max_features=log2, max_leaf_nodes=1000, min_samples_split=8, splitter=random;, score=0.574 total time=   0.0s\n",
      "[CV 1/5] END criterion=entropy, max_depth=10, max_features=log2, max_leaf_nodes=1100, min_samples_split=4, splitter=best;, score=0.632 total time=   0.0s\n",
      "[CV 2/5] END criterion=entropy, max_depth=10, max_features=log2, max_leaf_nodes=1100, min_samples_split=4, splitter=best;, score=0.631 total time=   0.0s\n",
      "[CV 3/5] END criterion=entropy, max_depth=10, max_features=log2, max_leaf_nodes=1100, min_samples_split=4, splitter=best;, score=0.632 total time=   0.0s\n",
      "[CV 4/5] END criterion=entropy, max_depth=10, max_features=log2, max_leaf_nodes=1100, min_samples_split=4, splitter=best;, score=0.629 total time=   0.0s\n",
      "[CV 5/5] END criterion=entropy, max_depth=10, max_features=log2, max_leaf_nodes=1100, min_samples_split=4, splitter=best;, score=0.623 total time=   0.0s\n",
      "[CV 1/5] END criterion=entropy, max_depth=10, max_features=log2, max_leaf_nodes=1100, min_samples_split=4, splitter=random;, score=0.569 total time=   0.0s\n",
      "[CV 2/5] END criterion=entropy, max_depth=10, max_features=log2, max_leaf_nodes=1100, min_samples_split=4, splitter=random;, score=0.587 total time=   0.0s\n",
      "[CV 3/5] END criterion=entropy, max_depth=10, max_features=log2, max_leaf_nodes=1100, min_samples_split=4, splitter=random;, score=0.578 total time=   0.0s\n",
      "[CV 4/5] END criterion=entropy, max_depth=10, max_features=log2, max_leaf_nodes=1100, min_samples_split=4, splitter=random;, score=0.548 total time=   0.0s\n",
      "[CV 5/5] END criterion=entropy, max_depth=10, max_features=log2, max_leaf_nodes=1100, min_samples_split=4, splitter=random;, score=0.588 total time=   0.0s\n",
      "[CV 1/5] END criterion=entropy, max_depth=10, max_features=log2, max_leaf_nodes=1100, min_samples_split=6, splitter=best;, score=0.631 total time=   0.0s\n",
      "[CV 2/5] END criterion=entropy, max_depth=10, max_features=log2, max_leaf_nodes=1100, min_samples_split=6, splitter=best;, score=0.651 total time=   0.0s\n",
      "[CV 3/5] END criterion=entropy, max_depth=10, max_features=log2, max_leaf_nodes=1100, min_samples_split=6, splitter=best;, score=0.658 total time=   0.0s\n",
      "[CV 4/5] END criterion=entropy, max_depth=10, max_features=log2, max_leaf_nodes=1100, min_samples_split=6, splitter=best;, score=0.611 total time=   0.0s\n",
      "[CV 5/5] END criterion=entropy, max_depth=10, max_features=log2, max_leaf_nodes=1100, min_samples_split=6, splitter=best;, score=0.636 total time=   0.0s\n",
      "[CV 1/5] END criterion=entropy, max_depth=10, max_features=log2, max_leaf_nodes=1100, min_samples_split=6, splitter=random;, score=0.586 total time=   0.0s\n",
      "[CV 2/5] END criterion=entropy, max_depth=10, max_features=log2, max_leaf_nodes=1100, min_samples_split=6, splitter=random;, score=0.527 total time=   0.0s\n",
      "[CV 3/5] END criterion=entropy, max_depth=10, max_features=log2, max_leaf_nodes=1100, min_samples_split=6, splitter=random;, score=0.554 total time=   0.0s\n",
      "[CV 4/5] END criterion=entropy, max_depth=10, max_features=log2, max_leaf_nodes=1100, min_samples_split=6, splitter=random;, score=0.558 total time=   0.0s\n",
      "[CV 5/5] END criterion=entropy, max_depth=10, max_features=log2, max_leaf_nodes=1100, min_samples_split=6, splitter=random;, score=0.569 total time=   0.0s\n",
      "[CV 1/5] END criterion=entropy, max_depth=10, max_features=log2, max_leaf_nodes=1100, min_samples_split=8, splitter=best;, score=0.629 total time=   0.0s\n",
      "[CV 2/5] END criterion=entropy, max_depth=10, max_features=log2, max_leaf_nodes=1100, min_samples_split=8, splitter=best;, score=0.653 total time=   0.0s\n",
      "[CV 3/5] END criterion=entropy, max_depth=10, max_features=log2, max_leaf_nodes=1100, min_samples_split=8, splitter=best;, score=0.638 total time=   0.0s\n",
      "[CV 4/5] END criterion=entropy, max_depth=10, max_features=log2, max_leaf_nodes=1100, min_samples_split=8, splitter=best;, score=0.619 total time=   0.0s\n",
      "[CV 5/5] END criterion=entropy, max_depth=10, max_features=log2, max_leaf_nodes=1100, min_samples_split=8, splitter=best;, score=0.619 total time=   0.0s\n",
      "[CV 1/5] END criterion=entropy, max_depth=10, max_features=log2, max_leaf_nodes=1100, min_samples_split=8, splitter=random;, score=0.547 total time=   0.0s\n"
     ]
    },
    {
     "name": "stdout",
     "output_type": "stream",
     "text": [
      "[CV 2/5] END criterion=entropy, max_depth=10, max_features=log2, max_leaf_nodes=1100, min_samples_split=8, splitter=random;, score=0.600 total time=   0.0s\n",
      "[CV 3/5] END criterion=entropy, max_depth=10, max_features=log2, max_leaf_nodes=1100, min_samples_split=8, splitter=random;, score=0.568 total time=   0.0s\n",
      "[CV 4/5] END criterion=entropy, max_depth=10, max_features=log2, max_leaf_nodes=1100, min_samples_split=8, splitter=random;, score=0.498 total time=   0.0s\n",
      "[CV 5/5] END criterion=entropy, max_depth=10, max_features=log2, max_leaf_nodes=1100, min_samples_split=8, splitter=random;, score=0.526 total time=   0.0s\n",
      "[CV 1/5] END criterion=entropy, max_depth=20, max_features=sqrt, max_leaf_nodes=900, min_samples_split=4, splitter=best;, score=0.646 total time=   0.0s\n",
      "[CV 2/5] END criterion=entropy, max_depth=20, max_features=sqrt, max_leaf_nodes=900, min_samples_split=4, splitter=best;, score=0.676 total time=   0.0s\n",
      "[CV 3/5] END criterion=entropy, max_depth=20, max_features=sqrt, max_leaf_nodes=900, min_samples_split=4, splitter=best;, score=0.645 total time=   0.0s\n",
      "[CV 4/5] END criterion=entropy, max_depth=20, max_features=sqrt, max_leaf_nodes=900, min_samples_split=4, splitter=best;, score=0.652 total time=   0.0s\n",
      "[CV 5/5] END criterion=entropy, max_depth=20, max_features=sqrt, max_leaf_nodes=900, min_samples_split=4, splitter=best;, score=0.651 total time=   0.0s\n",
      "[CV 1/5] END criterion=entropy, max_depth=20, max_features=sqrt, max_leaf_nodes=900, min_samples_split=4, splitter=random;, score=0.632 total time=   0.0s\n",
      "[CV 2/5] END criterion=entropy, max_depth=20, max_features=sqrt, max_leaf_nodes=900, min_samples_split=4, splitter=random;, score=0.621 total time=   0.0s\n",
      "[CV 3/5] END criterion=entropy, max_depth=20, max_features=sqrt, max_leaf_nodes=900, min_samples_split=4, splitter=random;, score=0.636 total time=   0.0s\n",
      "[CV 4/5] END criterion=entropy, max_depth=20, max_features=sqrt, max_leaf_nodes=900, min_samples_split=4, splitter=random;, score=0.595 total time=   0.0s\n",
      "[CV 5/5] END criterion=entropy, max_depth=20, max_features=sqrt, max_leaf_nodes=900, min_samples_split=4, splitter=random;, score=0.604 total time=   0.0s\n",
      "[CV 1/5] END criterion=entropy, max_depth=20, max_features=sqrt, max_leaf_nodes=900, min_samples_split=6, splitter=best;, score=0.652 total time=   0.0s\n",
      "[CV 2/5] END criterion=entropy, max_depth=20, max_features=sqrt, max_leaf_nodes=900, min_samples_split=6, splitter=best;, score=0.687 total time=   0.0s\n",
      "[CV 3/5] END criterion=entropy, max_depth=20, max_features=sqrt, max_leaf_nodes=900, min_samples_split=6, splitter=best;, score=0.650 total time=   0.0s\n",
      "[CV 4/5] END criterion=entropy, max_depth=20, max_features=sqrt, max_leaf_nodes=900, min_samples_split=6, splitter=best;, score=0.629 total time=   0.0s\n",
      "[CV 5/5] END criterion=entropy, max_depth=20, max_features=sqrt, max_leaf_nodes=900, min_samples_split=6, splitter=best;, score=0.661 total time=   0.0s\n",
      "[CV 1/5] END criterion=entropy, max_depth=20, max_features=sqrt, max_leaf_nodes=900, min_samples_split=6, splitter=random;, score=0.626 total time=   0.0s\n",
      "[CV 2/5] END criterion=entropy, max_depth=20, max_features=sqrt, max_leaf_nodes=900, min_samples_split=6, splitter=random;, score=0.623 total time=   0.0s\n",
      "[CV 3/5] END criterion=entropy, max_depth=20, max_features=sqrt, max_leaf_nodes=900, min_samples_split=6, splitter=random;, score=0.631 total time=   0.0s\n",
      "[CV 4/5] END criterion=entropy, max_depth=20, max_features=sqrt, max_leaf_nodes=900, min_samples_split=6, splitter=random;, score=0.620 total time=   0.0s\n",
      "[CV 5/5] END criterion=entropy, max_depth=20, max_features=sqrt, max_leaf_nodes=900, min_samples_split=6, splitter=random;, score=0.618 total time=   0.0s\n",
      "[CV 1/5] END criterion=entropy, max_depth=20, max_features=sqrt, max_leaf_nodes=900, min_samples_split=8, splitter=best;, score=0.618 total time=   0.0s\n",
      "[CV 2/5] END criterion=entropy, max_depth=20, max_features=sqrt, max_leaf_nodes=900, min_samples_split=8, splitter=best;, score=0.661 total time=   0.0s\n",
      "[CV 3/5] END criterion=entropy, max_depth=20, max_features=sqrt, max_leaf_nodes=900, min_samples_split=8, splitter=best;, score=0.636 total time=   0.0s\n",
      "[CV 4/5] END criterion=entropy, max_depth=20, max_features=sqrt, max_leaf_nodes=900, min_samples_split=8, splitter=best;, score=0.650 total time=   0.0s\n",
      "[CV 5/5] END criterion=entropy, max_depth=20, max_features=sqrt, max_leaf_nodes=900, min_samples_split=8, splitter=best;, score=0.641 total time=   0.0s\n",
      "[CV 1/5] END criterion=entropy, max_depth=20, max_features=sqrt, max_leaf_nodes=900, min_samples_split=8, splitter=random;, score=0.613 total time=   0.0s\n",
      "[CV 2/5] END criterion=entropy, max_depth=20, max_features=sqrt, max_leaf_nodes=900, min_samples_split=8, splitter=random;, score=0.611 total time=   0.0s\n",
      "[CV 3/5] END criterion=entropy, max_depth=20, max_features=sqrt, max_leaf_nodes=900, min_samples_split=8, splitter=random;, score=0.596 total time=   0.0s\n",
      "[CV 4/5] END criterion=entropy, max_depth=20, max_features=sqrt, max_leaf_nodes=900, min_samples_split=8, splitter=random;, score=0.597 total time=   0.0s\n",
      "[CV 5/5] END criterion=entropy, max_depth=20, max_features=sqrt, max_leaf_nodes=900, min_samples_split=8, splitter=random;, score=0.610 total time=   0.0s\n",
      "[CV 1/5] END criterion=entropy, max_depth=20, max_features=sqrt, max_leaf_nodes=1000, min_samples_split=4, splitter=best;, score=0.652 total time=   0.0s\n",
      "[CV 2/5] END criterion=entropy, max_depth=20, max_features=sqrt, max_leaf_nodes=1000, min_samples_split=4, splitter=best;, score=0.695 total time=   0.0s\n",
      "[CV 3/5] END criterion=entropy, max_depth=20, max_features=sqrt, max_leaf_nodes=1000, min_samples_split=4, splitter=best;, score=0.650 total time=   0.0s\n",
      "[CV 4/5] END criterion=entropy, max_depth=20, max_features=sqrt, max_leaf_nodes=1000, min_samples_split=4, splitter=best;, score=0.654 total time=   0.0s\n",
      "[CV 5/5] END criterion=entropy, max_depth=20, max_features=sqrt, max_leaf_nodes=1000, min_samples_split=4, splitter=best;, score=0.643 total time=   0.0s\n",
      "[CV 1/5] END criterion=entropy, max_depth=20, max_features=sqrt, max_leaf_nodes=1000, min_samples_split=4, splitter=random;, score=0.639 total time=   0.0s\n",
      "[CV 2/5] END criterion=entropy, max_depth=20, max_features=sqrt, max_leaf_nodes=1000, min_samples_split=4, splitter=random;, score=0.632 total time=   0.0s\n",
      "[CV 3/5] END criterion=entropy, max_depth=20, max_features=sqrt, max_leaf_nodes=1000, min_samples_split=4, splitter=random;, score=0.611 total time=   0.0s\n",
      "[CV 4/5] END criterion=entropy, max_depth=20, max_features=sqrt, max_leaf_nodes=1000, min_samples_split=4, splitter=random;, score=0.609 total time=   0.0s\n",
      "[CV 5/5] END criterion=entropy, max_depth=20, max_features=sqrt, max_leaf_nodes=1000, min_samples_split=4, splitter=random;, score=0.653 total time=   0.0s\n",
      "[CV 1/5] END criterion=entropy, max_depth=20, max_features=sqrt, max_leaf_nodes=1000, min_samples_split=6, splitter=best;, score=0.655 total time=   0.0s\n",
      "[CV 2/5] END criterion=entropy, max_depth=20, max_features=sqrt, max_leaf_nodes=1000, min_samples_split=6, splitter=best;, score=0.668 total time=   0.0s\n",
      "[CV 3/5] END criterion=entropy, max_depth=20, max_features=sqrt, max_leaf_nodes=1000, min_samples_split=6, splitter=best;, score=0.650 total time=   0.0s\n",
      "[CV 4/5] END criterion=entropy, max_depth=20, max_features=sqrt, max_leaf_nodes=1000, min_samples_split=6, splitter=best;, score=0.646 total time=   0.0s\n",
      "[CV 5/5] END criterion=entropy, max_depth=20, max_features=sqrt, max_leaf_nodes=1000, min_samples_split=6, splitter=best;, score=0.651 total time=   0.0s\n",
      "[CV 1/5] END criterion=entropy, max_depth=20, max_features=sqrt, max_leaf_nodes=1000, min_samples_split=6, splitter=random;, score=0.626 total time=   0.0s\n",
      "[CV 2/5] END criterion=entropy, max_depth=20, max_features=sqrt, max_leaf_nodes=1000, min_samples_split=6, splitter=random;, score=0.618 total time=   0.0s\n",
      "[CV 3/5] END criterion=entropy, max_depth=20, max_features=sqrt, max_leaf_nodes=1000, min_samples_split=6, splitter=random;, score=0.621 total time=   0.0s\n",
      "[CV 4/5] END criterion=entropy, max_depth=20, max_features=sqrt, max_leaf_nodes=1000, min_samples_split=6, splitter=random;, score=0.623 total time=   0.0s\n",
      "[CV 5/5] END criterion=entropy, max_depth=20, max_features=sqrt, max_leaf_nodes=1000, min_samples_split=6, splitter=random;, score=0.591 total time=   0.0s\n",
      "[CV 1/5] END criterion=entropy, max_depth=20, max_features=sqrt, max_leaf_nodes=1000, min_samples_split=8, splitter=best;, score=0.627 total time=   0.0s\n",
      "[CV 2/5] END criterion=entropy, max_depth=20, max_features=sqrt, max_leaf_nodes=1000, min_samples_split=8, splitter=best;, score=0.657 total time=   0.0s\n",
      "[CV 3/5] END criterion=entropy, max_depth=20, max_features=sqrt, max_leaf_nodes=1000, min_samples_split=8, splitter=best;, score=0.654 total time=   0.0s\n",
      "[CV 4/5] END criterion=entropy, max_depth=20, max_features=sqrt, max_leaf_nodes=1000, min_samples_split=8, splitter=best;, score=0.639 total time=   0.0s\n",
      "[CV 5/5] END criterion=entropy, max_depth=20, max_features=sqrt, max_leaf_nodes=1000, min_samples_split=8, splitter=best;, score=0.622 total time=   0.0s\n",
      "[CV 1/5] END criterion=entropy, max_depth=20, max_features=sqrt, max_leaf_nodes=1000, min_samples_split=8, splitter=random;, score=0.619 total time=   0.0s\n",
      "[CV 2/5] END criterion=entropy, max_depth=20, max_features=sqrt, max_leaf_nodes=1000, min_samples_split=8, splitter=random;, score=0.636 total time=   0.0s\n",
      "[CV 3/5] END criterion=entropy, max_depth=20, max_features=sqrt, max_leaf_nodes=1000, min_samples_split=8, splitter=random;, score=0.617 total time=   0.0s\n",
      "[CV 4/5] END criterion=entropy, max_depth=20, max_features=sqrt, max_leaf_nodes=1000, min_samples_split=8, splitter=random;, score=0.614 total time=   0.0s\n",
      "[CV 5/5] END criterion=entropy, max_depth=20, max_features=sqrt, max_leaf_nodes=1000, min_samples_split=8, splitter=random;, score=0.615 total time=   0.0s\n",
      "[CV 1/5] END criterion=entropy, max_depth=20, max_features=sqrt, max_leaf_nodes=1100, min_samples_split=4, splitter=best;, score=0.670 total time=   0.0s\n",
      "[CV 2/5] END criterion=entropy, max_depth=20, max_features=sqrt, max_leaf_nodes=1100, min_samples_split=4, splitter=best;, score=0.665 total time=   0.0s\n",
      "[CV 3/5] END criterion=entropy, max_depth=20, max_features=sqrt, max_leaf_nodes=1100, min_samples_split=4, splitter=best;, score=0.661 total time=   0.0s\n"
     ]
    },
    {
     "name": "stdout",
     "output_type": "stream",
     "text": [
      "[CV 4/5] END criterion=entropy, max_depth=20, max_features=sqrt, max_leaf_nodes=1100, min_samples_split=4, splitter=best;, score=0.650 total time=   0.0s\n",
      "[CV 5/5] END criterion=entropy, max_depth=20, max_features=sqrt, max_leaf_nodes=1100, min_samples_split=4, splitter=best;, score=0.651 total time=   0.0s\n",
      "[CV 1/5] END criterion=entropy, max_depth=20, max_features=sqrt, max_leaf_nodes=1100, min_samples_split=4, splitter=random;, score=0.646 total time=   0.0s\n",
      "[CV 2/5] END criterion=entropy, max_depth=20, max_features=sqrt, max_leaf_nodes=1100, min_samples_split=4, splitter=random;, score=0.654 total time=   0.0s\n",
      "[CV 3/5] END criterion=entropy, max_depth=20, max_features=sqrt, max_leaf_nodes=1100, min_samples_split=4, splitter=random;, score=0.603 total time=   0.0s\n",
      "[CV 4/5] END criterion=entropy, max_depth=20, max_features=sqrt, max_leaf_nodes=1100, min_samples_split=4, splitter=random;, score=0.616 total time=   0.0s\n",
      "[CV 5/5] END criterion=entropy, max_depth=20, max_features=sqrt, max_leaf_nodes=1100, min_samples_split=4, splitter=random;, score=0.621 total time=   0.0s\n",
      "[CV 1/5] END criterion=entropy, max_depth=20, max_features=sqrt, max_leaf_nodes=1100, min_samples_split=6, splitter=best;, score=0.626 total time=   0.0s\n",
      "[CV 2/5] END criterion=entropy, max_depth=20, max_features=sqrt, max_leaf_nodes=1100, min_samples_split=6, splitter=best;, score=0.683 total time=   0.0s\n",
      "[CV 3/5] END criterion=entropy, max_depth=20, max_features=sqrt, max_leaf_nodes=1100, min_samples_split=6, splitter=best;, score=0.654 total time=   0.0s\n",
      "[CV 4/5] END criterion=entropy, max_depth=20, max_features=sqrt, max_leaf_nodes=1100, min_samples_split=6, splitter=best;, score=0.632 total time=   0.0s\n",
      "[CV 5/5] END criterion=entropy, max_depth=20, max_features=sqrt, max_leaf_nodes=1100, min_samples_split=6, splitter=best;, score=0.644 total time=   0.0s\n",
      "[CV 1/5] END criterion=entropy, max_depth=20, max_features=sqrt, max_leaf_nodes=1100, min_samples_split=6, splitter=random;, score=0.601 total time=   0.0s\n",
      "[CV 2/5] END criterion=entropy, max_depth=20, max_features=sqrt, max_leaf_nodes=1100, min_samples_split=6, splitter=random;, score=0.624 total time=   0.0s\n",
      "[CV 3/5] END criterion=entropy, max_depth=20, max_features=sqrt, max_leaf_nodes=1100, min_samples_split=6, splitter=random;, score=0.618 total time=   0.0s\n",
      "[CV 4/5] END criterion=entropy, max_depth=20, max_features=sqrt, max_leaf_nodes=1100, min_samples_split=6, splitter=random;, score=0.603 total time=   0.0s\n",
      "[CV 5/5] END criterion=entropy, max_depth=20, max_features=sqrt, max_leaf_nodes=1100, min_samples_split=6, splitter=random;, score=0.630 total time=   0.0s\n",
      "[CV 1/5] END criterion=entropy, max_depth=20, max_features=sqrt, max_leaf_nodes=1100, min_samples_split=8, splitter=best;, score=0.648 total time=   0.0s\n",
      "[CV 2/5] END criterion=entropy, max_depth=20, max_features=sqrt, max_leaf_nodes=1100, min_samples_split=8, splitter=best;, score=0.660 total time=   0.0s\n",
      "[CV 3/5] END criterion=entropy, max_depth=20, max_features=sqrt, max_leaf_nodes=1100, min_samples_split=8, splitter=best;, score=0.668 total time=   0.0s\n",
      "[CV 4/5] END criterion=entropy, max_depth=20, max_features=sqrt, max_leaf_nodes=1100, min_samples_split=8, splitter=best;, score=0.641 total time=   0.0s\n",
      "[CV 5/5] END criterion=entropy, max_depth=20, max_features=sqrt, max_leaf_nodes=1100, min_samples_split=8, splitter=best;, score=0.618 total time=   0.0s\n",
      "[CV 1/5] END criterion=entropy, max_depth=20, max_features=sqrt, max_leaf_nodes=1100, min_samples_split=8, splitter=random;, score=0.583 total time=   0.0s\n",
      "[CV 2/5] END criterion=entropy, max_depth=20, max_features=sqrt, max_leaf_nodes=1100, min_samples_split=8, splitter=random;, score=0.618 total time=   0.0s\n",
      "[CV 3/5] END criterion=entropy, max_depth=20, max_features=sqrt, max_leaf_nodes=1100, min_samples_split=8, splitter=random;, score=0.607 total time=   0.0s\n",
      "[CV 4/5] END criterion=entropy, max_depth=20, max_features=sqrt, max_leaf_nodes=1100, min_samples_split=8, splitter=random;, score=0.608 total time=   0.0s\n",
      "[CV 5/5] END criterion=entropy, max_depth=20, max_features=sqrt, max_leaf_nodes=1100, min_samples_split=8, splitter=random;, score=0.596 total time=   0.0s\n",
      "[CV 1/5] END criterion=entropy, max_depth=20, max_features=log2, max_leaf_nodes=900, min_samples_split=4, splitter=best;, score=0.629 total time=   0.0s\n",
      "[CV 2/5] END criterion=entropy, max_depth=20, max_features=log2, max_leaf_nodes=900, min_samples_split=4, splitter=best;, score=0.700 total time=   0.0s\n",
      "[CV 3/5] END criterion=entropy, max_depth=20, max_features=log2, max_leaf_nodes=900, min_samples_split=4, splitter=best;, score=0.649 total time=   0.0s\n",
      "[CV 4/5] END criterion=entropy, max_depth=20, max_features=log2, max_leaf_nodes=900, min_samples_split=4, splitter=best;, score=0.643 total time=   0.0s\n",
      "[CV 5/5] END criterion=entropy, max_depth=20, max_features=log2, max_leaf_nodes=900, min_samples_split=4, splitter=best;, score=0.647 total time=   0.0s\n",
      "[CV 1/5] END criterion=entropy, max_depth=20, max_features=log2, max_leaf_nodes=900, min_samples_split=4, splitter=random;, score=0.626 total time=   0.0s\n",
      "[CV 2/5] END criterion=entropy, max_depth=20, max_features=log2, max_leaf_nodes=900, min_samples_split=4, splitter=random;, score=0.638 total time=   0.0s\n",
      "[CV 3/5] END criterion=entropy, max_depth=20, max_features=log2, max_leaf_nodes=900, min_samples_split=4, splitter=random;, score=0.639 total time=   0.0s\n",
      "[CV 4/5] END criterion=entropy, max_depth=20, max_features=log2, max_leaf_nodes=900, min_samples_split=4, splitter=random;, score=0.610 total time=   0.0s\n",
      "[CV 5/5] END criterion=entropy, max_depth=20, max_features=log2, max_leaf_nodes=900, min_samples_split=4, splitter=random;, score=0.598 total time=   0.0s\n",
      "[CV 1/5] END criterion=entropy, max_depth=20, max_features=log2, max_leaf_nodes=900, min_samples_split=6, splitter=best;, score=0.623 total time=   0.0s\n",
      "[CV 2/5] END criterion=entropy, max_depth=20, max_features=log2, max_leaf_nodes=900, min_samples_split=6, splitter=best;, score=0.662 total time=   0.0s\n",
      "[CV 3/5] END criterion=entropy, max_depth=20, max_features=log2, max_leaf_nodes=900, min_samples_split=6, splitter=best;, score=0.660 total time=   0.0s\n",
      "[CV 4/5] END criterion=entropy, max_depth=20, max_features=log2, max_leaf_nodes=900, min_samples_split=6, splitter=best;, score=0.637 total time=   0.0s\n",
      "[CV 5/5] END criterion=entropy, max_depth=20, max_features=log2, max_leaf_nodes=900, min_samples_split=6, splitter=best;, score=0.636 total time=   0.0s\n",
      "[CV 1/5] END criterion=entropy, max_depth=20, max_features=log2, max_leaf_nodes=900, min_samples_split=6, splitter=random;, score=0.630 total time=   0.0s\n",
      "[CV 2/5] END criterion=entropy, max_depth=20, max_features=log2, max_leaf_nodes=900, min_samples_split=6, splitter=random;, score=0.639 total time=   0.0s\n",
      "[CV 3/5] END criterion=entropy, max_depth=20, max_features=log2, max_leaf_nodes=900, min_samples_split=6, splitter=random;, score=0.607 total time=   0.0s\n",
      "[CV 4/5] END criterion=entropy, max_depth=20, max_features=log2, max_leaf_nodes=900, min_samples_split=6, splitter=random;, score=0.607 total time=   0.0s\n",
      "[CV 5/5] END criterion=entropy, max_depth=20, max_features=log2, max_leaf_nodes=900, min_samples_split=6, splitter=random;, score=0.613 total time=   0.0s\n",
      "[CV 1/5] END criterion=entropy, max_depth=20, max_features=log2, max_leaf_nodes=900, min_samples_split=8, splitter=best;, score=0.645 total time=   0.0s\n",
      "[CV 2/5] END criterion=entropy, max_depth=20, max_features=log2, max_leaf_nodes=900, min_samples_split=8, splitter=best;, score=0.655 total time=   0.0s\n",
      "[CV 3/5] END criterion=entropy, max_depth=20, max_features=log2, max_leaf_nodes=900, min_samples_split=8, splitter=best;, score=0.631 total time=   0.0s\n",
      "[CV 4/5] END criterion=entropy, max_depth=20, max_features=log2, max_leaf_nodes=900, min_samples_split=8, splitter=best;, score=0.668 total time=   0.0s\n",
      "[CV 5/5] END criterion=entropy, max_depth=20, max_features=log2, max_leaf_nodes=900, min_samples_split=8, splitter=best;, score=0.648 total time=   0.0s\n",
      "[CV 1/5] END criterion=entropy, max_depth=20, max_features=log2, max_leaf_nodes=900, min_samples_split=8, splitter=random;, score=0.616 total time=   0.0s\n",
      "[CV 2/5] END criterion=entropy, max_depth=20, max_features=log2, max_leaf_nodes=900, min_samples_split=8, splitter=random;, score=0.631 total time=   0.0s\n",
      "[CV 3/5] END criterion=entropy, max_depth=20, max_features=log2, max_leaf_nodes=900, min_samples_split=8, splitter=random;, score=0.623 total time=   0.0s\n",
      "[CV 4/5] END criterion=entropy, max_depth=20, max_features=log2, max_leaf_nodes=900, min_samples_split=8, splitter=random;, score=0.614 total time=   0.0s\n",
      "[CV 5/5] END criterion=entropy, max_depth=20, max_features=log2, max_leaf_nodes=900, min_samples_split=8, splitter=random;, score=0.614 total time=   0.0s\n",
      "[CV 1/5] END criterion=entropy, max_depth=20, max_features=log2, max_leaf_nodes=1000, min_samples_split=4, splitter=best;, score=0.659 total time=   0.0s\n",
      "[CV 2/5] END criterion=entropy, max_depth=20, max_features=log2, max_leaf_nodes=1000, min_samples_split=4, splitter=best;, score=0.695 total time=   0.0s\n",
      "[CV 3/5] END criterion=entropy, max_depth=20, max_features=log2, max_leaf_nodes=1000, min_samples_split=4, splitter=best;, score=0.629 total time=   0.0s\n",
      "[CV 4/5] END criterion=entropy, max_depth=20, max_features=log2, max_leaf_nodes=1000, min_samples_split=4, splitter=best;, score=0.650 total time=   0.0s\n",
      "[CV 5/5] END criterion=entropy, max_depth=20, max_features=log2, max_leaf_nodes=1000, min_samples_split=4, splitter=best;, score=0.639 total time=   0.0s\n",
      "[CV 1/5] END criterion=entropy, max_depth=20, max_features=log2, max_leaf_nodes=1000, min_samples_split=4, splitter=random;, score=0.627 total time=   0.0s\n",
      "[CV 2/5] END criterion=entropy, max_depth=20, max_features=log2, max_leaf_nodes=1000, min_samples_split=4, splitter=random;, score=0.649 total time=   0.0s\n",
      "[CV 3/5] END criterion=entropy, max_depth=20, max_features=log2, max_leaf_nodes=1000, min_samples_split=4, splitter=random;, score=0.607 total time=   0.0s\n",
      "[CV 4/5] END criterion=entropy, max_depth=20, max_features=log2, max_leaf_nodes=1000, min_samples_split=4, splitter=random;, score=0.626 total time=   0.0s\n",
      "[CV 5/5] END criterion=entropy, max_depth=20, max_features=log2, max_leaf_nodes=1000, min_samples_split=4, splitter=random;, score=0.633 total time=   0.0s\n"
     ]
    },
    {
     "name": "stdout",
     "output_type": "stream",
     "text": [
      "[CV 1/5] END criterion=entropy, max_depth=20, max_features=log2, max_leaf_nodes=1000, min_samples_split=6, splitter=best;, score=0.660 total time=   0.0s\n",
      "[CV 2/5] END criterion=entropy, max_depth=20, max_features=log2, max_leaf_nodes=1000, min_samples_split=6, splitter=best;, score=0.663 total time=   0.0s\n",
      "[CV 3/5] END criterion=entropy, max_depth=20, max_features=log2, max_leaf_nodes=1000, min_samples_split=6, splitter=best;, score=0.662 total time=   0.0s\n",
      "[CV 4/5] END criterion=entropy, max_depth=20, max_features=log2, max_leaf_nodes=1000, min_samples_split=6, splitter=best;, score=0.658 total time=   0.0s\n",
      "[CV 5/5] END criterion=entropy, max_depth=20, max_features=log2, max_leaf_nodes=1000, min_samples_split=6, splitter=best;, score=0.661 total time=   0.0s\n",
      "[CV 1/5] END criterion=entropy, max_depth=20, max_features=log2, max_leaf_nodes=1000, min_samples_split=6, splitter=random;, score=0.634 total time=   0.0s\n",
      "[CV 2/5] END criterion=entropy, max_depth=20, max_features=log2, max_leaf_nodes=1000, min_samples_split=6, splitter=random;, score=0.624 total time=   0.0s\n",
      "[CV 3/5] END criterion=entropy, max_depth=20, max_features=log2, max_leaf_nodes=1000, min_samples_split=6, splitter=random;, score=0.595 total time=   0.0s\n",
      "[CV 4/5] END criterion=entropy, max_depth=20, max_features=log2, max_leaf_nodes=1000, min_samples_split=6, splitter=random;, score=0.605 total time=   0.0s\n",
      "[CV 5/5] END criterion=entropy, max_depth=20, max_features=log2, max_leaf_nodes=1000, min_samples_split=6, splitter=random;, score=0.609 total time=   0.0s\n",
      "[CV 1/5] END criterion=entropy, max_depth=20, max_features=log2, max_leaf_nodes=1000, min_samples_split=8, splitter=best;, score=0.648 total time=   0.0s\n",
      "[CV 2/5] END criterion=entropy, max_depth=20, max_features=log2, max_leaf_nodes=1000, min_samples_split=8, splitter=best;, score=0.666 total time=   0.0s\n",
      "[CV 3/5] END criterion=entropy, max_depth=20, max_features=log2, max_leaf_nodes=1000, min_samples_split=8, splitter=best;, score=0.641 total time=   0.0s\n",
      "[CV 4/5] END criterion=entropy, max_depth=20, max_features=log2, max_leaf_nodes=1000, min_samples_split=8, splitter=best;, score=0.650 total time=   0.0s\n",
      "[CV 5/5] END criterion=entropy, max_depth=20, max_features=log2, max_leaf_nodes=1000, min_samples_split=8, splitter=best;, score=0.630 total time=   0.0s\n",
      "[CV 1/5] END criterion=entropy, max_depth=20, max_features=log2, max_leaf_nodes=1000, min_samples_split=8, splitter=random;, score=0.579 total time=   0.0s\n",
      "[CV 2/5] END criterion=entropy, max_depth=20, max_features=log2, max_leaf_nodes=1000, min_samples_split=8, splitter=random;, score=0.643 total time=   0.0s\n",
      "[CV 3/5] END criterion=entropy, max_depth=20, max_features=log2, max_leaf_nodes=1000, min_samples_split=8, splitter=random;, score=0.615 total time=   0.0s\n",
      "[CV 4/5] END criterion=entropy, max_depth=20, max_features=log2, max_leaf_nodes=1000, min_samples_split=8, splitter=random;, score=0.603 total time=   0.0s\n",
      "[CV 5/5] END criterion=entropy, max_depth=20, max_features=log2, max_leaf_nodes=1000, min_samples_split=8, splitter=random;, score=0.589 total time=   0.0s\n",
      "[CV 1/5] END criterion=entropy, max_depth=20, max_features=log2, max_leaf_nodes=1100, min_samples_split=4, splitter=best;, score=0.648 total time=   0.0s\n",
      "[CV 2/5] END criterion=entropy, max_depth=20, max_features=log2, max_leaf_nodes=1100, min_samples_split=4, splitter=best;, score=0.698 total time=   0.0s\n",
      "[CV 3/5] END criterion=entropy, max_depth=20, max_features=log2, max_leaf_nodes=1100, min_samples_split=4, splitter=best;, score=0.663 total time=   0.0s\n",
      "[CV 4/5] END criterion=entropy, max_depth=20, max_features=log2, max_leaf_nodes=1100, min_samples_split=4, splitter=best;, score=0.649 total time=   0.0s\n",
      "[CV 5/5] END criterion=entropy, max_depth=20, max_features=log2, max_leaf_nodes=1100, min_samples_split=4, splitter=best;, score=0.658 total time=   0.0s\n",
      "[CV 1/5] END criterion=entropy, max_depth=20, max_features=log2, max_leaf_nodes=1100, min_samples_split=4, splitter=random;, score=0.625 total time=   0.0s\n",
      "[CV 2/5] END criterion=entropy, max_depth=20, max_features=log2, max_leaf_nodes=1100, min_samples_split=4, splitter=random;, score=0.634 total time=   0.0s\n",
      "[CV 3/5] END criterion=entropy, max_depth=20, max_features=log2, max_leaf_nodes=1100, min_samples_split=4, splitter=random;, score=0.620 total time=   0.0s\n",
      "[CV 4/5] END criterion=entropy, max_depth=20, max_features=log2, max_leaf_nodes=1100, min_samples_split=4, splitter=random;, score=0.613 total time=   0.0s\n",
      "[CV 5/5] END criterion=entropy, max_depth=20, max_features=log2, max_leaf_nodes=1100, min_samples_split=4, splitter=random;, score=0.585 total time=   0.0s\n",
      "[CV 1/5] END criterion=entropy, max_depth=20, max_features=log2, max_leaf_nodes=1100, min_samples_split=6, splitter=best;, score=0.647 total time=   0.0s\n",
      "[CV 2/5] END criterion=entropy, max_depth=20, max_features=log2, max_leaf_nodes=1100, min_samples_split=6, splitter=best;, score=0.664 total time=   0.0s\n",
      "[CV 3/5] END criterion=entropy, max_depth=20, max_features=log2, max_leaf_nodes=1100, min_samples_split=6, splitter=best;, score=0.638 total time=   0.0s\n",
      "[CV 4/5] END criterion=entropy, max_depth=20, max_features=log2, max_leaf_nodes=1100, min_samples_split=6, splitter=best;, score=0.636 total time=   0.0s\n",
      "[CV 5/5] END criterion=entropy, max_depth=20, max_features=log2, max_leaf_nodes=1100, min_samples_split=6, splitter=best;, score=0.637 total time=   0.0s\n",
      "[CV 1/5] END criterion=entropy, max_depth=20, max_features=log2, max_leaf_nodes=1100, min_samples_split=6, splitter=random;, score=0.625 total time=   0.0s\n",
      "[CV 2/5] END criterion=entropy, max_depth=20, max_features=log2, max_leaf_nodes=1100, min_samples_split=6, splitter=random;, score=0.603 total time=   0.0s\n",
      "[CV 3/5] END criterion=entropy, max_depth=20, max_features=log2, max_leaf_nodes=1100, min_samples_split=6, splitter=random;, score=0.607 total time=   0.0s\n",
      "[CV 4/5] END criterion=entropy, max_depth=20, max_features=log2, max_leaf_nodes=1100, min_samples_split=6, splitter=random;, score=0.614 total time=   0.0s\n",
      "[CV 5/5] END criterion=entropy, max_depth=20, max_features=log2, max_leaf_nodes=1100, min_samples_split=6, splitter=random;, score=0.592 total time=   0.0s\n",
      "[CV 1/5] END criterion=entropy, max_depth=20, max_features=log2, max_leaf_nodes=1100, min_samples_split=8, splitter=best;, score=0.637 total time=   0.0s\n",
      "[CV 2/5] END criterion=entropy, max_depth=20, max_features=log2, max_leaf_nodes=1100, min_samples_split=8, splitter=best;, score=0.689 total time=   0.0s\n",
      "[CV 3/5] END criterion=entropy, max_depth=20, max_features=log2, max_leaf_nodes=1100, min_samples_split=8, splitter=best;, score=0.650 total time=   0.0s\n",
      "[CV 4/5] END criterion=entropy, max_depth=20, max_features=log2, max_leaf_nodes=1100, min_samples_split=8, splitter=best;, score=0.645 total time=   0.0s\n",
      "[CV 5/5] END criterion=entropy, max_depth=20, max_features=log2, max_leaf_nodes=1100, min_samples_split=8, splitter=best;, score=0.643 total time=   0.0s\n",
      "[CV 1/5] END criterion=entropy, max_depth=20, max_features=log2, max_leaf_nodes=1100, min_samples_split=8, splitter=random;, score=0.613 total time=   0.0s\n",
      "[CV 2/5] END criterion=entropy, max_depth=20, max_features=log2, max_leaf_nodes=1100, min_samples_split=8, splitter=random;, score=0.625 total time=   0.0s\n",
      "[CV 3/5] END criterion=entropy, max_depth=20, max_features=log2, max_leaf_nodes=1100, min_samples_split=8, splitter=random;, score=0.621 total time=   0.0s\n",
      "[CV 4/5] END criterion=entropy, max_depth=20, max_features=log2, max_leaf_nodes=1100, min_samples_split=8, splitter=random;, score=0.599 total time=   0.0s\n",
      "[CV 5/5] END criterion=entropy, max_depth=20, max_features=log2, max_leaf_nodes=1100, min_samples_split=8, splitter=random;, score=0.620 total time=   0.0s\n",
      "[CV 1/5] END criterion=entropy, max_depth=30, max_features=sqrt, max_leaf_nodes=900, min_samples_split=4, splitter=best;, score=0.670 total time=   0.0s\n",
      "[CV 2/5] END criterion=entropy, max_depth=30, max_features=sqrt, max_leaf_nodes=900, min_samples_split=4, splitter=best;, score=0.686 total time=   0.0s\n",
      "[CV 3/5] END criterion=entropy, max_depth=30, max_features=sqrt, max_leaf_nodes=900, min_samples_split=4, splitter=best;, score=0.639 total time=   0.0s\n",
      "[CV 4/5] END criterion=entropy, max_depth=30, max_features=sqrt, max_leaf_nodes=900, min_samples_split=4, splitter=best;, score=0.649 total time=   0.0s\n",
      "[CV 5/5] END criterion=entropy, max_depth=30, max_features=sqrt, max_leaf_nodes=900, min_samples_split=4, splitter=best;, score=0.642 total time=   0.0s\n",
      "[CV 1/5] END criterion=entropy, max_depth=30, max_features=sqrt, max_leaf_nodes=900, min_samples_split=4, splitter=random;, score=0.617 total time=   0.0s\n",
      "[CV 2/5] END criterion=entropy, max_depth=30, max_features=sqrt, max_leaf_nodes=900, min_samples_split=4, splitter=random;, score=0.633 total time=   0.0s\n",
      "[CV 3/5] END criterion=entropy, max_depth=30, max_features=sqrt, max_leaf_nodes=900, min_samples_split=4, splitter=random;, score=0.611 total time=   0.0s\n",
      "[CV 4/5] END criterion=entropy, max_depth=30, max_features=sqrt, max_leaf_nodes=900, min_samples_split=4, splitter=random;, score=0.607 total time=   0.0s\n",
      "[CV 5/5] END criterion=entropy, max_depth=30, max_features=sqrt, max_leaf_nodes=900, min_samples_split=4, splitter=random;, score=0.603 total time=   0.0s\n",
      "[CV 1/5] END criterion=entropy, max_depth=30, max_features=sqrt, max_leaf_nodes=900, min_samples_split=6, splitter=best;, score=0.662 total time=   0.0s\n",
      "[CV 2/5] END criterion=entropy, max_depth=30, max_features=sqrt, max_leaf_nodes=900, min_samples_split=6, splitter=best;, score=0.669 total time=   0.0s\n",
      "[CV 3/5] END criterion=entropy, max_depth=30, max_features=sqrt, max_leaf_nodes=900, min_samples_split=6, splitter=best;, score=0.658 total time=   0.0s\n",
      "[CV 4/5] END criterion=entropy, max_depth=30, max_features=sqrt, max_leaf_nodes=900, min_samples_split=6, splitter=best;, score=0.641 total time=   0.0s\n"
     ]
    },
    {
     "name": "stdout",
     "output_type": "stream",
     "text": [
      "[CV 5/5] END criterion=entropy, max_depth=30, max_features=sqrt, max_leaf_nodes=900, min_samples_split=6, splitter=best;, score=0.641 total time=   0.0s\n",
      "[CV 1/5] END criterion=entropy, max_depth=30, max_features=sqrt, max_leaf_nodes=900, min_samples_split=6, splitter=random;, score=0.626 total time=   0.0s\n",
      "[CV 2/5] END criterion=entropy, max_depth=30, max_features=sqrt, max_leaf_nodes=900, min_samples_split=6, splitter=random;, score=0.639 total time=   0.0s\n",
      "[CV 3/5] END criterion=entropy, max_depth=30, max_features=sqrt, max_leaf_nodes=900, min_samples_split=6, splitter=random;, score=0.603 total time=   0.0s\n",
      "[CV 4/5] END criterion=entropy, max_depth=30, max_features=sqrt, max_leaf_nodes=900, min_samples_split=6, splitter=random;, score=0.604 total time=   0.0s\n",
      "[CV 5/5] END criterion=entropy, max_depth=30, max_features=sqrt, max_leaf_nodes=900, min_samples_split=6, splitter=random;, score=0.616 total time=   0.0s\n",
      "[CV 1/5] END criterion=entropy, max_depth=30, max_features=sqrt, max_leaf_nodes=900, min_samples_split=8, splitter=best;, score=0.639 total time=   0.0s\n",
      "[CV 2/5] END criterion=entropy, max_depth=30, max_features=sqrt, max_leaf_nodes=900, min_samples_split=8, splitter=best;, score=0.674 total time=   0.0s\n",
      "[CV 3/5] END criterion=entropy, max_depth=30, max_features=sqrt, max_leaf_nodes=900, min_samples_split=8, splitter=best;, score=0.639 total time=   0.0s\n",
      "[CV 4/5] END criterion=entropy, max_depth=30, max_features=sqrt, max_leaf_nodes=900, min_samples_split=8, splitter=best;, score=0.642 total time=   0.0s\n",
      "[CV 5/5] END criterion=entropy, max_depth=30, max_features=sqrt, max_leaf_nodes=900, min_samples_split=8, splitter=best;, score=0.627 total time=   0.0s\n",
      "[CV 1/5] END criterion=entropy, max_depth=30, max_features=sqrt, max_leaf_nodes=900, min_samples_split=8, splitter=random;, score=0.608 total time=   0.0s\n",
      "[CV 2/5] END criterion=entropy, max_depth=30, max_features=sqrt, max_leaf_nodes=900, min_samples_split=8, splitter=random;, score=0.608 total time=   0.0s\n",
      "[CV 3/5] END criterion=entropy, max_depth=30, max_features=sqrt, max_leaf_nodes=900, min_samples_split=8, splitter=random;, score=0.606 total time=   0.0s\n",
      "[CV 4/5] END criterion=entropy, max_depth=30, max_features=sqrt, max_leaf_nodes=900, min_samples_split=8, splitter=random;, score=0.608 total time=   0.0s\n",
      "[CV 5/5] END criterion=entropy, max_depth=30, max_features=sqrt, max_leaf_nodes=900, min_samples_split=8, splitter=random;, score=0.625 total time=   0.0s\n",
      "[CV 1/5] END criterion=entropy, max_depth=30, max_features=sqrt, max_leaf_nodes=1000, min_samples_split=4, splitter=best;, score=0.648 total time=   0.0s\n",
      "[CV 2/5] END criterion=entropy, max_depth=30, max_features=sqrt, max_leaf_nodes=1000, min_samples_split=4, splitter=best;, score=0.680 total time=   0.0s\n",
      "[CV 3/5] END criterion=entropy, max_depth=30, max_features=sqrt, max_leaf_nodes=1000, min_samples_split=4, splitter=best;, score=0.668 total time=   0.0s\n",
      "[CV 4/5] END criterion=entropy, max_depth=30, max_features=sqrt, max_leaf_nodes=1000, min_samples_split=4, splitter=best;, score=0.646 total time=   0.0s\n",
      "[CV 5/5] END criterion=entropy, max_depth=30, max_features=sqrt, max_leaf_nodes=1000, min_samples_split=4, splitter=best;, score=0.661 total time=   0.0s\n",
      "[CV 1/5] END criterion=entropy, max_depth=30, max_features=sqrt, max_leaf_nodes=1000, min_samples_split=4, splitter=random;, score=0.623 total time=   0.0s\n",
      "[CV 2/5] END criterion=entropy, max_depth=30, max_features=sqrt, max_leaf_nodes=1000, min_samples_split=4, splitter=random;, score=0.636 total time=   0.0s\n",
      "[CV 3/5] END criterion=entropy, max_depth=30, max_features=sqrt, max_leaf_nodes=1000, min_samples_split=4, splitter=random;, score=0.641 total time=   0.0s\n",
      "[CV 4/5] END criterion=entropy, max_depth=30, max_features=sqrt, max_leaf_nodes=1000, min_samples_split=4, splitter=random;, score=0.603 total time=   0.0s\n",
      "[CV 5/5] END criterion=entropy, max_depth=30, max_features=sqrt, max_leaf_nodes=1000, min_samples_split=4, splitter=random;, score=0.611 total time=   0.0s\n",
      "[CV 1/5] END criterion=entropy, max_depth=30, max_features=sqrt, max_leaf_nodes=1000, min_samples_split=6, splitter=best;, score=0.630 total time=   0.0s\n",
      "[CV 2/5] END criterion=entropy, max_depth=30, max_features=sqrt, max_leaf_nodes=1000, min_samples_split=6, splitter=best;, score=0.655 total time=   0.0s\n",
      "[CV 3/5] END criterion=entropy, max_depth=30, max_features=sqrt, max_leaf_nodes=1000, min_samples_split=6, splitter=best;, score=0.664 total time=   0.0s\n",
      "[CV 4/5] END criterion=entropy, max_depth=30, max_features=sqrt, max_leaf_nodes=1000, min_samples_split=6, splitter=best;, score=0.655 total time=   0.0s\n",
      "[CV 5/5] END criterion=entropy, max_depth=30, max_features=sqrt, max_leaf_nodes=1000, min_samples_split=6, splitter=best;, score=0.650 total time=   0.0s\n",
      "[CV 1/5] END criterion=entropy, max_depth=30, max_features=sqrt, max_leaf_nodes=1000, min_samples_split=6, splitter=random;, score=0.629 total time=   0.0s\n",
      "[CV 2/5] END criterion=entropy, max_depth=30, max_features=sqrt, max_leaf_nodes=1000, min_samples_split=6, splitter=random;, score=0.630 total time=   0.0s\n",
      "[CV 3/5] END criterion=entropy, max_depth=30, max_features=sqrt, max_leaf_nodes=1000, min_samples_split=6, splitter=random;, score=0.629 total time=   0.0s\n",
      "[CV 4/5] END criterion=entropy, max_depth=30, max_features=sqrt, max_leaf_nodes=1000, min_samples_split=6, splitter=random;, score=0.632 total time=   0.0s\n",
      "[CV 5/5] END criterion=entropy, max_depth=30, max_features=sqrt, max_leaf_nodes=1000, min_samples_split=6, splitter=random;, score=0.623 total time=   0.0s\n",
      "[CV 1/5] END criterion=entropy, max_depth=30, max_features=sqrt, max_leaf_nodes=1000, min_samples_split=8, splitter=best;, score=0.652 total time=   0.0s\n",
      "[CV 2/5] END criterion=entropy, max_depth=30, max_features=sqrt, max_leaf_nodes=1000, min_samples_split=8, splitter=best;, score=0.671 total time=   0.0s\n",
      "[CV 3/5] END criterion=entropy, max_depth=30, max_features=sqrt, max_leaf_nodes=1000, min_samples_split=8, splitter=best;, score=0.645 total time=   0.0s\n",
      "[CV 4/5] END criterion=entropy, max_depth=30, max_features=sqrt, max_leaf_nodes=1000, min_samples_split=8, splitter=best;, score=0.649 total time=   0.0s\n",
      "[CV 5/5] END criterion=entropy, max_depth=30, max_features=sqrt, max_leaf_nodes=1000, min_samples_split=8, splitter=best;, score=0.656 total time=   0.0s\n",
      "[CV 1/5] END criterion=entropy, max_depth=30, max_features=sqrt, max_leaf_nodes=1000, min_samples_split=8, splitter=random;, score=0.620 total time=   0.0s\n",
      "[CV 2/5] END criterion=entropy, max_depth=30, max_features=sqrt, max_leaf_nodes=1000, min_samples_split=8, splitter=random;, score=0.665 total time=   0.0s\n",
      "[CV 3/5] END criterion=entropy, max_depth=30, max_features=sqrt, max_leaf_nodes=1000, min_samples_split=8, splitter=random;, score=0.629 total time=   0.0s\n",
      "[CV 4/5] END criterion=entropy, max_depth=30, max_features=sqrt, max_leaf_nodes=1000, min_samples_split=8, splitter=random;, score=0.596 total time=   0.0s\n",
      "[CV 5/5] END criterion=entropy, max_depth=30, max_features=sqrt, max_leaf_nodes=1000, min_samples_split=8, splitter=random;, score=0.619 total time=   0.0s\n",
      "[CV 1/5] END criterion=entropy, max_depth=30, max_features=sqrt, max_leaf_nodes=1100, min_samples_split=4, splitter=best;, score=0.661 total time=   0.0s\n",
      "[CV 2/5] END criterion=entropy, max_depth=30, max_features=sqrt, max_leaf_nodes=1100, min_samples_split=4, splitter=best;, score=0.683 total time=   0.0s\n",
      "[CV 3/5] END criterion=entropy, max_depth=30, max_features=sqrt, max_leaf_nodes=1100, min_samples_split=4, splitter=best;, score=0.662 total time=   0.0s\n",
      "[CV 4/5] END criterion=entropy, max_depth=30, max_features=sqrt, max_leaf_nodes=1100, min_samples_split=4, splitter=best;, score=0.683 total time=   0.0s\n",
      "[CV 5/5] END criterion=entropy, max_depth=30, max_features=sqrt, max_leaf_nodes=1100, min_samples_split=4, splitter=best;, score=0.659 total time=   0.0s\n",
      "[CV 1/5] END criterion=entropy, max_depth=30, max_features=sqrt, max_leaf_nodes=1100, min_samples_split=4, splitter=random;, score=0.600 total time=   0.0s\n",
      "[CV 2/5] END criterion=entropy, max_depth=30, max_features=sqrt, max_leaf_nodes=1100, min_samples_split=4, splitter=random;, score=0.660 total time=   0.0s\n",
      "[CV 3/5] END criterion=entropy, max_depth=30, max_features=sqrt, max_leaf_nodes=1100, min_samples_split=4, splitter=random;, score=0.606 total time=   0.0s\n",
      "[CV 4/5] END criterion=entropy, max_depth=30, max_features=sqrt, max_leaf_nodes=1100, min_samples_split=4, splitter=random;, score=0.620 total time=   0.0s\n",
      "[CV 5/5] END criterion=entropy, max_depth=30, max_features=sqrt, max_leaf_nodes=1100, min_samples_split=4, splitter=random;, score=0.631 total time=   0.0s\n",
      "[CV 1/5] END criterion=entropy, max_depth=30, max_features=sqrt, max_leaf_nodes=1100, min_samples_split=6, splitter=best;, score=0.654 total time=   0.0s\n",
      "[CV 2/5] END criterion=entropy, max_depth=30, max_features=sqrt, max_leaf_nodes=1100, min_samples_split=6, splitter=best;, score=0.642 total time=   0.0s\n",
      "[CV 3/5] END criterion=entropy, max_depth=30, max_features=sqrt, max_leaf_nodes=1100, min_samples_split=6, splitter=best;, score=0.656 total time=   0.0s\n",
      "[CV 4/5] END criterion=entropy, max_depth=30, max_features=sqrt, max_leaf_nodes=1100, min_samples_split=6, splitter=best;, score=0.664 total time=   0.0s\n",
      "[CV 5/5] END criterion=entropy, max_depth=30, max_features=sqrt, max_leaf_nodes=1100, min_samples_split=6, splitter=best;, score=0.647 total time=   0.0s\n",
      "[CV 1/5] END criterion=entropy, max_depth=30, max_features=sqrt, max_leaf_nodes=1100, min_samples_split=6, splitter=random;, score=0.615 total time=   0.0s\n",
      "[CV 2/5] END criterion=entropy, max_depth=30, max_features=sqrt, max_leaf_nodes=1100, min_samples_split=6, splitter=random;, score=0.611 total time=   0.0s\n"
     ]
    },
    {
     "name": "stdout",
     "output_type": "stream",
     "text": [
      "[CV 3/5] END criterion=entropy, max_depth=30, max_features=sqrt, max_leaf_nodes=1100, min_samples_split=6, splitter=random;, score=0.623 total time=   0.0s\n",
      "[CV 4/5] END criterion=entropy, max_depth=30, max_features=sqrt, max_leaf_nodes=1100, min_samples_split=6, splitter=random;, score=0.634 total time=   0.0s\n",
      "[CV 5/5] END criterion=entropy, max_depth=30, max_features=sqrt, max_leaf_nodes=1100, min_samples_split=6, splitter=random;, score=0.613 total time=   0.0s\n",
      "[CV 1/5] END criterion=entropy, max_depth=30, max_features=sqrt, max_leaf_nodes=1100, min_samples_split=8, splitter=best;, score=0.641 total time=   0.0s\n",
      "[CV 2/5] END criterion=entropy, max_depth=30, max_features=sqrt, max_leaf_nodes=1100, min_samples_split=8, splitter=best;, score=0.656 total time=   0.0s\n",
      "[CV 3/5] END criterion=entropy, max_depth=30, max_features=sqrt, max_leaf_nodes=1100, min_samples_split=8, splitter=best;, score=0.647 total time=   0.0s\n",
      "[CV 4/5] END criterion=entropy, max_depth=30, max_features=sqrt, max_leaf_nodes=1100, min_samples_split=8, splitter=best;, score=0.629 total time=   0.0s\n",
      "[CV 5/5] END criterion=entropy, max_depth=30, max_features=sqrt, max_leaf_nodes=1100, min_samples_split=8, splitter=best;, score=0.632 total time=   0.0s\n",
      "[CV 1/5] END criterion=entropy, max_depth=30, max_features=sqrt, max_leaf_nodes=1100, min_samples_split=8, splitter=random;, score=0.633 total time=   0.0s\n",
      "[CV 2/5] END criterion=entropy, max_depth=30, max_features=sqrt, max_leaf_nodes=1100, min_samples_split=8, splitter=random;, score=0.621 total time=   0.0s\n",
      "[CV 3/5] END criterion=entropy, max_depth=30, max_features=sqrt, max_leaf_nodes=1100, min_samples_split=8, splitter=random;, score=0.605 total time=   0.0s\n",
      "[CV 4/5] END criterion=entropy, max_depth=30, max_features=sqrt, max_leaf_nodes=1100, min_samples_split=8, splitter=random;, score=0.607 total time=   0.0s\n",
      "[CV 5/5] END criterion=entropy, max_depth=30, max_features=sqrt, max_leaf_nodes=1100, min_samples_split=8, splitter=random;, score=0.614 total time=   0.0s\n",
      "[CV 1/5] END criterion=entropy, max_depth=30, max_features=log2, max_leaf_nodes=900, min_samples_split=4, splitter=best;, score=0.659 total time=   0.0s\n",
      "[CV 2/5] END criterion=entropy, max_depth=30, max_features=log2, max_leaf_nodes=900, min_samples_split=4, splitter=best;, score=0.685 total time=   0.0s\n",
      "[CV 3/5] END criterion=entropy, max_depth=30, max_features=log2, max_leaf_nodes=900, min_samples_split=4, splitter=best;, score=0.672 total time=   0.0s\n",
      "[CV 4/5] END criterion=entropy, max_depth=30, max_features=log2, max_leaf_nodes=900, min_samples_split=4, splitter=best;, score=0.652 total time=   0.0s\n",
      "[CV 5/5] END criterion=entropy, max_depth=30, max_features=log2, max_leaf_nodes=900, min_samples_split=4, splitter=best;, score=0.651 total time=   0.0s\n",
      "[CV 1/5] END criterion=entropy, max_depth=30, max_features=log2, max_leaf_nodes=900, min_samples_split=4, splitter=random;, score=0.630 total time=   0.0s\n",
      "[CV 2/5] END criterion=entropy, max_depth=30, max_features=log2, max_leaf_nodes=900, min_samples_split=4, splitter=random;, score=0.647 total time=   0.0s\n",
      "[CV 3/5] END criterion=entropy, max_depth=30, max_features=log2, max_leaf_nodes=900, min_samples_split=4, splitter=random;, score=0.614 total time=   0.0s\n",
      "[CV 4/5] END criterion=entropy, max_depth=30, max_features=log2, max_leaf_nodes=900, min_samples_split=4, splitter=random;, score=0.626 total time=   0.0s\n",
      "[CV 5/5] END criterion=entropy, max_depth=30, max_features=log2, max_leaf_nodes=900, min_samples_split=4, splitter=random;, score=0.616 total time=   0.0s\n",
      "[CV 1/5] END criterion=entropy, max_depth=30, max_features=log2, max_leaf_nodes=900, min_samples_split=6, splitter=best;, score=0.652 total time=   0.0s\n",
      "[CV 2/5] END criterion=entropy, max_depth=30, max_features=log2, max_leaf_nodes=900, min_samples_split=6, splitter=best;, score=0.676 total time=   0.0s\n",
      "[CV 3/5] END criterion=entropy, max_depth=30, max_features=log2, max_leaf_nodes=900, min_samples_split=6, splitter=best;, score=0.668 total time=   0.0s\n",
      "[CV 4/5] END criterion=entropy, max_depth=30, max_features=log2, max_leaf_nodes=900, min_samples_split=6, splitter=best;, score=0.654 total time=   0.0s\n",
      "[CV 5/5] END criterion=entropy, max_depth=30, max_features=log2, max_leaf_nodes=900, min_samples_split=6, splitter=best;, score=0.643 total time=   0.0s\n",
      "[CV 1/5] END criterion=entropy, max_depth=30, max_features=log2, max_leaf_nodes=900, min_samples_split=6, splitter=random;, score=0.622 total time=   0.0s\n",
      "[CV 2/5] END criterion=entropy, max_depth=30, max_features=log2, max_leaf_nodes=900, min_samples_split=6, splitter=random;, score=0.636 total time=   0.0s\n",
      "[CV 3/5] END criterion=entropy, max_depth=30, max_features=log2, max_leaf_nodes=900, min_samples_split=6, splitter=random;, score=0.625 total time=   0.0s\n",
      "[CV 4/5] END criterion=entropy, max_depth=30, max_features=log2, max_leaf_nodes=900, min_samples_split=6, splitter=random;, score=0.582 total time=   0.0s\n",
      "[CV 5/5] END criterion=entropy, max_depth=30, max_features=log2, max_leaf_nodes=900, min_samples_split=6, splitter=random;, score=0.612 total time=   0.0s\n",
      "[CV 1/5] END criterion=entropy, max_depth=30, max_features=log2, max_leaf_nodes=900, min_samples_split=8, splitter=best;, score=0.653 total time=   0.0s\n",
      "[CV 2/5] END criterion=entropy, max_depth=30, max_features=log2, max_leaf_nodes=900, min_samples_split=8, splitter=best;, score=0.653 total time=   0.0s\n",
      "[CV 3/5] END criterion=entropy, max_depth=30, max_features=log2, max_leaf_nodes=900, min_samples_split=8, splitter=best;, score=0.634 total time=   0.0s\n",
      "[CV 4/5] END criterion=entropy, max_depth=30, max_features=log2, max_leaf_nodes=900, min_samples_split=8, splitter=best;, score=0.637 total time=   0.0s\n",
      "[CV 5/5] END criterion=entropy, max_depth=30, max_features=log2, max_leaf_nodes=900, min_samples_split=8, splitter=best;, score=0.650 total time=   0.0s\n",
      "[CV 1/5] END criterion=entropy, max_depth=30, max_features=log2, max_leaf_nodes=900, min_samples_split=8, splitter=random;, score=0.604 total time=   0.0s\n",
      "[CV 2/5] END criterion=entropy, max_depth=30, max_features=log2, max_leaf_nodes=900, min_samples_split=8, splitter=random;, score=0.657 total time=   0.0s\n",
      "[CV 3/5] END criterion=entropy, max_depth=30, max_features=log2, max_leaf_nodes=900, min_samples_split=8, splitter=random;, score=0.609 total time=   0.0s\n",
      "[CV 4/5] END criterion=entropy, max_depth=30, max_features=log2, max_leaf_nodes=900, min_samples_split=8, splitter=random;, score=0.611 total time=   0.0s\n",
      "[CV 5/5] END criterion=entropy, max_depth=30, max_features=log2, max_leaf_nodes=900, min_samples_split=8, splitter=random;, score=0.612 total time=   0.0s\n",
      "[CV 1/5] END criterion=entropy, max_depth=30, max_features=log2, max_leaf_nodes=1000, min_samples_split=4, splitter=best;, score=0.645 total time=   0.0s\n",
      "[CV 2/5] END criterion=entropy, max_depth=30, max_features=log2, max_leaf_nodes=1000, min_samples_split=4, splitter=best;, score=0.679 total time=   0.0s\n",
      "[CV 3/5] END criterion=entropy, max_depth=30, max_features=log2, max_leaf_nodes=1000, min_samples_split=4, splitter=best;, score=0.673 total time=   0.0s\n",
      "[CV 4/5] END criterion=entropy, max_depth=30, max_features=log2, max_leaf_nodes=1000, min_samples_split=4, splitter=best;, score=0.621 total time=   0.0s\n",
      "[CV 5/5] END criterion=entropy, max_depth=30, max_features=log2, max_leaf_nodes=1000, min_samples_split=4, splitter=best;, score=0.664 total time=   0.0s\n",
      "[CV 1/5] END criterion=entropy, max_depth=30, max_features=log2, max_leaf_nodes=1000, min_samples_split=4, splitter=random;, score=0.626 total time=   0.0s\n",
      "[CV 2/5] END criterion=entropy, max_depth=30, max_features=log2, max_leaf_nodes=1000, min_samples_split=4, splitter=random;, score=0.629 total time=   0.0s\n",
      "[CV 3/5] END criterion=entropy, max_depth=30, max_features=log2, max_leaf_nodes=1000, min_samples_split=4, splitter=random;, score=0.630 total time=   0.0s\n",
      "[CV 4/5] END criterion=entropy, max_depth=30, max_features=log2, max_leaf_nodes=1000, min_samples_split=4, splitter=random;, score=0.612 total time=   0.0s\n",
      "[CV 5/5] END criterion=entropy, max_depth=30, max_features=log2, max_leaf_nodes=1000, min_samples_split=4, splitter=random;, score=0.611 total time=   0.0s\n",
      "[CV 1/5] END criterion=entropy, max_depth=30, max_features=log2, max_leaf_nodes=1000, min_samples_split=6, splitter=best;, score=0.657 total time=   0.0s\n",
      "[CV 2/5] END criterion=entropy, max_depth=30, max_features=log2, max_leaf_nodes=1000, min_samples_split=6, splitter=best;, score=0.661 total time=   0.0s\n",
      "[CV 3/5] END criterion=entropy, max_depth=30, max_features=log2, max_leaf_nodes=1000, min_samples_split=6, splitter=best;, score=0.654 total time=   0.0s\n",
      "[CV 4/5] END criterion=entropy, max_depth=30, max_features=log2, max_leaf_nodes=1000, min_samples_split=6, splitter=best;, score=0.653 total time=   0.0s\n",
      "[CV 5/5] END criterion=entropy, max_depth=30, max_features=log2, max_leaf_nodes=1000, min_samples_split=6, splitter=best;, score=0.638 total time=   0.0s\n",
      "[CV 1/5] END criterion=entropy, max_depth=30, max_features=log2, max_leaf_nodes=1000, min_samples_split=6, splitter=random;, score=0.601 total time=   0.0s\n",
      "[CV 2/5] END criterion=entropy, max_depth=30, max_features=log2, max_leaf_nodes=1000, min_samples_split=6, splitter=random;, score=0.654 total time=   0.0s\n",
      "[CV 3/5] END criterion=entropy, max_depth=30, max_features=log2, max_leaf_nodes=1000, min_samples_split=6, splitter=random;, score=0.619 total time=   0.0s\n",
      "[CV 4/5] END criterion=entropy, max_depth=30, max_features=log2, max_leaf_nodes=1000, min_samples_split=6, splitter=random;, score=0.612 total time=   0.0s\n",
      "[CV 5/5] END criterion=entropy, max_depth=30, max_features=log2, max_leaf_nodes=1000, min_samples_split=6, splitter=random;, score=0.635 total time=   0.0s\n",
      "[CV 1/5] END criterion=entropy, max_depth=30, max_features=log2, max_leaf_nodes=1000, min_samples_split=8, splitter=best;, score=0.631 total time=   0.0s\n"
     ]
    },
    {
     "name": "stdout",
     "output_type": "stream",
     "text": [
      "[CV 2/5] END criterion=entropy, max_depth=30, max_features=log2, max_leaf_nodes=1000, min_samples_split=8, splitter=best;, score=0.687 total time=   0.0s\n",
      "[CV 3/5] END criterion=entropy, max_depth=30, max_features=log2, max_leaf_nodes=1000, min_samples_split=8, splitter=best;, score=0.651 total time=   0.0s\n",
      "[CV 4/5] END criterion=entropy, max_depth=30, max_features=log2, max_leaf_nodes=1000, min_samples_split=8, splitter=best;, score=0.633 total time=   0.0s\n",
      "[CV 5/5] END criterion=entropy, max_depth=30, max_features=log2, max_leaf_nodes=1000, min_samples_split=8, splitter=best;, score=0.649 total time=   0.0s\n",
      "[CV 1/5] END criterion=entropy, max_depth=30, max_features=log2, max_leaf_nodes=1000, min_samples_split=8, splitter=random;, score=0.610 total time=   0.0s\n",
      "[CV 2/5] END criterion=entropy, max_depth=30, max_features=log2, max_leaf_nodes=1000, min_samples_split=8, splitter=random;, score=0.650 total time=   0.0s\n",
      "[CV 3/5] END criterion=entropy, max_depth=30, max_features=log2, max_leaf_nodes=1000, min_samples_split=8, splitter=random;, score=0.626 total time=   0.0s\n",
      "[CV 4/5] END criterion=entropy, max_depth=30, max_features=log2, max_leaf_nodes=1000, min_samples_split=8, splitter=random;, score=0.618 total time=   0.0s\n",
      "[CV 5/5] END criterion=entropy, max_depth=30, max_features=log2, max_leaf_nodes=1000, min_samples_split=8, splitter=random;, score=0.632 total time=   0.0s\n",
      "[CV 1/5] END criterion=entropy, max_depth=30, max_features=log2, max_leaf_nodes=1100, min_samples_split=4, splitter=best;, score=0.638 total time=   0.0s\n",
      "[CV 2/5] END criterion=entropy, max_depth=30, max_features=log2, max_leaf_nodes=1100, min_samples_split=4, splitter=best;, score=0.661 total time=   0.0s\n",
      "[CV 3/5] END criterion=entropy, max_depth=30, max_features=log2, max_leaf_nodes=1100, min_samples_split=4, splitter=best;, score=0.656 total time=   0.0s\n",
      "[CV 4/5] END criterion=entropy, max_depth=30, max_features=log2, max_leaf_nodes=1100, min_samples_split=4, splitter=best;, score=0.647 total time=   0.0s\n",
      "[CV 5/5] END criterion=entropy, max_depth=30, max_features=log2, max_leaf_nodes=1100, min_samples_split=4, splitter=best;, score=0.658 total time=   0.0s\n",
      "[CV 1/5] END criterion=entropy, max_depth=30, max_features=log2, max_leaf_nodes=1100, min_samples_split=4, splitter=random;, score=0.642 total time=   0.0s\n",
      "[CV 2/5] END criterion=entropy, max_depth=30, max_features=log2, max_leaf_nodes=1100, min_samples_split=4, splitter=random;, score=0.633 total time=   0.0s\n",
      "[CV 3/5] END criterion=entropy, max_depth=30, max_features=log2, max_leaf_nodes=1100, min_samples_split=4, splitter=random;, score=0.633 total time=   0.0s\n",
      "[CV 4/5] END criterion=entropy, max_depth=30, max_features=log2, max_leaf_nodes=1100, min_samples_split=4, splitter=random;, score=0.606 total time=   0.0s\n",
      "[CV 5/5] END criterion=entropy, max_depth=30, max_features=log2, max_leaf_nodes=1100, min_samples_split=4, splitter=random;, score=0.614 total time=   0.0s\n",
      "[CV 1/5] END criterion=entropy, max_depth=30, max_features=log2, max_leaf_nodes=1100, min_samples_split=6, splitter=best;, score=0.648 total time=   0.0s\n",
      "[CV 2/5] END criterion=entropy, max_depth=30, max_features=log2, max_leaf_nodes=1100, min_samples_split=6, splitter=best;, score=0.671 total time=   0.0s\n",
      "[CV 3/5] END criterion=entropy, max_depth=30, max_features=log2, max_leaf_nodes=1100, min_samples_split=6, splitter=best;, score=0.661 total time=   0.0s\n",
      "[CV 4/5] END criterion=entropy, max_depth=30, max_features=log2, max_leaf_nodes=1100, min_samples_split=6, splitter=best;, score=0.629 total time=   0.0s\n",
      "[CV 5/5] END criterion=entropy, max_depth=30, max_features=log2, max_leaf_nodes=1100, min_samples_split=6, splitter=best;, score=0.646 total time=   0.0s\n",
      "[CV 1/5] END criterion=entropy, max_depth=30, max_features=log2, max_leaf_nodes=1100, min_samples_split=6, splitter=random;, score=0.616 total time=   0.0s\n",
      "[CV 2/5] END criterion=entropy, max_depth=30, max_features=log2, max_leaf_nodes=1100, min_samples_split=6, splitter=random;, score=0.650 total time=   0.0s\n",
      "[CV 3/5] END criterion=entropy, max_depth=30, max_features=log2, max_leaf_nodes=1100, min_samples_split=6, splitter=random;, score=0.609 total time=   0.0s\n",
      "[CV 4/5] END criterion=entropy, max_depth=30, max_features=log2, max_leaf_nodes=1100, min_samples_split=6, splitter=random;, score=0.625 total time=   0.0s\n",
      "[CV 5/5] END criterion=entropy, max_depth=30, max_features=log2, max_leaf_nodes=1100, min_samples_split=6, splitter=random;, score=0.615 total time=   0.0s\n",
      "[CV 1/5] END criterion=entropy, max_depth=30, max_features=log2, max_leaf_nodes=1100, min_samples_split=8, splitter=best;, score=0.645 total time=   0.0s\n",
      "[CV 2/5] END criterion=entropy, max_depth=30, max_features=log2, max_leaf_nodes=1100, min_samples_split=8, splitter=best;, score=0.658 total time=   0.0s\n",
      "[CV 3/5] END criterion=entropy, max_depth=30, max_features=log2, max_leaf_nodes=1100, min_samples_split=8, splitter=best;, score=0.650 total time=   0.0s\n",
      "[CV 4/5] END criterion=entropy, max_depth=30, max_features=log2, max_leaf_nodes=1100, min_samples_split=8, splitter=best;, score=0.633 total time=   0.0s\n",
      "[CV 5/5] END criterion=entropy, max_depth=30, max_features=log2, max_leaf_nodes=1100, min_samples_split=8, splitter=best;, score=0.635 total time=   0.0s\n",
      "[CV 1/5] END criterion=entropy, max_depth=30, max_features=log2, max_leaf_nodes=1100, min_samples_split=8, splitter=random;, score=0.620 total time=   0.0s\n",
      "[CV 2/5] END criterion=entropy, max_depth=30, max_features=log2, max_leaf_nodes=1100, min_samples_split=8, splitter=random;, score=0.629 total time=   0.0s\n",
      "[CV 3/5] END criterion=entropy, max_depth=30, max_features=log2, max_leaf_nodes=1100, min_samples_split=8, splitter=random;, score=0.641 total time=   0.0s\n",
      "[CV 4/5] END criterion=entropy, max_depth=30, max_features=log2, max_leaf_nodes=1100, min_samples_split=8, splitter=random;, score=0.597 total time=   0.0s\n",
      "[CV 5/5] END criterion=entropy, max_depth=30, max_features=log2, max_leaf_nodes=1100, min_samples_split=8, splitter=random;, score=0.585 total time=   0.0s\n",
      "[CV 1/5] END criterion=log_loss, max_depth=10, max_features=sqrt, max_leaf_nodes=900, min_samples_split=4, splitter=best;, score=0.622 total time=   0.0s\n",
      "[CV 2/5] END criterion=log_loss, max_depth=10, max_features=sqrt, max_leaf_nodes=900, min_samples_split=4, splitter=best;, score=0.624 total time=   0.0s\n",
      "[CV 3/5] END criterion=log_loss, max_depth=10, max_features=sqrt, max_leaf_nodes=900, min_samples_split=4, splitter=best;, score=0.646 total time=   0.0s\n",
      "[CV 4/5] END criterion=log_loss, max_depth=10, max_features=sqrt, max_leaf_nodes=900, min_samples_split=4, splitter=best;, score=0.601 total time=   0.0s\n",
      "[CV 5/5] END criterion=log_loss, max_depth=10, max_features=sqrt, max_leaf_nodes=900, min_samples_split=4, splitter=best;, score=0.623 total time=   0.0s\n",
      "[CV 1/5] END criterion=log_loss, max_depth=10, max_features=sqrt, max_leaf_nodes=900, min_samples_split=4, splitter=random;, score=0.592 total time=   0.0s\n",
      "[CV 2/5] END criterion=log_loss, max_depth=10, max_features=sqrt, max_leaf_nodes=900, min_samples_split=4, splitter=random;, score=0.571 total time=   0.0s\n",
      "[CV 3/5] END criterion=log_loss, max_depth=10, max_features=sqrt, max_leaf_nodes=900, min_samples_split=4, splitter=random;, score=0.565 total time=   0.0s\n",
      "[CV 4/5] END criterion=log_loss, max_depth=10, max_features=sqrt, max_leaf_nodes=900, min_samples_split=4, splitter=random;, score=0.534 total time=   0.0s\n",
      "[CV 5/5] END criterion=log_loss, max_depth=10, max_features=sqrt, max_leaf_nodes=900, min_samples_split=4, splitter=random;, score=0.524 total time=   0.0s\n",
      "[CV 1/5] END criterion=log_loss, max_depth=10, max_features=sqrt, max_leaf_nodes=900, min_samples_split=6, splitter=best;, score=0.615 total time=   0.0s\n",
      "[CV 2/5] END criterion=log_loss, max_depth=10, max_features=sqrt, max_leaf_nodes=900, min_samples_split=6, splitter=best;, score=0.634 total time=   0.0s\n",
      "[CV 3/5] END criterion=log_loss, max_depth=10, max_features=sqrt, max_leaf_nodes=900, min_samples_split=6, splitter=best;, score=0.632 total time=   0.0s\n",
      "[CV 4/5] END criterion=log_loss, max_depth=10, max_features=sqrt, max_leaf_nodes=900, min_samples_split=6, splitter=best;, score=0.629 total time=   0.0s\n"
     ]
    },
    {
     "name": "stdout",
     "output_type": "stream",
     "text": [
      "[CV 5/5] END criterion=log_loss, max_depth=10, max_features=sqrt, max_leaf_nodes=900, min_samples_split=6, splitter=best;, score=0.617 total time=   0.0s\n",
      "[CV 1/5] END criterion=log_loss, max_depth=10, max_features=sqrt, max_leaf_nodes=900, min_samples_split=6, splitter=random;, score=0.581 total time=   0.0s\n",
      "[CV 2/5] END criterion=log_loss, max_depth=10, max_features=sqrt, max_leaf_nodes=900, min_samples_split=6, splitter=random;, score=0.576 total time=   0.0s\n",
      "[CV 3/5] END criterion=log_loss, max_depth=10, max_features=sqrt, max_leaf_nodes=900, min_samples_split=6, splitter=random;, score=0.563 total time=   0.0s\n",
      "[CV 4/5] END criterion=log_loss, max_depth=10, max_features=sqrt, max_leaf_nodes=900, min_samples_split=6, splitter=random;, score=0.551 total time=   0.0s\n",
      "[CV 5/5] END criterion=log_loss, max_depth=10, max_features=sqrt, max_leaf_nodes=900, min_samples_split=6, splitter=random;, score=0.555 total time=   0.0s\n",
      "[CV 1/5] END criterion=log_loss, max_depth=10, max_features=sqrt, max_leaf_nodes=900, min_samples_split=8, splitter=best;, score=0.615 total time=   0.0s\n",
      "[CV 2/5] END criterion=log_loss, max_depth=10, max_features=sqrt, max_leaf_nodes=900, min_samples_split=8, splitter=best;, score=0.628 total time=   0.0s\n",
      "[CV 3/5] END criterion=log_loss, max_depth=10, max_features=sqrt, max_leaf_nodes=900, min_samples_split=8, splitter=best;, score=0.619 total time=   0.0s\n",
      "[CV 4/5] END criterion=log_loss, max_depth=10, max_features=sqrt, max_leaf_nodes=900, min_samples_split=8, splitter=best;, score=0.614 total time=   0.0s\n",
      "[CV 5/5] END criterion=log_loss, max_depth=10, max_features=sqrt, max_leaf_nodes=900, min_samples_split=8, splitter=best;, score=0.608 total time=   0.0s\n",
      "[CV 1/5] END criterion=log_loss, max_depth=10, max_features=sqrt, max_leaf_nodes=900, min_samples_split=8, splitter=random;, score=0.567 total time=   0.0s\n",
      "[CV 2/5] END criterion=log_loss, max_depth=10, max_features=sqrt, max_leaf_nodes=900, min_samples_split=8, splitter=random;, score=0.576 total time=   0.0s\n",
      "[CV 3/5] END criterion=log_loss, max_depth=10, max_features=sqrt, max_leaf_nodes=900, min_samples_split=8, splitter=random;, score=0.506 total time=   0.0s\n",
      "[CV 4/5] END criterion=log_loss, max_depth=10, max_features=sqrt, max_leaf_nodes=900, min_samples_split=8, splitter=random;, score=0.538 total time=   0.0s\n",
      "[CV 5/5] END criterion=log_loss, max_depth=10, max_features=sqrt, max_leaf_nodes=900, min_samples_split=8, splitter=random;, score=0.527 total time=   0.0s\n",
      "[CV 1/5] END criterion=log_loss, max_depth=10, max_features=sqrt, max_leaf_nodes=1000, min_samples_split=4, splitter=best;, score=0.589 total time=   0.0s\n",
      "[CV 2/5] END criterion=log_loss, max_depth=10, max_features=sqrt, max_leaf_nodes=1000, min_samples_split=4, splitter=best;, score=0.647 total time=   0.0s\n",
      "[CV 3/5] END criterion=log_loss, max_depth=10, max_features=sqrt, max_leaf_nodes=1000, min_samples_split=4, splitter=best;, score=0.630 total time=   0.0s\n",
      "[CV 4/5] END criterion=log_loss, max_depth=10, max_features=sqrt, max_leaf_nodes=1000, min_samples_split=4, splitter=best;, score=0.607 total time=   0.0s\n",
      "[CV 5/5] END criterion=log_loss, max_depth=10, max_features=sqrt, max_leaf_nodes=1000, min_samples_split=4, splitter=best;, score=0.636 total time=   0.0s\n",
      "[CV 1/5] END criterion=log_loss, max_depth=10, max_features=sqrt, max_leaf_nodes=1000, min_samples_split=4, splitter=random;, score=0.539 total time=   0.0s\n",
      "[CV 2/5] END criterion=log_loss, max_depth=10, max_features=sqrt, max_leaf_nodes=1000, min_samples_split=4, splitter=random;, score=0.577 total time=   0.0s\n",
      "[CV 3/5] END criterion=log_loss, max_depth=10, max_features=sqrt, max_leaf_nodes=1000, min_samples_split=4, splitter=random;, score=0.561 total time=   0.0s\n",
      "[CV 4/5] END criterion=log_loss, max_depth=10, max_features=sqrt, max_leaf_nodes=1000, min_samples_split=4, splitter=random;, score=0.555 total time=   0.0s\n",
      "[CV 5/5] END criterion=log_loss, max_depth=10, max_features=sqrt, max_leaf_nodes=1000, min_samples_split=4, splitter=random;, score=0.547 total time=   0.0s\n",
      "[CV 1/5] END criterion=log_loss, max_depth=10, max_features=sqrt, max_leaf_nodes=1000, min_samples_split=6, splitter=best;, score=0.620 total time=   0.0s\n",
      "[CV 2/5] END criterion=log_loss, max_depth=10, max_features=sqrt, max_leaf_nodes=1000, min_samples_split=6, splitter=best;, score=0.643 total time=   0.0s\n",
      "[CV 3/5] END criterion=log_loss, max_depth=10, max_features=sqrt, max_leaf_nodes=1000, min_samples_split=6, splitter=best;, score=0.622 total time=   0.0s\n",
      "[CV 4/5] END criterion=log_loss, max_depth=10, max_features=sqrt, max_leaf_nodes=1000, min_samples_split=6, splitter=best;, score=0.621 total time=   0.0s\n",
      "[CV 5/5] END criterion=log_loss, max_depth=10, max_features=sqrt, max_leaf_nodes=1000, min_samples_split=6, splitter=best;, score=0.652 total time=   0.0s\n",
      "[CV 1/5] END criterion=log_loss, max_depth=10, max_features=sqrt, max_leaf_nodes=1000, min_samples_split=6, splitter=random;, score=0.538 total time=   0.0s\n",
      "[CV 2/5] END criterion=log_loss, max_depth=10, max_features=sqrt, max_leaf_nodes=1000, min_samples_split=6, splitter=random;, score=0.602 total time=   0.0s\n",
      "[CV 3/5] END criterion=log_loss, max_depth=10, max_features=sqrt, max_leaf_nodes=1000, min_samples_split=6, splitter=random;, score=0.603 total time=   0.0s\n",
      "[CV 4/5] END criterion=log_loss, max_depth=10, max_features=sqrt, max_leaf_nodes=1000, min_samples_split=6, splitter=random;, score=0.549 total time=   0.0s\n",
      "[CV 5/5] END criterion=log_loss, max_depth=10, max_features=sqrt, max_leaf_nodes=1000, min_samples_split=6, splitter=random;, score=0.572 total time=   0.0s\n",
      "[CV 1/5] END criterion=log_loss, max_depth=10, max_features=sqrt, max_leaf_nodes=1000, min_samples_split=8, splitter=best;, score=0.612 total time=   0.0s\n",
      "[CV 2/5] END criterion=log_loss, max_depth=10, max_features=sqrt, max_leaf_nodes=1000, min_samples_split=8, splitter=best;, score=0.642 total time=   0.0s\n",
      "[CV 3/5] END criterion=log_loss, max_depth=10, max_features=sqrt, max_leaf_nodes=1000, min_samples_split=8, splitter=best;, score=0.649 total time=   0.0s\n",
      "[CV 4/5] END criterion=log_loss, max_depth=10, max_features=sqrt, max_leaf_nodes=1000, min_samples_split=8, splitter=best;, score=0.601 total time=   0.0s\n",
      "[CV 5/5] END criterion=log_loss, max_depth=10, max_features=sqrt, max_leaf_nodes=1000, min_samples_split=8, splitter=best;, score=0.599 total time=   0.0s\n",
      "[CV 1/5] END criterion=log_loss, max_depth=10, max_features=sqrt, max_leaf_nodes=1000, min_samples_split=8, splitter=random;, score=0.566 total time=   0.0s\n",
      "[CV 2/5] END criterion=log_loss, max_depth=10, max_features=sqrt, max_leaf_nodes=1000, min_samples_split=8, splitter=random;, score=0.560 total time=   0.0s\n",
      "[CV 3/5] END criterion=log_loss, max_depth=10, max_features=sqrt, max_leaf_nodes=1000, min_samples_split=8, splitter=random;, score=0.483 total time=   0.0s\n",
      "[CV 4/5] END criterion=log_loss, max_depth=10, max_features=sqrt, max_leaf_nodes=1000, min_samples_split=8, splitter=random;, score=0.532 total time=   0.0s\n",
      "[CV 5/5] END criterion=log_loss, max_depth=10, max_features=sqrt, max_leaf_nodes=1000, min_samples_split=8, splitter=random;, score=0.586 total time=   0.0s\n",
      "[CV 1/5] END criterion=log_loss, max_depth=10, max_features=sqrt, max_leaf_nodes=1100, min_samples_split=4, splitter=best;, score=0.612 total time=   0.0s\n",
      "[CV 2/5] END criterion=log_loss, max_depth=10, max_features=sqrt, max_leaf_nodes=1100, min_samples_split=4, splitter=best;, score=0.625 total time=   0.0s\n",
      "[CV 3/5] END criterion=log_loss, max_depth=10, max_features=sqrt, max_leaf_nodes=1100, min_samples_split=4, splitter=best;, score=0.636 total time=   0.0s\n",
      "[CV 4/5] END criterion=log_loss, max_depth=10, max_features=sqrt, max_leaf_nodes=1100, min_samples_split=4, splitter=best;, score=0.636 total time=   0.0s\n",
      "[CV 5/5] END criterion=log_loss, max_depth=10, max_features=sqrt, max_leaf_nodes=1100, min_samples_split=4, splitter=best;, score=0.630 total time=   0.0s\n",
      "[CV 1/5] END criterion=log_loss, max_depth=10, max_features=sqrt, max_leaf_nodes=1100, min_samples_split=4, splitter=random;, score=0.513 total time=   0.0s\n",
      "[CV 2/5] END criterion=log_loss, max_depth=10, max_features=sqrt, max_leaf_nodes=1100, min_samples_split=4, splitter=random;, score=0.524 total time=   0.0s\n",
      "[CV 3/5] END criterion=log_loss, max_depth=10, max_features=sqrt, max_leaf_nodes=1100, min_samples_split=4, splitter=random;, score=0.532 total time=   0.0s\n",
      "[CV 4/5] END criterion=log_loss, max_depth=10, max_features=sqrt, max_leaf_nodes=1100, min_samples_split=4, splitter=random;, score=0.545 total time=   0.0s\n",
      "[CV 5/5] END criterion=log_loss, max_depth=10, max_features=sqrt, max_leaf_nodes=1100, min_samples_split=4, splitter=random;, score=0.533 total time=   0.0s\n",
      "[CV 1/5] END criterion=log_loss, max_depth=10, max_features=sqrt, max_leaf_nodes=1100, min_samples_split=6, splitter=best;, score=0.630 total time=   0.0s\n",
      "[CV 2/5] END criterion=log_loss, max_depth=10, max_features=sqrt, max_leaf_nodes=1100, min_samples_split=6, splitter=best;, score=0.619 total time=   0.0s\n",
      "[CV 3/5] END criterion=log_loss, max_depth=10, max_features=sqrt, max_leaf_nodes=1100, min_samples_split=6, splitter=best;, score=0.629 total time=   0.0s\n",
      "[CV 4/5] END criterion=log_loss, max_depth=10, max_features=sqrt, max_leaf_nodes=1100, min_samples_split=6, splitter=best;, score=0.624 total time=   0.0s\n",
      "[CV 5/5] END criterion=log_loss, max_depth=10, max_features=sqrt, max_leaf_nodes=1100, min_samples_split=6, splitter=best;, score=0.624 total time=   0.0s\n",
      "[CV 1/5] END criterion=log_loss, max_depth=10, max_features=sqrt, max_leaf_nodes=1100, min_samples_split=6, splitter=random;, score=0.518 total time=   0.0s\n",
      "[CV 2/5] END criterion=log_loss, max_depth=10, max_features=sqrt, max_leaf_nodes=1100, min_samples_split=6, splitter=random;, score=0.574 total time=   0.0s\n",
      "[CV 3/5] END criterion=log_loss, max_depth=10, max_features=sqrt, max_leaf_nodes=1100, min_samples_split=6, splitter=random;, score=0.495 total time=   0.0s\n",
      "[CV 4/5] END criterion=log_loss, max_depth=10, max_features=sqrt, max_leaf_nodes=1100, min_samples_split=6, splitter=random;, score=0.547 total time=   0.0s\n",
      "[CV 5/5] END criterion=log_loss, max_depth=10, max_features=sqrt, max_leaf_nodes=1100, min_samples_split=6, splitter=random;, score=0.548 total time=   0.0s\n"
     ]
    },
    {
     "name": "stdout",
     "output_type": "stream",
     "text": [
      "[CV 1/5] END criterion=log_loss, max_depth=10, max_features=sqrt, max_leaf_nodes=1100, min_samples_split=8, splitter=best;, score=0.628 total time=   0.0s\n",
      "[CV 2/5] END criterion=log_loss, max_depth=10, max_features=sqrt, max_leaf_nodes=1100, min_samples_split=8, splitter=best;, score=0.620 total time=   0.0s\n",
      "[CV 3/5] END criterion=log_loss, max_depth=10, max_features=sqrt, max_leaf_nodes=1100, min_samples_split=8, splitter=best;, score=0.646 total time=   0.0s\n",
      "[CV 4/5] END criterion=log_loss, max_depth=10, max_features=sqrt, max_leaf_nodes=1100, min_samples_split=8, splitter=best;, score=0.611 total time=   0.0s\n",
      "[CV 5/5] END criterion=log_loss, max_depth=10, max_features=sqrt, max_leaf_nodes=1100, min_samples_split=8, splitter=best;, score=0.636 total time=   0.0s\n",
      "[CV 1/5] END criterion=log_loss, max_depth=10, max_features=sqrt, max_leaf_nodes=1100, min_samples_split=8, splitter=random;, score=0.525 total time=   0.0s\n",
      "[CV 2/5] END criterion=log_loss, max_depth=10, max_features=sqrt, max_leaf_nodes=1100, min_samples_split=8, splitter=random;, score=0.556 total time=   0.0s\n",
      "[CV 3/5] END criterion=log_loss, max_depth=10, max_features=sqrt, max_leaf_nodes=1100, min_samples_split=8, splitter=random;, score=0.578 total time=   0.0s\n",
      "[CV 4/5] END criterion=log_loss, max_depth=10, max_features=sqrt, max_leaf_nodes=1100, min_samples_split=8, splitter=random;, score=0.518 total time=   0.0s\n",
      "[CV 5/5] END criterion=log_loss, max_depth=10, max_features=sqrt, max_leaf_nodes=1100, min_samples_split=8, splitter=random;, score=0.562 total time=   0.0s\n",
      "[CV 1/5] END criterion=log_loss, max_depth=10, max_features=log2, max_leaf_nodes=900, min_samples_split=4, splitter=best;, score=0.636 total time=   0.0s\n",
      "[CV 2/5] END criterion=log_loss, max_depth=10, max_features=log2, max_leaf_nodes=900, min_samples_split=4, splitter=best;, score=0.662 total time=   0.0s\n",
      "[CV 3/5] END criterion=log_loss, max_depth=10, max_features=log2, max_leaf_nodes=900, min_samples_split=4, splitter=best;, score=0.633 total time=   0.0s\n",
      "[CV 4/5] END criterion=log_loss, max_depth=10, max_features=log2, max_leaf_nodes=900, min_samples_split=4, splitter=best;, score=0.628 total time=   0.0s\n",
      "[CV 5/5] END criterion=log_loss, max_depth=10, max_features=log2, max_leaf_nodes=900, min_samples_split=4, splitter=best;, score=0.629 total time=   0.0s\n",
      "[CV 1/5] END criterion=log_loss, max_depth=10, max_features=log2, max_leaf_nodes=900, min_samples_split=4, splitter=random;, score=0.537 total time=   0.0s\n",
      "[CV 2/5] END criterion=log_loss, max_depth=10, max_features=log2, max_leaf_nodes=900, min_samples_split=4, splitter=random;, score=0.538 total time=   0.0s\n",
      "[CV 3/5] END criterion=log_loss, max_depth=10, max_features=log2, max_leaf_nodes=900, min_samples_split=4, splitter=random;, score=0.598 total time=   0.0s\n",
      "[CV 4/5] END criterion=log_loss, max_depth=10, max_features=log2, max_leaf_nodes=900, min_samples_split=4, splitter=random;, score=0.578 total time=   0.0s\n",
      "[CV 5/5] END criterion=log_loss, max_depth=10, max_features=log2, max_leaf_nodes=900, min_samples_split=4, splitter=random;, score=0.576 total time=   0.0s\n",
      "[CV 1/5] END criterion=log_loss, max_depth=10, max_features=log2, max_leaf_nodes=900, min_samples_split=6, splitter=best;, score=0.608 total time=   0.0s\n",
      "[CV 2/5] END criterion=log_loss, max_depth=10, max_features=log2, max_leaf_nodes=900, min_samples_split=6, splitter=best;, score=0.643 total time=   0.0s\n",
      "[CV 3/5] END criterion=log_loss, max_depth=10, max_features=log2, max_leaf_nodes=900, min_samples_split=6, splitter=best;, score=0.654 total time=   0.0s\n",
      "[CV 4/5] END criterion=log_loss, max_depth=10, max_features=log2, max_leaf_nodes=900, min_samples_split=6, splitter=best;, score=0.639 total time=   0.0s\n",
      "[CV 5/5] END criterion=log_loss, max_depth=10, max_features=log2, max_leaf_nodes=900, min_samples_split=6, splitter=best;, score=0.658 total time=   0.0s\n",
      "[CV 1/5] END criterion=log_loss, max_depth=10, max_features=log2, max_leaf_nodes=900, min_samples_split=6, splitter=random;, score=0.565 total time=   0.0s\n",
      "[CV 2/5] END criterion=log_loss, max_depth=10, max_features=log2, max_leaf_nodes=900, min_samples_split=6, splitter=random;, score=0.565 total time=   0.0s\n",
      "[CV 3/5] END criterion=log_loss, max_depth=10, max_features=log2, max_leaf_nodes=900, min_samples_split=6, splitter=random;, score=0.580 total time=   0.0s\n",
      "[CV 4/5] END criterion=log_loss, max_depth=10, max_features=log2, max_leaf_nodes=900, min_samples_split=6, splitter=random;, score=0.545 total time=   0.0s\n",
      "[CV 5/5] END criterion=log_loss, max_depth=10, max_features=log2, max_leaf_nodes=900, min_samples_split=6, splitter=random;, score=0.569 total time=   0.0s\n",
      "[CV 1/5] END criterion=log_loss, max_depth=10, max_features=log2, max_leaf_nodes=900, min_samples_split=8, splitter=best;, score=0.627 total time=   0.0s\n",
      "[CV 2/5] END criterion=log_loss, max_depth=10, max_features=log2, max_leaf_nodes=900, min_samples_split=8, splitter=best;, score=0.636 total time=   0.0s\n",
      "[CV 3/5] END criterion=log_loss, max_depth=10, max_features=log2, max_leaf_nodes=900, min_samples_split=8, splitter=best;, score=0.621 total time=   0.0s\n",
      "[CV 4/5] END criterion=log_loss, max_depth=10, max_features=log2, max_leaf_nodes=900, min_samples_split=8, splitter=best;, score=0.620 total time=   0.0s\n",
      "[CV 5/5] END criterion=log_loss, max_depth=10, max_features=log2, max_leaf_nodes=900, min_samples_split=8, splitter=best;, score=0.614 total time=   0.0s\n",
      "[CV 1/5] END criterion=log_loss, max_depth=10, max_features=log2, max_leaf_nodes=900, min_samples_split=8, splitter=random;, score=0.576 total time=   0.0s\n",
      "[CV 2/5] END criterion=log_loss, max_depth=10, max_features=log2, max_leaf_nodes=900, min_samples_split=8, splitter=random;, score=0.556 total time=   0.0s\n",
      "[CV 3/5] END criterion=log_loss, max_depth=10, max_features=log2, max_leaf_nodes=900, min_samples_split=8, splitter=random;, score=0.563 total time=   0.0s\n",
      "[CV 4/5] END criterion=log_loss, max_depth=10, max_features=log2, max_leaf_nodes=900, min_samples_split=8, splitter=random;, score=0.518 total time=   0.0s\n",
      "[CV 5/5] END criterion=log_loss, max_depth=10, max_features=log2, max_leaf_nodes=900, min_samples_split=8, splitter=random;, score=0.575 total time=   0.0s\n",
      "[CV 1/5] END criterion=log_loss, max_depth=10, max_features=log2, max_leaf_nodes=1000, min_samples_split=4, splitter=best;, score=0.627 total time=   0.0s\n",
      "[CV 2/5] END criterion=log_loss, max_depth=10, max_features=log2, max_leaf_nodes=1000, min_samples_split=4, splitter=best;, score=0.639 total time=   0.0s\n",
      "[CV 3/5] END criterion=log_loss, max_depth=10, max_features=log2, max_leaf_nodes=1000, min_samples_split=4, splitter=best;, score=0.629 total time=   0.0s\n",
      "[CV 4/5] END criterion=log_loss, max_depth=10, max_features=log2, max_leaf_nodes=1000, min_samples_split=4, splitter=best;, score=0.616 total time=   0.0s\n",
      "[CV 5/5] END criterion=log_loss, max_depth=10, max_features=log2, max_leaf_nodes=1000, min_samples_split=4, splitter=best;, score=0.624 total time=   0.0s\n",
      "[CV 1/5] END criterion=log_loss, max_depth=10, max_features=log2, max_leaf_nodes=1000, min_samples_split=4, splitter=random;, score=0.551 total time=   0.0s\n",
      "[CV 2/5] END criterion=log_loss, max_depth=10, max_features=log2, max_leaf_nodes=1000, min_samples_split=4, splitter=random;, score=0.590 total time=   0.0s\n",
      "[CV 3/5] END criterion=log_loss, max_depth=10, max_features=log2, max_leaf_nodes=1000, min_samples_split=4, splitter=random;, score=0.565 total time=   0.0s\n",
      "[CV 4/5] END criterion=log_loss, max_depth=10, max_features=log2, max_leaf_nodes=1000, min_samples_split=4, splitter=random;, score=0.510 total time=   0.0s\n",
      "[CV 5/5] END criterion=log_loss, max_depth=10, max_features=log2, max_leaf_nodes=1000, min_samples_split=4, splitter=random;, score=0.529 total time=   0.0s\n",
      "[CV 1/5] END criterion=log_loss, max_depth=10, max_features=log2, max_leaf_nodes=1000, min_samples_split=6, splitter=best;, score=0.609 total time=   0.0s\n",
      "[CV 2/5] END criterion=log_loss, max_depth=10, max_features=log2, max_leaf_nodes=1000, min_samples_split=6, splitter=best;, score=0.630 total time=   0.0s\n",
      "[CV 3/5] END criterion=log_loss, max_depth=10, max_features=log2, max_leaf_nodes=1000, min_samples_split=6, splitter=best;, score=0.628 total time=   0.0s\n",
      "[CV 4/5] END criterion=log_loss, max_depth=10, max_features=log2, max_leaf_nodes=1000, min_samples_split=6, splitter=best;, score=0.611 total time=   0.0s\n",
      "[CV 5/5] END criterion=log_loss, max_depth=10, max_features=log2, max_leaf_nodes=1000, min_samples_split=6, splitter=best;, score=0.621 total time=   0.0s\n",
      "[CV 1/5] END criterion=log_loss, max_depth=10, max_features=log2, max_leaf_nodes=1000, min_samples_split=6, splitter=random;, score=0.583 total time=   0.0s\n",
      "[CV 2/5] END criterion=log_loss, max_depth=10, max_features=log2, max_leaf_nodes=1000, min_samples_split=6, splitter=random;, score=0.583 total time=   0.0s\n",
      "[CV 3/5] END criterion=log_loss, max_depth=10, max_features=log2, max_leaf_nodes=1000, min_samples_split=6, splitter=random;, score=0.549 total time=   0.0s\n",
      "[CV 4/5] END criterion=log_loss, max_depth=10, max_features=log2, max_leaf_nodes=1000, min_samples_split=6, splitter=random;, score=0.554 total time=   0.0s\n",
      "[CV 5/5] END criterion=log_loss, max_depth=10, max_features=log2, max_leaf_nodes=1000, min_samples_split=6, splitter=random;, score=0.528 total time=   0.0s\n",
      "[CV 1/5] END criterion=log_loss, max_depth=10, max_features=log2, max_leaf_nodes=1000, min_samples_split=8, splitter=best;, score=0.607 total time=   0.0s\n",
      "[CV 2/5] END criterion=log_loss, max_depth=10, max_features=log2, max_leaf_nodes=1000, min_samples_split=8, splitter=best;, score=0.636 total time=   0.0s\n",
      "[CV 3/5] END criterion=log_loss, max_depth=10, max_features=log2, max_leaf_nodes=1000, min_samples_split=8, splitter=best;, score=0.617 total time=   0.0s\n",
      "[CV 4/5] END criterion=log_loss, max_depth=10, max_features=log2, max_leaf_nodes=1000, min_samples_split=8, splitter=best;, score=0.621 total time=   0.0s\n"
     ]
    },
    {
     "name": "stdout",
     "output_type": "stream",
     "text": [
      "[CV 5/5] END criterion=log_loss, max_depth=10, max_features=log2, max_leaf_nodes=1000, min_samples_split=8, splitter=best;, score=0.603 total time=   0.0s\n",
      "[CV 1/5] END criterion=log_loss, max_depth=10, max_features=log2, max_leaf_nodes=1000, min_samples_split=8, splitter=random;, score=0.572 total time=   0.0s\n",
      "[CV 2/5] END criterion=log_loss, max_depth=10, max_features=log2, max_leaf_nodes=1000, min_samples_split=8, splitter=random;, score=0.562 total time=   0.0s\n",
      "[CV 3/5] END criterion=log_loss, max_depth=10, max_features=log2, max_leaf_nodes=1000, min_samples_split=8, splitter=random;, score=0.545 total time=   0.0s\n",
      "[CV 4/5] END criterion=log_loss, max_depth=10, max_features=log2, max_leaf_nodes=1000, min_samples_split=8, splitter=random;, score=0.531 total time=   0.0s\n",
      "[CV 5/5] END criterion=log_loss, max_depth=10, max_features=log2, max_leaf_nodes=1000, min_samples_split=8, splitter=random;, score=0.545 total time=   0.0s\n",
      "[CV 1/5] END criterion=log_loss, max_depth=10, max_features=log2, max_leaf_nodes=1100, min_samples_split=4, splitter=best;, score=0.608 total time=   0.0s\n",
      "[CV 2/5] END criterion=log_loss, max_depth=10, max_features=log2, max_leaf_nodes=1100, min_samples_split=4, splitter=best;, score=0.636 total time=   0.0s\n",
      "[CV 3/5] END criterion=log_loss, max_depth=10, max_features=log2, max_leaf_nodes=1100, min_samples_split=4, splitter=best;, score=0.643 total time=   0.0s\n",
      "[CV 4/5] END criterion=log_loss, max_depth=10, max_features=log2, max_leaf_nodes=1100, min_samples_split=4, splitter=best;, score=0.596 total time=   0.0s\n",
      "[CV 5/5] END criterion=log_loss, max_depth=10, max_features=log2, max_leaf_nodes=1100, min_samples_split=4, splitter=best;, score=0.614 total time=   0.0s\n",
      "[CV 1/5] END criterion=log_loss, max_depth=10, max_features=log2, max_leaf_nodes=1100, min_samples_split=4, splitter=random;, score=0.551 total time=   0.0s\n",
      "[CV 2/5] END criterion=log_loss, max_depth=10, max_features=log2, max_leaf_nodes=1100, min_samples_split=4, splitter=random;, score=0.556 total time=   0.0s\n",
      "[CV 3/5] END criterion=log_loss, max_depth=10, max_features=log2, max_leaf_nodes=1100, min_samples_split=4, splitter=random;, score=0.586 total time=   0.0s\n",
      "[CV 4/5] END criterion=log_loss, max_depth=10, max_features=log2, max_leaf_nodes=1100, min_samples_split=4, splitter=random;, score=0.498 total time=   0.0s\n",
      "[CV 5/5] END criterion=log_loss, max_depth=10, max_features=log2, max_leaf_nodes=1100, min_samples_split=4, splitter=random;, score=0.565 total time=   0.0s\n",
      "[CV 1/5] END criterion=log_loss, max_depth=10, max_features=log2, max_leaf_nodes=1100, min_samples_split=6, splitter=best;, score=0.622 total time=   0.0s\n",
      "[CV 2/5] END criterion=log_loss, max_depth=10, max_features=log2, max_leaf_nodes=1100, min_samples_split=6, splitter=best;, score=0.646 total time=   0.0s\n",
      "[CV 3/5] END criterion=log_loss, max_depth=10, max_features=log2, max_leaf_nodes=1100, min_samples_split=6, splitter=best;, score=0.631 total time=   0.0s\n",
      "[CV 4/5] END criterion=log_loss, max_depth=10, max_features=log2, max_leaf_nodes=1100, min_samples_split=6, splitter=best;, score=0.628 total time=   0.0s\n",
      "[CV 5/5] END criterion=log_loss, max_depth=10, max_features=log2, max_leaf_nodes=1100, min_samples_split=6, splitter=best;, score=0.617 total time=   0.0s\n",
      "[CV 1/5] END criterion=log_loss, max_depth=10, max_features=log2, max_leaf_nodes=1100, min_samples_split=6, splitter=random;, score=0.547 total time=   0.0s\n",
      "[CV 2/5] END criterion=log_loss, max_depth=10, max_features=log2, max_leaf_nodes=1100, min_samples_split=6, splitter=random;, score=0.476 total time=   0.0s\n",
      "[CV 3/5] END criterion=log_loss, max_depth=10, max_features=log2, max_leaf_nodes=1100, min_samples_split=6, splitter=random;, score=0.557 total time=   0.0s\n",
      "[CV 4/5] END criterion=log_loss, max_depth=10, max_features=log2, max_leaf_nodes=1100, min_samples_split=6, splitter=random;, score=0.547 total time=   0.0s\n",
      "[CV 5/5] END criterion=log_loss, max_depth=10, max_features=log2, max_leaf_nodes=1100, min_samples_split=6, splitter=random;, score=0.489 total time=   0.0s\n",
      "[CV 1/5] END criterion=log_loss, max_depth=10, max_features=log2, max_leaf_nodes=1100, min_samples_split=8, splitter=best;, score=0.629 total time=   0.0s\n",
      "[CV 2/5] END criterion=log_loss, max_depth=10, max_features=log2, max_leaf_nodes=1100, min_samples_split=8, splitter=best;, score=0.627 total time=   0.0s\n",
      "[CV 3/5] END criterion=log_loss, max_depth=10, max_features=log2, max_leaf_nodes=1100, min_samples_split=8, splitter=best;, score=0.618 total time=   0.0s\n",
      "[CV 4/5] END criterion=log_loss, max_depth=10, max_features=log2, max_leaf_nodes=1100, min_samples_split=8, splitter=best;, score=0.612 total time=   0.0s\n",
      "[CV 5/5] END criterion=log_loss, max_depth=10, max_features=log2, max_leaf_nodes=1100, min_samples_split=8, splitter=best;, score=0.618 total time=   0.0s\n",
      "[CV 1/5] END criterion=log_loss, max_depth=10, max_features=log2, max_leaf_nodes=1100, min_samples_split=8, splitter=random;, score=0.553 total time=   0.0s\n",
      "[CV 2/5] END criterion=log_loss, max_depth=10, max_features=log2, max_leaf_nodes=1100, min_samples_split=8, splitter=random;, score=0.520 total time=   0.0s\n",
      "[CV 3/5] END criterion=log_loss, max_depth=10, max_features=log2, max_leaf_nodes=1100, min_samples_split=8, splitter=random;, score=0.595 total time=   0.0s\n",
      "[CV 4/5] END criterion=log_loss, max_depth=10, max_features=log2, max_leaf_nodes=1100, min_samples_split=8, splitter=random;, score=0.553 total time=   0.0s\n",
      "[CV 5/5] END criterion=log_loss, max_depth=10, max_features=log2, max_leaf_nodes=1100, min_samples_split=8, splitter=random;, score=0.553 total time=   0.0s\n",
      "[CV 1/5] END criterion=log_loss, max_depth=20, max_features=sqrt, max_leaf_nodes=900, min_samples_split=4, splitter=best;, score=0.655 total time=   0.0s\n",
      "[CV 2/5] END criterion=log_loss, max_depth=20, max_features=sqrt, max_leaf_nodes=900, min_samples_split=4, splitter=best;, score=0.660 total time=   0.0s\n",
      "[CV 3/5] END criterion=log_loss, max_depth=20, max_features=sqrt, max_leaf_nodes=900, min_samples_split=4, splitter=best;, score=0.668 total time=   0.0s\n",
      "[CV 4/5] END criterion=log_loss, max_depth=20, max_features=sqrt, max_leaf_nodes=900, min_samples_split=4, splitter=best;, score=0.644 total time=   0.0s\n",
      "[CV 5/5] END criterion=log_loss, max_depth=20, max_features=sqrt, max_leaf_nodes=900, min_samples_split=4, splitter=best;, score=0.650 total time=   0.0s\n",
      "[CV 1/5] END criterion=log_loss, max_depth=20, max_features=sqrt, max_leaf_nodes=900, min_samples_split=4, splitter=random;, score=0.608 total time=   0.0s\n",
      "[CV 2/5] END criterion=log_loss, max_depth=20, max_features=sqrt, max_leaf_nodes=900, min_samples_split=4, splitter=random;, score=0.630 total time=   0.0s\n",
      "[CV 3/5] END criterion=log_loss, max_depth=20, max_features=sqrt, max_leaf_nodes=900, min_samples_split=4, splitter=random;, score=0.621 total time=   0.0s\n",
      "[CV 4/5] END criterion=log_loss, max_depth=20, max_features=sqrt, max_leaf_nodes=900, min_samples_split=4, splitter=random;, score=0.621 total time=   0.0s\n",
      "[CV 5/5] END criterion=log_loss, max_depth=20, max_features=sqrt, max_leaf_nodes=900, min_samples_split=4, splitter=random;, score=0.617 total time=   0.0s\n",
      "[CV 1/5] END criterion=log_loss, max_depth=20, max_features=sqrt, max_leaf_nodes=900, min_samples_split=6, splitter=best;, score=0.653 total time=   0.0s\n",
      "[CV 2/5] END criterion=log_loss, max_depth=20, max_features=sqrt, max_leaf_nodes=900, min_samples_split=6, splitter=best;, score=0.676 total time=   0.0s\n",
      "[CV 3/5] END criterion=log_loss, max_depth=20, max_features=sqrt, max_leaf_nodes=900, min_samples_split=6, splitter=best;, score=0.658 total time=   0.0s\n",
      "[CV 4/5] END criterion=log_loss, max_depth=20, max_features=sqrt, max_leaf_nodes=900, min_samples_split=6, splitter=best;, score=0.635 total time=   0.0s\n",
      "[CV 5/5] END criterion=log_loss, max_depth=20, max_features=sqrt, max_leaf_nodes=900, min_samples_split=6, splitter=best;, score=0.658 total time=   0.0s\n",
      "[CV 1/5] END criterion=log_loss, max_depth=20, max_features=sqrt, max_leaf_nodes=900, min_samples_split=6, splitter=random;, score=0.628 total time=   0.0s\n",
      "[CV 2/5] END criterion=log_loss, max_depth=20, max_features=sqrt, max_leaf_nodes=900, min_samples_split=6, splitter=random;, score=0.625 total time=   0.0s\n",
      "[CV 3/5] END criterion=log_loss, max_depth=20, max_features=sqrt, max_leaf_nodes=900, min_samples_split=6, splitter=random;, score=0.620 total time=   0.0s\n",
      "[CV 4/5] END criterion=log_loss, max_depth=20, max_features=sqrt, max_leaf_nodes=900, min_samples_split=6, splitter=random;, score=0.609 total time=   0.0s\n",
      "[CV 5/5] END criterion=log_loss, max_depth=20, max_features=sqrt, max_leaf_nodes=900, min_samples_split=6, splitter=random;, score=0.594 total time=   0.0s\n",
      "[CV 1/5] END criterion=log_loss, max_depth=20, max_features=sqrt, max_leaf_nodes=900, min_samples_split=8, splitter=best;, score=0.647 total time=   0.0s\n",
      "[CV 2/5] END criterion=log_loss, max_depth=20, max_features=sqrt, max_leaf_nodes=900, min_samples_split=8, splitter=best;, score=0.684 total time=   0.0s\n"
     ]
    },
    {
     "name": "stdout",
     "output_type": "stream",
     "text": [
      "[CV 3/5] END criterion=log_loss, max_depth=20, max_features=sqrt, max_leaf_nodes=900, min_samples_split=8, splitter=best;, score=0.653 total time=   0.0s\n",
      "[CV 4/5] END criterion=log_loss, max_depth=20, max_features=sqrt, max_leaf_nodes=900, min_samples_split=8, splitter=best;, score=0.637 total time=   0.0s\n",
      "[CV 5/5] END criterion=log_loss, max_depth=20, max_features=sqrt, max_leaf_nodes=900, min_samples_split=8, splitter=best;, score=0.644 total time=   0.0s\n",
      "[CV 1/5] END criterion=log_loss, max_depth=20, max_features=sqrt, max_leaf_nodes=900, min_samples_split=8, splitter=random;, score=0.577 total time=   0.0s\n",
      "[CV 2/5] END criterion=log_loss, max_depth=20, max_features=sqrt, max_leaf_nodes=900, min_samples_split=8, splitter=random;, score=0.609 total time=   0.0s\n",
      "[CV 3/5] END criterion=log_loss, max_depth=20, max_features=sqrt, max_leaf_nodes=900, min_samples_split=8, splitter=random;, score=0.615 total time=   0.0s\n",
      "[CV 4/5] END criterion=log_loss, max_depth=20, max_features=sqrt, max_leaf_nodes=900, min_samples_split=8, splitter=random;, score=0.621 total time=   0.0s\n",
      "[CV 5/5] END criterion=log_loss, max_depth=20, max_features=sqrt, max_leaf_nodes=900, min_samples_split=8, splitter=random;, score=0.622 total time=   0.0s\n",
      "[CV 1/5] END criterion=log_loss, max_depth=20, max_features=sqrt, max_leaf_nodes=1000, min_samples_split=4, splitter=best;, score=0.673 total time=   0.0s\n",
      "[CV 2/5] END criterion=log_loss, max_depth=20, max_features=sqrt, max_leaf_nodes=1000, min_samples_split=4, splitter=best;, score=0.678 total time=   0.0s\n",
      "[CV 3/5] END criterion=log_loss, max_depth=20, max_features=sqrt, max_leaf_nodes=1000, min_samples_split=4, splitter=best;, score=0.665 total time=   0.0s\n",
      "[CV 4/5] END criterion=log_loss, max_depth=20, max_features=sqrt, max_leaf_nodes=1000, min_samples_split=4, splitter=best;, score=0.652 total time=   0.0s\n",
      "[CV 5/5] END criterion=log_loss, max_depth=20, max_features=sqrt, max_leaf_nodes=1000, min_samples_split=4, splitter=best;, score=0.663 total time=   0.0s\n",
      "[CV 1/5] END criterion=log_loss, max_depth=20, max_features=sqrt, max_leaf_nodes=1000, min_samples_split=4, splitter=random;, score=0.616 total time=   0.0s\n",
      "[CV 2/5] END criterion=log_loss, max_depth=20, max_features=sqrt, max_leaf_nodes=1000, min_samples_split=4, splitter=random;, score=0.639 total time=   0.0s\n",
      "[CV 3/5] END criterion=log_loss, max_depth=20, max_features=sqrt, max_leaf_nodes=1000, min_samples_split=4, splitter=random;, score=0.632 total time=   0.0s\n",
      "[CV 4/5] END criterion=log_loss, max_depth=20, max_features=sqrt, max_leaf_nodes=1000, min_samples_split=4, splitter=random;, score=0.625 total time=   0.0s\n",
      "[CV 5/5] END criterion=log_loss, max_depth=20, max_features=sqrt, max_leaf_nodes=1000, min_samples_split=4, splitter=random;, score=0.638 total time=   0.0s\n",
      "[CV 1/5] END criterion=log_loss, max_depth=20, max_features=sqrt, max_leaf_nodes=1000, min_samples_split=6, splitter=best;, score=0.640 total time=   0.0s\n",
      "[CV 2/5] END criterion=log_loss, max_depth=20, max_features=sqrt, max_leaf_nodes=1000, min_samples_split=6, splitter=best;, score=0.659 total time=   0.0s\n",
      "[CV 3/5] END criterion=log_loss, max_depth=20, max_features=sqrt, max_leaf_nodes=1000, min_samples_split=6, splitter=best;, score=0.672 total time=   0.0s\n",
      "[CV 4/5] END criterion=log_loss, max_depth=20, max_features=sqrt, max_leaf_nodes=1000, min_samples_split=6, splitter=best;, score=0.636 total time=   0.0s\n",
      "[CV 5/5] END criterion=log_loss, max_depth=20, max_features=sqrt, max_leaf_nodes=1000, min_samples_split=6, splitter=best;, score=0.648 total time=   0.0s\n",
      "[CV 1/5] END criterion=log_loss, max_depth=20, max_features=sqrt, max_leaf_nodes=1000, min_samples_split=6, splitter=random;, score=0.623 total time=   0.0s\n",
      "[CV 2/5] END criterion=log_loss, max_depth=20, max_features=sqrt, max_leaf_nodes=1000, min_samples_split=6, splitter=random;, score=0.625 total time=   0.0s\n",
      "[CV 3/5] END criterion=log_loss, max_depth=20, max_features=sqrt, max_leaf_nodes=1000, min_samples_split=6, splitter=random;, score=0.631 total time=   0.0s\n",
      "[CV 4/5] END criterion=log_loss, max_depth=20, max_features=sqrt, max_leaf_nodes=1000, min_samples_split=6, splitter=random;, score=0.623 total time=   0.0s\n",
      "[CV 5/5] END criterion=log_loss, max_depth=20, max_features=sqrt, max_leaf_nodes=1000, min_samples_split=6, splitter=random;, score=0.615 total time=   0.0s\n",
      "[CV 1/5] END criterion=log_loss, max_depth=20, max_features=sqrt, max_leaf_nodes=1000, min_samples_split=8, splitter=best;, score=0.661 total time=   0.0s\n",
      "[CV 2/5] END criterion=log_loss, max_depth=20, max_features=sqrt, max_leaf_nodes=1000, min_samples_split=8, splitter=best;, score=0.669 total time=   0.0s\n",
      "[CV 3/5] END criterion=log_loss, max_depth=20, max_features=sqrt, max_leaf_nodes=1000, min_samples_split=8, splitter=best;, score=0.673 total time=   0.0s\n",
      "[CV 4/5] END criterion=log_loss, max_depth=20, max_features=sqrt, max_leaf_nodes=1000, min_samples_split=8, splitter=best;, score=0.664 total time=   0.0s\n",
      "[CV 5/5] END criterion=log_loss, max_depth=20, max_features=sqrt, max_leaf_nodes=1000, min_samples_split=8, splitter=best;, score=0.632 total time=   0.0s\n",
      "[CV 1/5] END criterion=log_loss, max_depth=20, max_features=sqrt, max_leaf_nodes=1000, min_samples_split=8, splitter=random;, score=0.608 total time=   0.0s\n",
      "[CV 2/5] END criterion=log_loss, max_depth=20, max_features=sqrt, max_leaf_nodes=1000, min_samples_split=8, splitter=random;, score=0.634 total time=   0.0s\n",
      "[CV 3/5] END criterion=log_loss, max_depth=20, max_features=sqrt, max_leaf_nodes=1000, min_samples_split=8, splitter=random;, score=0.599 total time=   0.0s\n",
      "[CV 4/5] END criterion=log_loss, max_depth=20, max_features=sqrt, max_leaf_nodes=1000, min_samples_split=8, splitter=random;, score=0.588 total time=   0.0s\n",
      "[CV 5/5] END criterion=log_loss, max_depth=20, max_features=sqrt, max_leaf_nodes=1000, min_samples_split=8, splitter=random;, score=0.629 total time=   0.0s\n",
      "[CV 1/5] END criterion=log_loss, max_depth=20, max_features=sqrt, max_leaf_nodes=1100, min_samples_split=4, splitter=best;, score=0.658 total time=   0.0s\n",
      "[CV 2/5] END criterion=log_loss, max_depth=20, max_features=sqrt, max_leaf_nodes=1100, min_samples_split=4, splitter=best;, score=0.679 total time=   0.0s\n",
      "[CV 3/5] END criterion=log_loss, max_depth=20, max_features=sqrt, max_leaf_nodes=1100, min_samples_split=4, splitter=best;, score=0.637 total time=   0.0s\n",
      "[CV 4/5] END criterion=log_loss, max_depth=20, max_features=sqrt, max_leaf_nodes=1100, min_samples_split=4, splitter=best;, score=0.673 total time=   0.0s\n",
      "[CV 5/5] END criterion=log_loss, max_depth=20, max_features=sqrt, max_leaf_nodes=1100, min_samples_split=4, splitter=best;, score=0.631 total time=   0.0s\n",
      "[CV 1/5] END criterion=log_loss, max_depth=20, max_features=sqrt, max_leaf_nodes=1100, min_samples_split=4, splitter=random;, score=0.605 total time=   0.0s\n",
      "[CV 2/5] END criterion=log_loss, max_depth=20, max_features=sqrt, max_leaf_nodes=1100, min_samples_split=4, splitter=random;, score=0.614 total time=   0.0s\n",
      "[CV 3/5] END criterion=log_loss, max_depth=20, max_features=sqrt, max_leaf_nodes=1100, min_samples_split=4, splitter=random;, score=0.650 total time=   0.0s\n",
      "[CV 4/5] END criterion=log_loss, max_depth=20, max_features=sqrt, max_leaf_nodes=1100, min_samples_split=4, splitter=random;, score=0.598 total time=   0.0s\n",
      "[CV 5/5] END criterion=log_loss, max_depth=20, max_features=sqrt, max_leaf_nodes=1100, min_samples_split=4, splitter=random;, score=0.650 total time=   0.0s\n",
      "[CV 1/5] END criterion=log_loss, max_depth=20, max_features=sqrt, max_leaf_nodes=1100, min_samples_split=6, splitter=best;, score=0.643 total time=   0.0s\n",
      "[CV 2/5] END criterion=log_loss, max_depth=20, max_features=sqrt, max_leaf_nodes=1100, min_samples_split=6, splitter=best;, score=0.666 total time=   0.0s\n",
      "[CV 3/5] END criterion=log_loss, max_depth=20, max_features=sqrt, max_leaf_nodes=1100, min_samples_split=6, splitter=best;, score=0.652 total time=   0.0s\n",
      "[CV 4/5] END criterion=log_loss, max_depth=20, max_features=sqrt, max_leaf_nodes=1100, min_samples_split=6, splitter=best;, score=0.653 total time=   0.0s\n",
      "[CV 5/5] END criterion=log_loss, max_depth=20, max_features=sqrt, max_leaf_nodes=1100, min_samples_split=6, splitter=best;, score=0.654 total time=   0.0s\n",
      "[CV 1/5] END criterion=log_loss, max_depth=20, max_features=sqrt, max_leaf_nodes=1100, min_samples_split=6, splitter=random;, score=0.625 total time=   0.0s\n",
      "[CV 2/5] END criterion=log_loss, max_depth=20, max_features=sqrt, max_leaf_nodes=1100, min_samples_split=6, splitter=random;, score=0.629 total time=   0.0s\n",
      "[CV 3/5] END criterion=log_loss, max_depth=20, max_features=sqrt, max_leaf_nodes=1100, min_samples_split=6, splitter=random;, score=0.617 total time=   0.0s\n",
      "[CV 4/5] END criterion=log_loss, max_depth=20, max_features=sqrt, max_leaf_nodes=1100, min_samples_split=6, splitter=random;, score=0.625 total time=   0.0s\n",
      "[CV 5/5] END criterion=log_loss, max_depth=20, max_features=sqrt, max_leaf_nodes=1100, min_samples_split=6, splitter=random;, score=0.643 total time=   0.0s\n",
      "[CV 1/5] END criterion=log_loss, max_depth=20, max_features=sqrt, max_leaf_nodes=1100, min_samples_split=8, splitter=best;, score=0.634 total time=   0.0s\n",
      "[CV 2/5] END criterion=log_loss, max_depth=20, max_features=sqrt, max_leaf_nodes=1100, min_samples_split=8, splitter=best;, score=0.666 total time=   0.0s\n",
      "[CV 3/5] END criterion=log_loss, max_depth=20, max_features=sqrt, max_leaf_nodes=1100, min_samples_split=8, splitter=best;, score=0.624 total time=   0.0s\n",
      "[CV 4/5] END criterion=log_loss, max_depth=20, max_features=sqrt, max_leaf_nodes=1100, min_samples_split=8, splitter=best;, score=0.655 total time=   0.0s\n",
      "[CV 5/5] END criterion=log_loss, max_depth=20, max_features=sqrt, max_leaf_nodes=1100, min_samples_split=8, splitter=best;, score=0.641 total time=   0.0s\n",
      "[CV 1/5] END criterion=log_loss, max_depth=20, max_features=sqrt, max_leaf_nodes=1100, min_samples_split=8, splitter=random;, score=0.622 total time=   0.0s\n",
      "[CV 2/5] END criterion=log_loss, max_depth=20, max_features=sqrt, max_leaf_nodes=1100, min_samples_split=8, splitter=random;, score=0.614 total time=   0.0s\n",
      "[CV 3/5] END criterion=log_loss, max_depth=20, max_features=sqrt, max_leaf_nodes=1100, min_samples_split=8, splitter=random;, score=0.634 total time=   0.0s\n",
      "[CV 4/5] END criterion=log_loss, max_depth=20, max_features=sqrt, max_leaf_nodes=1100, min_samples_split=8, splitter=random;, score=0.597 total time=   0.0s\n",
      "[CV 5/5] END criterion=log_loss, max_depth=20, max_features=sqrt, max_leaf_nodes=1100, min_samples_split=8, splitter=random;, score=0.606 total time=   0.0s\n"
     ]
    },
    {
     "name": "stdout",
     "output_type": "stream",
     "text": [
      "[CV 1/5] END criterion=log_loss, max_depth=20, max_features=log2, max_leaf_nodes=900, min_samples_split=4, splitter=best;, score=0.644 total time=   0.0s\n",
      "[CV 2/5] END criterion=log_loss, max_depth=20, max_features=log2, max_leaf_nodes=900, min_samples_split=4, splitter=best;, score=0.668 total time=   0.0s\n",
      "[CV 3/5] END criterion=log_loss, max_depth=20, max_features=log2, max_leaf_nodes=900, min_samples_split=4, splitter=best;, score=0.673 total time=   0.0s\n",
      "[CV 4/5] END criterion=log_loss, max_depth=20, max_features=log2, max_leaf_nodes=900, min_samples_split=4, splitter=best;, score=0.672 total time=   0.0s\n",
      "[CV 5/5] END criterion=log_loss, max_depth=20, max_features=log2, max_leaf_nodes=900, min_samples_split=4, splitter=best;, score=0.661 total time=   0.0s\n",
      "[CV 1/5] END criterion=log_loss, max_depth=20, max_features=log2, max_leaf_nodes=900, min_samples_split=4, splitter=random;, score=0.620 total time=   0.0s\n",
      "[CV 2/5] END criterion=log_loss, max_depth=20, max_features=log2, max_leaf_nodes=900, min_samples_split=4, splitter=random;, score=0.664 total time=   0.0s\n",
      "[CV 3/5] END criterion=log_loss, max_depth=20, max_features=log2, max_leaf_nodes=900, min_samples_split=4, splitter=random;, score=0.616 total time=   0.0s\n",
      "[CV 4/5] END criterion=log_loss, max_depth=20, max_features=log2, max_leaf_nodes=900, min_samples_split=4, splitter=random;, score=0.632 total time=   0.0s\n",
      "[CV 5/5] END criterion=log_loss, max_depth=20, max_features=log2, max_leaf_nodes=900, min_samples_split=4, splitter=random;, score=0.600 total time=   0.0s\n",
      "[CV 1/5] END criterion=log_loss, max_depth=20, max_features=log2, max_leaf_nodes=900, min_samples_split=6, splitter=best;, score=0.647 total time=   0.0s\n",
      "[CV 2/5] END criterion=log_loss, max_depth=20, max_features=log2, max_leaf_nodes=900, min_samples_split=6, splitter=best;, score=0.669 total time=   0.0s\n",
      "[CV 3/5] END criterion=log_loss, max_depth=20, max_features=log2, max_leaf_nodes=900, min_samples_split=6, splitter=best;, score=0.654 total time=   0.0s\n",
      "[CV 4/5] END criterion=log_loss, max_depth=20, max_features=log2, max_leaf_nodes=900, min_samples_split=6, splitter=best;, score=0.655 total time=   0.0s\n",
      "[CV 5/5] END criterion=log_loss, max_depth=20, max_features=log2, max_leaf_nodes=900, min_samples_split=6, splitter=best;, score=0.658 total time=   0.0s\n",
      "[CV 1/5] END criterion=log_loss, max_depth=20, max_features=log2, max_leaf_nodes=900, min_samples_split=6, splitter=random;, score=0.630 total time=   0.0s\n",
      "[CV 2/5] END criterion=log_loss, max_depth=20, max_features=log2, max_leaf_nodes=900, min_samples_split=6, splitter=random;, score=0.647 total time=   0.0s\n",
      "[CV 3/5] END criterion=log_loss, max_depth=20, max_features=log2, max_leaf_nodes=900, min_samples_split=6, splitter=random;, score=0.615 total time=   0.0s\n",
      "[CV 4/5] END criterion=log_loss, max_depth=20, max_features=log2, max_leaf_nodes=900, min_samples_split=6, splitter=random;, score=0.602 total time=   0.0s\n",
      "[CV 5/5] END criterion=log_loss, max_depth=20, max_features=log2, max_leaf_nodes=900, min_samples_split=6, splitter=random;, score=0.650 total time=   0.0s\n",
      "[CV 1/5] END criterion=log_loss, max_depth=20, max_features=log2, max_leaf_nodes=900, min_samples_split=8, splitter=best;, score=0.612 total time=   0.0s\n",
      "[CV 2/5] END criterion=log_loss, max_depth=20, max_features=log2, max_leaf_nodes=900, min_samples_split=8, splitter=best;, score=0.662 total time=   0.0s\n",
      "[CV 3/5] END criterion=log_loss, max_depth=20, max_features=log2, max_leaf_nodes=900, min_samples_split=8, splitter=best;, score=0.645 total time=   0.0s\n",
      "[CV 4/5] END criterion=log_loss, max_depth=20, max_features=log2, max_leaf_nodes=900, min_samples_split=8, splitter=best;, score=0.629 total time=   0.0s\n",
      "[CV 5/5] END criterion=log_loss, max_depth=20, max_features=log2, max_leaf_nodes=900, min_samples_split=8, splitter=best;, score=0.629 total time=   0.0s\n",
      "[CV 1/5] END criterion=log_loss, max_depth=20, max_features=log2, max_leaf_nodes=900, min_samples_split=8, splitter=random;, score=0.611 total time=   0.0s\n",
      "[CV 2/5] END criterion=log_loss, max_depth=20, max_features=log2, max_leaf_nodes=900, min_samples_split=8, splitter=random;, score=0.616 total time=   0.0s\n",
      "[CV 3/5] END criterion=log_loss, max_depth=20, max_features=log2, max_leaf_nodes=900, min_samples_split=8, splitter=random;, score=0.597 total time=   0.0s\n",
      "[CV 4/5] END criterion=log_loss, max_depth=20, max_features=log2, max_leaf_nodes=900, min_samples_split=8, splitter=random;, score=0.608 total time=   0.0s\n",
      "[CV 5/5] END criterion=log_loss, max_depth=20, max_features=log2, max_leaf_nodes=900, min_samples_split=8, splitter=random;, score=0.611 total time=   0.0s\n",
      "[CV 1/5] END criterion=log_loss, max_depth=20, max_features=log2, max_leaf_nodes=1000, min_samples_split=4, splitter=best;, score=0.653 total time=   0.0s\n",
      "[CV 2/5] END criterion=log_loss, max_depth=20, max_features=log2, max_leaf_nodes=1000, min_samples_split=4, splitter=best;, score=0.657 total time=   0.0s\n",
      "[CV 3/5] END criterion=log_loss, max_depth=20, max_features=log2, max_leaf_nodes=1000, min_samples_split=4, splitter=best;, score=0.658 total time=   0.0s\n",
      "[CV 4/5] END criterion=log_loss, max_depth=20, max_features=log2, max_leaf_nodes=1000, min_samples_split=4, splitter=best;, score=0.646 total time=   0.0s\n",
      "[CV 5/5] END criterion=log_loss, max_depth=20, max_features=log2, max_leaf_nodes=1000, min_samples_split=4, splitter=best;, score=0.656 total time=   0.0s\n",
      "[CV 1/5] END criterion=log_loss, max_depth=20, max_features=log2, max_leaf_nodes=1000, min_samples_split=4, splitter=random;, score=0.626 total time=   0.0s\n",
      "[CV 2/5] END criterion=log_loss, max_depth=20, max_features=log2, max_leaf_nodes=1000, min_samples_split=4, splitter=random;, score=0.655 total time=   0.0s\n",
      "[CV 3/5] END criterion=log_loss, max_depth=20, max_features=log2, max_leaf_nodes=1000, min_samples_split=4, splitter=random;, score=0.630 total time=   0.0s\n",
      "[CV 4/5] END criterion=log_loss, max_depth=20, max_features=log2, max_leaf_nodes=1000, min_samples_split=4, splitter=random;, score=0.613 total time=   0.0s\n",
      "[CV 5/5] END criterion=log_loss, max_depth=20, max_features=log2, max_leaf_nodes=1000, min_samples_split=4, splitter=random;, score=0.603 total time=   0.0s\n",
      "[CV 1/5] END criterion=log_loss, max_depth=20, max_features=log2, max_leaf_nodes=1000, min_samples_split=6, splitter=best;, score=0.659 total time=   0.0s\n",
      "[CV 2/5] END criterion=log_loss, max_depth=20, max_features=log2, max_leaf_nodes=1000, min_samples_split=6, splitter=best;, score=0.654 total time=   0.0s\n",
      "[CV 3/5] END criterion=log_loss, max_depth=20, max_features=log2, max_leaf_nodes=1000, min_samples_split=6, splitter=best;, score=0.648 total time=   0.0s\n",
      "[CV 4/5] END criterion=log_loss, max_depth=20, max_features=log2, max_leaf_nodes=1000, min_samples_split=6, splitter=best;, score=0.639 total time=   0.0s\n",
      "[CV 5/5] END criterion=log_loss, max_depth=20, max_features=log2, max_leaf_nodes=1000, min_samples_split=6, splitter=best;, score=0.656 total time=   0.0s\n",
      "[CV 1/5] END criterion=log_loss, max_depth=20, max_features=log2, max_leaf_nodes=1000, min_samples_split=6, splitter=random;, score=0.606 total time=   0.0s\n",
      "[CV 2/5] END criterion=log_loss, max_depth=20, max_features=log2, max_leaf_nodes=1000, min_samples_split=6, splitter=random;, score=0.625 total time=   0.0s\n",
      "[CV 3/5] END criterion=log_loss, max_depth=20, max_features=log2, max_leaf_nodes=1000, min_samples_split=6, splitter=random;, score=0.616 total time=   0.0s\n",
      "[CV 4/5] END criterion=log_loss, max_depth=20, max_features=log2, max_leaf_nodes=1000, min_samples_split=6, splitter=random;, score=0.630 total time=   0.0s\n",
      "[CV 5/5] END criterion=log_loss, max_depth=20, max_features=log2, max_leaf_nodes=1000, min_samples_split=6, splitter=random;, score=0.626 total time=   0.0s\n",
      "[CV 1/5] END criterion=log_loss, max_depth=20, max_features=log2, max_leaf_nodes=1000, min_samples_split=8, splitter=best;, score=0.648 total time=   0.0s\n",
      "[CV 2/5] END criterion=log_loss, max_depth=20, max_features=log2, max_leaf_nodes=1000, min_samples_split=8, splitter=best;, score=0.653 total time=   0.0s\n",
      "[CV 3/5] END criterion=log_loss, max_depth=20, max_features=log2, max_leaf_nodes=1000, min_samples_split=8, splitter=best;, score=0.661 total time=   0.0s\n",
      "[CV 4/5] END criterion=log_loss, max_depth=20, max_features=log2, max_leaf_nodes=1000, min_samples_split=8, splitter=best;, score=0.654 total time=   0.0s\n",
      "[CV 5/5] END criterion=log_loss, max_depth=20, max_features=log2, max_leaf_nodes=1000, min_samples_split=8, splitter=best;, score=0.655 total time=   0.0s\n",
      "[CV 1/5] END criterion=log_loss, max_depth=20, max_features=log2, max_leaf_nodes=1000, min_samples_split=8, splitter=random;, score=0.606 total time=   0.0s\n",
      "[CV 2/5] END criterion=log_loss, max_depth=20, max_features=log2, max_leaf_nodes=1000, min_samples_split=8, splitter=random;, score=0.607 total time=   0.0s\n",
      "[CV 3/5] END criterion=log_loss, max_depth=20, max_features=log2, max_leaf_nodes=1000, min_samples_split=8, splitter=random;, score=0.600 total time=   0.0s\n",
      "[CV 4/5] END criterion=log_loss, max_depth=20, max_features=log2, max_leaf_nodes=1000, min_samples_split=8, splitter=random;, score=0.593 total time=   0.0s\n",
      "[CV 5/5] END criterion=log_loss, max_depth=20, max_features=log2, max_leaf_nodes=1000, min_samples_split=8, splitter=random;, score=0.607 total time=   0.0s\n",
      "[CV 1/5] END criterion=log_loss, max_depth=20, max_features=log2, max_leaf_nodes=1100, min_samples_split=4, splitter=best;, score=0.659 total time=   0.0s\n",
      "[CV 2/5] END criterion=log_loss, max_depth=20, max_features=log2, max_leaf_nodes=1100, min_samples_split=4, splitter=best;, score=0.679 total time=   0.0s\n",
      "[CV 3/5] END criterion=log_loss, max_depth=20, max_features=log2, max_leaf_nodes=1100, min_samples_split=4, splitter=best;, score=0.652 total time=   0.0s\n"
     ]
    },
    {
     "name": "stdout",
     "output_type": "stream",
     "text": [
      "[CV 4/5] END criterion=log_loss, max_depth=20, max_features=log2, max_leaf_nodes=1100, min_samples_split=4, splitter=best;, score=0.668 total time=   0.0s\n",
      "[CV 5/5] END criterion=log_loss, max_depth=20, max_features=log2, max_leaf_nodes=1100, min_samples_split=4, splitter=best;, score=0.642 total time=   0.0s\n",
      "[CV 1/5] END criterion=log_loss, max_depth=20, max_features=log2, max_leaf_nodes=1100, min_samples_split=4, splitter=random;, score=0.613 total time=   0.0s\n",
      "[CV 2/5] END criterion=log_loss, max_depth=20, max_features=log2, max_leaf_nodes=1100, min_samples_split=4, splitter=random;, score=0.636 total time=   0.0s\n",
      "[CV 3/5] END criterion=log_loss, max_depth=20, max_features=log2, max_leaf_nodes=1100, min_samples_split=4, splitter=random;, score=0.652 total time=   0.0s\n",
      "[CV 4/5] END criterion=log_loss, max_depth=20, max_features=log2, max_leaf_nodes=1100, min_samples_split=4, splitter=random;, score=0.628 total time=   0.0s\n",
      "[CV 5/5] END criterion=log_loss, max_depth=20, max_features=log2, max_leaf_nodes=1100, min_samples_split=4, splitter=random;, score=0.607 total time=   0.0s\n",
      "[CV 1/5] END criterion=log_loss, max_depth=20, max_features=log2, max_leaf_nodes=1100, min_samples_split=6, splitter=best;, score=0.662 total time=   0.0s\n",
      "[CV 2/5] END criterion=log_loss, max_depth=20, max_features=log2, max_leaf_nodes=1100, min_samples_split=6, splitter=best;, score=0.694 total time=   0.0s\n",
      "[CV 3/5] END criterion=log_loss, max_depth=20, max_features=log2, max_leaf_nodes=1100, min_samples_split=6, splitter=best;, score=0.672 total time=   0.0s\n",
      "[CV 4/5] END criterion=log_loss, max_depth=20, max_features=log2, max_leaf_nodes=1100, min_samples_split=6, splitter=best;, score=0.660 total time=   0.0s\n",
      "[CV 5/5] END criterion=log_loss, max_depth=20, max_features=log2, max_leaf_nodes=1100, min_samples_split=6, splitter=best;, score=0.625 total time=   0.0s\n",
      "[CV 1/5] END criterion=log_loss, max_depth=20, max_features=log2, max_leaf_nodes=1100, min_samples_split=6, splitter=random;, score=0.596 total time=   0.0s\n",
      "[CV 2/5] END criterion=log_loss, max_depth=20, max_features=log2, max_leaf_nodes=1100, min_samples_split=6, splitter=random;, score=0.633 total time=   0.0s\n",
      "[CV 3/5] END criterion=log_loss, max_depth=20, max_features=log2, max_leaf_nodes=1100, min_samples_split=6, splitter=random;, score=0.615 total time=   0.0s\n",
      "[CV 4/5] END criterion=log_loss, max_depth=20, max_features=log2, max_leaf_nodes=1100, min_samples_split=6, splitter=random;, score=0.625 total time=   0.0s\n",
      "[CV 5/5] END criterion=log_loss, max_depth=20, max_features=log2, max_leaf_nodes=1100, min_samples_split=6, splitter=random;, score=0.621 total time=   0.0s\n",
      "[CV 1/5] END criterion=log_loss, max_depth=20, max_features=log2, max_leaf_nodes=1100, min_samples_split=8, splitter=best;, score=0.635 total time=   0.0s\n",
      "[CV 2/5] END criterion=log_loss, max_depth=20, max_features=log2, max_leaf_nodes=1100, min_samples_split=8, splitter=best;, score=0.670 total time=   0.0s\n",
      "[CV 3/5] END criterion=log_loss, max_depth=20, max_features=log2, max_leaf_nodes=1100, min_samples_split=8, splitter=best;, score=0.629 total time=   0.0s\n",
      "[CV 4/5] END criterion=log_loss, max_depth=20, max_features=log2, max_leaf_nodes=1100, min_samples_split=8, splitter=best;, score=0.661 total time=   0.0s\n",
      "[CV 5/5] END criterion=log_loss, max_depth=20, max_features=log2, max_leaf_nodes=1100, min_samples_split=8, splitter=best;, score=0.632 total time=   0.0s\n",
      "[CV 1/5] END criterion=log_loss, max_depth=20, max_features=log2, max_leaf_nodes=1100, min_samples_split=8, splitter=random;, score=0.612 total time=   0.0s\n",
      "[CV 2/5] END criterion=log_loss, max_depth=20, max_features=log2, max_leaf_nodes=1100, min_samples_split=8, splitter=random;, score=0.607 total time=   0.0s\n",
      "[CV 3/5] END criterion=log_loss, max_depth=20, max_features=log2, max_leaf_nodes=1100, min_samples_split=8, splitter=random;, score=0.608 total time=   0.0s\n",
      "[CV 4/5] END criterion=log_loss, max_depth=20, max_features=log2, max_leaf_nodes=1100, min_samples_split=8, splitter=random;, score=0.596 total time=   0.0s\n",
      "[CV 5/5] END criterion=log_loss, max_depth=20, max_features=log2, max_leaf_nodes=1100, min_samples_split=8, splitter=random;, score=0.623 total time=   0.0s\n",
      "[CV 1/5] END criterion=log_loss, max_depth=30, max_features=sqrt, max_leaf_nodes=900, min_samples_split=4, splitter=best;, score=0.664 total time=   0.0s\n",
      "[CV 2/5] END criterion=log_loss, max_depth=30, max_features=sqrt, max_leaf_nodes=900, min_samples_split=4, splitter=best;, score=0.662 total time=   0.0s\n",
      "[CV 3/5] END criterion=log_loss, max_depth=30, max_features=sqrt, max_leaf_nodes=900, min_samples_split=4, splitter=best;, score=0.644 total time=   0.0s\n",
      "[CV 4/5] END criterion=log_loss, max_depth=30, max_features=sqrt, max_leaf_nodes=900, min_samples_split=4, splitter=best;, score=0.656 total time=   0.0s\n",
      "[CV 5/5] END criterion=log_loss, max_depth=30, max_features=sqrt, max_leaf_nodes=900, min_samples_split=4, splitter=best;, score=0.636 total time=   0.0s\n",
      "[CV 1/5] END criterion=log_loss, max_depth=30, max_features=sqrt, max_leaf_nodes=900, min_samples_split=4, splitter=random;, score=0.607 total time=   0.0s\n",
      "[CV 2/5] END criterion=log_loss, max_depth=30, max_features=sqrt, max_leaf_nodes=900, min_samples_split=4, splitter=random;, score=0.635 total time=   0.0s\n",
      "[CV 3/5] END criterion=log_loss, max_depth=30, max_features=sqrt, max_leaf_nodes=900, min_samples_split=4, splitter=random;, score=0.646 total time=   0.0s\n",
      "[CV 4/5] END criterion=log_loss, max_depth=30, max_features=sqrt, max_leaf_nodes=900, min_samples_split=4, splitter=random;, score=0.610 total time=   0.0s\n",
      "[CV 5/5] END criterion=log_loss, max_depth=30, max_features=sqrt, max_leaf_nodes=900, min_samples_split=4, splitter=random;, score=0.629 total time=   0.0s\n",
      "[CV 1/5] END criterion=log_loss, max_depth=30, max_features=sqrt, max_leaf_nodes=900, min_samples_split=6, splitter=best;, score=0.639 total time=   0.0s\n",
      "[CV 2/5] END criterion=log_loss, max_depth=30, max_features=sqrt, max_leaf_nodes=900, min_samples_split=6, splitter=best;, score=0.659 total time=   0.0s\n",
      "[CV 3/5] END criterion=log_loss, max_depth=30, max_features=sqrt, max_leaf_nodes=900, min_samples_split=6, splitter=best;, score=0.648 total time=   0.0s\n",
      "[CV 4/5] END criterion=log_loss, max_depth=30, max_features=sqrt, max_leaf_nodes=900, min_samples_split=6, splitter=best;, score=0.618 total time=   0.0s\n",
      "[CV 5/5] END criterion=log_loss, max_depth=30, max_features=sqrt, max_leaf_nodes=900, min_samples_split=6, splitter=best;, score=0.665 total time=   0.0s\n",
      "[CV 1/5] END criterion=log_loss, max_depth=30, max_features=sqrt, max_leaf_nodes=900, min_samples_split=6, splitter=random;, score=0.611 total time=   0.0s\n",
      "[CV 2/5] END criterion=log_loss, max_depth=30, max_features=sqrt, max_leaf_nodes=900, min_samples_split=6, splitter=random;, score=0.634 total time=   0.0s\n",
      "[CV 3/5] END criterion=log_loss, max_depth=30, max_features=sqrt, max_leaf_nodes=900, min_samples_split=6, splitter=random;, score=0.631 total time=   0.0s\n",
      "[CV 4/5] END criterion=log_loss, max_depth=30, max_features=sqrt, max_leaf_nodes=900, min_samples_split=6, splitter=random;, score=0.608 total time=   0.0s\n",
      "[CV 5/5] END criterion=log_loss, max_depth=30, max_features=sqrt, max_leaf_nodes=900, min_samples_split=6, splitter=random;, score=0.614 total time=   0.0s\n",
      "[CV 1/5] END criterion=log_loss, max_depth=30, max_features=sqrt, max_leaf_nodes=900, min_samples_split=8, splitter=best;, score=0.650 total time=   0.0s\n",
      "[CV 2/5] END criterion=log_loss, max_depth=30, max_features=sqrt, max_leaf_nodes=900, min_samples_split=8, splitter=best;, score=0.632 total time=   0.0s\n",
      "[CV 3/5] END criterion=log_loss, max_depth=30, max_features=sqrt, max_leaf_nodes=900, min_samples_split=8, splitter=best;, score=0.640 total time=   0.0s\n",
      "[CV 4/5] END criterion=log_loss, max_depth=30, max_features=sqrt, max_leaf_nodes=900, min_samples_split=8, splitter=best;, score=0.638 total time=   0.0s\n",
      "[CV 5/5] END criterion=log_loss, max_depth=30, max_features=sqrt, max_leaf_nodes=900, min_samples_split=8, splitter=best;, score=0.642 total time=   0.0s\n",
      "[CV 1/5] END criterion=log_loss, max_depth=30, max_features=sqrt, max_leaf_nodes=900, min_samples_split=8, splitter=random;, score=0.620 total time=   0.0s\n",
      "[CV 2/5] END criterion=log_loss, max_depth=30, max_features=sqrt, max_leaf_nodes=900, min_samples_split=8, splitter=random;, score=0.608 total time=   0.0s\n",
      "[CV 3/5] END criterion=log_loss, max_depth=30, max_features=sqrt, max_leaf_nodes=900, min_samples_split=8, splitter=random;, score=0.625 total time=   0.0s\n",
      "[CV 4/5] END criterion=log_loss, max_depth=30, max_features=sqrt, max_leaf_nodes=900, min_samples_split=8, splitter=random;, score=0.599 total time=   0.0s\n",
      "[CV 5/5] END criterion=log_loss, max_depth=30, max_features=sqrt, max_leaf_nodes=900, min_samples_split=8, splitter=random;, score=0.611 total time=   0.0s\n",
      "[CV 1/5] END criterion=log_loss, max_depth=30, max_features=sqrt, max_leaf_nodes=1000, min_samples_split=4, splitter=best;, score=0.667 total time=   0.0s\n",
      "[CV 2/5] END criterion=log_loss, max_depth=30, max_features=sqrt, max_leaf_nodes=1000, min_samples_split=4, splitter=best;, score=0.708 total time=   0.0s\n",
      "[CV 3/5] END criterion=log_loss, max_depth=30, max_features=sqrt, max_leaf_nodes=1000, min_samples_split=4, splitter=best;, score=0.674 total time=   0.0s\n",
      "[CV 4/5] END criterion=log_loss, max_depth=30, max_features=sqrt, max_leaf_nodes=1000, min_samples_split=4, splitter=best;, score=0.650 total time=   0.0s\n",
      "[CV 5/5] END criterion=log_loss, max_depth=30, max_features=sqrt, max_leaf_nodes=1000, min_samples_split=4, splitter=best;, score=0.627 total time=   0.0s\n",
      "[CV 1/5] END criterion=log_loss, max_depth=30, max_features=sqrt, max_leaf_nodes=1000, min_samples_split=4, splitter=random;, score=0.621 total time=   0.0s\n",
      "[CV 2/5] END criterion=log_loss, max_depth=30, max_features=sqrt, max_leaf_nodes=1000, min_samples_split=4, splitter=random;, score=0.645 total time=   0.0s\n",
      "[CV 3/5] END criterion=log_loss, max_depth=30, max_features=sqrt, max_leaf_nodes=1000, min_samples_split=4, splitter=random;, score=0.603 total time=   0.0s\n",
      "[CV 4/5] END criterion=log_loss, max_depth=30, max_features=sqrt, max_leaf_nodes=1000, min_samples_split=4, splitter=random;, score=0.621 total time=   0.0s\n",
      "[CV 5/5] END criterion=log_loss, max_depth=30, max_features=sqrt, max_leaf_nodes=1000, min_samples_split=4, splitter=random;, score=0.627 total time=   0.0s\n",
      "[CV 1/5] END criterion=log_loss, max_depth=30, max_features=sqrt, max_leaf_nodes=1000, min_samples_split=6, splitter=best;, score=0.635 total time=   0.0s\n"
     ]
    },
    {
     "name": "stdout",
     "output_type": "stream",
     "text": [
      "[CV 2/5] END criterion=log_loss, max_depth=30, max_features=sqrt, max_leaf_nodes=1000, min_samples_split=6, splitter=best;, score=0.672 total time=   0.0s\n",
      "[CV 3/5] END criterion=log_loss, max_depth=30, max_features=sqrt, max_leaf_nodes=1000, min_samples_split=6, splitter=best;, score=0.661 total time=   0.0s\n",
      "[CV 4/5] END criterion=log_loss, max_depth=30, max_features=sqrt, max_leaf_nodes=1000, min_samples_split=6, splitter=best;, score=0.649 total time=   0.0s\n",
      "[CV 5/5] END criterion=log_loss, max_depth=30, max_features=sqrt, max_leaf_nodes=1000, min_samples_split=6, splitter=best;, score=0.653 total time=   0.0s\n",
      "[CV 1/5] END criterion=log_loss, max_depth=30, max_features=sqrt, max_leaf_nodes=1000, min_samples_split=6, splitter=random;, score=0.614 total time=   0.0s\n",
      "[CV 2/5] END criterion=log_loss, max_depth=30, max_features=sqrt, max_leaf_nodes=1000, min_samples_split=6, splitter=random;, score=0.646 total time=   0.0s\n",
      "[CV 3/5] END criterion=log_loss, max_depth=30, max_features=sqrt, max_leaf_nodes=1000, min_samples_split=6, splitter=random;, score=0.629 total time=   0.0s\n",
      "[CV 4/5] END criterion=log_loss, max_depth=30, max_features=sqrt, max_leaf_nodes=1000, min_samples_split=6, splitter=random;, score=0.608 total time=   0.0s\n",
      "[CV 5/5] END criterion=log_loss, max_depth=30, max_features=sqrt, max_leaf_nodes=1000, min_samples_split=6, splitter=random;, score=0.635 total time=   0.0s\n",
      "[CV 1/5] END criterion=log_loss, max_depth=30, max_features=sqrt, max_leaf_nodes=1000, min_samples_split=8, splitter=best;, score=0.634 total time=   0.0s\n",
      "[CV 2/5] END criterion=log_loss, max_depth=30, max_features=sqrt, max_leaf_nodes=1000, min_samples_split=8, splitter=best;, score=0.668 total time=   0.0s\n",
      "[CV 3/5] END criterion=log_loss, max_depth=30, max_features=sqrt, max_leaf_nodes=1000, min_samples_split=8, splitter=best;, score=0.643 total time=   0.0s\n",
      "[CV 4/5] END criterion=log_loss, max_depth=30, max_features=sqrt, max_leaf_nodes=1000, min_samples_split=8, splitter=best;, score=0.642 total time=   0.0s\n",
      "[CV 5/5] END criterion=log_loss, max_depth=30, max_features=sqrt, max_leaf_nodes=1000, min_samples_split=8, splitter=best;, score=0.639 total time=   0.0s\n",
      "[CV 1/5] END criterion=log_loss, max_depth=30, max_features=sqrt, max_leaf_nodes=1000, min_samples_split=8, splitter=random;, score=0.595 total time=   0.0s\n",
      "[CV 2/5] END criterion=log_loss, max_depth=30, max_features=sqrt, max_leaf_nodes=1000, min_samples_split=8, splitter=random;, score=0.615 total time=   0.0s\n",
      "[CV 3/5] END criterion=log_loss, max_depth=30, max_features=sqrt, max_leaf_nodes=1000, min_samples_split=8, splitter=random;, score=0.628 total time=   0.0s\n",
      "[CV 4/5] END criterion=log_loss, max_depth=30, max_features=sqrt, max_leaf_nodes=1000, min_samples_split=8, splitter=random;, score=0.603 total time=   0.0s\n",
      "[CV 5/5] END criterion=log_loss, max_depth=30, max_features=sqrt, max_leaf_nodes=1000, min_samples_split=8, splitter=random;, score=0.618 total time=   0.0s\n",
      "[CV 1/5] END criterion=log_loss, max_depth=30, max_features=sqrt, max_leaf_nodes=1100, min_samples_split=4, splitter=best;, score=0.669 total time=   0.0s\n",
      "[CV 2/5] END criterion=log_loss, max_depth=30, max_features=sqrt, max_leaf_nodes=1100, min_samples_split=4, splitter=best;, score=0.658 total time=   0.0s\n",
      "[CV 3/5] END criterion=log_loss, max_depth=30, max_features=sqrt, max_leaf_nodes=1100, min_samples_split=4, splitter=best;, score=0.652 total time=   0.0s\n",
      "[CV 4/5] END criterion=log_loss, max_depth=30, max_features=sqrt, max_leaf_nodes=1100, min_samples_split=4, splitter=best;, score=0.649 total time=   0.0s\n",
      "[CV 5/5] END criterion=log_loss, max_depth=30, max_features=sqrt, max_leaf_nodes=1100, min_samples_split=4, splitter=best;, score=0.641 total time=   0.0s\n",
      "[CV 1/5] END criterion=log_loss, max_depth=30, max_features=sqrt, max_leaf_nodes=1100, min_samples_split=4, splitter=random;, score=0.630 total time=   0.0s\n",
      "[CV 2/5] END criterion=log_loss, max_depth=30, max_features=sqrt, max_leaf_nodes=1100, min_samples_split=4, splitter=random;, score=0.642 total time=   0.0s\n",
      "[CV 3/5] END criterion=log_loss, max_depth=30, max_features=sqrt, max_leaf_nodes=1100, min_samples_split=4, splitter=random;, score=0.630 total time=   0.0s\n",
      "[CV 4/5] END criterion=log_loss, max_depth=30, max_features=sqrt, max_leaf_nodes=1100, min_samples_split=4, splitter=random;, score=0.612 total time=   0.0s\n",
      "[CV 5/5] END criterion=log_loss, max_depth=30, max_features=sqrt, max_leaf_nodes=1100, min_samples_split=4, splitter=random;, score=0.621 total time=   0.0s\n",
      "[CV 1/5] END criterion=log_loss, max_depth=30, max_features=sqrt, max_leaf_nodes=1100, min_samples_split=6, splitter=best;, score=0.648 total time=   0.0s\n",
      "[CV 2/5] END criterion=log_loss, max_depth=30, max_features=sqrt, max_leaf_nodes=1100, min_samples_split=6, splitter=best;, score=0.668 total time=   0.0s\n",
      "[CV 3/5] END criterion=log_loss, max_depth=30, max_features=sqrt, max_leaf_nodes=1100, min_samples_split=6, splitter=best;, score=0.636 total time=   0.0s\n",
      "[CV 4/5] END criterion=log_loss, max_depth=30, max_features=sqrt, max_leaf_nodes=1100, min_samples_split=6, splitter=best;, score=0.676 total time=   0.0s\n",
      "[CV 5/5] END criterion=log_loss, max_depth=30, max_features=sqrt, max_leaf_nodes=1100, min_samples_split=6, splitter=best;, score=0.639 total time=   0.0s\n",
      "[CV 1/5] END criterion=log_loss, max_depth=30, max_features=sqrt, max_leaf_nodes=1100, min_samples_split=6, splitter=random;, score=0.627 total time=   0.0s\n",
      "[CV 2/5] END criterion=log_loss, max_depth=30, max_features=sqrt, max_leaf_nodes=1100, min_samples_split=6, splitter=random;, score=0.632 total time=   0.0s\n",
      "[CV 3/5] END criterion=log_loss, max_depth=30, max_features=sqrt, max_leaf_nodes=1100, min_samples_split=6, splitter=random;, score=0.634 total time=   0.0s\n",
      "[CV 4/5] END criterion=log_loss, max_depth=30, max_features=sqrt, max_leaf_nodes=1100, min_samples_split=6, splitter=random;, score=0.604 total time=   0.0s\n",
      "[CV 5/5] END criterion=log_loss, max_depth=30, max_features=sqrt, max_leaf_nodes=1100, min_samples_split=6, splitter=random;, score=0.626 total time=   0.0s\n",
      "[CV 1/5] END criterion=log_loss, max_depth=30, max_features=sqrt, max_leaf_nodes=1100, min_samples_split=8, splitter=best;, score=0.641 total time=   0.0s\n",
      "[CV 2/5] END criterion=log_loss, max_depth=30, max_features=sqrt, max_leaf_nodes=1100, min_samples_split=8, splitter=best;, score=0.661 total time=   0.0s\n",
      "[CV 3/5] END criterion=log_loss, max_depth=30, max_features=sqrt, max_leaf_nodes=1100, min_samples_split=8, splitter=best;, score=0.650 total time=   0.0s\n",
      "[CV 4/5] END criterion=log_loss, max_depth=30, max_features=sqrt, max_leaf_nodes=1100, min_samples_split=8, splitter=best;, score=0.647 total time=   0.0s\n",
      "[CV 5/5] END criterion=log_loss, max_depth=30, max_features=sqrt, max_leaf_nodes=1100, min_samples_split=8, splitter=best;, score=0.643 total time=   0.0s\n",
      "[CV 1/5] END criterion=log_loss, max_depth=30, max_features=sqrt, max_leaf_nodes=1100, min_samples_split=8, splitter=random;, score=0.615 total time=   0.0s\n",
      "[CV 2/5] END criterion=log_loss, max_depth=30, max_features=sqrt, max_leaf_nodes=1100, min_samples_split=8, splitter=random;, score=0.620 total time=   0.0s\n",
      "[CV 3/5] END criterion=log_loss, max_depth=30, max_features=sqrt, max_leaf_nodes=1100, min_samples_split=8, splitter=random;, score=0.583 total time=   0.0s\n",
      "[CV 4/5] END criterion=log_loss, max_depth=30, max_features=sqrt, max_leaf_nodes=1100, min_samples_split=8, splitter=random;, score=0.611 total time=   0.0s\n",
      "[CV 5/5] END criterion=log_loss, max_depth=30, max_features=sqrt, max_leaf_nodes=1100, min_samples_split=8, splitter=random;, score=0.618 total time=   0.0s\n",
      "[CV 1/5] END criterion=log_loss, max_depth=30, max_features=log2, max_leaf_nodes=900, min_samples_split=4, splitter=best;, score=0.635 total time=   0.0s\n",
      "[CV 2/5] END criterion=log_loss, max_depth=30, max_features=log2, max_leaf_nodes=900, min_samples_split=4, splitter=best;, score=0.669 total time=   0.0s\n",
      "[CV 3/5] END criterion=log_loss, max_depth=30, max_features=log2, max_leaf_nodes=900, min_samples_split=4, splitter=best;, score=0.634 total time=   0.0s\n",
      "[CV 4/5] END criterion=log_loss, max_depth=30, max_features=log2, max_leaf_nodes=900, min_samples_split=4, splitter=best;, score=0.658 total time=   0.0s\n",
      "[CV 5/5] END criterion=log_loss, max_depth=30, max_features=log2, max_leaf_nodes=900, min_samples_split=4, splitter=best;, score=0.668 total time=   0.0s\n",
      "[CV 1/5] END criterion=log_loss, max_depth=30, max_features=log2, max_leaf_nodes=900, min_samples_split=4, splitter=random;, score=0.628 total time=   0.0s\n",
      "[CV 2/5] END criterion=log_loss, max_depth=30, max_features=log2, max_leaf_nodes=900, min_samples_split=4, splitter=random;, score=0.643 total time=   0.0s\n",
      "[CV 3/5] END criterion=log_loss, max_depth=30, max_features=log2, max_leaf_nodes=900, min_samples_split=4, splitter=random;, score=0.627 total time=   0.0s\n",
      "[CV 4/5] END criterion=log_loss, max_depth=30, max_features=log2, max_leaf_nodes=900, min_samples_split=4, splitter=random;, score=0.618 total time=   0.0s\n",
      "[CV 5/5] END criterion=log_loss, max_depth=30, max_features=log2, max_leaf_nodes=900, min_samples_split=4, splitter=random;, score=0.614 total time=   0.0s\n",
      "[CV 1/5] END criterion=log_loss, max_depth=30, max_features=log2, max_leaf_nodes=900, min_samples_split=6, splitter=best;, score=0.646 total time=   0.0s\n",
      "[CV 2/5] END criterion=log_loss, max_depth=30, max_features=log2, max_leaf_nodes=900, min_samples_split=6, splitter=best;, score=0.685 total time=   0.0s\n",
      "[CV 3/5] END criterion=log_loss, max_depth=30, max_features=log2, max_leaf_nodes=900, min_samples_split=6, splitter=best;, score=0.665 total time=   0.0s\n",
      "[CV 4/5] END criterion=log_loss, max_depth=30, max_features=log2, max_leaf_nodes=900, min_samples_split=6, splitter=best;, score=0.650 total time=   0.0s\n"
     ]
    },
    {
     "name": "stdout",
     "output_type": "stream",
     "text": [
      "[CV 5/5] END criterion=log_loss, max_depth=30, max_features=log2, max_leaf_nodes=900, min_samples_split=6, splitter=best;, score=0.632 total time=   0.0s\n",
      "[CV 1/5] END criterion=log_loss, max_depth=30, max_features=log2, max_leaf_nodes=900, min_samples_split=6, splitter=random;, score=0.614 total time=   0.0s\n",
      "[CV 2/5] END criterion=log_loss, max_depth=30, max_features=log2, max_leaf_nodes=900, min_samples_split=6, splitter=random;, score=0.613 total time=   0.0s\n",
      "[CV 3/5] END criterion=log_loss, max_depth=30, max_features=log2, max_leaf_nodes=900, min_samples_split=6, splitter=random;, score=0.612 total time=   0.0s\n",
      "[CV 4/5] END criterion=log_loss, max_depth=30, max_features=log2, max_leaf_nodes=900, min_samples_split=6, splitter=random;, score=0.622 total time=   0.0s\n",
      "[CV 5/5] END criterion=log_loss, max_depth=30, max_features=log2, max_leaf_nodes=900, min_samples_split=6, splitter=random;, score=0.624 total time=   0.0s\n",
      "[CV 1/5] END criterion=log_loss, max_depth=30, max_features=log2, max_leaf_nodes=900, min_samples_split=8, splitter=best;, score=0.638 total time=   0.0s\n",
      "[CV 2/5] END criterion=log_loss, max_depth=30, max_features=log2, max_leaf_nodes=900, min_samples_split=8, splitter=best;, score=0.686 total time=   0.0s\n",
      "[CV 3/5] END criterion=log_loss, max_depth=30, max_features=log2, max_leaf_nodes=900, min_samples_split=8, splitter=best;, score=0.639 total time=   0.0s\n",
      "[CV 4/5] END criterion=log_loss, max_depth=30, max_features=log2, max_leaf_nodes=900, min_samples_split=8, splitter=best;, score=0.655 total time=   0.0s\n",
      "[CV 5/5] END criterion=log_loss, max_depth=30, max_features=log2, max_leaf_nodes=900, min_samples_split=8, splitter=best;, score=0.631 total time=   0.0s\n",
      "[CV 1/5] END criterion=log_loss, max_depth=30, max_features=log2, max_leaf_nodes=900, min_samples_split=8, splitter=random;, score=0.613 total time=   0.0s\n",
      "[CV 2/5] END criterion=log_loss, max_depth=30, max_features=log2, max_leaf_nodes=900, min_samples_split=8, splitter=random;, score=0.654 total time=   0.0s\n",
      "[CV 3/5] END criterion=log_loss, max_depth=30, max_features=log2, max_leaf_nodes=900, min_samples_split=8, splitter=random;, score=0.605 total time=   0.0s\n",
      "[CV 4/5] END criterion=log_loss, max_depth=30, max_features=log2, max_leaf_nodes=900, min_samples_split=8, splitter=random;, score=0.592 total time=   0.0s\n",
      "[CV 5/5] END criterion=log_loss, max_depth=30, max_features=log2, max_leaf_nodes=900, min_samples_split=8, splitter=random;, score=0.618 total time=   0.0s\n",
      "[CV 1/5] END criterion=log_loss, max_depth=30, max_features=log2, max_leaf_nodes=1000, min_samples_split=4, splitter=best;, score=0.676 total time=   0.0s\n",
      "[CV 2/5] END criterion=log_loss, max_depth=30, max_features=log2, max_leaf_nodes=1000, min_samples_split=4, splitter=best;, score=0.657 total time=   0.0s\n",
      "[CV 3/5] END criterion=log_loss, max_depth=30, max_features=log2, max_leaf_nodes=1000, min_samples_split=4, splitter=best;, score=0.656 total time=   0.0s\n",
      "[CV 4/5] END criterion=log_loss, max_depth=30, max_features=log2, max_leaf_nodes=1000, min_samples_split=4, splitter=best;, score=0.647 total time=   0.0s\n",
      "[CV 5/5] END criterion=log_loss, max_depth=30, max_features=log2, max_leaf_nodes=1000, min_samples_split=4, splitter=best;, score=0.647 total time=   0.0s\n",
      "[CV 1/5] END criterion=log_loss, max_depth=30, max_features=log2, max_leaf_nodes=1000, min_samples_split=4, splitter=random;, score=0.644 total time=   0.0s\n",
      "[CV 2/5] END criterion=log_loss, max_depth=30, max_features=log2, max_leaf_nodes=1000, min_samples_split=4, splitter=random;, score=0.650 total time=   0.0s\n",
      "[CV 3/5] END criterion=log_loss, max_depth=30, max_features=log2, max_leaf_nodes=1000, min_samples_split=4, splitter=random;, score=0.637 total time=   0.0s\n",
      "[CV 4/5] END criterion=log_loss, max_depth=30, max_features=log2, max_leaf_nodes=1000, min_samples_split=4, splitter=random;, score=0.628 total time=   0.0s\n",
      "[CV 5/5] END criterion=log_loss, max_depth=30, max_features=log2, max_leaf_nodes=1000, min_samples_split=4, splitter=random;, score=0.643 total time=   0.0s\n",
      "[CV 1/5] END criterion=log_loss, max_depth=30, max_features=log2, max_leaf_nodes=1000, min_samples_split=6, splitter=best;, score=0.653 total time=   0.0s\n",
      "[CV 2/5] END criterion=log_loss, max_depth=30, max_features=log2, max_leaf_nodes=1000, min_samples_split=6, splitter=best;, score=0.684 total time=   0.0s\n",
      "[CV 3/5] END criterion=log_loss, max_depth=30, max_features=log2, max_leaf_nodes=1000, min_samples_split=6, splitter=best;, score=0.645 total time=   0.0s\n",
      "[CV 4/5] END criterion=log_loss, max_depth=30, max_features=log2, max_leaf_nodes=1000, min_samples_split=6, splitter=best;, score=0.654 total time=   0.0s\n",
      "[CV 5/5] END criterion=log_loss, max_depth=30, max_features=log2, max_leaf_nodes=1000, min_samples_split=6, splitter=best;, score=0.630 total time=   0.0s\n",
      "[CV 1/5] END criterion=log_loss, max_depth=30, max_features=log2, max_leaf_nodes=1000, min_samples_split=6, splitter=random;, score=0.621 total time=   0.0s\n",
      "[CV 2/5] END criterion=log_loss, max_depth=30, max_features=log2, max_leaf_nodes=1000, min_samples_split=6, splitter=random;, score=0.661 total time=   0.0s\n",
      "[CV 3/5] END criterion=log_loss, max_depth=30, max_features=log2, max_leaf_nodes=1000, min_samples_split=6, splitter=random;, score=0.650 total time=   0.0s\n",
      "[CV 4/5] END criterion=log_loss, max_depth=30, max_features=log2, max_leaf_nodes=1000, min_samples_split=6, splitter=random;, score=0.632 total time=   0.0s\n",
      "[CV 5/5] END criterion=log_loss, max_depth=30, max_features=log2, max_leaf_nodes=1000, min_samples_split=6, splitter=random;, score=0.604 total time=   0.0s\n",
      "[CV 1/5] END criterion=log_loss, max_depth=30, max_features=log2, max_leaf_nodes=1000, min_samples_split=8, splitter=best;, score=0.641 total time=   0.0s\n",
      "[CV 2/5] END criterion=log_loss, max_depth=30, max_features=log2, max_leaf_nodes=1000, min_samples_split=8, splitter=best;, score=0.664 total time=   0.0s\n",
      "[CV 3/5] END criterion=log_loss, max_depth=30, max_features=log2, max_leaf_nodes=1000, min_samples_split=8, splitter=best;, score=0.640 total time=   0.0s\n",
      "[CV 4/5] END criterion=log_loss, max_depth=30, max_features=log2, max_leaf_nodes=1000, min_samples_split=8, splitter=best;, score=0.643 total time=   0.0s\n",
      "[CV 5/5] END criterion=log_loss, max_depth=30, max_features=log2, max_leaf_nodes=1000, min_samples_split=8, splitter=best;, score=0.633 total time=   0.0s\n",
      "[CV 1/5] END criterion=log_loss, max_depth=30, max_features=log2, max_leaf_nodes=1000, min_samples_split=8, splitter=random;, score=0.592 total time=   0.0s\n",
      "[CV 2/5] END criterion=log_loss, max_depth=30, max_features=log2, max_leaf_nodes=1000, min_samples_split=8, splitter=random;, score=0.629 total time=   0.0s\n",
      "[CV 3/5] END criterion=log_loss, max_depth=30, max_features=log2, max_leaf_nodes=1000, min_samples_split=8, splitter=random;, score=0.605 total time=   0.0s\n",
      "[CV 4/5] END criterion=log_loss, max_depth=30, max_features=log2, max_leaf_nodes=1000, min_samples_split=8, splitter=random;, score=0.607 total time=   0.0s\n",
      "[CV 5/5] END criterion=log_loss, max_depth=30, max_features=log2, max_leaf_nodes=1000, min_samples_split=8, splitter=random;, score=0.620 total time=   0.0s\n",
      "[CV 1/5] END criterion=log_loss, max_depth=30, max_features=log2, max_leaf_nodes=1100, min_samples_split=4, splitter=best;, score=0.655 total time=   0.0s\n",
      "[CV 2/5] END criterion=log_loss, max_depth=30, max_features=log2, max_leaf_nodes=1100, min_samples_split=4, splitter=best;, score=0.668 total time=   0.0s\n",
      "[CV 3/5] END criterion=log_loss, max_depth=30, max_features=log2, max_leaf_nodes=1100, min_samples_split=4, splitter=best;, score=0.670 total time=   0.0s\n",
      "[CV 4/5] END criterion=log_loss, max_depth=30, max_features=log2, max_leaf_nodes=1100, min_samples_split=4, splitter=best;, score=0.645 total time=   0.0s\n",
      "[CV 5/5] END criterion=log_loss, max_depth=30, max_features=log2, max_leaf_nodes=1100, min_samples_split=4, splitter=best;, score=0.646 total time=   0.0s\n",
      "[CV 1/5] END criterion=log_loss, max_depth=30, max_features=log2, max_leaf_nodes=1100, min_samples_split=4, splitter=random;, score=0.634 total time=   0.0s\n",
      "[CV 2/5] END criterion=log_loss, max_depth=30, max_features=log2, max_leaf_nodes=1100, min_samples_split=4, splitter=random;, score=0.653 total time=   0.0s\n",
      "[CV 3/5] END criterion=log_loss, max_depth=30, max_features=log2, max_leaf_nodes=1100, min_samples_split=4, splitter=random;, score=0.640 total time=   0.0s\n",
      "[CV 4/5] END criterion=log_loss, max_depth=30, max_features=log2, max_leaf_nodes=1100, min_samples_split=4, splitter=random;, score=0.630 total time=   0.0s\n",
      "[CV 5/5] END criterion=log_loss, max_depth=30, max_features=log2, max_leaf_nodes=1100, min_samples_split=4, splitter=random;, score=0.615 total time=   0.0s\n",
      "[CV 1/5] END criterion=log_loss, max_depth=30, max_features=log2, max_leaf_nodes=1100, min_samples_split=6, splitter=best;, score=0.648 total time=   0.0s\n",
      "[CV 2/5] END criterion=log_loss, max_depth=30, max_features=log2, max_leaf_nodes=1100, min_samples_split=6, splitter=best;, score=0.673 total time=   0.0s\n",
      "[CV 3/5] END criterion=log_loss, max_depth=30, max_features=log2, max_leaf_nodes=1100, min_samples_split=6, splitter=best;, score=0.633 total time=   0.0s\n",
      "[CV 4/5] END criterion=log_loss, max_depth=30, max_features=log2, max_leaf_nodes=1100, min_samples_split=6, splitter=best;, score=0.638 total time=   0.0s\n",
      "[CV 5/5] END criterion=log_loss, max_depth=30, max_features=log2, max_leaf_nodes=1100, min_samples_split=6, splitter=best;, score=0.640 total time=   0.0s\n",
      "[CV 1/5] END criterion=log_loss, max_depth=30, max_features=log2, max_leaf_nodes=1100, min_samples_split=6, splitter=random;, score=0.655 total time=   0.0s\n",
      "[CV 2/5] END criterion=log_loss, max_depth=30, max_features=log2, max_leaf_nodes=1100, min_samples_split=6, splitter=random;, score=0.633 total time=   0.0s\n",
      "[CV 3/5] END criterion=log_loss, max_depth=30, max_features=log2, max_leaf_nodes=1100, min_samples_split=6, splitter=random;, score=0.614 total time=   0.0s\n",
      "[CV 4/5] END criterion=log_loss, max_depth=30, max_features=log2, max_leaf_nodes=1100, min_samples_split=6, splitter=random;, score=0.600 total time=   0.0s\n",
      "[CV 5/5] END criterion=log_loss, max_depth=30, max_features=log2, max_leaf_nodes=1100, min_samples_split=6, splitter=random;, score=0.616 total time=   0.0s\n",
      "[CV 1/5] END criterion=log_loss, max_depth=30, max_features=log2, max_leaf_nodes=1100, min_samples_split=8, splitter=best;, score=0.659 total time=   0.0s\n"
     ]
    },
    {
     "name": "stdout",
     "output_type": "stream",
     "text": [
      "[CV 2/5] END criterion=log_loss, max_depth=30, max_features=log2, max_leaf_nodes=1100, min_samples_split=8, splitter=best;, score=0.646 total time=   0.0s\n",
      "[CV 3/5] END criterion=log_loss, max_depth=30, max_features=log2, max_leaf_nodes=1100, min_samples_split=8, splitter=best;, score=0.638 total time=   0.0s\n",
      "[CV 4/5] END criterion=log_loss, max_depth=30, max_features=log2, max_leaf_nodes=1100, min_samples_split=8, splitter=best;, score=0.652 total time=   0.0s\n",
      "[CV 5/5] END criterion=log_loss, max_depth=30, max_features=log2, max_leaf_nodes=1100, min_samples_split=8, splitter=best;, score=0.628 total time=   0.0s\n",
      "[CV 1/5] END criterion=log_loss, max_depth=30, max_features=log2, max_leaf_nodes=1100, min_samples_split=8, splitter=random;, score=0.611 total time=   0.0s\n",
      "[CV 2/5] END criterion=log_loss, max_depth=30, max_features=log2, max_leaf_nodes=1100, min_samples_split=8, splitter=random;, score=0.624 total time=   0.0s\n",
      "[CV 3/5] END criterion=log_loss, max_depth=30, max_features=log2, max_leaf_nodes=1100, min_samples_split=8, splitter=random;, score=0.613 total time=   0.0s\n",
      "[CV 4/5] END criterion=log_loss, max_depth=30, max_features=log2, max_leaf_nodes=1100, min_samples_split=8, splitter=random;, score=0.621 total time=   0.0s\n",
      "[CV 5/5] END criterion=log_loss, max_depth=30, max_features=log2, max_leaf_nodes=1100, min_samples_split=8, splitter=random;, score=0.617 total time=   0.0s\n"
     ]
    },
    {
     "data": {
      "text/html": [
       "<style>#sk-container-id-4 {color: black;background-color: white;}#sk-container-id-4 pre{padding: 0;}#sk-container-id-4 div.sk-toggleable {background-color: white;}#sk-container-id-4 label.sk-toggleable__label {cursor: pointer;display: block;width: 100%;margin-bottom: 0;padding: 0.3em;box-sizing: border-box;text-align: center;}#sk-container-id-4 label.sk-toggleable__label-arrow:before {content: \"▸\";float: left;margin-right: 0.25em;color: #696969;}#sk-container-id-4 label.sk-toggleable__label-arrow:hover:before {color: black;}#sk-container-id-4 div.sk-estimator:hover label.sk-toggleable__label-arrow:before {color: black;}#sk-container-id-4 div.sk-toggleable__content {max-height: 0;max-width: 0;overflow: hidden;text-align: left;background-color: #f0f8ff;}#sk-container-id-4 div.sk-toggleable__content pre {margin: 0.2em;color: black;border-radius: 0.25em;background-color: #f0f8ff;}#sk-container-id-4 input.sk-toggleable__control:checked~div.sk-toggleable__content {max-height: 200px;max-width: 100%;overflow: auto;}#sk-container-id-4 input.sk-toggleable__control:checked~label.sk-toggleable__label-arrow:before {content: \"▾\";}#sk-container-id-4 div.sk-estimator input.sk-toggleable__control:checked~label.sk-toggleable__label {background-color: #d4ebff;}#sk-container-id-4 div.sk-label input.sk-toggleable__control:checked~label.sk-toggleable__label {background-color: #d4ebff;}#sk-container-id-4 input.sk-hidden--visually {border: 0;clip: rect(1px 1px 1px 1px);clip: rect(1px, 1px, 1px, 1px);height: 1px;margin: -1px;overflow: hidden;padding: 0;position: absolute;width: 1px;}#sk-container-id-4 div.sk-estimator {font-family: monospace;background-color: #f0f8ff;border: 1px dotted black;border-radius: 0.25em;box-sizing: border-box;margin-bottom: 0.5em;}#sk-container-id-4 div.sk-estimator:hover {background-color: #d4ebff;}#sk-container-id-4 div.sk-parallel-item::after {content: \"\";width: 100%;border-bottom: 1px solid gray;flex-grow: 1;}#sk-container-id-4 div.sk-label:hover label.sk-toggleable__label {background-color: #d4ebff;}#sk-container-id-4 div.sk-serial::before {content: \"\";position: absolute;border-left: 1px solid gray;box-sizing: border-box;top: 0;bottom: 0;left: 50%;z-index: 0;}#sk-container-id-4 div.sk-serial {display: flex;flex-direction: column;align-items: center;background-color: white;padding-right: 0.2em;padding-left: 0.2em;position: relative;}#sk-container-id-4 div.sk-item {position: relative;z-index: 1;}#sk-container-id-4 div.sk-parallel {display: flex;align-items: stretch;justify-content: center;background-color: white;position: relative;}#sk-container-id-4 div.sk-item::before, #sk-container-id-4 div.sk-parallel-item::before {content: \"\";position: absolute;border-left: 1px solid gray;box-sizing: border-box;top: 0;bottom: 0;left: 50%;z-index: -1;}#sk-container-id-4 div.sk-parallel-item {display: flex;flex-direction: column;z-index: 1;position: relative;background-color: white;}#sk-container-id-4 div.sk-parallel-item:first-child::after {align-self: flex-end;width: 50%;}#sk-container-id-4 div.sk-parallel-item:last-child::after {align-self: flex-start;width: 50%;}#sk-container-id-4 div.sk-parallel-item:only-child::after {width: 0;}#sk-container-id-4 div.sk-dashed-wrapped {border: 1px dashed gray;margin: 0 0.4em 0.5em 0.4em;box-sizing: border-box;padding-bottom: 0.4em;background-color: white;}#sk-container-id-4 div.sk-label label {font-family: monospace;font-weight: bold;display: inline-block;line-height: 1.2em;}#sk-container-id-4 div.sk-label-container {text-align: center;}#sk-container-id-4 div.sk-container {/* jupyter's `normalize.less` sets `[hidden] { display: none; }` but bootstrap.min.css set `[hidden] { display: none !important; }` so we also need the `!important` here to be able to override the default hidden behavior on the sphinx rendered scikit-learn.org. See: https://github.com/scikit-learn/scikit-learn/issues/21755 */display: inline-block !important;position: relative;}#sk-container-id-4 div.sk-text-repr-fallback {display: none;}</style><div id=\"sk-container-id-4\" class=\"sk-top-container\"><div class=\"sk-text-repr-fallback\"><pre>GridSearchCV(estimator=DecisionTreeClassifier(),\n",
       "             param_grid={&#x27;criterion&#x27;: [&#x27;gini&#x27;, &#x27;entropy&#x27;, &#x27;log_loss&#x27;],\n",
       "                         &#x27;max_depth&#x27;: [10, 20, 30],\n",
       "                         &#x27;max_features&#x27;: [&#x27;sqrt&#x27;, &#x27;log2&#x27;],\n",
       "                         &#x27;max_leaf_nodes&#x27;: [900, 1000, 1100],\n",
       "                         &#x27;min_samples_split&#x27;: [4, 6, 8],\n",
       "                         &#x27;splitter&#x27;: [&#x27;best&#x27;, &#x27;random&#x27;]},\n",
       "             verbose=3)</pre><b>In a Jupyter environment, please rerun this cell to show the HTML representation or trust the notebook. <br />On GitHub, the HTML representation is unable to render, please try loading this page with nbviewer.org.</b></div><div class=\"sk-container\" hidden><div class=\"sk-item sk-dashed-wrapped\"><div class=\"sk-label-container\"><div class=\"sk-label sk-toggleable\"><input class=\"sk-toggleable__control sk-hidden--visually\" id=\"sk-estimator-id-6\" type=\"checkbox\" ><label for=\"sk-estimator-id-6\" class=\"sk-toggleable__label sk-toggleable__label-arrow\">GridSearchCV</label><div class=\"sk-toggleable__content\"><pre>GridSearchCV(estimator=DecisionTreeClassifier(),\n",
       "             param_grid={&#x27;criterion&#x27;: [&#x27;gini&#x27;, &#x27;entropy&#x27;, &#x27;log_loss&#x27;],\n",
       "                         &#x27;max_depth&#x27;: [10, 20, 30],\n",
       "                         &#x27;max_features&#x27;: [&#x27;sqrt&#x27;, &#x27;log2&#x27;],\n",
       "                         &#x27;max_leaf_nodes&#x27;: [900, 1000, 1100],\n",
       "                         &#x27;min_samples_split&#x27;: [4, 6, 8],\n",
       "                         &#x27;splitter&#x27;: [&#x27;best&#x27;, &#x27;random&#x27;]},\n",
       "             verbose=3)</pre></div></div></div><div class=\"sk-parallel\"><div class=\"sk-parallel-item\"><div class=\"sk-item\"><div class=\"sk-label-container\"><div class=\"sk-label sk-toggleable\"><input class=\"sk-toggleable__control sk-hidden--visually\" id=\"sk-estimator-id-7\" type=\"checkbox\" ><label for=\"sk-estimator-id-7\" class=\"sk-toggleable__label sk-toggleable__label-arrow\">estimator: DecisionTreeClassifier</label><div class=\"sk-toggleable__content\"><pre>DecisionTreeClassifier()</pre></div></div></div><div class=\"sk-serial\"><div class=\"sk-item\"><div class=\"sk-estimator sk-toggleable\"><input class=\"sk-toggleable__control sk-hidden--visually\" id=\"sk-estimator-id-8\" type=\"checkbox\" ><label for=\"sk-estimator-id-8\" class=\"sk-toggleable__label sk-toggleable__label-arrow\">DecisionTreeClassifier</label><div class=\"sk-toggleable__content\"><pre>DecisionTreeClassifier()</pre></div></div></div></div></div></div></div></div></div></div>"
      ],
      "text/plain": [
       "GridSearchCV(estimator=DecisionTreeClassifier(),\n",
       "             param_grid={'criterion': ['gini', 'entropy', 'log_loss'],\n",
       "                         'max_depth': [10, 20, 30],\n",
       "                         'max_features': ['sqrt', 'log2'],\n",
       "                         'max_leaf_nodes': [900, 1000, 1100],\n",
       "                         'min_samples_split': [4, 6, 8],\n",
       "                         'splitter': ['best', 'random']},\n",
       "             verbose=3)"
      ]
     },
     "execution_count": 31,
     "metadata": {},
     "output_type": "execute_result"
    }
   ],
   "source": [
    "param_grid_dtc = { \n",
    "                  'criterion': ['gini', 'entropy', 'log_loss'], \n",
    "                  'splitter': ['best','random'],\n",
    "                  'max_features': ['sqrt', 'log2'],\n",
    "                  'max_depth': [10,20, 30], \n",
    "                  'max_leaf_nodes': [900,1000,1100],\n",
    "                  'min_samples_split': [4,6,8], \n",
    "                    } \n",
    "\n",
    "grid_dtc = GridSearchCV(\n",
    "                        DecisionTreeClassifier(),\n",
    "                        param_grid_dtc,\n",
    "                        refit=True,verbose=3\n",
    "                       )\n",
    "\n",
    "grid_dtc.fit(X_train,y_train)"
   ]
  },
  {
   "cell_type": "code",
   "execution_count": 32,
   "id": "782ba2b2",
   "metadata": {},
   "outputs": [
    {
     "name": "stdout",
     "output_type": "stream",
     "text": [
      "{'criterion': 'entropy', 'max_depth': 30, 'max_features': 'sqrt', 'max_leaf_nodes': 1100, 'min_samples_split': 4, 'splitter': 'best'}\n",
      "0.6696456231911097\n"
     ]
    }
   ],
   "source": [
    "print(grid_dtc.best_params_)\n",
    "print(grid_dtc.best_score_)"
   ]
  },
  {
   "cell_type": "markdown",
   "id": "13cb25ae",
   "metadata": {},
   "source": [
    "#### Model Fit"
   ]
  },
  {
   "cell_type": "code",
   "execution_count": 33,
   "id": "e994b684",
   "metadata": {},
   "outputs": [
    {
     "data": {
      "text/html": [
       "<style>#sk-container-id-5 {color: black;background-color: white;}#sk-container-id-5 pre{padding: 0;}#sk-container-id-5 div.sk-toggleable {background-color: white;}#sk-container-id-5 label.sk-toggleable__label {cursor: pointer;display: block;width: 100%;margin-bottom: 0;padding: 0.3em;box-sizing: border-box;text-align: center;}#sk-container-id-5 label.sk-toggleable__label-arrow:before {content: \"▸\";float: left;margin-right: 0.25em;color: #696969;}#sk-container-id-5 label.sk-toggleable__label-arrow:hover:before {color: black;}#sk-container-id-5 div.sk-estimator:hover label.sk-toggleable__label-arrow:before {color: black;}#sk-container-id-5 div.sk-toggleable__content {max-height: 0;max-width: 0;overflow: hidden;text-align: left;background-color: #f0f8ff;}#sk-container-id-5 div.sk-toggleable__content pre {margin: 0.2em;color: black;border-radius: 0.25em;background-color: #f0f8ff;}#sk-container-id-5 input.sk-toggleable__control:checked~div.sk-toggleable__content {max-height: 200px;max-width: 100%;overflow: auto;}#sk-container-id-5 input.sk-toggleable__control:checked~label.sk-toggleable__label-arrow:before {content: \"▾\";}#sk-container-id-5 div.sk-estimator input.sk-toggleable__control:checked~label.sk-toggleable__label {background-color: #d4ebff;}#sk-container-id-5 div.sk-label input.sk-toggleable__control:checked~label.sk-toggleable__label {background-color: #d4ebff;}#sk-container-id-5 input.sk-hidden--visually {border: 0;clip: rect(1px 1px 1px 1px);clip: rect(1px, 1px, 1px, 1px);height: 1px;margin: -1px;overflow: hidden;padding: 0;position: absolute;width: 1px;}#sk-container-id-5 div.sk-estimator {font-family: monospace;background-color: #f0f8ff;border: 1px dotted black;border-radius: 0.25em;box-sizing: border-box;margin-bottom: 0.5em;}#sk-container-id-5 div.sk-estimator:hover {background-color: #d4ebff;}#sk-container-id-5 div.sk-parallel-item::after {content: \"\";width: 100%;border-bottom: 1px solid gray;flex-grow: 1;}#sk-container-id-5 div.sk-label:hover label.sk-toggleable__label {background-color: #d4ebff;}#sk-container-id-5 div.sk-serial::before {content: \"\";position: absolute;border-left: 1px solid gray;box-sizing: border-box;top: 0;bottom: 0;left: 50%;z-index: 0;}#sk-container-id-5 div.sk-serial {display: flex;flex-direction: column;align-items: center;background-color: white;padding-right: 0.2em;padding-left: 0.2em;position: relative;}#sk-container-id-5 div.sk-item {position: relative;z-index: 1;}#sk-container-id-5 div.sk-parallel {display: flex;align-items: stretch;justify-content: center;background-color: white;position: relative;}#sk-container-id-5 div.sk-item::before, #sk-container-id-5 div.sk-parallel-item::before {content: \"\";position: absolute;border-left: 1px solid gray;box-sizing: border-box;top: 0;bottom: 0;left: 50%;z-index: -1;}#sk-container-id-5 div.sk-parallel-item {display: flex;flex-direction: column;z-index: 1;position: relative;background-color: white;}#sk-container-id-5 div.sk-parallel-item:first-child::after {align-self: flex-end;width: 50%;}#sk-container-id-5 div.sk-parallel-item:last-child::after {align-self: flex-start;width: 50%;}#sk-container-id-5 div.sk-parallel-item:only-child::after {width: 0;}#sk-container-id-5 div.sk-dashed-wrapped {border: 1px dashed gray;margin: 0 0.4em 0.5em 0.4em;box-sizing: border-box;padding-bottom: 0.4em;background-color: white;}#sk-container-id-5 div.sk-label label {font-family: monospace;font-weight: bold;display: inline-block;line-height: 1.2em;}#sk-container-id-5 div.sk-label-container {text-align: center;}#sk-container-id-5 div.sk-container {/* jupyter's `normalize.less` sets `[hidden] { display: none; }` but bootstrap.min.css set `[hidden] { display: none !important; }` so we also need the `!important` here to be able to override the default hidden behavior on the sphinx rendered scikit-learn.org. See: https://github.com/scikit-learn/scikit-learn/issues/21755 */display: inline-block !important;position: relative;}#sk-container-id-5 div.sk-text-repr-fallback {display: none;}</style><div id=\"sk-container-id-5\" class=\"sk-top-container\"><div class=\"sk-text-repr-fallback\"><pre>DecisionTreeClassifier(criterion=&#x27;entropy&#x27;, max_depth=30, max_features=&#x27;sqrt&#x27;,\n",
       "                       max_leaf_nodes=1100, min_samples_split=4)</pre><b>In a Jupyter environment, please rerun this cell to show the HTML representation or trust the notebook. <br />On GitHub, the HTML representation is unable to render, please try loading this page with nbviewer.org.</b></div><div class=\"sk-container\" hidden><div class=\"sk-item\"><div class=\"sk-estimator sk-toggleable\"><input class=\"sk-toggleable__control sk-hidden--visually\" id=\"sk-estimator-id-9\" type=\"checkbox\" checked><label for=\"sk-estimator-id-9\" class=\"sk-toggleable__label sk-toggleable__label-arrow\">DecisionTreeClassifier</label><div class=\"sk-toggleable__content\"><pre>DecisionTreeClassifier(criterion=&#x27;entropy&#x27;, max_depth=30, max_features=&#x27;sqrt&#x27;,\n",
       "                       max_leaf_nodes=1100, min_samples_split=4)</pre></div></div></div></div></div>"
      ],
      "text/plain": [
       "DecisionTreeClassifier(criterion='entropy', max_depth=30, max_features='sqrt',\n",
       "                       max_leaf_nodes=1100, min_samples_split=4)"
      ]
     },
     "execution_count": 33,
     "metadata": {},
     "output_type": "execute_result"
    }
   ],
   "source": [
    "dtc = DecisionTreeClassifier( \n",
    "                             criterion =grid_dtc.best_params_['criterion'],\n",
    "                             splitter = grid_dtc.best_params_['splitter'],\n",
    "                             max_features =  grid_dtc.best_params_['max_features'],\n",
    "                             max_depth =  grid_dtc.best_params_['max_depth'], \n",
    "                             max_leaf_nodes = grid_dtc.best_params_['max_leaf_nodes'],\n",
    "                             min_samples_split = grid_dtc.best_params_['min_samples_split']\n",
    "    \n",
    "                            )\n",
    "\n",
    "dtc.fit(X_train,y_train)"
   ]
  },
  {
   "cell_type": "markdown",
   "id": "5abd1857",
   "metadata": {},
   "source": [
    "#### Confusion Matrix"
   ]
  },
  {
   "cell_type": "code",
   "execution_count": 34,
   "id": "661c2cbf",
   "metadata": {},
   "outputs": [
    {
     "data": {
      "image/png": "[encoded data removed]",
      "text/plain": [
       "<Figure size 640x480 with 2 Axes>"
      ]
     },
     "metadata": {},
     "output_type": "display_data"
    }
   ],
   "source": [
    "y_pred = dtc.predict(X_test)\n",
    "\n",
    "cm = confusion_matrix(y_test, y_pred)\n",
    "\n",
    "display = ConfusionMatrixDisplay(confusion_matrix=cm,\n",
    "                              display_labels=le.classes_)\n",
    "display.plot()\n",
    "plt.show()"
   ]
  },
  {
   "cell_type": "markdown",
   "id": "4ff098ec",
   "metadata": {},
   "source": [
    "#### Classfication Report"
   ]
  },
  {
   "cell_type": "code",
   "execution_count": 35,
   "id": "4d18b26b",
   "metadata": {},
   "outputs": [
    {
     "name": "stdout",
     "output_type": "stream",
     "text": [
      "              precision    recall  f1-score   support\n",
      "\n",
      "           0       0.74      0.77      0.75       677\n",
      "           1       0.69      0.68      0.68       726\n",
      "           2       0.55      0.54      0.55       724\n",
      "\n",
      "    accuracy                           0.66      2127\n",
      "   macro avg       0.66      0.66      0.66      2127\n",
      "weighted avg       0.66      0.66      0.66      2127\n",
      "\n"
     ]
    }
   ],
   "source": [
    "print(classification_report(y_test,y_pred))"
   ]
  },
  {
   "cell_type": "markdown",
   "id": "81ecd54e",
   "metadata": {},
   "source": [
    "---"
   ]
  },
  {
   "cell_type": "markdown",
   "id": "fef9df8a",
   "metadata": {},
   "source": [
    "#### RandomForestClassifier"
   ]
  },
  {
   "cell_type": "code",
   "execution_count": null,
   "id": "7b2557b0",
   "metadata": {},
   "outputs": [
    {
     "name": "stdout",
     "output_type": "stream",
     "text": [
      "Fitting 5 folds for each of 243 candidates, totalling 1215 fits\n",
      "[CV 1/5] END max_depth=10, max_features=sqrt, max_leaf_nodes=900, min_samples_split=4, n_estimators=200;, score=0.692 total time=   1.7s\n",
      "[CV 2/5] END max_depth=10, max_features=sqrt, max_leaf_nodes=900, min_samples_split=4, n_estimators=200;, score=0.726 total time=   1.6s\n",
      "[CV 3/5] END max_depth=10, max_features=sqrt, max_leaf_nodes=900, min_samples_split=4, n_estimators=200;, score=0.719 total time=   1.6s\n",
      "[CV 4/5] END max_depth=10, max_features=sqrt, max_leaf_nodes=900, min_samples_split=4, n_estimators=200;, score=0.700 total time=   1.6s\n",
      "[CV 5/5] END max_depth=10, max_features=sqrt, max_leaf_nodes=900, min_samples_split=4, n_estimators=200;, score=0.716 total time=   1.6s\n",
      "[CV 1/5] END max_depth=10, max_features=sqrt, max_leaf_nodes=900, min_samples_split=4, n_estimators=215;, score=0.694 total time=   1.8s\n",
      "[CV 2/5] END max_depth=10, max_features=sqrt, max_leaf_nodes=900, min_samples_split=4, n_estimators=215;, score=0.741 total time=   1.8s\n",
      "[CV 3/5] END max_depth=10, max_features=sqrt, max_leaf_nodes=900, min_samples_split=4, n_estimators=215;, score=0.716 total time=   1.7s\n",
      "[CV 4/5] END max_depth=10, max_features=sqrt, max_leaf_nodes=900, min_samples_split=4, n_estimators=215;, score=0.707 total time=   1.8s\n",
      "[CV 5/5] END max_depth=10, max_features=sqrt, max_leaf_nodes=900, min_samples_split=4, n_estimators=215;, score=0.716 total time=   1.8s\n",
      "[CV 1/5] END max_depth=10, max_features=sqrt, max_leaf_nodes=900, min_samples_split=4, n_estimators=220;, score=0.693 total time=   1.8s\n",
      "[CV 2/5] END max_depth=10, max_features=sqrt, max_leaf_nodes=900, min_samples_split=4, n_estimators=220;, score=0.733 total time=   1.8s\n",
      "[CV 3/5] END max_depth=10, max_features=sqrt, max_leaf_nodes=900, min_samples_split=4, n_estimators=220;, score=0.723 total time=   1.8s\n",
      "[CV 4/5] END max_depth=10, max_features=sqrt, max_leaf_nodes=900, min_samples_split=4, n_estimators=220;, score=0.708 total time=   1.8s\n",
      "[CV 5/5] END max_depth=10, max_features=sqrt, max_leaf_nodes=900, min_samples_split=4, n_estimators=220;, score=0.708 total time=   1.8s\n",
      "[CV 1/5] END max_depth=10, max_features=sqrt, max_leaf_nodes=900, min_samples_split=6, n_estimators=200;, score=0.695 total time=   1.7s\n",
      "[CV 2/5] END max_depth=10, max_features=sqrt, max_leaf_nodes=900, min_samples_split=6, n_estimators=200;, score=0.725 total time=   1.6s\n",
      "[CV 3/5] END max_depth=10, max_features=sqrt, max_leaf_nodes=900, min_samples_split=6, n_estimators=200;, score=0.712 total time=   1.6s\n",
      "[CV 4/5] END max_depth=10, max_features=sqrt, max_leaf_nodes=900, min_samples_split=6, n_estimators=200;, score=0.694 total time=   1.6s\n",
      "[CV 5/5] END max_depth=10, max_features=sqrt, max_leaf_nodes=900, min_samples_split=6, n_estimators=200;, score=0.701 total time=   1.6s\n",
      "[CV 1/5] END max_depth=10, max_features=sqrt, max_leaf_nodes=900, min_samples_split=6, n_estimators=215;, score=0.686 total time=   1.7s\n",
      "[CV 2/5] END max_depth=10, max_features=sqrt, max_leaf_nodes=900, min_samples_split=6, n_estimators=215;, score=0.734 total time=   1.7s\n",
      "[CV 3/5] END max_depth=10, max_features=sqrt, max_leaf_nodes=900, min_samples_split=6, n_estimators=215;, score=0.716 total time=   1.7s\n",
      "[CV 4/5] END max_depth=10, max_features=sqrt, max_leaf_nodes=900, min_samples_split=6, n_estimators=215;, score=0.696 total time=   1.7s\n",
      "[CV 5/5] END max_depth=10, max_features=sqrt, max_leaf_nodes=900, min_samples_split=6, n_estimators=215;, score=0.716 total time=   1.8s\n",
      "[CV 1/5] END max_depth=10, max_features=sqrt, max_leaf_nodes=900, min_samples_split=6, n_estimators=220;, score=0.695 total time=   1.8s\n",
      "[CV 2/5] END max_depth=10, max_features=sqrt, max_leaf_nodes=900, min_samples_split=6, n_estimators=220;, score=0.724 total time=   1.8s\n",
      "[CV 3/5] END max_depth=10, max_features=sqrt, max_leaf_nodes=900, min_samples_split=6, n_estimators=220;, score=0.712 total time=   1.8s\n",
      "[CV 4/5] END max_depth=10, max_features=sqrt, max_leaf_nodes=900, min_samples_split=6, n_estimators=220;, score=0.702 total time=   1.8s\n",
      "[CV 5/5] END max_depth=10, max_features=sqrt, max_leaf_nodes=900, min_samples_split=6, n_estimators=220;, score=0.706 total time=   1.8s\n",
      "[CV 1/5] END max_depth=10, max_features=sqrt, max_leaf_nodes=900, min_samples_split=8, n_estimators=200;, score=0.687 total time=   1.6s\n",
      "[CV 2/5] END max_depth=10, max_features=sqrt, max_leaf_nodes=900, min_samples_split=8, n_estimators=200;, score=0.726 total time=   1.6s\n",
      "[CV 3/5] END max_depth=10, max_features=sqrt, max_leaf_nodes=900, min_samples_split=8, n_estimators=200;, score=0.713 total time=   1.7s\n",
      "[CV 4/5] END max_depth=10, max_features=sqrt, max_leaf_nodes=900, min_samples_split=8, n_estimators=200;, score=0.697 total time=   1.6s\n",
      "[CV 5/5] END max_depth=10, max_features=sqrt, max_leaf_nodes=900, min_samples_split=8, n_estimators=200;, score=0.706 total time=   1.6s\n",
      "[CV 1/5] END max_depth=10, max_features=sqrt, max_leaf_nodes=900, min_samples_split=8, n_estimators=215;, score=0.692 total time=   1.8s\n",
      "[CV 2/5] END max_depth=10, max_features=sqrt, max_leaf_nodes=900, min_samples_split=8, n_estimators=215;, score=0.722 total time=   1.7s\n",
      "[CV 3/5] END max_depth=10, max_features=sqrt, max_leaf_nodes=900, min_samples_split=8, n_estimators=215;, score=0.713 total time=   1.9s\n",
      "[CV 4/5] END max_depth=10, max_features=sqrt, max_leaf_nodes=900, min_samples_split=8, n_estimators=215;, score=0.701 total time=   2.1s\n",
      "[CV 5/5] END max_depth=10, max_features=sqrt, max_leaf_nodes=900, min_samples_split=8, n_estimators=215;, score=0.703 total time=   2.0s\n",
      "[CV 1/5] END max_depth=10, max_features=sqrt, max_leaf_nodes=900, min_samples_split=8, n_estimators=220;, score=0.687 total time=   2.0s\n",
      "[CV 2/5] END max_depth=10, max_features=sqrt, max_leaf_nodes=900, min_samples_split=8, n_estimators=220;, score=0.723 total time=   1.9s\n",
      "[CV 3/5] END max_depth=10, max_features=sqrt, max_leaf_nodes=900, min_samples_split=8, n_estimators=220;, score=0.713 total time=   2.0s\n",
      "[CV 4/5] END max_depth=10, max_features=sqrt, max_leaf_nodes=900, min_samples_split=8, n_estimators=220;, score=0.697 total time=   1.9s\n",
      "[CV 5/5] END max_depth=10, max_features=sqrt, max_leaf_nodes=900, min_samples_split=8, n_estimators=220;, score=0.707 total time=   1.9s\n",
      "[CV 1/5] END max_depth=10, max_features=sqrt, max_leaf_nodes=1000, min_samples_split=4, n_estimators=200;, score=0.695 total time=   1.8s\n",
      "[CV 2/5] END max_depth=10, max_features=sqrt, max_leaf_nodes=1000, min_samples_split=4, n_estimators=200;, score=0.731 total time=   1.8s\n",
      "[CV 3/5] END max_depth=10, max_features=sqrt, max_leaf_nodes=1000, min_samples_split=4, n_estimators=200;, score=0.719 total time=   1.7s\n",
      "[CV 4/5] END max_depth=10, max_features=sqrt, max_leaf_nodes=1000, min_samples_split=4, n_estimators=200;, score=0.704 total time=   1.7s\n",
      "[CV 5/5] END max_depth=10, max_features=sqrt, max_leaf_nodes=1000, min_samples_split=4, n_estimators=200;, score=0.716 total time=   1.7s\n",
      "[CV 1/5] END max_depth=10, max_features=sqrt, max_leaf_nodes=1000, min_samples_split=4, n_estimators=215;, score=0.697 total time=   1.9s\n",
      "[CV 2/5] END max_depth=10, max_features=sqrt, max_leaf_nodes=1000, min_samples_split=4, n_estimators=215;, score=0.728 total time=   2.1s\n",
      "[CV 3/5] END max_depth=10, max_features=sqrt, max_leaf_nodes=1000, min_samples_split=4, n_estimators=215;, score=0.715 total time=   1.8s\n",
      "[CV 4/5] END max_depth=10, max_features=sqrt, max_leaf_nodes=1000, min_samples_split=4, n_estimators=215;, score=0.699 total time=   1.9s\n",
      "[CV 5/5] END max_depth=10, max_features=sqrt, max_leaf_nodes=1000, min_samples_split=4, n_estimators=215;, score=0.712 total time=   1.9s\n",
      "[CV 1/5] END max_depth=10, max_features=sqrt, max_leaf_nodes=1000, min_samples_split=4, n_estimators=220;, score=0.695 total time=   1.9s\n",
      "[CV 2/5] END max_depth=10, max_features=sqrt, max_leaf_nodes=1000, min_samples_split=4, n_estimators=220;, score=0.725 total time=   2.0s\n",
      "[CV 3/5] END max_depth=10, max_features=sqrt, max_leaf_nodes=1000, min_samples_split=4, n_estimators=220;, score=0.719 total time=   1.9s\n",
      "[CV 4/5] END max_depth=10, max_features=sqrt, max_leaf_nodes=1000, min_samples_split=4, n_estimators=220;, score=0.712 total time=   1.9s\n",
      "[CV 5/5] END max_depth=10, max_features=sqrt, max_leaf_nodes=1000, min_samples_split=4, n_estimators=220;, score=0.710 total time=   1.9s\n"
     ]
    },
    {
     "name": "stdout",
     "output_type": "stream",
     "text": [
      "[CV 1/5] END max_depth=10, max_features=sqrt, max_leaf_nodes=1000, min_samples_split=6, n_estimators=200;, score=0.689 total time=   1.8s\n",
      "[CV 2/5] END max_depth=10, max_features=sqrt, max_leaf_nodes=1000, min_samples_split=6, n_estimators=200;, score=0.737 total time=   1.8s\n",
      "[CV 3/5] END max_depth=10, max_features=sqrt, max_leaf_nodes=1000, min_samples_split=6, n_estimators=200;, score=0.707 total time=   1.7s\n",
      "[CV 4/5] END max_depth=10, max_features=sqrt, max_leaf_nodes=1000, min_samples_split=6, n_estimators=200;, score=0.704 total time=   1.7s\n",
      "[CV 5/5] END max_depth=10, max_features=sqrt, max_leaf_nodes=1000, min_samples_split=6, n_estimators=200;, score=0.704 total time=   1.7s\n",
      "[CV 1/5] END max_depth=10, max_features=sqrt, max_leaf_nodes=1000, min_samples_split=6, n_estimators=215;, score=0.690 total time=   1.8s\n",
      "[CV 2/5] END max_depth=10, max_features=sqrt, max_leaf_nodes=1000, min_samples_split=6, n_estimators=215;, score=0.725 total time=   1.8s\n",
      "[CV 3/5] END max_depth=10, max_features=sqrt, max_leaf_nodes=1000, min_samples_split=6, n_estimators=215;, score=0.715 total time=   1.8s\n",
      "[CV 4/5] END max_depth=10, max_features=sqrt, max_leaf_nodes=1000, min_samples_split=6, n_estimators=215;, score=0.703 total time=   1.8s\n",
      "[CV 5/5] END max_depth=10, max_features=sqrt, max_leaf_nodes=1000, min_samples_split=6, n_estimators=215;, score=0.710 total time=   1.9s\n",
      "[CV 1/5] END max_depth=10, max_features=sqrt, max_leaf_nodes=1000, min_samples_split=6, n_estimators=220;, score=0.692 total time=   1.9s\n",
      "[CV 2/5] END max_depth=10, max_features=sqrt, max_leaf_nodes=1000, min_samples_split=6, n_estimators=220;, score=0.730 total time=   1.9s\n",
      "[CV 3/5] END max_depth=10, max_features=sqrt, max_leaf_nodes=1000, min_samples_split=6, n_estimators=220;, score=0.711 total time=   1.9s\n",
      "[CV 4/5] END max_depth=10, max_features=sqrt, max_leaf_nodes=1000, min_samples_split=6, n_estimators=220;, score=0.699 total time=   1.9s\n",
      "[CV 5/5] END max_depth=10, max_features=sqrt, max_leaf_nodes=1000, min_samples_split=6, n_estimators=220;, score=0.712 total time=   2.0s\n",
      "[CV 1/5] END max_depth=10, max_features=sqrt, max_leaf_nodes=1000, min_samples_split=8, n_estimators=200;, score=0.682 total time=   1.7s\n",
      "[CV 2/5] END max_depth=10, max_features=sqrt, max_leaf_nodes=1000, min_samples_split=8, n_estimators=200;, score=0.729 total time=   1.9s\n"
     ]
    }
   ],
   "source": [
    "param_grid_rfc = { \n",
    "                 'n_estimators': [200, 215,220], \n",
    "                 'max_features': ['sqrt', 'log2', None], \n",
    "                 'max_depth': [10,20, 30], \n",
    "                 'max_leaf_nodes': [900,1000,1100],\n",
    "                 'min_samples_split': [4,6,8], \n",
    "                 } \n",
    "\n",
    "grid_rfc = GridSearchCV(\n",
    "                        RandomForestClassifier(),\n",
    "                        param_grid_rfc,\n",
    "                        refit=True,verbose=3\n",
    "                       )\n",
    "\n",
    "grid_rfc.fit(X_train,y_train)"
   ]
  },
  {
   "cell_type": "code",
   "execution_count": null,
   "id": "31c56619",
   "metadata": {},
   "outputs": [],
   "source": [
    "print(grid_rfc.best_params_)\n",
    "print(grid_rfc.best_score_)"
   ]
  },
  {
   "cell_type": "markdown",
   "id": "c00de2ec",
   "metadata": {},
   "source": [
    "#### Model fit"
   ]
  },
  {
   "cell_type": "code",
   "execution_count": null,
   "id": "09beabdd",
   "metadata": {},
   "outputs": [],
   "source": [
    "rfc = RandomForestClassifier( \n",
    "                             n_estimators = grid_rfc.best_params_['n_estimators'], \n",
    "                             max_features =  grid_rfc.best_params_['max_features'],\n",
    "                             max_depth =  grid_rfc.best_params_['max_depth'], \n",
    "                             max_leaf_nodes = grid_rfc.best_params_['max_leaf_nodes'],\n",
    "                        \n",
    "                            )\n",
    "\n",
    "rfc.fit(X_train,y_train)"
   ]
  },
  {
   "cell_type": "markdown",
   "id": "79e806fb",
   "metadata": {},
   "source": [
    "#### Confusion Matrix"
   ]
  },
  {
   "cell_type": "code",
   "execution_count": null,
   "id": "233dc771",
   "metadata": {},
   "outputs": [],
   "source": [
    "y_pred = rfc.predict(X_test)\n",
    "\n",
    "cm = confusion_matrix(y_test, y_pred)\n",
    "\n",
    "display = ConfusionMatrixDisplay(confusion_matrix=cm,\n",
    "                              display_labels=le.classes_)\n",
    "display.plot()\n",
    "plt.show()"
   ]
  },
  {
   "cell_type": "markdown",
   "id": "01f53c2e",
   "metadata": {},
   "source": [
    "#### Classfication Report"
   ]
  },
  {
   "cell_type": "code",
   "execution_count": null,
   "id": "4e78c68d",
   "metadata": {},
   "outputs": [],
   "source": [
    "print(classification_report(y_test,y_pred))"
   ]
  },
  {
   "cell_type": "markdown",
   "id": "e0204171",
   "metadata": {},
   "source": [
    "---"
   ]
  },
  {
   "cell_type": "markdown",
   "id": "8a0e08d2",
   "metadata": {},
   "source": [
    "#### AdaBoostClassifier (estimator = DecisionTreeClassifier)"
   ]
  },
  {
   "cell_type": "code",
   "execution_count": null,
   "id": "39a28661",
   "metadata": {},
   "outputs": [],
   "source": [
    "param_grid_abc_dt = { \n",
    "                     'n_estimators': [210,212,215,],\n",
    "                     'learning_rate':[0.5,0.75,1]\n",
    "                    }\n",
    "\n",
    "dtc = DecisionTreeClassifier( \n",
    "                             criterion =grid_dtc.best_params_['criterion'],\n",
    "                             splitter = grid_dtc.best_params_['splitter'],\n",
    "                             max_features =  grid_dtc.best_params_['max_features'],\n",
    "                             max_depth =  grid_dtc.best_params_['max_depth'], \n",
    "                             max_leaf_nodes = grid_dtc.best_params_['max_leaf_nodes'],\n",
    "                             min_samples_split = grid_dtc.best_params_['min_samples_split']\n",
    "    \n",
    "                            )\n",
    "\n",
    "\n",
    "abc_dt = AdaBoostClassifier(estimator = dtc)\n",
    "\n",
    "grid_abc_dt= GridSearchCV(\n",
    "                          abc_dt,\n",
    "                          param_grid_abc_dt,\n",
    "                          refit=True,verbose=3\n",
    "                          )\n",
    "\n",
    "grid_abc_dt.fit(X_train,y_train)"
   ]
  },
  {
   "cell_type": "code",
   "execution_count": null,
   "id": "a6562e7b",
   "metadata": {},
   "outputs": [],
   "source": [
    "print(grid_abc_dt.best_params_)\n",
    "print(grid_abc_dt.best_score_)"
   ]
  },
  {
   "cell_type": "markdown",
   "id": "3362ce56",
   "metadata": {},
   "source": [
    "#### Model fit"
   ]
  },
  {
   "cell_type": "code",
   "execution_count": null,
   "id": "5726d68e",
   "metadata": {},
   "outputs": [],
   "source": [
    "dtc = DecisionTreeClassifier( \n",
    "                             criterion =grid_dtc.best_params_['criterion'],\n",
    "                             splitter = grid_dtc.best_params_['splitter'],\n",
    "                             max_features =  grid_dtc.best_params_['max_features'],\n",
    "                             max_depth =  grid_dtc.best_params_['max_depth'], \n",
    "                             max_leaf_nodes = grid_dtc.best_params_['max_leaf_nodes'],\n",
    "                             min_samples_split = grid_dtc.best_params_['min_samples_split']\n",
    "    \n",
    "                            )\n",
    "\n",
    "abc_dt = AdaBoostClassifier(\n",
    "                        estimator = dtc,\n",
    "                        n_estimators = grid_abc_dt.best_params_['n_estimators'],\n",
    "                        learning_rate= grid_abc_dt.best_params_['learning_rate']\n",
    "                        )\n",
    "\n",
    "abc_dt.fit(X_train,y_train)"
   ]
  },
  {
   "cell_type": "markdown",
   "id": "1130be7e",
   "metadata": {},
   "source": [
    "#### Confusion Matrix"
   ]
  },
  {
   "cell_type": "code",
   "execution_count": null,
   "id": "93e8bf6e",
   "metadata": {},
   "outputs": [],
   "source": [
    "y_pred = abc_dt.predict(X_test)\n",
    "\n",
    "cm = confusion_matrix(y_test, y_pred)\n",
    "\n",
    "display = ConfusionMatrixDisplay(confusion_matrix=cm,\n",
    "                              display_labels=le.classes_)\n",
    "display.plot()\n",
    "plt.show()"
   ]
  },
  {
   "cell_type": "markdown",
   "id": "c79c6271",
   "metadata": {},
   "source": [
    "#### Classification Report"
   ]
  },
  {
   "cell_type": "code",
   "execution_count": null,
   "id": "aa221780",
   "metadata": {},
   "outputs": [],
   "source": [
    "print(classification_report(y_test,y_pred))"
   ]
  },
  {
   "cell_type": "markdown",
   "id": "fa62a84a",
   "metadata": {},
   "source": [
    "---"
   ]
  },
  {
   "cell_type": "markdown",
   "id": "96381783",
   "metadata": {},
   "source": [
    "#### AdaBoostClassifier (estimator = RandomForestClassifier)"
   ]
  },
  {
   "cell_type": "code",
   "execution_count": null,
   "id": "3f06fd21",
   "metadata": {},
   "outputs": [],
   "source": [
    "param_grid_abc_rfc = { \n",
    "                      'n_estimators': [210,212,215,],\n",
    "                      'learning_rate':[0.5,0.75,1]\n",
    "                     }\n",
    "\n",
    "rfc = RandomForestClassifier( \n",
    "                             n_estimators = grid_rfc.best_params_['n_estimators'], \n",
    "                             max_features =  grid_rfc.best_params_['max_features'],\n",
    "                             max_depth =  grid_rfc.best_params_['max_depth'], \n",
    "                             max_leaf_nodes = grid_rfc.best_params_['max_leaf_nodes'],\n",
    "                             \n",
    "                            )\n",
    "\n",
    "abc_rfc = AdaBoostClassifier(estimator = rfc)\n",
    "\n",
    "grid_abc_rfc = GridSearchCV(\n",
    "                           abc_rfc,\n",
    "                           param_grid_abc_rfc,\n",
    "                           refit=True,verbose=3\n",
    "                           )\n",
    "\n",
    "grid_abc_rfc.fit(X_train,y_train)"
   ]
  },
  {
   "cell_type": "code",
   "execution_count": null,
   "id": "f72c62bb",
   "metadata": {},
   "outputs": [],
   "source": [
    "print(grid_abc_rfc.best_params_)\n",
    "print(grid_abc_rfc.best_score_)"
   ]
  },
  {
   "cell_type": "markdown",
   "id": "47fa8906",
   "metadata": {},
   "source": [
    "#### Model Fit"
   ]
  },
  {
   "cell_type": "code",
   "execution_count": null,
   "id": "74b216b1",
   "metadata": {},
   "outputs": [],
   "source": [
    "rfc = RandomForestClassifier( \n",
    "                             n_estimators = grid_rfc.best_params_['n_estimators'], \n",
    "                             max_features =  grid_rfc.best_params_['max_features'],\n",
    "                             max_depth =  grid_rfc.best_params_['max_depth'], \n",
    "                             max_leaf_nodes = grid_rfc.best_params_['max_leaf_nodes'],\n",
    "                             \n",
    "    \n",
    "                            )\n",
    "\n",
    "abc_rfc = AdaBoostClassifier(\n",
    "                             estimator = rfc,\n",
    "                             n_estimators = grid_abc_rfc.best_params_['n_estimators'],\n",
    "                             learning_rate= grid_abc_rfc.best_params_['learning_rate']\n",
    "                            )\n",
    "\n",
    "abc_rfc.fit(X_train,y_train)"
   ]
  },
  {
   "cell_type": "markdown",
   "id": "b164cc63",
   "metadata": {},
   "source": [
    "#### Confusion Matrix"
   ]
  },
  {
   "cell_type": "code",
   "execution_count": null,
   "id": "605422fd",
   "metadata": {},
   "outputs": [],
   "source": [
    "y_pred = abc_rfc.predict(X_test)\n",
    "\n",
    "cm = confusion_matrix(y_test, y_pred)\n",
    "\n",
    "display = ConfusionMatrixDisplay(confusion_matrix=cm,\n",
    "                              display_labels=le.classes_)\n",
    "display.plot()\n",
    "plt.show()"
   ]
  },
  {
   "cell_type": "markdown",
   "id": "c973da56",
   "metadata": {},
   "source": [
    "#### Classification Report"
   ]
  },
  {
   "cell_type": "code",
   "execution_count": null,
   "id": "708e5b46",
   "metadata": {},
   "outputs": [],
   "source": [
    "print(classification_report(y_test,y_pred))"
   ]
  },
  {
   "cell_type": "markdown",
   "id": "c8d2d6c1",
   "metadata": {},
   "source": [
    "---"
   ]
  },
  {
   "cell_type": "markdown",
   "id": "3c42f680",
   "metadata": {},
   "source": [
    "---"
   ]
  },
  {
   "cell_type": "markdown",
   "id": "5a0d9c50",
   "metadata": {},
   "source": [
    "### Scaled"
   ]
  },
  {
   "cell_type": "markdown",
   "id": "0d47f45d",
   "metadata": {},
   "source": [
    "#### Scaling Data"
   ]
  },
  {
   "cell_type": "code",
   "execution_count": null,
   "id": "212d136f",
   "metadata": {},
   "outputs": [],
   "source": [
    "scaler = StandardScaler()\n",
    "X_scaled = scaler.fit_transform(X_resampled)"
   ]
  },
  {
   "cell_type": "markdown",
   "id": "b172eef5",
   "metadata": {},
   "source": [
    "#### Feature distribution  Viz"
   ]
  },
  {
   "cell_type": "code",
   "execution_count": null,
   "id": "03d7dc6a",
   "metadata": {},
   "outputs": [],
   "source": [
    "cols = df.drop(columns=['Wine','quality']).columns\n",
    "\n",
    "X_df = pd.DataFrame(X_scaled,columns = cols)\n",
    "X_df.boxplot()\n",
    "plt.xticks(rotation=90)\n",
    "plt.show()"
   ]
  },
  {
   "cell_type": "markdown",
   "id": "92644677",
   "metadata": {},
   "source": [
    "### Scaling Data"
   ]
  },
  {
   "cell_type": "code",
   "execution_count": null,
   "id": "b047adbb",
   "metadata": {},
   "outputs": [],
   "source": [
    "X_train_scaled = scaler.fit_transform(X_train)\n",
    "X_test_scaled = scaler.transform(X_test)"
   ]
  },
  {
   "cell_type": "markdown",
   "id": "5cdbd17b",
   "metadata": {},
   "source": [
    "---"
   ]
  },
  {
   "cell_type": "markdown",
   "id": "7a71f62f",
   "metadata": {},
   "source": [
    "#### KNeighborsClassifier"
   ]
  },
  {
   "cell_type": "code",
   "execution_count": null,
   "id": "33b5e6e2",
   "metadata": {},
   "outputs": [],
   "source": [
    "train_scores_scaled = []\n",
    "test_scores_scaled = []\n",
    "for n in range(1,10):\n",
    "    knc_scaled = KNeighborsClassifier(n_neighbors = n)\n",
    "    knc_scaled.fit(\n",
    "            X_train_scaled,\n",
    "            y_train\n",
    "           )\n",
    "    train_scores_scaled.append(knc_scaled.score(X_train_scaled,y_train))\n",
    "    test_scores_scaled.append(knc_scaled.score(X_test_scaled,y_test))"
   ]
  },
  {
   "cell_type": "code",
   "execution_count": null,
   "id": "8e978572",
   "metadata": {},
   "outputs": [],
   "source": [
    "plt.plot([*range(1,10)],train_scores_scaled)\n",
    "plt.plot([*range(1,10)],test_scores_scaled)\n",
    "plt.show()"
   ]
  },
  {
   "cell_type": "markdown",
   "id": "7ca8d1a4",
   "metadata": {},
   "source": [
    "#### Model fit"
   ]
  },
  {
   "cell_type": "code",
   "execution_count": null,
   "id": "81c2b528",
   "metadata": {},
   "outputs": [],
   "source": [
    "knc_scaled = KNeighborsClassifier(n_neighbors = 1 )\n",
    "knc_scaled.fit(X_train_scaled,y_train)"
   ]
  },
  {
   "cell_type": "markdown",
   "id": "7b78037f",
   "metadata": {},
   "source": [
    "#### Confusion Matrix"
   ]
  },
  {
   "cell_type": "code",
   "execution_count": null,
   "id": "8cd7ce26",
   "metadata": {},
   "outputs": [],
   "source": [
    "y_pred = knc_scaled.predict(X_test_scaled)\n",
    "\n",
    "cm = confusion_matrix(y_test, y_pred)\n",
    "\n",
    "display = ConfusionMatrixDisplay(confusion_matrix=cm,\n",
    "                              display_labels=le.classes_)\n",
    "display.plot()\n",
    "plt.show()"
   ]
  },
  {
   "cell_type": "markdown",
   "id": "281007a4",
   "metadata": {},
   "source": [
    "#### Classification Report"
   ]
  },
  {
   "cell_type": "code",
   "execution_count": null,
   "id": "18183673",
   "metadata": {},
   "outputs": [],
   "source": [
    "print(classification_report(y_test,y_pred))"
   ]
  },
  {
   "cell_type": "markdown",
   "id": "4ec4c337",
   "metadata": {},
   "source": [
    "---"
   ]
  },
  {
   "cell_type": "markdown",
   "id": "91a74f78",
   "metadata": {},
   "source": [
    "#### SVC"
   ]
  },
  {
   "cell_type": "code",
   "execution_count": null,
   "id": "3f0350ff",
   "metadata": {},
   "outputs": [],
   "source": [
    "param_grid_svc_scaled = {\n",
    "              'C': [5,10,15], \n",
    "              'gamma': [1,2,3,4],\n",
    "              'kernel': ['rbf']\n",
    "              }\n",
    "grid_svc_scaled= GridSearchCV(\n",
    "                              SVC(),\n",
    "                              param_grid_svc_scaled,\n",
    "                              refit=True,verbose=3\n",
    "                             )\n",
    "\n",
    "grid_svc_scaled.fit(X_train_scaled,y_train)"
   ]
  },
  {
   "cell_type": "code",
   "execution_count": null,
   "id": "a80adf3f",
   "metadata": {},
   "outputs": [],
   "source": [
    "print(grid_svc_scaled.best_params_)\n",
    "print(grid_svc_scaled.best_score_)"
   ]
  },
  {
   "cell_type": "markdown",
   "id": "4752b33b",
   "metadata": {},
   "source": [
    "#### Model Fit"
   ]
  },
  {
   "cell_type": "code",
   "execution_count": null,
   "id": "60fa1d45",
   "metadata": {},
   "outputs": [],
   "source": [
    "C = grid_svc_scaled.best_params_['C'] \n",
    "gamma = grid_svc_scaled.best_params_['gamma']\n",
    "kernel = grid_svc_scaled.best_params_['kernel']\n",
    "                              \n",
    "svc_scaled = SVC(C = C,\n",
    "         gamma = gamma,\n",
    "         kernel = kernel)\n",
    "\n",
    "svc_scaled.fit(X_train_scaled,y_train)"
   ]
  },
  {
   "cell_type": "markdown",
   "id": "64a12452",
   "metadata": {},
   "source": [
    "#### Confusion Matrix"
   ]
  },
  {
   "cell_type": "code",
   "execution_count": null,
   "id": "8559a730",
   "metadata": {},
   "outputs": [],
   "source": [
    "y_pred = svc_scaled.predict(X_test_scaled)\n",
    "\n",
    "cm = confusion_matrix(y_test, y_pred)\n",
    "\n",
    "display = ConfusionMatrixDisplay(confusion_matrix=cm,\n",
    "                              display_labels=le.classes_)\n",
    "display.plot()\n",
    "plt.show()"
   ]
  },
  {
   "cell_type": "markdown",
   "id": "19233427",
   "metadata": {},
   "source": [
    "#### Classification Report"
   ]
  },
  {
   "cell_type": "code",
   "execution_count": null,
   "id": "61fe5e24",
   "metadata": {},
   "outputs": [],
   "source": [
    "print(classification_report(y_test,y_pred))"
   ]
  },
  {
   "cell_type": "markdown",
   "id": "acac56a6",
   "metadata": {},
   "source": [
    "---"
   ]
  },
  {
   "cell_type": "markdown",
   "id": "dc2c63a5",
   "metadata": {},
   "source": [
    "#### DecisionTreeClassifier"
   ]
  },
  {
   "cell_type": "code",
   "execution_count": null,
   "id": "0ec6c144",
   "metadata": {},
   "outputs": [],
   "source": [
    "param_grid_dtc_scaled = { \n",
    "                  'criterion': ['gini', 'entropy', 'log_loss'], \n",
    "                  'splitter': ['best','random'],\n",
    "                  'max_features': ['sqrt', 'log2'],\n",
    "                  'max_depth': [10,20, 30], \n",
    "                  'max_leaf_nodes': [900,1000,1100],\n",
    "                  'min_samples_split': [4,6,8], \n",
    "                    } \n",
    "\n",
    "grid_dtc_scaled = GridSearchCV(\n",
    "                        DecisionTreeClassifier(),\n",
    "                        param_grid_dtc_scaled,\n",
    "                        refit=True,verbose=3\n",
    "                       )\n",
    "\n",
    "grid_dtc_scaled.fit(X_train_scaled,y_train)"
   ]
  },
  {
   "cell_type": "code",
   "execution_count": null,
   "id": "123f5d47",
   "metadata": {},
   "outputs": [],
   "source": [
    "print(grid_dtc_scaled.best_params_)\n",
    "print(grid_dtc_scaled.best_score_)"
   ]
  },
  {
   "cell_type": "markdown",
   "id": "0c05d330",
   "metadata": {},
   "source": [
    "#### Model Fit"
   ]
  },
  {
   "cell_type": "code",
   "execution_count": null,
   "id": "f5c1c127",
   "metadata": {},
   "outputs": [],
   "source": [
    "dtc_scaled = DecisionTreeClassifier( \n",
    "                             criterion =grid_dtc_scaled.best_params_['criterion'],\n",
    "                             splitter = grid_dtc_scaled.best_params_['splitter'],\n",
    "                             max_features =  grid_dtc_scaled.best_params_['max_features'],\n",
    "                             max_depth =  grid_dtc_scaled.best_params_['max_depth'], \n",
    "                             max_leaf_nodes = grid_dtc_scaled.best_params_['max_leaf_nodes'],\n",
    "                             min_samples_split = grid_dtc_scaled.best_params_['min_samples_split']\n",
    "    \n",
    "                            )\n",
    "\n",
    "dtc_scaled.fit(X_train_scaled,y_train)"
   ]
  },
  {
   "cell_type": "markdown",
   "id": "baf3e3ed",
   "metadata": {},
   "source": [
    "#### Confusion Matrix"
   ]
  },
  {
   "cell_type": "code",
   "execution_count": null,
   "id": "9e5d1bd5",
   "metadata": {},
   "outputs": [],
   "source": [
    "y_pred = dtc_scaled.predict(X_test_scaled)\n",
    "\n",
    "cm = confusion_matrix(y_test, y_pred)\n",
    "\n",
    "display = ConfusionMatrixDisplay(confusion_matrix=cm,\n",
    "                              display_labels=le.classes_)\n",
    "display.plot()\n",
    "plt.show()"
   ]
  },
  {
   "cell_type": "markdown",
   "id": "d44c9221",
   "metadata": {},
   "source": [
    "#### Classfication Report"
   ]
  },
  {
   "cell_type": "code",
   "execution_count": null,
   "id": "5f65ac3f",
   "metadata": {},
   "outputs": [],
   "source": [
    "print(classification_report(y_test,y_pred))"
   ]
  },
  {
   "cell_type": "markdown",
   "id": "f795728a",
   "metadata": {},
   "source": [
    "---"
   ]
  },
  {
   "cell_type": "markdown",
   "id": "86187222",
   "metadata": {},
   "source": [
    "#### RandomForestClassifier"
   ]
  },
  {
   "cell_type": "code",
   "execution_count": null,
   "id": "180f9d42",
   "metadata": {},
   "outputs": [],
   "source": [
    "param_grid_rfc_scaled = { \n",
    "                 'n_estimators': [200, 215,220], \n",
    "                 'max_features': ['sqrt', 'log2', None], \n",
    "                 'max_depth': [10,20, 30], \n",
    "                 'max_leaf_nodes': [900,1000,1100],\n",
    "                 'min_samples_split': [4,6,8], \n",
    "                 } \n",
    "\n",
    "grid_rfc_scaled = GridSearchCV(\n",
    "                        RandomForestClassifier(),\n",
    "                        param_grid_rfc_scaled,\n",
    "                        refit=True,verbose=3\n",
    "                       )\n",
    "\n",
    "grid_rfc_scaled.fit(X_train_scaled,y_train)"
   ]
  },
  {
   "cell_type": "code",
   "execution_count": null,
   "id": "565468c8",
   "metadata": {},
   "outputs": [],
   "source": [
    "print(grid_rfc_scaled.best_params_)\n",
    "print(grid_rfc_scaled.best_score_)"
   ]
  },
  {
   "cell_type": "markdown",
   "id": "d21df6ba",
   "metadata": {},
   "source": [
    "#### Model Fit"
   ]
  },
  {
   "cell_type": "code",
   "execution_count": null,
   "id": "4c435842",
   "metadata": {},
   "outputs": [],
   "source": [
    "rfc_scaled = RandomForestClassifier( \n",
    "                             n_estimators = grid_rfc_scaled.best_params_['n_estimators'], \n",
    "                             max_features =  grid_rfc_scaled.best_params_['max_features'],\n",
    "                             max_depth =  grid_rfc_scaled.best_params_['max_depth'], \n",
    "                             max_leaf_nodes = grid_rfc_scaled.best_params_['max_leaf_nodes'],\n",
    "    \n",
    "                            )\n",
    "\n",
    "rfc_scaled.fit(X_train_scaled,y_train)"
   ]
  },
  {
   "cell_type": "markdown",
   "id": "9985facd",
   "metadata": {},
   "source": [
    "#### Confusion Matrix"
   ]
  },
  {
   "cell_type": "code",
   "execution_count": null,
   "id": "096550ef",
   "metadata": {},
   "outputs": [],
   "source": [
    "y_pred = rfc_scaled.predict(X_test_scaled)\n",
    "\n",
    "cm = confusion_matrix(y_test, y_pred)\n",
    "\n",
    "display = ConfusionMatrixDisplay(confusion_matrix=cm,\n",
    "                              display_labels=le.classes_)\n",
    "display.plot()\n",
    "plt.show()"
   ]
  },
  {
   "cell_type": "markdown",
   "id": "a6baba31",
   "metadata": {},
   "source": [
    "#### Classfication Report"
   ]
  },
  {
   "cell_type": "code",
   "execution_count": null,
   "id": "bccb012a",
   "metadata": {},
   "outputs": [],
   "source": [
    "print(classification_report(y_test,y_pred))"
   ]
  },
  {
   "cell_type": "markdown",
   "id": "ab771c22",
   "metadata": {},
   "source": [
    "---"
   ]
  },
  {
   "cell_type": "markdown",
   "id": "5d41ca19",
   "metadata": {},
   "source": [
    "#### AdaBoostClassifier (estimator = DecisionTreeClassifier)"
   ]
  },
  {
   "cell_type": "code",
   "execution_count": null,
   "id": "ae4f181f",
   "metadata": {},
   "outputs": [],
   "source": [
    "param_grid_abc_dt_scaled = { \n",
    "                     'n_estimators': [210,212,215,],\n",
    "                     'learning_rate':[0.5,0.75,1]\n",
    "                    }\n",
    "\n",
    "dtc_scaled = DecisionTreeClassifier( \n",
    "                             criterion =grid_dtc_scaled.best_params_['criterion'],\n",
    "                             splitter = grid_dtc_scaled.best_params_['splitter'],\n",
    "                             max_features =  grid_dtc_scaled.best_params_['max_features'],\n",
    "                             max_depth =  grid_dtc_scaled.best_params_['max_depth'], \n",
    "                             max_leaf_nodes = grid_dtc_scaled.best_params_['max_leaf_nodes'],\n",
    "                             min_samples_split = grid_dtc_scaled.best_params_['min_samples_split']\n",
    "    \n",
    "                            )\n",
    "\n",
    "\n",
    "abc_dt_scaled = AdaBoostClassifier(estimator = dtc_scaled)\n",
    "\n",
    "grid_abc_dt_scaled= GridSearchCV(\n",
    "                          abc_dt_scaled,\n",
    "                          param_grid_abc_dt,\n",
    "                          refit=True,verbose=3\n",
    "                          )\n",
    "\n",
    "grid_abc_dt_scaled.fit(X_train_scaled,y_train)"
   ]
  },
  {
   "cell_type": "code",
   "execution_count": null,
   "id": "aa5036ed",
   "metadata": {},
   "outputs": [],
   "source": [
    "print(grid_abc_dt_scaled.best_params_)\n",
    "print(grid_abc_dt_scaled.best_score_)"
   ]
  },
  {
   "cell_type": "markdown",
   "id": "bcd74437",
   "metadata": {},
   "source": [
    "#### Model Fit"
   ]
  },
  {
   "cell_type": "code",
   "execution_count": null,
   "id": "f3de9a60",
   "metadata": {},
   "outputs": [],
   "source": [
    "dtc_scaled = DecisionTreeClassifier( \n",
    "                             criterion =grid_dtc_scaled.best_params_['criterion'],\n",
    "                             splitter = grid_dtc_scaled.best_params_['splitter'],\n",
    "                             max_features =  grid_dtc_scaled.best_params_['max_features'],\n",
    "                             max_depth =  grid_dtc_scaled.best_params_['max_depth'], \n",
    "                             max_leaf_nodes = grid_dtc_scaled.best_params_['max_leaf_nodes'],\n",
    "                             min_samples_split = grid_dtc_scaled.best_params_['min_samples_split']\n",
    "    \n",
    "                            )\n",
    "\n",
    "abc_dt_scaled = AdaBoostClassifier(\n",
    "                        estimator = dtc_scaled,\n",
    "                        n_estimators = grid_abc_dt_scaled.best_params_['n_estimators'],\n",
    "                        learning_rate= grid_abc_dt_scaled.best_params_['learning_rate']\n",
    "                        )\n",
    "\n",
    "abc_dt_scaled.fit(X_train_scaled,y_train)"
   ]
  },
  {
   "cell_type": "markdown",
   "id": "12a5134d",
   "metadata": {},
   "source": [
    "#### Confusion Matrix"
   ]
  },
  {
   "cell_type": "code",
   "execution_count": null,
   "id": "e463d26c",
   "metadata": {},
   "outputs": [],
   "source": [
    "y_pred= abc_dt_scaled.predict(X_test_scaled)\n",
    "\n",
    "cm = confusion_matrix(y_test, y_pred)\n",
    "\n",
    "display = ConfusionMatrixDisplay(confusion_matrix=cm,\n",
    "                              display_labels=le.classes_)\n",
    "display.plot()\n",
    "plt.show()"
   ]
  },
  {
   "cell_type": "markdown",
   "id": "f005b388",
   "metadata": {},
   "source": [
    "#### Classification Report"
   ]
  },
  {
   "cell_type": "code",
   "execution_count": null,
   "id": "a053d6f2",
   "metadata": {},
   "outputs": [],
   "source": [
    "print(classification_report(y_test,y_pred))"
   ]
  },
  {
   "cell_type": "markdown",
   "id": "648e635a",
   "metadata": {},
   "source": [
    "---"
   ]
  },
  {
   "cell_type": "markdown",
   "id": "2c127238",
   "metadata": {},
   "source": [
    "#### AdaBoostClassifier (estimator = RandomForestClassifier)"
   ]
  },
  {
   "cell_type": "code",
   "execution_count": null,
   "id": "16da1ce7",
   "metadata": {},
   "outputs": [],
   "source": [
    "param_grid_abc_rfc_scaled = { \n",
    "                      'n_estimators': [210,212,215,],\n",
    "                      'learning_rate':[0.5,0.75,1]\n",
    "                     }\n",
    "\n",
    "rfc_scaled = RandomForestClassifier( \n",
    "                             n_estimators = grid_rfc_scaled.best_params_['n_estimators'], \n",
    "                             max_features =  grid_rfc_scaled.best_params_['max_features'],\n",
    "                             max_depth =  grid_rfc_scaled.best_params_['max_depth'], \n",
    "                             max_leaf_nodes = grid_rfc_scaled.best_params_['max_leaf_nodes'],\n",
    "                             \n",
    "                            )\n",
    "\n",
    "abc_rfc_scaled = AdaBoostClassifier(estimator = rfc)\n",
    "\n",
    "grid_abc_rfc_scaled = GridSearchCV(\n",
    "                           abc_rfc_scaled,\n",
    "                           param_grid_abc_rfc_scaled,\n",
    "                           refit=True,verbose=3\n",
    "                           )\n",
    "\n",
    "grid_abc_rfc_scaled.fit(X_train_scaled,y_train)"
   ]
  },
  {
   "cell_type": "code",
   "execution_count": null,
   "id": "1c44847d",
   "metadata": {},
   "outputs": [],
   "source": [
    "print(grid_abc_rfc_scaled.best_params_)\n",
    "print(grid_abc_rfc_scaled.best_score_)"
   ]
  },
  {
   "cell_type": "markdown",
   "id": "847e6ca2",
   "metadata": {},
   "source": [
    "### Mode Fit"
   ]
  },
  {
   "cell_type": "code",
   "execution_count": null,
   "id": "18a9a942",
   "metadata": {},
   "outputs": [],
   "source": [
    "rfc_scaled = RandomForestClassifier( \n",
    "                             n_estimators = grid_rfc_scaled.best_params_['n_estimators'], \n",
    "                             max_features =  grid_rfc_scaled.best_params_['max_features'],\n",
    "                             max_depth =  grid_rfc_scaled.best_params_['max_depth'], \n",
    "                             max_leaf_nodes = grid_rfc_scaled.best_params_['max_leaf_nodes'],\n",
    "                             #class_weight=class_weight_dict\n",
    "    \n",
    "                            )\n",
    "\n",
    "abc_rfc_scaled = AdaBoostClassifier(\n",
    "                             estimator = rfc,\n",
    "                             n_estimators = grid_abc_rfc_scaled.best_params_['n_estimators'],\n",
    "                             learning_rate= grid_abc_rfc_scaled.best_params_['learning_rate']\n",
    "                            )\n",
    "\n",
    "abc_rfc_scaled.fit(X_train_scaled,y_train)"
   ]
  },
  {
   "cell_type": "markdown",
   "id": "ba8ffc5b",
   "metadata": {},
   "source": [
    "#### Confusion Matrix"
   ]
  },
  {
   "cell_type": "code",
   "execution_count": null,
   "id": "362a5518",
   "metadata": {},
   "outputs": [],
   "source": [
    "y_pred = abc_rfc_scaled.predict(X_test_scaled)\n",
    "\n",
    "cm = confusion_matrix(y_test, y_pred)\n",
    "\n",
    "display = ConfusionMatrixDisplay(confusion_matrix=cm,\n",
    "                              display_labels=le.classes_)\n",
    "display.plot()\n",
    "plt.show()"
   ]
  },
  {
   "cell_type": "markdown",
   "id": "32fc54e1",
   "metadata": {},
   "source": [
    "#### Classification Report"
   ]
  },
  {
   "cell_type": "code",
   "execution_count": null,
   "id": "1951607f",
   "metadata": {},
   "outputs": [],
   "source": [
    "print(classification_report(y_test,y_pred))"
   ]
  },
  {
   "cell_type": "markdown",
   "id": "b4ae8fb0",
   "metadata": {},
   "source": [
    "---"
   ]
  },
  {
   "cell_type": "markdown",
   "id": "6a3c7f1a",
   "metadata": {},
   "source": [
    "---"
   ]
  },
  {
   "cell_type": "markdown",
   "id": "50aad15f",
   "metadata": {},
   "source": [
    "### PCA Analysis"
   ]
  },
  {
   "cell_type": "markdown",
   "id": "26e5fe9c",
   "metadata": {},
   "source": [
    "#### Viz"
   ]
  },
  {
   "cell_type": "code",
   "execution_count": null,
   "id": "700da529",
   "metadata": {},
   "outputs": [],
   "source": [
    "pca = PCA()\n",
    "pca.fit(X_scaled)\n",
    "\n",
    "pca.explained_variance_ratio_.shape[0]\n",
    "n= [*range(1,pca.explained_variance_ratio_.shape[0]+1)]\n",
    "plt.bar(n,pca.explained_variance_ratio_)\n",
    "plt.show()"
   ]
  },
  {
   "cell_type": "markdown",
   "id": "e832236d",
   "metadata": {},
   "source": [
    "#### PCA Viz"
   ]
  },
  {
   "cell_type": "code",
   "execution_count": null,
   "id": "647cbed0",
   "metadata": {},
   "outputs": [],
   "source": [
    "\n",
    "pca = PCA(n_components = 3)\n",
    "X_pca = pca.fit_transform(X_scaled)\n",
    "\n",
    "pca_1 = X_pca[:,0]\n",
    "pca_2= X_pca[:,1]\n",
    "pca_3 = X_pca[:,2]\n",
    "\n",
    "fig = plt.figure()\n",
    "ax = plt.axes(projection='3d')\n",
    "ax.scatter3D(pca_1, pca_2, pca_3, 'gray',c=y)\n",
    "plt.show()"
   ]
  },
  {
   "cell_type": "markdown",
   "id": "af92ecde",
   "metadata": {},
   "source": [
    "#### PCA Training & Testing Data"
   ]
  },
  {
   "cell_type": "code",
   "execution_count": null,
   "id": "7839760c",
   "metadata": {},
   "outputs": [],
   "source": [
    "pca = PCA(n_components = 10)\n",
    "X_pca_train = pca.fit_transform(X_train_scaled)\n",
    "X_pca_test =  pca.transform(X_test_scaled)"
   ]
  },
  {
   "cell_type": "markdown",
   "id": "eae02989",
   "metadata": {},
   "source": [
    "---"
   ]
  },
  {
   "cell_type": "markdown",
   "id": "b8abed94",
   "metadata": {},
   "source": [
    "### Models"
   ]
  },
  {
   "cell_type": "markdown",
   "id": "1fa4627e",
   "metadata": {},
   "source": [
    "---"
   ]
  },
  {
   "cell_type": "markdown",
   "id": "8657ab04",
   "metadata": {},
   "source": [
    "#### KNeighborsClassifier"
   ]
  },
  {
   "cell_type": "code",
   "execution_count": null,
   "id": "28d84001",
   "metadata": {},
   "outputs": [],
   "source": [
    "train_scores_pca = []\n",
    "test_scores_pca = []\n",
    "for n in range(1,10):\n",
    "    knc_pca = KNeighborsClassifier(n_neighbors = n)\n",
    "    knc_pca.fit(\n",
    "            X_pca_train,\n",
    "            y_train\n",
    "           )\n",
    "    train_scores_pca.append(knc_pca.score(X_pca_train,y_train))\n",
    "    test_scores_pca.append(knc_pca.score(X_pca_test,y_test))"
   ]
  },
  {
   "cell_type": "code",
   "execution_count": null,
   "id": "4bf91b20",
   "metadata": {},
   "outputs": [],
   "source": [
    "plt.plot([*range(1,10)],train_scores_pca)\n",
    "plt.plot([*range(1,10)],test_scores_pca)\n",
    "plt.show()"
   ]
  },
  {
   "cell_type": "markdown",
   "id": "5b1a5a50",
   "metadata": {},
   "source": [
    "#### Model Fit"
   ]
  },
  {
   "cell_type": "code",
   "execution_count": null,
   "id": "6986d968",
   "metadata": {},
   "outputs": [],
   "source": [
    "knc_pca = KNeighborsClassifier(n_neighbors = 1 )\n",
    "knc_pca.fit(X_pca_train,y_train)"
   ]
  },
  {
   "cell_type": "markdown",
   "id": "5ad7a049",
   "metadata": {},
   "source": [
    "#### Confusion Matrix"
   ]
  },
  {
   "cell_type": "code",
   "execution_count": null,
   "id": "5bec0904",
   "metadata": {},
   "outputs": [],
   "source": [
    "y_pred = knc_pca.predict(X_pca_test)\n",
    "\n",
    "cm = confusion_matrix(y_test, y_pred)\n",
    "\n",
    "display = ConfusionMatrixDisplay(confusion_matrix=cm,\n",
    "                              display_labels=le.classes_)\n",
    "display.plot()\n",
    "plt.show()"
   ]
  },
  {
   "cell_type": "code",
   "execution_count": null,
   "id": "ae2b03b6",
   "metadata": {},
   "outputs": [],
   "source": [
    "print(classification_report(y_test,y_pred))"
   ]
  },
  {
   "cell_type": "markdown",
   "id": "c5cce40c",
   "metadata": {},
   "source": [
    "---"
   ]
  },
  {
   "cell_type": "markdown",
   "id": "7017bd36",
   "metadata": {},
   "source": [
    "#### SVC"
   ]
  },
  {
   "cell_type": "code",
   "execution_count": null,
   "id": "ed707b3d",
   "metadata": {},
   "outputs": [],
   "source": [
    "param_grid_svc_pca = {\n",
    "              'C': [5,10,15], \n",
    "              'gamma': [1,2,3,4],\n",
    "              'kernel': ['rbf']\n",
    "              }\n",
    "grid_svc_pca= GridSearchCV(\n",
    "                              SVC(),\n",
    "                              param_grid_svc_pca,\n",
    "                              refit=True,verbose=3\n",
    "                             )\n",
    "\n",
    "grid_svc_pca.fit(X_pca_train,y_train)"
   ]
  },
  {
   "cell_type": "code",
   "execution_count": null,
   "id": "d0d79ed5",
   "metadata": {},
   "outputs": [],
   "source": [
    "print(grid_svc_pca.best_params_)\n",
    "print(grid_svc_pca.best_score_)"
   ]
  },
  {
   "cell_type": "markdown",
   "id": "53b52cdb",
   "metadata": {},
   "source": [
    "#### Model Fit"
   ]
  },
  {
   "cell_type": "code",
   "execution_count": null,
   "id": "88c211af",
   "metadata": {},
   "outputs": [],
   "source": [
    "C = grid_svc_pca.best_params_['C'] \n",
    "gamma = grid_svc_pca.best_params_['gamma']\n",
    "kernel = grid_svc_pca.best_params_['kernel']\n",
    "                              \n",
    "svc_pca = SVC(C = C,\n",
    "         gamma = gamma,\n",
    "         kernel = kernel)\n",
    "\n",
    "svc_pca.fit(X_pca_train,y_train)"
   ]
  },
  {
   "cell_type": "markdown",
   "id": "93820be7",
   "metadata": {},
   "source": [
    "#### Confusion Matrix"
   ]
  },
  {
   "cell_type": "code",
   "execution_count": null,
   "id": "5b33ce47",
   "metadata": {},
   "outputs": [],
   "source": [
    "y_pred = svc_pca.predict(X_pca_test)\n",
    "\n",
    "cm = confusion_matrix(y_test, y_pred)\n",
    "\n",
    "display = ConfusionMatrixDisplay(confusion_matrix=cm,\n",
    "                              display_labels=le.classes_)\n",
    "display.plot()\n",
    "plt.show()"
   ]
  },
  {
   "cell_type": "code",
   "execution_count": null,
   "id": "dad9c789",
   "metadata": {},
   "outputs": [],
   "source": [
    "print(classification_report(y_test,y_pred))"
   ]
  },
  {
   "cell_type": "markdown",
   "id": "8a0f0576",
   "metadata": {},
   "source": [
    "---"
   ]
  },
  {
   "cell_type": "markdown",
   "id": "77eb8132",
   "metadata": {},
   "source": [
    "#### Class Weights"
   ]
  },
  {
   "cell_type": "code",
   "execution_count": null,
   "id": "1721950c",
   "metadata": {},
   "outputs": [],
   "source": [
    "classes = np.unique(y)\n",
    "weights = compute_class_weight(class_weight='balanced',\n",
    "                                    classes=classes,\n",
    "                                    y=y_train)\n",
    "class_weight_dict = {clas: weight for clas, weight in zip(classes, weights)}\n"
   ]
  },
  {
   "cell_type": "markdown",
   "id": "4483744b",
   "metadata": {},
   "source": [
    "#### DecisionTreeClassifier"
   ]
  },
  {
   "cell_type": "code",
   "execution_count": null,
   "id": "cf2ac477",
   "metadata": {},
   "outputs": [],
   "source": [
    "param_grid_dtc_pca = { \n",
    "                  'criterion': ['gini', 'entropy', 'log_loss'], \n",
    "                  'splitter': ['best','random'],\n",
    "                  'max_features': ['sqrt', 'log2'],\n",
    "                  'max_depth': [10,20, 30], \n",
    "                  'max_leaf_nodes': [900,1000,1100],\n",
    "                  'min_samples_split': [4,6,8],\n",
    "                    } \n",
    "\n",
    "grid_dtc_pca = GridSearchCV(\n",
    "                        DecisionTreeClassifier(class_weight = class_weight_dict),\n",
    "                        param_grid_dtc_pca,\n",
    "                        refit=True,verbose=3,\n",
    "                       )\n",
    "\n",
    "grid_dtc_pca.fit(X_pca_train,y_train)"
   ]
  },
  {
   "cell_type": "code",
   "execution_count": null,
   "id": "c4547204",
   "metadata": {},
   "outputs": [],
   "source": [
    "print(grid_dtc_pca.best_params_)\n",
    "print(grid_dtc_pca.best_score_)"
   ]
  },
  {
   "cell_type": "markdown",
   "id": "6164728c",
   "metadata": {},
   "source": [
    "#### Model Fit"
   ]
  },
  {
   "cell_type": "code",
   "execution_count": null,
   "id": "9a7477c8",
   "metadata": {},
   "outputs": [],
   "source": [
    "dtc_pca = DecisionTreeClassifier( \n",
    "                             criterion =grid_dtc_pca.best_params_['criterion'],\n",
    "                             splitter = grid_dtc_pca.best_params_['splitter'],\n",
    "                             max_features =  grid_dtc_pca.best_params_['max_features'],\n",
    "                             max_depth =  grid_dtc_pca.best_params_['max_depth'], \n",
    "                             max_leaf_nodes = grid_dtc_pca.best_params_['max_leaf_nodes'],\n",
    "                             min_samples_split = grid_dtc_pca.best_params_['min_samples_split'],\n",
    "                             class_weight = class_weight_dict\n",
    "                            )\n",
    "\n",
    "dtc_pca.fit(X_pca_train,y_train)"
   ]
  },
  {
   "cell_type": "markdown",
   "id": "db8427a3",
   "metadata": {},
   "source": [
    "#### Confusion Matrix"
   ]
  },
  {
   "cell_type": "code",
   "execution_count": null,
   "id": "167ca22a",
   "metadata": {},
   "outputs": [],
   "source": [
    "y_pred = dtc_pca.predict(X_pca_test)\n",
    "\n",
    "cm = confusion_matrix(y_test, y_pred)\n",
    "\n",
    "display = ConfusionMatrixDisplay(confusion_matrix=cm,\n",
    "                              display_labels=le.classes_)\n",
    "display.plot()\n",
    "plt.show()"
   ]
  },
  {
   "cell_type": "markdown",
   "id": "c001c652",
   "metadata": {},
   "source": [
    "#### Classification Report"
   ]
  },
  {
   "cell_type": "code",
   "execution_count": null,
   "id": "8b930867",
   "metadata": {},
   "outputs": [],
   "source": [
    "print(classification_report(y_test,y_pred))"
   ]
  },
  {
   "cell_type": "markdown",
   "id": "d6ca57d8",
   "metadata": {},
   "source": [
    "---"
   ]
  },
  {
   "cell_type": "markdown",
   "id": "9da40c6a",
   "metadata": {},
   "source": [
    "#### RandomForestClassifier"
   ]
  },
  {
   "cell_type": "code",
   "execution_count": null,
   "id": "d2e69779",
   "metadata": {},
   "outputs": [],
   "source": [
    "param_grid_rfc_pca = { \n",
    "                 'n_estimators': [200, 215,220], \n",
    "                 'max_features': ['sqrt', 'log2', None], \n",
    "                 'max_depth': [10,20, 30], \n",
    "                 'max_leaf_nodes': [900,1000,1100],\n",
    "                 'min_samples_split': [4,6,8], \n",
    "                 } \n",
    "\n",
    "grid_rfc_pca = GridSearchCV(\n",
    "                        RandomForestClassifier(class_weight = class_weight_dict),\n",
    "                        param_grid_rfc_pca,\n",
    "                        refit=True,verbose=3\n",
    "                       )\n",
    "\n",
    "grid_rfc_pca.fit(X_pca_train,y_train)"
   ]
  },
  {
   "cell_type": "code",
   "execution_count": null,
   "id": "a939ac8d",
   "metadata": {},
   "outputs": [],
   "source": [
    "print(grid_rfc_pca.best_params_)\n",
    "print(grid_rfc_pca.best_score_)"
   ]
  },
  {
   "cell_type": "markdown",
   "id": "fc863c5b",
   "metadata": {},
   "source": [
    "#### Model Fit"
   ]
  },
  {
   "cell_type": "code",
   "execution_count": null,
   "id": "1832a93b",
   "metadata": {},
   "outputs": [],
   "source": [
    "rfc_pca = RandomForestClassifier( \n",
    "                             n_estimators = grid_rfc_pca.best_params_['n_estimators'], \n",
    "                             max_features =  grid_rfc_pca.best_params_['max_features'],\n",
    "                             max_depth =  grid_rfc_pca.best_params_['max_depth'], \n",
    "                             max_leaf_nodes = grid_rfc_pca.best_params_['max_leaf_nodes'],\n",
    "                             class_weight = class_weight_dict\n",
    "                            )\n",
    "\n",
    "rfc_pca.fit(X_pca_train,y_train)"
   ]
  },
  {
   "cell_type": "markdown",
   "id": "df31db83",
   "metadata": {},
   "source": [
    "#### Confusion Matrix"
   ]
  },
  {
   "cell_type": "code",
   "execution_count": null,
   "id": "6b8248d0",
   "metadata": {},
   "outputs": [],
   "source": [
    "y_pred = rfc_pca.predict(X_pca_test)\n",
    "\n",
    "cm = confusion_matrix(y_test, y_pred)\n",
    "\n",
    "display = ConfusionMatrixDisplay(confusion_matrix=cm,\n",
    "                              display_labels=le.classes_)\n",
    "display.plot()\n",
    "plt.show()"
   ]
  },
  {
   "cell_type": "markdown",
   "id": "35999539",
   "metadata": {},
   "source": [
    "#### Classification Report"
   ]
  },
  {
   "cell_type": "code",
   "execution_count": null,
   "id": "a5a30751",
   "metadata": {},
   "outputs": [],
   "source": [
    "print(classification_report(y_test,y_pred))"
   ]
  },
  {
   "cell_type": "markdown",
   "id": "907a8bd3",
   "metadata": {},
   "source": [
    "---"
   ]
  },
  {
   "cell_type": "markdown",
   "id": "8b71861b",
   "metadata": {},
   "source": [
    "#### AdaBoostClassifier(estimator = DecisionTreeClassifier )"
   ]
  },
  {
   "cell_type": "code",
   "execution_count": null,
   "id": "8dcb4b7f",
   "metadata": {},
   "outputs": [],
   "source": [
    "param_grid_abc_dtc_pca = { \n",
    "                     'n_estimators': [210,212,215,],\n",
    "                     'learning_rate':[0.5,0.75,1]\n",
    "                    }\n",
    "\n",
    "dtc_pca = DecisionTreeClassifier( \n",
    "                             criterion =grid_dtc_pca.best_params_['criterion'],\n",
    "                             splitter = grid_dtc_pca.best_params_['splitter'],\n",
    "                             max_features =  grid_dtc_pca.best_params_['max_features'],\n",
    "                             max_depth =  grid_dtc_pca.best_params_['max_depth'], \n",
    "                             max_leaf_nodes = grid_dtc_pca.best_params_['max_leaf_nodes'],\n",
    "                             min_samples_split = grid_dtc_pca.best_params_['min_samples_split'],\n",
    "                             class_weight = class_weight_dict\n",
    "                            )\n",
    "\n",
    "\n",
    "abc_dtc_pca = AdaBoostClassifier(estimator = dtc_pca)\n",
    "\n",
    "grid_abc_dtc_pca= GridSearchCV(\n",
    "                          abc_dtc_pca,\n",
    "                          param_grid_abc_dtc_pca,\n",
    "                          refit=True,verbose=3\n",
    "                          )\n",
    "\n",
    "grid_abc_dtc_pca.fit(X_pca_train,y_train)"
   ]
  },
  {
   "cell_type": "code",
   "execution_count": null,
   "id": "f61b4956",
   "metadata": {},
   "outputs": [],
   "source": [
    "print(grid_abc_dtc_pca.best_params_)\n",
    "print(grid_abc_dtc_pca.best_score_)"
   ]
  },
  {
   "cell_type": "markdown",
   "id": "5d707bff",
   "metadata": {},
   "source": [
    "#### Model Fit"
   ]
  },
  {
   "cell_type": "code",
   "execution_count": null,
   "id": "11779765",
   "metadata": {},
   "outputs": [],
   "source": [
    "dtc_pca = DecisionTreeClassifier( \n",
    "                             criterion =grid_dtc_pca.best_params_['criterion'],\n",
    "                             splitter = grid_dtc_pca.best_params_['splitter'],\n",
    "                             max_features =  grid_dtc_pca.best_params_['max_features'],\n",
    "                             max_depth =  grid_dtc_pca.best_params_['max_depth'], \n",
    "                             max_leaf_nodes = grid_dtc_pca.best_params_['max_leaf_nodes'],\n",
    "                             min_samples_split = grid_dtc_pca.best_params_['min_samples_split'],\n",
    "                             class_weight = class_weight_dict\n",
    "                            )\n",
    "abc_dtc_pca = AdaBoostClassifier(\n",
    "                        estimator = dtc_pca,\n",
    "                        n_estimators = grid_abc_dtc_pca.best_params_['n_estimators'],\n",
    "                        learning_rate= grid_abc_dtc_pca.best_params_['learning_rate']\n",
    "                        )\n",
    "\n",
    "abc_dtc_pca.fit(X_pca_train,y_train)"
   ]
  },
  {
   "cell_type": "markdown",
   "id": "5d0bb92c",
   "metadata": {},
   "source": [
    "#### Confusion Matrix"
   ]
  },
  {
   "cell_type": "code",
   "execution_count": null,
   "id": "7348e2f2",
   "metadata": {},
   "outputs": [],
   "source": [
    "y_pred =abc_dtc_pca.predict(X_pca_test)\n",
    "\n",
    "cm = confusion_matrix(y_test, y_pred)\n",
    "\n",
    "display = ConfusionMatrixDisplay(confusion_matrix=cm,\n",
    "                              display_labels=le.classes_)\n",
    "display.plot()\n",
    "plt.show()"
   ]
  },
  {
   "cell_type": "markdown",
   "id": "f81ff4c2",
   "metadata": {},
   "source": [
    "#### Classfication Report"
   ]
  },
  {
   "cell_type": "code",
   "execution_count": null,
   "id": "5f954dbe",
   "metadata": {},
   "outputs": [],
   "source": [
    "print(classification_report(y_test,y_pred))"
   ]
  },
  {
   "cell_type": "markdown",
   "id": "409964c5",
   "metadata": {},
   "source": [
    "---"
   ]
  },
  {
   "cell_type": "markdown",
   "id": "f2c6cee8",
   "metadata": {},
   "source": [
    "#### AdaBoostClassifier(estimator = RandonForestClassifier )"
   ]
  },
  {
   "cell_type": "code",
   "execution_count": null,
   "id": "ae51aff3",
   "metadata": {},
   "outputs": [],
   "source": [
    "param_grid_abc_rfc_pca = { \n",
    "                      'n_estimators': [210,212,215,],\n",
    "                      'learning_rate':[0.5,0.75,1]\n",
    "                     }\n",
    "\n",
    "rfc_pca = RandomForestClassifier( \n",
    "                             n_estimators = grid_rfc_pca.best_params_['n_estimators'], \n",
    "                             max_features =  grid_rfc_pca.best_params_['max_features'],\n",
    "                             max_depth =  grid_rfc_pca.best_params_['max_depth'], \n",
    "                             max_leaf_nodes = grid_rfc_pca.best_params_['max_leaf_nodes'],\n",
    "                             class_weight = class_weight_dict\n",
    "                            )\n",
    "\n",
    "abc_rfc_pca = AdaBoostClassifier(estimator = rfc_pca)\n",
    "\n",
    "grid_abc_rfc_pca = GridSearchCV(\n",
    "                           abc_rfc_pca,\n",
    "                           param_grid_abc_rfc_pca,\n",
    "                           refit=True,verbose=3\n",
    "                           )\n",
    "\n",
    "grid_abc_rfc_pca.fit(X_pca_train,y_train)"
   ]
  },
  {
   "cell_type": "code",
   "execution_count": null,
   "id": "588f1257",
   "metadata": {},
   "outputs": [],
   "source": [
    "print(grid_abc_rfc_pca.best_params_)\n",
    "print(grid_abc_rfc_pca.best_score_)"
   ]
  },
  {
   "cell_type": "markdown",
   "id": "7bee8aee",
   "metadata": {},
   "source": [
    "#### Model Fit"
   ]
  },
  {
   "cell_type": "code",
   "execution_count": null,
   "id": "0f6d4ddb",
   "metadata": {},
   "outputs": [],
   "source": [
    "rfc_pca = RandomForestClassifier( \n",
    "                             n_estimators = grid_rfc_pca.best_params_['n_estimators'], \n",
    "                             max_features =  grid_rfc_pca.best_params_['max_features'],\n",
    "                             max_depth =  grid_rfc_pca.best_params_['max_depth'], \n",
    "                             max_leaf_nodes = grid_rfc_pca.best_params_['max_leaf_nodes'],\n",
    "                             class_weight = class_weight_dict\n",
    "    \n",
    "                            )\n",
    "\n",
    "abc_rfc_pca = AdaBoostClassifier(\n",
    "                             estimator = rfc_pca,\n",
    "                             n_estimators = grid_abc_rfc_pca.best_params_['n_estimators'],\n",
    "                             learning_rate= grid_abc_rfc_pca.best_params_['learning_rate']\n",
    "                            )\n",
    "\n",
    "abc_rfc_pca.fit(X_pca_train,y_train)"
   ]
  },
  {
   "cell_type": "markdown",
   "id": "98f76082",
   "metadata": {},
   "source": [
    "#### Confusion Matrix"
   ]
  },
  {
   "cell_type": "code",
   "execution_count": null,
   "id": "7a252ae6",
   "metadata": {},
   "outputs": [],
   "source": [
    "y_pred = abc_rfc_pca.predict(X_pca_test)\n",
    "\n",
    "cm = confusion_matrix(y_test, y_pred)\n",
    "\n",
    "display = ConfusionMatrixDisplay(confusion_matrix=cm,\n",
    "                              display_labels=le.classes_)\n",
    "display.plot()\n",
    "plt.show()"
   ]
  },
  {
   "cell_type": "markdown",
   "id": "e98f4cfc",
   "metadata": {},
   "source": [
    "#### Classification Report"
   ]
  },
  {
   "cell_type": "code",
   "execution_count": null,
   "id": "f3f9dfce",
   "metadata": {},
   "outputs": [],
   "source": [
    "print(classification_report(y_test,y_pred))"
   ]
  },
  {
   "cell_type": "code",
   "execution_count": null,
   "id": "47b5bdf8",
   "metadata": {},
   "outputs": [],
   "source": []
  },
  {
   "cell_type": "code",
   "execution_count": null,
   "id": "600f1291",
   "metadata": {},
   "outputs": [],
   "source": []
  },
  {
   "cell_type": "code",
   "execution_count": null,
   "id": "355b7f89",
   "metadata": {},
   "outputs": [],
   "source": []
  },
  {
   "cell_type": "code",
   "execution_count": null,
   "id": "005e11a4",
   "metadata": {},
   "outputs": [],
   "source": []
  },
  {
   "cell_type": "code",
   "execution_count": null,
   "id": "d17b9b4c",
   "metadata": {},
   "outputs": [],
   "source": []
  },
  {
   "cell_type": "code",
   "execution_count": null,
   "id": "35cc22e7",
   "metadata": {},
   "outputs": [],
   "source": []
  },
  {
   "cell_type": "code",
   "execution_count": null,
   "id": "82fcd44e",
   "metadata": {},
   "outputs": [],
   "source": []
  },
  {
   "cell_type": "code",
   "execution_count": null,
   "id": "22e5b0c8",
   "metadata": {},
   "outputs": [],
   "source": []
  }
 ],
 "metadata": {
  "kernelspec": {
   "display_name": "Python 3 (ipykernel)",
   "language": "python",
   "name": "python3"
  },
  "language_info": {
   "codemirror_mode": {
    "name": "ipython",
    "version": 3
   },
   "file_extension": ".py",
   "mimetype": "text/x-python",
   "name": "python",
   "nbconvert_exporter": "python",
   "pygments_lexer": "ipython3",
   "version": "3.11.7"
  }
 },
 "nbformat": 4,
 "nbformat_minor": 5
}
